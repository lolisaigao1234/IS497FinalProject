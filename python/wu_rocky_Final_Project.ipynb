{
 "cells": [
  {
   "cell_type": "markdown",
   "id": "a4aee0c7",
   "metadata": {},
   "source": [
    "# Rocky Wu - jywu3"
   ]
  },
  {
   "cell_type": "markdown",
   "id": "72c6689d",
   "metadata": {},
   "source": [
    "As usual, import the packages we want"
   ]
  },
  {
   "cell_type": "code",
   "execution_count": 1,
   "id": "60ed5396",
   "metadata": {},
   "outputs": [],
   "source": [
    "import pandas as pd\n",
    "import numpy as np\n",
    "import matplotlib.pyplot as plt\n",
    "import ipywidgets\n",
    "import bqplot\n",
    "import matplotlib.colors as mpl_colors"
   ]
  },
  {
   "cell_type": "markdown",
   "id": "1065afb6",
   "metadata": {},
   "source": [
    "Set the seed for the down sampling to make sure we could reproduce the results"
   ]
  },
  {
   "cell_type": "code",
   "execution_count": 2,
   "id": "e661afd5",
   "metadata": {},
   "outputs": [],
   "source": [
    "np.random.seed(2022)"
   ]
  },
  {
   "cell_type": "markdown",
   "id": "50501576",
   "metadata": {},
   "source": [
    "### Explore the dataset:"
   ]
  },
  {
   "cell_type": "markdown",
   "id": "a902f2dd",
   "metadata": {},
   "source": [
    "The name of the dataset: Yellow Taxi trip data 2021-01 in NYC\n",
    "\n",
    "We can obtain the dataset at the TLC official site. [link towards the dataset webpage](https://www1.nyc.gov/site/tlc/about/tlc-trip-record-data.page)\n",
    "\n",
    "The link towards the dataset:\n",
    "https://s3.amazonaws.com/nyc-tlc/trip+data/yellow_tripdata_2021-01.csv\n",
    "\n",
    "Preferably, download the dataset first as the dataset is fairly large, 126MB. \n",
    "\n",
    "No identification of the license, so I am assuming we can play around with it. We do have an user guide of the dataset, but not much was mentioned on what we can do with the data. Link to the user guide: https://www1.nyc.gov/assets/tlc/downloads/pdf/trip_record_user_guide.pdf\n",
    "\n",
    "The dictionary of the dataset:https://www1.nyc.gov/assets/tlc/downloads/pdf/data_dictionary_trip_records_yellow.pdf\n",
    "\n"
   ]
  },
  {
   "cell_type": "markdown",
   "id": "c1e47089",
   "metadata": {},
   "source": [
    "#### Columns explained:\n",
    "VendorID - A code indicating the TPEP provider that provided the record. [1= Creative Mobile Technologies, LLC; 2= VeriFone Inc.]\n",
    "\n",
    "tpep_pickup_datetime - The date and time when the meter was engaged.\n",
    "\n",
    "tpep_dropoff_datetime - The date and time when the meter was disengaged.\n",
    "\n",
    "Passenger_count - The number of passengers in the vehicle. This is a driver-entered value.\n",
    "\n",
    "Trip_distance - The elapsed trip distance in miles reported by the taximeter.\n",
    "\n",
    "PULocationID - TLC Taxi Zone in which the taximeter was engaged\n",
    "\n",
    "DOLocationID - TLC Taxi Zone in which the taximeter was disengaged\n",
    "\n",
    "RateCodeID - The final rate code in effect at the end of the trip.\n",
    "[1= Standard rate, 2=JFK, 3=Newark, 4=Nassau or Westchester, 5=Negotiated fare, 6=Group ride]\n",
    "\n",
    "Store_and_fwd_flag - This flag indicates whether the trip record was held in vehicle memory before sending to the vendor, aka “store and forward,” because the vehicle did not have a connection to the server.\n",
    "[Y= store and forward trip, N= not a store and forward trip]\n",
    "\n",
    "Payment_type - A numeric code signifying how the passenger paid for the trip.\n",
    "[1= Credit card, 2= Cash, 3= No charge, 4= Dispute, 5= Unknown, 6= Voided trip]\n",
    "\n",
    "Fare_amount - The time-and-distance fare calculated by the meter.\n",
    "\n",
    "Extra - Miscellaneous extras and surcharges. Currently, this only includes the \\\\$0.50 and \\\\$1 rush hour and overnight charges.\n",
    "\n",
    "MTA_tax - \\\\$0.50 MTA tax that is automatically triggered based on the metered rate in use.\n",
    "\n",
    "Improvement_surcharge - \\\\$0.30 improvement surcharge assessed trips at the flag drop. The improvement surcharge began being levied in 2015.\n",
    "\n",
    "Tip_amount - This field is automatically populated for credit card tips. Cash tips are not included.\n",
    "\n",
    "Tolls_amount - Total amount of all tolls paid in trip.\n",
    "\n",
    "Total_amount - The total amount charged to passengers. Does not include cash tips."
   ]
  },
  {
   "cell_type": "code",
   "execution_count": 3,
   "id": "bd4df95b",
   "metadata": {
    "scrolled": false
   },
   "outputs": [],
   "source": [
    "# Original import using the link\n",
    "# data = pd.read_csv(\"https://s3.amazonaws.com/\n",
    "# nyc-tlc/trip+data/yellow_tripdata_2021-01.csv\")\n",
    "data = pd.read_csv(\"../data/yellow_tripdata_2021-01.csv\", \n",
    "                   low_memory=False)"
   ]
  },
  {
   "cell_type": "markdown",
   "id": "8b5279d6",
   "metadata": {},
   "source": [
    "There was a warning indicating the dtype conflicts in some of the columns in the dataset. Will deal with the warning in the later stage. Escaping the warning by setting low_memory = False"
   ]
  },
  {
   "cell_type": "markdown",
   "id": "75faa8e8",
   "metadata": {},
   "source": [
    "Take a look of the dataset"
   ]
  },
  {
   "cell_type": "code",
   "execution_count": 4,
   "id": "3aa505d3",
   "metadata": {
    "scrolled": false
   },
   "outputs": [
    {
     "data": {
      "text/html": [
       "<div>\n",
       "<style scoped>\n",
       "    .dataframe tbody tr th:only-of-type {\n",
       "        vertical-align: middle;\n",
       "    }\n",
       "\n",
       "    .dataframe tbody tr th {\n",
       "        vertical-align: top;\n",
       "    }\n",
       "\n",
       "    .dataframe thead th {\n",
       "        text-align: right;\n",
       "    }\n",
       "</style>\n",
       "<table border=\"1\" class=\"dataframe\">\n",
       "  <thead>\n",
       "    <tr style=\"text-align: right;\">\n",
       "      <th></th>\n",
       "      <th>VendorID</th>\n",
       "      <th>tpep_pickup_datetime</th>\n",
       "      <th>tpep_dropoff_datetime</th>\n",
       "      <th>passenger_count</th>\n",
       "      <th>trip_distance</th>\n",
       "      <th>RatecodeID</th>\n",
       "      <th>store_and_fwd_flag</th>\n",
       "      <th>PULocationID</th>\n",
       "      <th>DOLocationID</th>\n",
       "      <th>payment_type</th>\n",
       "      <th>fare_amount</th>\n",
       "      <th>extra</th>\n",
       "      <th>mta_tax</th>\n",
       "      <th>tip_amount</th>\n",
       "      <th>tolls_amount</th>\n",
       "      <th>improvement_surcharge</th>\n",
       "      <th>total_amount</th>\n",
       "      <th>congestion_surcharge</th>\n",
       "    </tr>\n",
       "  </thead>\n",
       "  <tbody>\n",
       "    <tr>\n",
       "      <th>0</th>\n",
       "      <td>1.0</td>\n",
       "      <td>2021-01-01 00:30:10</td>\n",
       "      <td>2021-01-01 00:36:12</td>\n",
       "      <td>1.0</td>\n",
       "      <td>2.10</td>\n",
       "      <td>1.0</td>\n",
       "      <td>N</td>\n",
       "      <td>142</td>\n",
       "      <td>43</td>\n",
       "      <td>2.0</td>\n",
       "      <td>8.0</td>\n",
       "      <td>3.0</td>\n",
       "      <td>0.5</td>\n",
       "      <td>0.00</td>\n",
       "      <td>0.0</td>\n",
       "      <td>0.3</td>\n",
       "      <td>11.80</td>\n",
       "      <td>2.5</td>\n",
       "    </tr>\n",
       "    <tr>\n",
       "      <th>1</th>\n",
       "      <td>1.0</td>\n",
       "      <td>2021-01-01 00:51:20</td>\n",
       "      <td>2021-01-01 00:52:19</td>\n",
       "      <td>1.0</td>\n",
       "      <td>0.20</td>\n",
       "      <td>1.0</td>\n",
       "      <td>N</td>\n",
       "      <td>238</td>\n",
       "      <td>151</td>\n",
       "      <td>2.0</td>\n",
       "      <td>3.0</td>\n",
       "      <td>0.5</td>\n",
       "      <td>0.5</td>\n",
       "      <td>0.00</td>\n",
       "      <td>0.0</td>\n",
       "      <td>0.3</td>\n",
       "      <td>4.30</td>\n",
       "      <td>0.0</td>\n",
       "    </tr>\n",
       "    <tr>\n",
       "      <th>2</th>\n",
       "      <td>1.0</td>\n",
       "      <td>2021-01-01 00:43:30</td>\n",
       "      <td>2021-01-01 01:11:06</td>\n",
       "      <td>1.0</td>\n",
       "      <td>14.70</td>\n",
       "      <td>1.0</td>\n",
       "      <td>N</td>\n",
       "      <td>132</td>\n",
       "      <td>165</td>\n",
       "      <td>1.0</td>\n",
       "      <td>42.0</td>\n",
       "      <td>0.5</td>\n",
       "      <td>0.5</td>\n",
       "      <td>8.65</td>\n",
       "      <td>0.0</td>\n",
       "      <td>0.3</td>\n",
       "      <td>51.95</td>\n",
       "      <td>0.0</td>\n",
       "    </tr>\n",
       "    <tr>\n",
       "      <th>3</th>\n",
       "      <td>1.0</td>\n",
       "      <td>2021-01-01 00:15:48</td>\n",
       "      <td>2021-01-01 00:31:01</td>\n",
       "      <td>0.0</td>\n",
       "      <td>10.60</td>\n",
       "      <td>1.0</td>\n",
       "      <td>N</td>\n",
       "      <td>138</td>\n",
       "      <td>132</td>\n",
       "      <td>1.0</td>\n",
       "      <td>29.0</td>\n",
       "      <td>0.5</td>\n",
       "      <td>0.5</td>\n",
       "      <td>6.05</td>\n",
       "      <td>0.0</td>\n",
       "      <td>0.3</td>\n",
       "      <td>36.35</td>\n",
       "      <td>0.0</td>\n",
       "    </tr>\n",
       "    <tr>\n",
       "      <th>4</th>\n",
       "      <td>2.0</td>\n",
       "      <td>2021-01-01 00:31:49</td>\n",
       "      <td>2021-01-01 00:48:21</td>\n",
       "      <td>1.0</td>\n",
       "      <td>4.94</td>\n",
       "      <td>1.0</td>\n",
       "      <td>N</td>\n",
       "      <td>68</td>\n",
       "      <td>33</td>\n",
       "      <td>1.0</td>\n",
       "      <td>16.5</td>\n",
       "      <td>0.5</td>\n",
       "      <td>0.5</td>\n",
       "      <td>4.06</td>\n",
       "      <td>0.0</td>\n",
       "      <td>0.3</td>\n",
       "      <td>24.36</td>\n",
       "      <td>2.5</td>\n",
       "    </tr>\n",
       "  </tbody>\n",
       "</table>\n",
       "</div>"
      ],
      "text/plain": [
       "   VendorID tpep_pickup_datetime tpep_dropoff_datetime  passenger_count  \\\n",
       "0       1.0  2021-01-01 00:30:10   2021-01-01 00:36:12              1.0   \n",
       "1       1.0  2021-01-01 00:51:20   2021-01-01 00:52:19              1.0   \n",
       "2       1.0  2021-01-01 00:43:30   2021-01-01 01:11:06              1.0   \n",
       "3       1.0  2021-01-01 00:15:48   2021-01-01 00:31:01              0.0   \n",
       "4       2.0  2021-01-01 00:31:49   2021-01-01 00:48:21              1.0   \n",
       "\n",
       "   trip_distance  RatecodeID store_and_fwd_flag  PULocationID  DOLocationID  \\\n",
       "0           2.10         1.0                  N           142            43   \n",
       "1           0.20         1.0                  N           238           151   \n",
       "2          14.70         1.0                  N           132           165   \n",
       "3          10.60         1.0                  N           138           132   \n",
       "4           4.94         1.0                  N            68            33   \n",
       "\n",
       "   payment_type  fare_amount  extra  mta_tax  tip_amount  tolls_amount  \\\n",
       "0           2.0          8.0    3.0      0.5        0.00           0.0   \n",
       "1           2.0          3.0    0.5      0.5        0.00           0.0   \n",
       "2           1.0         42.0    0.5      0.5        8.65           0.0   \n",
       "3           1.0         29.0    0.5      0.5        6.05           0.0   \n",
       "4           1.0         16.5    0.5      0.5        4.06           0.0   \n",
       "\n",
       "   improvement_surcharge  total_amount  congestion_surcharge  \n",
       "0                    0.3         11.80                   2.5  \n",
       "1                    0.3          4.30                   0.0  \n",
       "2                    0.3         51.95                   0.0  \n",
       "3                    0.3         36.35                   0.0  \n",
       "4                    0.3         24.36                   2.5  "
      ]
     },
     "execution_count": 4,
     "metadata": {},
     "output_type": "execute_result"
    }
   ],
   "source": [
    "data.head()"
   ]
  },
  {
   "cell_type": "markdown",
   "id": "64757ba7",
   "metadata": {},
   "source": [
    "In total 1369765 rows inside the dataset, indeed a large one."
   ]
  },
  {
   "cell_type": "code",
   "execution_count": 5,
   "id": "cb5d3dd3",
   "metadata": {},
   "outputs": [
    {
     "data": {
      "text/plain": [
       "1369765"
      ]
     },
     "execution_count": 5,
     "metadata": {},
     "output_type": "execute_result"
    }
   ],
   "source": [
    "dataLength = len(data)\n",
    "dataLength"
   ]
  },
  {
   "cell_type": "markdown",
   "id": "3dc4b0d1",
   "metadata": {},
   "source": [
    "How many columns:"
   ]
  },
  {
   "cell_type": "code",
   "execution_count": 6,
   "id": "5e113f84",
   "metadata": {},
   "outputs": [
    {
     "data": {
      "text/plain": [
       "18"
      ]
     },
     "execution_count": 6,
     "metadata": {},
     "output_type": "execute_result"
    }
   ],
   "source": [
    "len(data.columns)"
   ]
  },
  {
   "cell_type": "markdown",
   "id": "15adbbfd",
   "metadata": {},
   "source": [
    "Take a look on the columns"
   ]
  },
  {
   "cell_type": "code",
   "execution_count": 7,
   "id": "c22e3080",
   "metadata": {
    "scrolled": true
   },
   "outputs": [
    {
     "name": "stdout",
     "output_type": "stream",
     "text": [
      "VendorID\n",
      "tpep_pickup_datetime\n",
      "tpep_dropoff_datetime\n",
      "passenger_count\n",
      "trip_distance\n",
      "RatecodeID\n",
      "store_and_fwd_flag\n",
      "PULocationID\n",
      "DOLocationID\n",
      "payment_type\n",
      "fare_amount\n",
      "extra\n",
      "mta_tax\n",
      "tip_amount\n",
      "tolls_amount\n",
      "improvement_surcharge\n",
      "total_amount\n",
      "congestion_surcharge\n"
     ]
    }
   ],
   "source": [
    "for c in data.columns:\n",
    "    print(c)"
   ]
  },
  {
   "cell_type": "markdown",
   "id": "3d4c22a8",
   "metadata": {},
   "source": [
    "We will first downsample the dataset, else my computer could not handle the dataset"
   ]
  },
  {
   "cell_type": "code",
   "execution_count": 8,
   "id": "00ba8195",
   "metadata": {},
   "outputs": [
    {
     "data": {
      "text/plain": [
       "(array([1215088,  612594,  259095, ...,  274823,  210304,  170648]), 13697)"
      ]
     },
     "execution_count": 8,
     "metadata": {},
     "output_type": "execute_result"
    }
   ],
   "source": [
    "np.random.seed(0)\n",
    "nsamples = len(data) // 100\n",
    "downSampleMask = np.random.choice(range(len(data)-1), \n",
    "                                  nsamples, replace=False)\n",
    "downSampleMask, len(downSampleMask)"
   ]
  },
  {
   "cell_type": "code",
   "execution_count": 9,
   "id": "8e6e2c44",
   "metadata": {},
   "outputs": [
    {
     "data": {
      "text/plain": [
       "13697"
      ]
     },
     "execution_count": 9,
     "metadata": {},
     "output_type": "execute_result"
    }
   ],
   "source": [
    "data = data.loc[downSampleMask]\n",
    "len(data)"
   ]
  },
  {
   "cell_type": "code",
   "execution_count": 10,
   "id": "ba1ee2f5",
   "metadata": {},
   "outputs": [
    {
     "data": {
      "text/plain": [
       "13697"
      ]
     },
     "execution_count": 10,
     "metadata": {},
     "output_type": "execute_result"
    }
   ],
   "source": [
    "dataLength = len(data)\n",
    "dataLength"
   ]
  },
  {
   "cell_type": "code",
   "execution_count": 11,
   "id": "046d7460",
   "metadata": {},
   "outputs": [
    {
     "data": {
      "text/html": [
       "<div>\n",
       "<style scoped>\n",
       "    .dataframe tbody tr th:only-of-type {\n",
       "        vertical-align: middle;\n",
       "    }\n",
       "\n",
       "    .dataframe tbody tr th {\n",
       "        vertical-align: top;\n",
       "    }\n",
       "\n",
       "    .dataframe thead th {\n",
       "        text-align: right;\n",
       "    }\n",
       "</style>\n",
       "<table border=\"1\" class=\"dataframe\">\n",
       "  <thead>\n",
       "    <tr style=\"text-align: right;\">\n",
       "      <th></th>\n",
       "      <th>VendorID</th>\n",
       "      <th>tpep_pickup_datetime</th>\n",
       "      <th>tpep_dropoff_datetime</th>\n",
       "      <th>passenger_count</th>\n",
       "      <th>trip_distance</th>\n",
       "      <th>RatecodeID</th>\n",
       "      <th>store_and_fwd_flag</th>\n",
       "      <th>PULocationID</th>\n",
       "      <th>DOLocationID</th>\n",
       "      <th>payment_type</th>\n",
       "      <th>fare_amount</th>\n",
       "      <th>extra</th>\n",
       "      <th>mta_tax</th>\n",
       "      <th>tip_amount</th>\n",
       "      <th>tolls_amount</th>\n",
       "      <th>improvement_surcharge</th>\n",
       "      <th>total_amount</th>\n",
       "      <th>congestion_surcharge</th>\n",
       "    </tr>\n",
       "  </thead>\n",
       "  <tbody>\n",
       "    <tr>\n",
       "      <th>1215088</th>\n",
       "      <td>1.0</td>\n",
       "      <td>2021-01-30 12:21:33</td>\n",
       "      <td>2021-01-30 12:26:14</td>\n",
       "      <td>0.0</td>\n",
       "      <td>1.00</td>\n",
       "      <td>1.0</td>\n",
       "      <td>N</td>\n",
       "      <td>79</td>\n",
       "      <td>107</td>\n",
       "      <td>2.0</td>\n",
       "      <td>5.5</td>\n",
       "      <td>2.5</td>\n",
       "      <td>0.5</td>\n",
       "      <td>0.00</td>\n",
       "      <td>0.0</td>\n",
       "      <td>0.3</td>\n",
       "      <td>8.80</td>\n",
       "      <td>2.5</td>\n",
       "    </tr>\n",
       "    <tr>\n",
       "      <th>612594</th>\n",
       "      <td>2.0</td>\n",
       "      <td>2021-01-16 12:23:31</td>\n",
       "      <td>2021-01-16 12:29:11</td>\n",
       "      <td>1.0</td>\n",
       "      <td>1.19</td>\n",
       "      <td>1.0</td>\n",
       "      <td>N</td>\n",
       "      <td>164</td>\n",
       "      <td>68</td>\n",
       "      <td>1.0</td>\n",
       "      <td>6.5</td>\n",
       "      <td>0.0</td>\n",
       "      <td>0.5</td>\n",
       "      <td>1.96</td>\n",
       "      <td>0.0</td>\n",
       "      <td>0.3</td>\n",
       "      <td>11.76</td>\n",
       "      <td>2.5</td>\n",
       "    </tr>\n",
       "    <tr>\n",
       "      <th>259095</th>\n",
       "      <td>2.0</td>\n",
       "      <td>2021-01-08 07:07:00</td>\n",
       "      <td>2021-01-08 07:10:36</td>\n",
       "      <td>5.0</td>\n",
       "      <td>1.07</td>\n",
       "      <td>1.0</td>\n",
       "      <td>N</td>\n",
       "      <td>114</td>\n",
       "      <td>90</td>\n",
       "      <td>1.0</td>\n",
       "      <td>5.5</td>\n",
       "      <td>0.0</td>\n",
       "      <td>0.5</td>\n",
       "      <td>1.76</td>\n",
       "      <td>0.0</td>\n",
       "      <td>0.3</td>\n",
       "      <td>10.56</td>\n",
       "      <td>2.5</td>\n",
       "    </tr>\n",
       "    <tr>\n",
       "      <th>1049052</th>\n",
       "      <td>2.0</td>\n",
       "      <td>2021-01-26 19:17:16</td>\n",
       "      <td>2021-01-26 19:33:39</td>\n",
       "      <td>3.0</td>\n",
       "      <td>2.92</td>\n",
       "      <td>1.0</td>\n",
       "      <td>N</td>\n",
       "      <td>140</td>\n",
       "      <td>238</td>\n",
       "      <td>1.0</td>\n",
       "      <td>13.0</td>\n",
       "      <td>1.0</td>\n",
       "      <td>0.5</td>\n",
       "      <td>2.00</td>\n",
       "      <td>0.0</td>\n",
       "      <td>0.3</td>\n",
       "      <td>19.30</td>\n",
       "      <td>2.5</td>\n",
       "    </tr>\n",
       "    <tr>\n",
       "      <th>220625</th>\n",
       "      <td>2.0</td>\n",
       "      <td>2021-01-07 10:13:49</td>\n",
       "      <td>2021-01-07 10:16:42</td>\n",
       "      <td>1.0</td>\n",
       "      <td>0.74</td>\n",
       "      <td>1.0</td>\n",
       "      <td>N</td>\n",
       "      <td>246</td>\n",
       "      <td>68</td>\n",
       "      <td>1.0</td>\n",
       "      <td>4.5</td>\n",
       "      <td>0.0</td>\n",
       "      <td>0.5</td>\n",
       "      <td>0.00</td>\n",
       "      <td>0.0</td>\n",
       "      <td>0.3</td>\n",
       "      <td>7.80</td>\n",
       "      <td>2.5</td>\n",
       "    </tr>\n",
       "    <tr>\n",
       "      <th>...</th>\n",
       "      <td>...</td>\n",
       "      <td>...</td>\n",
       "      <td>...</td>\n",
       "      <td>...</td>\n",
       "      <td>...</td>\n",
       "      <td>...</td>\n",
       "      <td>...</td>\n",
       "      <td>...</td>\n",
       "      <td>...</td>\n",
       "      <td>...</td>\n",
       "      <td>...</td>\n",
       "      <td>...</td>\n",
       "      <td>...</td>\n",
       "      <td>...</td>\n",
       "      <td>...</td>\n",
       "      <td>...</td>\n",
       "      <td>...</td>\n",
       "      <td>...</td>\n",
       "    </tr>\n",
       "    <tr>\n",
       "      <th>357786</th>\n",
       "      <td>2.0</td>\n",
       "      <td>2021-01-10 16:36:56</td>\n",
       "      <td>2021-01-10 16:40:53</td>\n",
       "      <td>1.0</td>\n",
       "      <td>1.30</td>\n",
       "      <td>1.0</td>\n",
       "      <td>N</td>\n",
       "      <td>141</td>\n",
       "      <td>236</td>\n",
       "      <td>1.0</td>\n",
       "      <td>5.5</td>\n",
       "      <td>0.0</td>\n",
       "      <td>0.5</td>\n",
       "      <td>2.20</td>\n",
       "      <td>0.0</td>\n",
       "      <td>0.3</td>\n",
       "      <td>11.00</td>\n",
       "      <td>2.5</td>\n",
       "    </tr>\n",
       "    <tr>\n",
       "      <th>396826</th>\n",
       "      <td>2.0</td>\n",
       "      <td>2021-01-11 16:42:30</td>\n",
       "      <td>2021-01-11 17:07:34</td>\n",
       "      <td>1.0</td>\n",
       "      <td>4.94</td>\n",
       "      <td>1.0</td>\n",
       "      <td>N</td>\n",
       "      <td>186</td>\n",
       "      <td>217</td>\n",
       "      <td>2.0</td>\n",
       "      <td>20.0</td>\n",
       "      <td>1.0</td>\n",
       "      <td>0.5</td>\n",
       "      <td>0.00</td>\n",
       "      <td>0.0</td>\n",
       "      <td>0.3</td>\n",
       "      <td>24.30</td>\n",
       "      <td>2.5</td>\n",
       "    </tr>\n",
       "    <tr>\n",
       "      <th>274823</th>\n",
       "      <td>2.0</td>\n",
       "      <td>2021-01-08 13:07:04</td>\n",
       "      <td>2021-01-08 13:10:16</td>\n",
       "      <td>1.0</td>\n",
       "      <td>0.84</td>\n",
       "      <td>1.0</td>\n",
       "      <td>N</td>\n",
       "      <td>90</td>\n",
       "      <td>164</td>\n",
       "      <td>1.0</td>\n",
       "      <td>4.5</td>\n",
       "      <td>0.0</td>\n",
       "      <td>0.5</td>\n",
       "      <td>1.95</td>\n",
       "      <td>0.0</td>\n",
       "      <td>0.3</td>\n",
       "      <td>9.75</td>\n",
       "      <td>2.5</td>\n",
       "    </tr>\n",
       "    <tr>\n",
       "      <th>210304</th>\n",
       "      <td>1.0</td>\n",
       "      <td>2021-01-07 05:59:59</td>\n",
       "      <td>2021-01-07 06:25:40</td>\n",
       "      <td>0.0</td>\n",
       "      <td>9.80</td>\n",
       "      <td>1.0</td>\n",
       "      <td>N</td>\n",
       "      <td>132</td>\n",
       "      <td>37</td>\n",
       "      <td>2.0</td>\n",
       "      <td>29.5</td>\n",
       "      <td>0.5</td>\n",
       "      <td>0.5</td>\n",
       "      <td>0.00</td>\n",
       "      <td>0.0</td>\n",
       "      <td>0.3</td>\n",
       "      <td>30.80</td>\n",
       "      <td>0.0</td>\n",
       "    </tr>\n",
       "    <tr>\n",
       "      <th>170648</th>\n",
       "      <td>2.0</td>\n",
       "      <td>2021-01-06 09:43:41</td>\n",
       "      <td>2021-01-06 09:50:05</td>\n",
       "      <td>2.0</td>\n",
       "      <td>1.41</td>\n",
       "      <td>1.0</td>\n",
       "      <td>N</td>\n",
       "      <td>151</td>\n",
       "      <td>239</td>\n",
       "      <td>1.0</td>\n",
       "      <td>7.0</td>\n",
       "      <td>0.0</td>\n",
       "      <td>0.5</td>\n",
       "      <td>2.06</td>\n",
       "      <td>0.0</td>\n",
       "      <td>0.3</td>\n",
       "      <td>12.36</td>\n",
       "      <td>2.5</td>\n",
       "    </tr>\n",
       "  </tbody>\n",
       "</table>\n",
       "<p>13697 rows × 18 columns</p>\n",
       "</div>"
      ],
      "text/plain": [
       "         VendorID tpep_pickup_datetime tpep_dropoff_datetime  passenger_count  \\\n",
       "1215088       1.0  2021-01-30 12:21:33   2021-01-30 12:26:14              0.0   \n",
       "612594        2.0  2021-01-16 12:23:31   2021-01-16 12:29:11              1.0   \n",
       "259095        2.0  2021-01-08 07:07:00   2021-01-08 07:10:36              5.0   \n",
       "1049052       2.0  2021-01-26 19:17:16   2021-01-26 19:33:39              3.0   \n",
       "220625        2.0  2021-01-07 10:13:49   2021-01-07 10:16:42              1.0   \n",
       "...           ...                  ...                   ...              ...   \n",
       "357786        2.0  2021-01-10 16:36:56   2021-01-10 16:40:53              1.0   \n",
       "396826        2.0  2021-01-11 16:42:30   2021-01-11 17:07:34              1.0   \n",
       "274823        2.0  2021-01-08 13:07:04   2021-01-08 13:10:16              1.0   \n",
       "210304        1.0  2021-01-07 05:59:59   2021-01-07 06:25:40              0.0   \n",
       "170648        2.0  2021-01-06 09:43:41   2021-01-06 09:50:05              2.0   \n",
       "\n",
       "         trip_distance  RatecodeID store_and_fwd_flag  PULocationID  \\\n",
       "1215088           1.00         1.0                  N            79   \n",
       "612594            1.19         1.0                  N           164   \n",
       "259095            1.07         1.0                  N           114   \n",
       "1049052           2.92         1.0                  N           140   \n",
       "220625            0.74         1.0                  N           246   \n",
       "...                ...         ...                ...           ...   \n",
       "357786            1.30         1.0                  N           141   \n",
       "396826            4.94         1.0                  N           186   \n",
       "274823            0.84         1.0                  N            90   \n",
       "210304            9.80         1.0                  N           132   \n",
       "170648            1.41         1.0                  N           151   \n",
       "\n",
       "         DOLocationID  payment_type  fare_amount  extra  mta_tax  tip_amount  \\\n",
       "1215088           107           2.0          5.5    2.5      0.5        0.00   \n",
       "612594             68           1.0          6.5    0.0      0.5        1.96   \n",
       "259095             90           1.0          5.5    0.0      0.5        1.76   \n",
       "1049052           238           1.0         13.0    1.0      0.5        2.00   \n",
       "220625             68           1.0          4.5    0.0      0.5        0.00   \n",
       "...               ...           ...          ...    ...      ...         ...   \n",
       "357786            236           1.0          5.5    0.0      0.5        2.20   \n",
       "396826            217           2.0         20.0    1.0      0.5        0.00   \n",
       "274823            164           1.0          4.5    0.0      0.5        1.95   \n",
       "210304             37           2.0         29.5    0.5      0.5        0.00   \n",
       "170648            239           1.0          7.0    0.0      0.5        2.06   \n",
       "\n",
       "         tolls_amount  improvement_surcharge  total_amount  \\\n",
       "1215088           0.0                    0.3          8.80   \n",
       "612594            0.0                    0.3         11.76   \n",
       "259095            0.0                    0.3         10.56   \n",
       "1049052           0.0                    0.3         19.30   \n",
       "220625            0.0                    0.3          7.80   \n",
       "...               ...                    ...           ...   \n",
       "357786            0.0                    0.3         11.00   \n",
       "396826            0.0                    0.3         24.30   \n",
       "274823            0.0                    0.3          9.75   \n",
       "210304            0.0                    0.3         30.80   \n",
       "170648            0.0                    0.3         12.36   \n",
       "\n",
       "         congestion_surcharge  \n",
       "1215088                   2.5  \n",
       "612594                    2.5  \n",
       "259095                    2.5  \n",
       "1049052                   2.5  \n",
       "220625                    2.5  \n",
       "...                       ...  \n",
       "357786                    2.5  \n",
       "396826                    2.5  \n",
       "274823                    2.5  \n",
       "210304                    0.0  \n",
       "170648                    2.5  \n",
       "\n",
       "[13697 rows x 18 columns]"
      ]
     },
     "execution_count": 11,
     "metadata": {},
     "output_type": "execute_result"
    }
   ],
   "source": [
    "data"
   ]
  },
  {
   "cell_type": "markdown",
   "id": "9a766178",
   "metadata": {},
   "source": [
    "After downsampling the dataset, we can use the pd.isnull to determine if there were nan values inside the columns"
   ]
  },
  {
   "cell_type": "markdown",
   "id": "8c8a8354",
   "metadata": {},
   "source": [
    "Print out the if nan values exists in the column"
   ]
  },
  {
   "cell_type": "code",
   "execution_count": 12,
   "id": "23dc52a3",
   "metadata": {},
   "outputs": [
    {
     "name": "stdout",
     "output_type": "stream",
     "text": [
      "VendorID\n",
      "passenger_count\n",
      "RatecodeID\n",
      "store_and_fwd_flag\n",
      "payment_type\n"
     ]
    }
   ],
   "source": [
    "for c in data.columns:\n",
    "    if pd.isnull(data[c].unique()).any():\n",
    "        print(c)\n",
    "    # print(c, pd.isnull(data[c].unique()).any())"
   ]
  },
  {
   "cell_type": "markdown",
   "id": "fe554c30",
   "metadata": {},
   "source": [
    "From the output above, we now know that there were some nan values in VendorID, passenger_count, RatecodeID, payment_type. I decide to drop all the nan values in the dataset so that we would not be impacted by the nan values when calculating numeric values. The procedure will be in the following part"
   ]
  },
  {
   "cell_type": "markdown",
   "id": "3a6b9435",
   "metadata": {},
   "source": [
    "### Explore the values inside each column"
   ]
  },
  {
   "cell_type": "markdown",
   "id": "77570725",
   "metadata": {},
   "source": [
    "The below prints out if there were any nan values inside each column, before printing out the nan values, we would need to convert some columns' datatype"
   ]
  },
  {
   "cell_type": "code",
   "execution_count": 13,
   "id": "9dd03c1d",
   "metadata": {
    "scrolled": true
   },
   "outputs": [
    {
     "data": {
      "text/plain": [
       "VendorID                 float64\n",
       "tpep_pickup_datetime      object\n",
       "tpep_dropoff_datetime     object\n",
       "passenger_count          float64\n",
       "trip_distance            float64\n",
       "RatecodeID               float64\n",
       "store_and_fwd_flag        object\n",
       "PULocationID               int64\n",
       "DOLocationID               int64\n",
       "payment_type             float64\n",
       "fare_amount              float64\n",
       "extra                    float64\n",
       "mta_tax                  float64\n",
       "tip_amount               float64\n",
       "tolls_amount             float64\n",
       "improvement_surcharge    float64\n",
       "total_amount             float64\n",
       "congestion_surcharge     float64\n",
       "dtype: object"
      ]
     },
     "execution_count": 13,
     "metadata": {},
     "output_type": "execute_result"
    }
   ],
   "source": [
    "data.dtypes"
   ]
  },
  {
   "cell_type": "markdown",
   "id": "51f5b24e",
   "metadata": {},
   "source": [
    "From the above, we can tell that the two datetime columns and the flag column need some cleaning. We would convert the object in datetime columns into datetime objectsm and the flag should be converted to string/text data type. "
   ]
  },
  {
   "cell_type": "markdown",
   "id": "79371103",
   "metadata": {},
   "source": [
    "The two datetime columns first:"
   ]
  },
  {
   "cell_type": "code",
   "execution_count": 14,
   "id": "97535d16",
   "metadata": {},
   "outputs": [],
   "source": [
    "data['tpep_pickup_datetime'] = pd.to_datetime(data['tpep_pickup_datetime'])\n",
    "data['tpep_dropoff_datetime'] = pd.to_datetime(data['tpep_dropoff_datetime'])"
   ]
  },
  {
   "cell_type": "code",
   "execution_count": 15,
   "id": "4d2dfd84",
   "metadata": {
    "scrolled": true
   },
   "outputs": [
    {
     "data": {
      "text/plain": [
       "VendorID                        float64\n",
       "tpep_pickup_datetime     datetime64[ns]\n",
       "tpep_dropoff_datetime    datetime64[ns]\n",
       "passenger_count                 float64\n",
       "trip_distance                   float64\n",
       "RatecodeID                      float64\n",
       "store_and_fwd_flag               object\n",
       "PULocationID                      int64\n",
       "DOLocationID                      int64\n",
       "payment_type                    float64\n",
       "fare_amount                     float64\n",
       "extra                           float64\n",
       "mta_tax                         float64\n",
       "tip_amount                      float64\n",
       "tolls_amount                    float64\n",
       "improvement_surcharge           float64\n",
       "total_amount                    float64\n",
       "congestion_surcharge            float64\n",
       "dtype: object"
      ]
     },
     "execution_count": 15,
     "metadata": {},
     "output_type": "execute_result"
    }
   ],
   "source": [
    "data.dtypes"
   ]
  },
  {
   "cell_type": "code",
   "execution_count": 16,
   "id": "b9c46696",
   "metadata": {
    "scrolled": true
   },
   "outputs": [
    {
     "data": {
      "text/plain": [
       "(1215088   2021-01-30 12:21:33\n",
       " 612594    2021-01-16 12:23:31\n",
       " 259095    2021-01-08 07:07:00\n",
       " 1049052   2021-01-26 19:17:16\n",
       " 220625    2021-01-07 10:13:49\n",
       " Name: tpep_pickup_datetime, dtype: datetime64[ns],\n",
       " 1215088   2021-01-30 12:26:14\n",
       " 612594    2021-01-16 12:29:11\n",
       " 259095    2021-01-08 07:10:36\n",
       " 1049052   2021-01-26 19:33:39\n",
       " 220625    2021-01-07 10:16:42\n",
       " Name: tpep_dropoff_datetime, dtype: datetime64[ns])"
      ]
     },
     "execution_count": 16,
     "metadata": {},
     "output_type": "execute_result"
    }
   ],
   "source": [
    "data['tpep_pickup_datetime'].head(), data['tpep_dropoff_datetime'].head()"
   ]
  },
  {
   "cell_type": "markdown",
   "id": "b5594f38",
   "metadata": {},
   "source": [
    "Good, now we have changed the datatype of the dates into the correct type, lets see if there are any nan or strange entries in the column"
   ]
  },
  {
   "cell_type": "code",
   "execution_count": 17,
   "id": "f5b33646",
   "metadata": {
    "scrolled": true
   },
   "outputs": [
    {
     "data": {
      "text/plain": [
       "array([datetime.date(2021, 1, 30), datetime.date(2021, 1, 16),\n",
       "       datetime.date(2021, 1, 8), datetime.date(2021, 1, 26),\n",
       "       datetime.date(2021, 1, 7), datetime.date(2021, 1, 21),\n",
       "       datetime.date(2021, 1, 18), datetime.date(2021, 1, 22),\n",
       "       datetime.date(2021, 1, 11), datetime.date(2021, 1, 28),\n",
       "       datetime.date(2021, 1, 9), datetime.date(2021, 1, 17),\n",
       "       datetime.date(2021, 1, 6), datetime.date(2021, 1, 12),\n",
       "       datetime.date(2021, 1, 29), datetime.date(2021, 1, 14),\n",
       "       datetime.date(2021, 1, 4), datetime.date(2021, 1, 15),\n",
       "       datetime.date(2021, 1, 24), datetime.date(2021, 1, 25),\n",
       "       datetime.date(2021, 1, 23), datetime.date(2021, 1, 1),\n",
       "       datetime.date(2021, 1, 31), datetime.date(2021, 1, 10),\n",
       "       datetime.date(2021, 1, 5), datetime.date(2021, 1, 2),\n",
       "       datetime.date(2021, 1, 3), datetime.date(2021, 1, 27),\n",
       "       datetime.date(2021, 1, 13), datetime.date(2021, 1, 20),\n",
       "       datetime.date(2021, 1, 19), datetime.date(2020, 12, 31)],\n",
       "      dtype=object)"
      ]
     },
     "execution_count": 17,
     "metadata": {},
     "output_type": "execute_result"
    }
   ],
   "source": [
    "pd.to_datetime(data['tpep_pickup_datetime']).dt.date.unique()"
   ]
  },
  {
   "cell_type": "markdown",
   "id": "a93f823f",
   "metadata": {},
   "source": [
    "Notice that we have three errorous data in the dataset, some indicated 2008/12/31, some indicated 2020/12/31 and the rest indicating 2009/12/31. We should remove these entries."
   ]
  },
  {
   "cell_type": "code",
   "execution_count": 18,
   "id": "2add47a6",
   "metadata": {},
   "outputs": [
    {
     "data": {
      "text/html": [
       "<div>\n",
       "<style scoped>\n",
       "    .dataframe tbody tr th:only-of-type {\n",
       "        vertical-align: middle;\n",
       "    }\n",
       "\n",
       "    .dataframe tbody tr th {\n",
       "        vertical-align: top;\n",
       "    }\n",
       "\n",
       "    .dataframe thead th {\n",
       "        text-align: right;\n",
       "    }\n",
       "</style>\n",
       "<table border=\"1\" class=\"dataframe\">\n",
       "  <thead>\n",
       "    <tr style=\"text-align: right;\">\n",
       "      <th></th>\n",
       "      <th>VendorID</th>\n",
       "      <th>tpep_pickup_datetime</th>\n",
       "      <th>tpep_dropoff_datetime</th>\n",
       "      <th>passenger_count</th>\n",
       "      <th>trip_distance</th>\n",
       "      <th>RatecodeID</th>\n",
       "      <th>store_and_fwd_flag</th>\n",
       "      <th>PULocationID</th>\n",
       "      <th>DOLocationID</th>\n",
       "      <th>payment_type</th>\n",
       "      <th>fare_amount</th>\n",
       "      <th>extra</th>\n",
       "      <th>mta_tax</th>\n",
       "      <th>tip_amount</th>\n",
       "      <th>tolls_amount</th>\n",
       "      <th>improvement_surcharge</th>\n",
       "      <th>total_amount</th>\n",
       "      <th>congestion_surcharge</th>\n",
       "    </tr>\n",
       "  </thead>\n",
       "  <tbody>\n",
       "    <tr>\n",
       "      <th>3474</th>\n",
       "      <td>2.0</td>\n",
       "      <td>2020-12-31 23:06:12</td>\n",
       "      <td>2020-12-31 23:18:39</td>\n",
       "      <td>1.0</td>\n",
       "      <td>7.08</td>\n",
       "      <td>1.0</td>\n",
       "      <td>N</td>\n",
       "      <td>42</td>\n",
       "      <td>137</td>\n",
       "      <td>2.0</td>\n",
       "      <td>21.0</td>\n",
       "      <td>0.5</td>\n",
       "      <td>0.5</td>\n",
       "      <td>0.0</td>\n",
       "      <td>0.0</td>\n",
       "      <td>0.3</td>\n",
       "      <td>24.8</td>\n",
       "      <td>2.5</td>\n",
       "    </tr>\n",
       "  </tbody>\n",
       "</table>\n",
       "</div>"
      ],
      "text/plain": [
       "      VendorID tpep_pickup_datetime tpep_dropoff_datetime  passenger_count  \\\n",
       "3474       2.0  2020-12-31 23:06:12   2020-12-31 23:18:39              1.0   \n",
       "\n",
       "      trip_distance  RatecodeID store_and_fwd_flag  PULocationID  \\\n",
       "3474           7.08         1.0                  N            42   \n",
       "\n",
       "      DOLocationID  payment_type  fare_amount  extra  mta_tax  tip_amount  \\\n",
       "3474           137           2.0         21.0    0.5      0.5         0.0   \n",
       "\n",
       "      tolls_amount  improvement_surcharge  total_amount  congestion_surcharge  \n",
       "3474           0.0                    0.3          24.8                   2.5  "
      ]
     },
     "execution_count": 18,
     "metadata": {},
     "output_type": "execute_result"
    }
   ],
   "source": [
    "data[(data['tpep_pickup_datetime'] <= \"2020-12-31 23:59:59\") \n",
    "     | (data['tpep_pickup_datetime'] > \"2021-01-31 23:59:59\")]"
   ]
  },
  {
   "cell_type": "code",
   "execution_count": 19,
   "id": "06743f09",
   "metadata": {
    "scrolled": true
   },
   "outputs": [],
   "source": [
    "dropIndex = list(data[(data['tpep_pickup_datetime'] <= \"2020-12-31 23:59:59\") | (data['tpep_pickup_datetime'] > \"2021-01-31 23:59:59\")].index)"
   ]
  },
  {
   "cell_type": "code",
   "execution_count": 20,
   "id": "890838d7",
   "metadata": {
    "scrolled": true
   },
   "outputs": [
    {
     "data": {
      "text/plain": [
       "[3474]"
      ]
     },
     "execution_count": 20,
     "metadata": {},
     "output_type": "execute_result"
    }
   ],
   "source": [
    "dropIndex"
   ]
  },
  {
   "cell_type": "code",
   "execution_count": 21,
   "id": "42736e5e",
   "metadata": {},
   "outputs": [],
   "source": [
    "data.drop([i for i in dropIndex], inplace=True)"
   ]
  },
  {
   "cell_type": "code",
   "execution_count": 22,
   "id": "3453fb3c",
   "metadata": {},
   "outputs": [
    {
     "data": {
      "text/plain": [
       "array([datetime.date(2021, 1, 30), datetime.date(2021, 1, 16),\n",
       "       datetime.date(2021, 1, 8), datetime.date(2021, 1, 26),\n",
       "       datetime.date(2021, 1, 7), datetime.date(2021, 1, 21),\n",
       "       datetime.date(2021, 1, 18), datetime.date(2021, 1, 22),\n",
       "       datetime.date(2021, 1, 11), datetime.date(2021, 1, 28),\n",
       "       datetime.date(2021, 1, 9), datetime.date(2021, 1, 17),\n",
       "       datetime.date(2021, 1, 6), datetime.date(2021, 1, 12),\n",
       "       datetime.date(2021, 1, 29), datetime.date(2021, 1, 14),\n",
       "       datetime.date(2021, 1, 4), datetime.date(2021, 1, 15),\n",
       "       datetime.date(2021, 1, 24), datetime.date(2021, 1, 25),\n",
       "       datetime.date(2021, 1, 23), datetime.date(2021, 1, 1),\n",
       "       datetime.date(2021, 1, 31), datetime.date(2021, 1, 10),\n",
       "       datetime.date(2021, 1, 5), datetime.date(2021, 1, 2),\n",
       "       datetime.date(2021, 1, 3), datetime.date(2021, 1, 27),\n",
       "       datetime.date(2021, 1, 13), datetime.date(2021, 1, 20),\n",
       "       datetime.date(2021, 1, 19)], dtype=object)"
      ]
     },
     "execution_count": 22,
     "metadata": {},
     "output_type": "execute_result"
    }
   ],
   "source": [
    "pd.to_datetime(data['tpep_pickup_datetime']).dt.date.unique()"
   ]
  },
  {
   "cell_type": "markdown",
   "id": "8643956b",
   "metadata": {},
   "source": [
    "Good, the errorous data were all dropped. Check if the length of the dataset is correct"
   ]
  },
  {
   "cell_type": "code",
   "execution_count": 23,
   "id": "5c9a692a",
   "metadata": {},
   "outputs": [
    {
     "data": {
      "text/plain": [
       "True"
      ]
     },
     "execution_count": 23,
     "metadata": {},
     "output_type": "execute_result"
    }
   ],
   "source": [
    "dataLength - len(data) == len(dropIndex)"
   ]
  },
  {
   "cell_type": "markdown",
   "id": "0eeb75fd",
   "metadata": {},
   "source": [
    "Great, now we can create a pickup_date that converts the pickup_datetime column into date column"
   ]
  },
  {
   "cell_type": "code",
   "execution_count": 24,
   "id": "cddaa6f2",
   "metadata": {},
   "outputs": [
    {
     "data": {
      "text/plain": [
       "tpep_pickup_datetime\n",
       "2021-01-01    245\n",
       "2021-01-02    330\n",
       "2021-01-03    253\n",
       "2021-01-04    420\n",
       "2021-01-05    444\n",
       "2021-01-06    481\n",
       "2021-01-07    541\n",
       "2021-01-08    511\n",
       "2021-01-09    367\n",
       "2021-01-10    282\n",
       "2021-01-11    474\n",
       "2021-01-12    537\n",
       "2021-01-13    489\n",
       "2021-01-14    507\n",
       "2021-01-15    591\n",
       "2021-01-16    374\n",
       "2021-01-17    354\n",
       "2021-01-18    380\n",
       "2021-01-19    538\n",
       "2021-01-20    473\n",
       "2021-01-21    557\n",
       "2021-01-22    526\n",
       "2021-01-23    424\n",
       "2021-01-24    316\n",
       "2021-01-25    487\n",
       "2021-01-26    460\n",
       "2021-01-27    533\n",
       "2021-01-28    511\n",
       "2021-01-29    570\n",
       "2021-01-30    399\n",
       "2021-01-31    322\n",
       "dtype: int64"
      ]
     },
     "execution_count": 24,
     "metadata": {},
     "output_type": "execute_result"
    }
   ],
   "source": [
    "# Create the count of each date in the data\n",
    "data.groupby(pd.to_datetime(data['tpep_pickup_datetime']).dt.date).size()"
   ]
  },
  {
   "cell_type": "code",
   "execution_count": 25,
   "id": "795e0c7a",
   "metadata": {
    "scrolled": false
   },
   "outputs": [
    {
     "data": {
      "text/html": [
       "<div>\n",
       "<style scoped>\n",
       "    .dataframe tbody tr th:only-of-type {\n",
       "        vertical-align: middle;\n",
       "    }\n",
       "\n",
       "    .dataframe tbody tr th {\n",
       "        vertical-align: top;\n",
       "    }\n",
       "\n",
       "    .dataframe thead th {\n",
       "        text-align: right;\n",
       "    }\n",
       "</style>\n",
       "<table border=\"1\" class=\"dataframe\">\n",
       "  <thead>\n",
       "    <tr style=\"text-align: right;\">\n",
       "      <th></th>\n",
       "      <th>VendorID</th>\n",
       "      <th>tpep_pickup_datetime</th>\n",
       "      <th>tpep_dropoff_datetime</th>\n",
       "      <th>passenger_count</th>\n",
       "      <th>trip_distance</th>\n",
       "      <th>RatecodeID</th>\n",
       "      <th>store_and_fwd_flag</th>\n",
       "      <th>PULocationID</th>\n",
       "      <th>DOLocationID</th>\n",
       "      <th>payment_type</th>\n",
       "      <th>fare_amount</th>\n",
       "      <th>extra</th>\n",
       "      <th>mta_tax</th>\n",
       "      <th>tip_amount</th>\n",
       "      <th>tolls_amount</th>\n",
       "      <th>improvement_surcharge</th>\n",
       "      <th>total_amount</th>\n",
       "      <th>congestion_surcharge</th>\n",
       "      <th>pickup_date</th>\n",
       "    </tr>\n",
       "  </thead>\n",
       "  <tbody>\n",
       "    <tr>\n",
       "      <th>1215088</th>\n",
       "      <td>1.0</td>\n",
       "      <td>2021-01-30 12:21:33</td>\n",
       "      <td>2021-01-30 12:26:14</td>\n",
       "      <td>0.0</td>\n",
       "      <td>1.00</td>\n",
       "      <td>1.0</td>\n",
       "      <td>N</td>\n",
       "      <td>79</td>\n",
       "      <td>107</td>\n",
       "      <td>2.0</td>\n",
       "      <td>5.5</td>\n",
       "      <td>2.5</td>\n",
       "      <td>0.5</td>\n",
       "      <td>0.00</td>\n",
       "      <td>0.0</td>\n",
       "      <td>0.3</td>\n",
       "      <td>8.80</td>\n",
       "      <td>2.5</td>\n",
       "      <td>2021-01-30</td>\n",
       "    </tr>\n",
       "    <tr>\n",
       "      <th>612594</th>\n",
       "      <td>2.0</td>\n",
       "      <td>2021-01-16 12:23:31</td>\n",
       "      <td>2021-01-16 12:29:11</td>\n",
       "      <td>1.0</td>\n",
       "      <td>1.19</td>\n",
       "      <td>1.0</td>\n",
       "      <td>N</td>\n",
       "      <td>164</td>\n",
       "      <td>68</td>\n",
       "      <td>1.0</td>\n",
       "      <td>6.5</td>\n",
       "      <td>0.0</td>\n",
       "      <td>0.5</td>\n",
       "      <td>1.96</td>\n",
       "      <td>0.0</td>\n",
       "      <td>0.3</td>\n",
       "      <td>11.76</td>\n",
       "      <td>2.5</td>\n",
       "      <td>2021-01-16</td>\n",
       "    </tr>\n",
       "    <tr>\n",
       "      <th>259095</th>\n",
       "      <td>2.0</td>\n",
       "      <td>2021-01-08 07:07:00</td>\n",
       "      <td>2021-01-08 07:10:36</td>\n",
       "      <td>5.0</td>\n",
       "      <td>1.07</td>\n",
       "      <td>1.0</td>\n",
       "      <td>N</td>\n",
       "      <td>114</td>\n",
       "      <td>90</td>\n",
       "      <td>1.0</td>\n",
       "      <td>5.5</td>\n",
       "      <td>0.0</td>\n",
       "      <td>0.5</td>\n",
       "      <td>1.76</td>\n",
       "      <td>0.0</td>\n",
       "      <td>0.3</td>\n",
       "      <td>10.56</td>\n",
       "      <td>2.5</td>\n",
       "      <td>2021-01-08</td>\n",
       "    </tr>\n",
       "    <tr>\n",
       "      <th>1049052</th>\n",
       "      <td>2.0</td>\n",
       "      <td>2021-01-26 19:17:16</td>\n",
       "      <td>2021-01-26 19:33:39</td>\n",
       "      <td>3.0</td>\n",
       "      <td>2.92</td>\n",
       "      <td>1.0</td>\n",
       "      <td>N</td>\n",
       "      <td>140</td>\n",
       "      <td>238</td>\n",
       "      <td>1.0</td>\n",
       "      <td>13.0</td>\n",
       "      <td>1.0</td>\n",
       "      <td>0.5</td>\n",
       "      <td>2.00</td>\n",
       "      <td>0.0</td>\n",
       "      <td>0.3</td>\n",
       "      <td>19.30</td>\n",
       "      <td>2.5</td>\n",
       "      <td>2021-01-26</td>\n",
       "    </tr>\n",
       "    <tr>\n",
       "      <th>220625</th>\n",
       "      <td>2.0</td>\n",
       "      <td>2021-01-07 10:13:49</td>\n",
       "      <td>2021-01-07 10:16:42</td>\n",
       "      <td>1.0</td>\n",
       "      <td>0.74</td>\n",
       "      <td>1.0</td>\n",
       "      <td>N</td>\n",
       "      <td>246</td>\n",
       "      <td>68</td>\n",
       "      <td>1.0</td>\n",
       "      <td>4.5</td>\n",
       "      <td>0.0</td>\n",
       "      <td>0.5</td>\n",
       "      <td>0.00</td>\n",
       "      <td>0.0</td>\n",
       "      <td>0.3</td>\n",
       "      <td>7.80</td>\n",
       "      <td>2.5</td>\n",
       "      <td>2021-01-07</td>\n",
       "    </tr>\n",
       "  </tbody>\n",
       "</table>\n",
       "</div>"
      ],
      "text/plain": [
       "         VendorID tpep_pickup_datetime tpep_dropoff_datetime  passenger_count  \\\n",
       "1215088       1.0  2021-01-30 12:21:33   2021-01-30 12:26:14              0.0   \n",
       "612594        2.0  2021-01-16 12:23:31   2021-01-16 12:29:11              1.0   \n",
       "259095        2.0  2021-01-08 07:07:00   2021-01-08 07:10:36              5.0   \n",
       "1049052       2.0  2021-01-26 19:17:16   2021-01-26 19:33:39              3.0   \n",
       "220625        2.0  2021-01-07 10:13:49   2021-01-07 10:16:42              1.0   \n",
       "\n",
       "         trip_distance  RatecodeID store_and_fwd_flag  PULocationID  \\\n",
       "1215088           1.00         1.0                  N            79   \n",
       "612594            1.19         1.0                  N           164   \n",
       "259095            1.07         1.0                  N           114   \n",
       "1049052           2.92         1.0                  N           140   \n",
       "220625            0.74         1.0                  N           246   \n",
       "\n",
       "         DOLocationID  payment_type  fare_amount  extra  mta_tax  tip_amount  \\\n",
       "1215088           107           2.0          5.5    2.5      0.5        0.00   \n",
       "612594             68           1.0          6.5    0.0      0.5        1.96   \n",
       "259095             90           1.0          5.5    0.0      0.5        1.76   \n",
       "1049052           238           1.0         13.0    1.0      0.5        2.00   \n",
       "220625             68           1.0          4.5    0.0      0.5        0.00   \n",
       "\n",
       "         tolls_amount  improvement_surcharge  total_amount  \\\n",
       "1215088           0.0                    0.3          8.80   \n",
       "612594            0.0                    0.3         11.76   \n",
       "259095            0.0                    0.3         10.56   \n",
       "1049052           0.0                    0.3         19.30   \n",
       "220625            0.0                    0.3          7.80   \n",
       "\n",
       "         congestion_surcharge pickup_date  \n",
       "1215088                   2.5  2021-01-30  \n",
       "612594                    2.5  2021-01-16  \n",
       "259095                    2.5  2021-01-08  \n",
       "1049052                   2.5  2021-01-26  \n",
       "220625                    2.5  2021-01-07  "
      ]
     },
     "execution_count": 25,
     "metadata": {},
     "output_type": "execute_result"
    }
   ],
   "source": [
    "data['pickup_date'] = pd.to_datetime(data['tpep_pickup_datetime']).dt.date\n",
    "data['pickup_date'] = pd.to_datetime(data['pickup_date'])\n",
    "data.head()"
   ]
  },
  {
   "cell_type": "markdown",
   "id": "fafce9d6",
   "metadata": {},
   "source": [
    "Check if we accidentally create some errorous data"
   ]
  },
  {
   "cell_type": "code",
   "execution_count": 26,
   "id": "1741878a",
   "metadata": {
    "scrolled": true
   },
   "outputs": [
    {
     "data": {
      "text/plain": [
       "array(['2021-01-30T00:00:00.000000000', '2021-01-16T00:00:00.000000000',\n",
       "       '2021-01-08T00:00:00.000000000', '2021-01-26T00:00:00.000000000',\n",
       "       '2021-01-07T00:00:00.000000000', '2021-01-21T00:00:00.000000000',\n",
       "       '2021-01-18T00:00:00.000000000', '2021-01-22T00:00:00.000000000',\n",
       "       '2021-01-11T00:00:00.000000000', '2021-01-28T00:00:00.000000000',\n",
       "       '2021-01-09T00:00:00.000000000', '2021-01-17T00:00:00.000000000',\n",
       "       '2021-01-06T00:00:00.000000000', '2021-01-12T00:00:00.000000000',\n",
       "       '2021-01-29T00:00:00.000000000', '2021-01-14T00:00:00.000000000',\n",
       "       '2021-01-04T00:00:00.000000000', '2021-01-15T00:00:00.000000000',\n",
       "       '2021-01-24T00:00:00.000000000', '2021-01-25T00:00:00.000000000',\n",
       "       '2021-01-23T00:00:00.000000000', '2021-01-01T00:00:00.000000000',\n",
       "       '2021-01-31T00:00:00.000000000', '2021-01-10T00:00:00.000000000',\n",
       "       '2021-01-05T00:00:00.000000000', '2021-01-02T00:00:00.000000000',\n",
       "       '2021-01-03T00:00:00.000000000', '2021-01-27T00:00:00.000000000',\n",
       "       '2021-01-13T00:00:00.000000000', '2021-01-20T00:00:00.000000000',\n",
       "       '2021-01-19T00:00:00.000000000'], dtype='datetime64[ns]')"
      ]
     },
     "execution_count": 26,
     "metadata": {},
     "output_type": "execute_result"
    }
   ],
   "source": [
    "data['pickup_date'].unique()"
   ]
  },
  {
   "cell_type": "markdown",
   "id": "33354b62",
   "metadata": {},
   "source": [
    "Now the flag one is bit complicated, we would have to deal with nan values...\n",
    "\n",
    "Actually, we would not need to convert the flag columns, as we still can filter out the results using string. But we would still need to cope with the nan values in this column."
   ]
  },
  {
   "cell_type": "code",
   "execution_count": 27,
   "id": "03f348b0",
   "metadata": {},
   "outputs": [],
   "source": [
    "data['store_and_fwd_flag'] = data['store_and_fwd_flag'].astype(str)"
   ]
  },
  {
   "cell_type": "code",
   "execution_count": 28,
   "id": "4193b26a",
   "metadata": {},
   "outputs": [
    {
     "data": {
      "text/html": [
       "<div>\n",
       "<style scoped>\n",
       "    .dataframe tbody tr th:only-of-type {\n",
       "        vertical-align: middle;\n",
       "    }\n",
       "\n",
       "    .dataframe tbody tr th {\n",
       "        vertical-align: top;\n",
       "    }\n",
       "\n",
       "    .dataframe thead th {\n",
       "        text-align: right;\n",
       "    }\n",
       "</style>\n",
       "<table border=\"1\" class=\"dataframe\">\n",
       "  <thead>\n",
       "    <tr style=\"text-align: right;\">\n",
       "      <th></th>\n",
       "      <th>VendorID</th>\n",
       "      <th>tpep_pickup_datetime</th>\n",
       "      <th>tpep_dropoff_datetime</th>\n",
       "      <th>passenger_count</th>\n",
       "      <th>trip_distance</th>\n",
       "      <th>RatecodeID</th>\n",
       "      <th>store_and_fwd_flag</th>\n",
       "      <th>PULocationID</th>\n",
       "      <th>DOLocationID</th>\n",
       "      <th>payment_type</th>\n",
       "      <th>fare_amount</th>\n",
       "      <th>extra</th>\n",
       "      <th>mta_tax</th>\n",
       "      <th>tip_amount</th>\n",
       "      <th>tolls_amount</th>\n",
       "      <th>improvement_surcharge</th>\n",
       "      <th>total_amount</th>\n",
       "      <th>congestion_surcharge</th>\n",
       "      <th>pickup_date</th>\n",
       "    </tr>\n",
       "  </thead>\n",
       "  <tbody>\n",
       "    <tr>\n",
       "      <th>1215088</th>\n",
       "      <td>1.0</td>\n",
       "      <td>2021-01-30 12:21:33</td>\n",
       "      <td>2021-01-30 12:26:14</td>\n",
       "      <td>0.0</td>\n",
       "      <td>1.00</td>\n",
       "      <td>1.0</td>\n",
       "      <td>N</td>\n",
       "      <td>79</td>\n",
       "      <td>107</td>\n",
       "      <td>2.0</td>\n",
       "      <td>5.5</td>\n",
       "      <td>2.5</td>\n",
       "      <td>0.5</td>\n",
       "      <td>0.00</td>\n",
       "      <td>0.0</td>\n",
       "      <td>0.3</td>\n",
       "      <td>8.80</td>\n",
       "      <td>2.5</td>\n",
       "      <td>2021-01-30</td>\n",
       "    </tr>\n",
       "    <tr>\n",
       "      <th>612594</th>\n",
       "      <td>2.0</td>\n",
       "      <td>2021-01-16 12:23:31</td>\n",
       "      <td>2021-01-16 12:29:11</td>\n",
       "      <td>1.0</td>\n",
       "      <td>1.19</td>\n",
       "      <td>1.0</td>\n",
       "      <td>N</td>\n",
       "      <td>164</td>\n",
       "      <td>68</td>\n",
       "      <td>1.0</td>\n",
       "      <td>6.5</td>\n",
       "      <td>0.0</td>\n",
       "      <td>0.5</td>\n",
       "      <td>1.96</td>\n",
       "      <td>0.0</td>\n",
       "      <td>0.3</td>\n",
       "      <td>11.76</td>\n",
       "      <td>2.5</td>\n",
       "      <td>2021-01-16</td>\n",
       "    </tr>\n",
       "    <tr>\n",
       "      <th>259095</th>\n",
       "      <td>2.0</td>\n",
       "      <td>2021-01-08 07:07:00</td>\n",
       "      <td>2021-01-08 07:10:36</td>\n",
       "      <td>5.0</td>\n",
       "      <td>1.07</td>\n",
       "      <td>1.0</td>\n",
       "      <td>N</td>\n",
       "      <td>114</td>\n",
       "      <td>90</td>\n",
       "      <td>1.0</td>\n",
       "      <td>5.5</td>\n",
       "      <td>0.0</td>\n",
       "      <td>0.5</td>\n",
       "      <td>1.76</td>\n",
       "      <td>0.0</td>\n",
       "      <td>0.3</td>\n",
       "      <td>10.56</td>\n",
       "      <td>2.5</td>\n",
       "      <td>2021-01-08</td>\n",
       "    </tr>\n",
       "    <tr>\n",
       "      <th>1049052</th>\n",
       "      <td>2.0</td>\n",
       "      <td>2021-01-26 19:17:16</td>\n",
       "      <td>2021-01-26 19:33:39</td>\n",
       "      <td>3.0</td>\n",
       "      <td>2.92</td>\n",
       "      <td>1.0</td>\n",
       "      <td>N</td>\n",
       "      <td>140</td>\n",
       "      <td>238</td>\n",
       "      <td>1.0</td>\n",
       "      <td>13.0</td>\n",
       "      <td>1.0</td>\n",
       "      <td>0.5</td>\n",
       "      <td>2.00</td>\n",
       "      <td>0.0</td>\n",
       "      <td>0.3</td>\n",
       "      <td>19.30</td>\n",
       "      <td>2.5</td>\n",
       "      <td>2021-01-26</td>\n",
       "    </tr>\n",
       "    <tr>\n",
       "      <th>220625</th>\n",
       "      <td>2.0</td>\n",
       "      <td>2021-01-07 10:13:49</td>\n",
       "      <td>2021-01-07 10:16:42</td>\n",
       "      <td>1.0</td>\n",
       "      <td>0.74</td>\n",
       "      <td>1.0</td>\n",
       "      <td>N</td>\n",
       "      <td>246</td>\n",
       "      <td>68</td>\n",
       "      <td>1.0</td>\n",
       "      <td>4.5</td>\n",
       "      <td>0.0</td>\n",
       "      <td>0.5</td>\n",
       "      <td>0.00</td>\n",
       "      <td>0.0</td>\n",
       "      <td>0.3</td>\n",
       "      <td>7.80</td>\n",
       "      <td>2.5</td>\n",
       "      <td>2021-01-07</td>\n",
       "    </tr>\n",
       "  </tbody>\n",
       "</table>\n",
       "</div>"
      ],
      "text/plain": [
       "         VendorID tpep_pickup_datetime tpep_dropoff_datetime  passenger_count  \\\n",
       "1215088       1.0  2021-01-30 12:21:33   2021-01-30 12:26:14              0.0   \n",
       "612594        2.0  2021-01-16 12:23:31   2021-01-16 12:29:11              1.0   \n",
       "259095        2.0  2021-01-08 07:07:00   2021-01-08 07:10:36              5.0   \n",
       "1049052       2.0  2021-01-26 19:17:16   2021-01-26 19:33:39              3.0   \n",
       "220625        2.0  2021-01-07 10:13:49   2021-01-07 10:16:42              1.0   \n",
       "\n",
       "         trip_distance  RatecodeID store_and_fwd_flag  PULocationID  \\\n",
       "1215088           1.00         1.0                  N            79   \n",
       "612594            1.19         1.0                  N           164   \n",
       "259095            1.07         1.0                  N           114   \n",
       "1049052           2.92         1.0                  N           140   \n",
       "220625            0.74         1.0                  N           246   \n",
       "\n",
       "         DOLocationID  payment_type  fare_amount  extra  mta_tax  tip_amount  \\\n",
       "1215088           107           2.0          5.5    2.5      0.5        0.00   \n",
       "612594             68           1.0          6.5    0.0      0.5        1.96   \n",
       "259095             90           1.0          5.5    0.0      0.5        1.76   \n",
       "1049052           238           1.0         13.0    1.0      0.5        2.00   \n",
       "220625             68           1.0          4.5    0.0      0.5        0.00   \n",
       "\n",
       "         tolls_amount  improvement_surcharge  total_amount  \\\n",
       "1215088           0.0                    0.3          8.80   \n",
       "612594            0.0                    0.3         11.76   \n",
       "259095            0.0                    0.3         10.56   \n",
       "1049052           0.0                    0.3         19.30   \n",
       "220625            0.0                    0.3          7.80   \n",
       "\n",
       "         congestion_surcharge pickup_date  \n",
       "1215088                   2.5  2021-01-30  \n",
       "612594                    2.5  2021-01-16  \n",
       "259095                    2.5  2021-01-08  \n",
       "1049052                   2.5  2021-01-26  \n",
       "220625                    2.5  2021-01-07  "
      ]
     },
     "execution_count": 28,
     "metadata": {},
     "output_type": "execute_result"
    }
   ],
   "source": [
    "data[data['store_and_fwd_flag'] == 'N'].head()"
   ]
  },
  {
   "cell_type": "markdown",
   "id": "58629f63",
   "metadata": {},
   "source": [
    "Now we would look at the numeric columns that we are interested in\n",
    "\n",
    "Take a look at the total amount column"
   ]
  },
  {
   "cell_type": "code",
   "execution_count": 29,
   "id": "cdd2cd0d",
   "metadata": {
    "scrolled": true
   },
   "outputs": [
    {
     "data": {
      "text/plain": [
       "((13696,), 238949.72000000003)"
      ]
     },
     "execution_count": 29,
     "metadata": {},
     "output_type": "execute_result"
    }
   ],
   "source": [
    "data['total_amount'].shape, data['total_amount'].sum()"
   ]
  },
  {
   "cell_type": "markdown",
   "id": "64d6a970",
   "metadata": {},
   "source": [
    "Lets check the values inside total amount"
   ]
  },
  {
   "cell_type": "code",
   "execution_count": 30,
   "id": "61731f9a",
   "metadata": {},
   "outputs": [
    {
     "data": {
      "text/plain": [
       "(-65.8, 265.8)"
      ]
     },
     "execution_count": 30,
     "metadata": {},
     "output_type": "execute_result"
    }
   ],
   "source": [
    "data['total_amount'].min(), data['total_amount'].max()"
   ]
  },
  {
   "cell_type": "markdown",
   "id": "fdc8bd34",
   "metadata": {},
   "source": [
    "OK, Now we have negative values in total amount, we would need to remove these data values"
   ]
  },
  {
   "cell_type": "code",
   "execution_count": 31,
   "id": "a0d39b9a",
   "metadata": {},
   "outputs": [
    {
     "data": {
      "text/html": [
       "<div>\n",
       "<style scoped>\n",
       "    .dataframe tbody tr th:only-of-type {\n",
       "        vertical-align: middle;\n",
       "    }\n",
       "\n",
       "    .dataframe tbody tr th {\n",
       "        vertical-align: top;\n",
       "    }\n",
       "\n",
       "    .dataframe thead th {\n",
       "        text-align: right;\n",
       "    }\n",
       "</style>\n",
       "<table border=\"1\" class=\"dataframe\">\n",
       "  <thead>\n",
       "    <tr style=\"text-align: right;\">\n",
       "      <th></th>\n",
       "      <th>VendorID</th>\n",
       "      <th>tpep_pickup_datetime</th>\n",
       "      <th>tpep_dropoff_datetime</th>\n",
       "      <th>passenger_count</th>\n",
       "      <th>trip_distance</th>\n",
       "      <th>RatecodeID</th>\n",
       "      <th>store_and_fwd_flag</th>\n",
       "      <th>PULocationID</th>\n",
       "      <th>DOLocationID</th>\n",
       "      <th>payment_type</th>\n",
       "      <th>fare_amount</th>\n",
       "      <th>extra</th>\n",
       "      <th>mta_tax</th>\n",
       "      <th>tip_amount</th>\n",
       "      <th>tolls_amount</th>\n",
       "      <th>improvement_surcharge</th>\n",
       "      <th>total_amount</th>\n",
       "      <th>congestion_surcharge</th>\n",
       "      <th>pickup_date</th>\n",
       "    </tr>\n",
       "  </thead>\n",
       "  <tbody>\n",
       "    <tr>\n",
       "      <th>791170</th>\n",
       "      <td>2.0</td>\n",
       "      <td>2021-01-20 19:56:42</td>\n",
       "      <td>2021-01-20 19:56:49</td>\n",
       "      <td>1.0</td>\n",
       "      <td>0.01</td>\n",
       "      <td>1.0</td>\n",
       "      <td>N</td>\n",
       "      <td>236</td>\n",
       "      <td>236</td>\n",
       "      <td>3.0</td>\n",
       "      <td>-2.50</td>\n",
       "      <td>-0.5</td>\n",
       "      <td>-0.5</td>\n",
       "      <td>0.0</td>\n",
       "      <td>0.0</td>\n",
       "      <td>-0.3</td>\n",
       "      <td>-6.30</td>\n",
       "      <td>-2.5</td>\n",
       "      <td>2021-01-20</td>\n",
       "    </tr>\n",
       "    <tr>\n",
       "      <th>1240300</th>\n",
       "      <td>2.0</td>\n",
       "      <td>2021-01-30 22:23:51</td>\n",
       "      <td>2021-01-30 22:28:31</td>\n",
       "      <td>1.0</td>\n",
       "      <td>0.87</td>\n",
       "      <td>1.0</td>\n",
       "      <td>N</td>\n",
       "      <td>164</td>\n",
       "      <td>48</td>\n",
       "      <td>3.0</td>\n",
       "      <td>-5.50</td>\n",
       "      <td>-0.5</td>\n",
       "      <td>-0.5</td>\n",
       "      <td>0.0</td>\n",
       "      <td>0.0</td>\n",
       "      <td>-0.3</td>\n",
       "      <td>-9.30</td>\n",
       "      <td>-2.5</td>\n",
       "      <td>2021-01-30</td>\n",
       "    </tr>\n",
       "    <tr>\n",
       "      <th>954475</th>\n",
       "      <td>2.0</td>\n",
       "      <td>2021-01-24 16:36:04</td>\n",
       "      <td>2021-01-24 16:36:10</td>\n",
       "      <td>1.0</td>\n",
       "      <td>0.00</td>\n",
       "      <td>5.0</td>\n",
       "      <td>N</td>\n",
       "      <td>193</td>\n",
       "      <td>193</td>\n",
       "      <td>4.0</td>\n",
       "      <td>-0.05</td>\n",
       "      <td>0.0</td>\n",
       "      <td>0.0</td>\n",
       "      <td>0.0</td>\n",
       "      <td>0.0</td>\n",
       "      <td>-0.3</td>\n",
       "      <td>-0.35</td>\n",
       "      <td>0.0</td>\n",
       "      <td>2021-01-24</td>\n",
       "    </tr>\n",
       "    <tr>\n",
       "      <th>675200</th>\n",
       "      <td>2.0</td>\n",
       "      <td>2021-01-18 10:46:18</td>\n",
       "      <td>2021-01-18 10:48:23</td>\n",
       "      <td>1.0</td>\n",
       "      <td>0.50</td>\n",
       "      <td>1.0</td>\n",
       "      <td>N</td>\n",
       "      <td>90</td>\n",
       "      <td>246</td>\n",
       "      <td>3.0</td>\n",
       "      <td>-3.50</td>\n",
       "      <td>0.0</td>\n",
       "      <td>-0.5</td>\n",
       "      <td>0.0</td>\n",
       "      <td>0.0</td>\n",
       "      <td>-0.3</td>\n",
       "      <td>-6.80</td>\n",
       "      <td>-2.5</td>\n",
       "      <td>2021-01-18</td>\n",
       "    </tr>\n",
       "    <tr>\n",
       "      <th>1154872</th>\n",
       "      <td>2.0</td>\n",
       "      <td>2021-01-29 02:00:19</td>\n",
       "      <td>2021-01-29 02:19:35</td>\n",
       "      <td>1.0</td>\n",
       "      <td>8.64</td>\n",
       "      <td>1.0</td>\n",
       "      <td>N</td>\n",
       "      <td>147</td>\n",
       "      <td>220</td>\n",
       "      <td>2.0</td>\n",
       "      <td>-27.00</td>\n",
       "      <td>-0.5</td>\n",
       "      <td>-0.5</td>\n",
       "      <td>0.0</td>\n",
       "      <td>0.0</td>\n",
       "      <td>-0.3</td>\n",
       "      <td>-28.30</td>\n",
       "      <td>0.0</td>\n",
       "      <td>2021-01-29</td>\n",
       "    </tr>\n",
       "    <tr>\n",
       "      <th>...</th>\n",
       "      <td>...</td>\n",
       "      <td>...</td>\n",
       "      <td>...</td>\n",
       "      <td>...</td>\n",
       "      <td>...</td>\n",
       "      <td>...</td>\n",
       "      <td>...</td>\n",
       "      <td>...</td>\n",
       "      <td>...</td>\n",
       "      <td>...</td>\n",
       "      <td>...</td>\n",
       "      <td>...</td>\n",
       "      <td>...</td>\n",
       "      <td>...</td>\n",
       "      <td>...</td>\n",
       "      <td>...</td>\n",
       "      <td>...</td>\n",
       "      <td>...</td>\n",
       "      <td>...</td>\n",
       "    </tr>\n",
       "    <tr>\n",
       "      <th>725442</th>\n",
       "      <td>2.0</td>\n",
       "      <td>2021-01-19 12:56:13</td>\n",
       "      <td>2021-01-19 13:24:44</td>\n",
       "      <td>1.0</td>\n",
       "      <td>0.01</td>\n",
       "      <td>1.0</td>\n",
       "      <td>N</td>\n",
       "      <td>89</td>\n",
       "      <td>89</td>\n",
       "      <td>3.0</td>\n",
       "      <td>-16.50</td>\n",
       "      <td>0.0</td>\n",
       "      <td>-0.5</td>\n",
       "      <td>0.0</td>\n",
       "      <td>0.0</td>\n",
       "      <td>-0.3</td>\n",
       "      <td>-17.30</td>\n",
       "      <td>0.0</td>\n",
       "      <td>2021-01-19</td>\n",
       "    </tr>\n",
       "    <tr>\n",
       "      <th>952341</th>\n",
       "      <td>2.0</td>\n",
       "      <td>2021-01-24 15:34:32</td>\n",
       "      <td>2021-01-24 16:22:05</td>\n",
       "      <td>1.0</td>\n",
       "      <td>8.01</td>\n",
       "      <td>1.0</td>\n",
       "      <td>N</td>\n",
       "      <td>68</td>\n",
       "      <td>225</td>\n",
       "      <td>4.0</td>\n",
       "      <td>-33.50</td>\n",
       "      <td>0.0</td>\n",
       "      <td>-0.5</td>\n",
       "      <td>0.0</td>\n",
       "      <td>0.0</td>\n",
       "      <td>-0.3</td>\n",
       "      <td>-36.80</td>\n",
       "      <td>-2.5</td>\n",
       "      <td>2021-01-24</td>\n",
       "    </tr>\n",
       "    <tr>\n",
       "      <th>742666</th>\n",
       "      <td>2.0</td>\n",
       "      <td>2021-01-19 18:31:23</td>\n",
       "      <td>2021-01-19 18:31:31</td>\n",
       "      <td>1.0</td>\n",
       "      <td>0.04</td>\n",
       "      <td>1.0</td>\n",
       "      <td>N</td>\n",
       "      <td>151</td>\n",
       "      <td>264</td>\n",
       "      <td>4.0</td>\n",
       "      <td>-2.50</td>\n",
       "      <td>-1.0</td>\n",
       "      <td>-0.5</td>\n",
       "      <td>0.0</td>\n",
       "      <td>0.0</td>\n",
       "      <td>-0.3</td>\n",
       "      <td>-4.30</td>\n",
       "      <td>0.0</td>\n",
       "      <td>2021-01-19</td>\n",
       "    </tr>\n",
       "    <tr>\n",
       "      <th>1240519</th>\n",
       "      <td>2.0</td>\n",
       "      <td>2021-01-30 22:57:35</td>\n",
       "      <td>2021-01-30 23:02:08</td>\n",
       "      <td>1.0</td>\n",
       "      <td>1.03</td>\n",
       "      <td>1.0</td>\n",
       "      <td>N</td>\n",
       "      <td>239</td>\n",
       "      <td>236</td>\n",
       "      <td>3.0</td>\n",
       "      <td>-5.50</td>\n",
       "      <td>-0.5</td>\n",
       "      <td>-0.5</td>\n",
       "      <td>0.0</td>\n",
       "      <td>0.0</td>\n",
       "      <td>-0.3</td>\n",
       "      <td>-9.30</td>\n",
       "      <td>-2.5</td>\n",
       "      <td>2021-01-30</td>\n",
       "    </tr>\n",
       "    <tr>\n",
       "      <th>698268</th>\n",
       "      <td>2.0</td>\n",
       "      <td>2021-01-18 18:56:46</td>\n",
       "      <td>2021-01-18 18:57:01</td>\n",
       "      <td>1.0</td>\n",
       "      <td>0.00</td>\n",
       "      <td>1.0</td>\n",
       "      <td>N</td>\n",
       "      <td>244</td>\n",
       "      <td>244</td>\n",
       "      <td>4.0</td>\n",
       "      <td>-2.50</td>\n",
       "      <td>0.0</td>\n",
       "      <td>-0.5</td>\n",
       "      <td>0.0</td>\n",
       "      <td>0.0</td>\n",
       "      <td>-0.3</td>\n",
       "      <td>-3.30</td>\n",
       "      <td>0.0</td>\n",
       "      <td>2021-01-18</td>\n",
       "    </tr>\n",
       "  </tbody>\n",
       "</table>\n",
       "<p>74 rows × 19 columns</p>\n",
       "</div>"
      ],
      "text/plain": [
       "         VendorID tpep_pickup_datetime tpep_dropoff_datetime  passenger_count  \\\n",
       "791170        2.0  2021-01-20 19:56:42   2021-01-20 19:56:49              1.0   \n",
       "1240300       2.0  2021-01-30 22:23:51   2021-01-30 22:28:31              1.0   \n",
       "954475        2.0  2021-01-24 16:36:04   2021-01-24 16:36:10              1.0   \n",
       "675200        2.0  2021-01-18 10:46:18   2021-01-18 10:48:23              1.0   \n",
       "1154872       2.0  2021-01-29 02:00:19   2021-01-29 02:19:35              1.0   \n",
       "...           ...                  ...                   ...              ...   \n",
       "725442        2.0  2021-01-19 12:56:13   2021-01-19 13:24:44              1.0   \n",
       "952341        2.0  2021-01-24 15:34:32   2021-01-24 16:22:05              1.0   \n",
       "742666        2.0  2021-01-19 18:31:23   2021-01-19 18:31:31              1.0   \n",
       "1240519       2.0  2021-01-30 22:57:35   2021-01-30 23:02:08              1.0   \n",
       "698268        2.0  2021-01-18 18:56:46   2021-01-18 18:57:01              1.0   \n",
       "\n",
       "         trip_distance  RatecodeID store_and_fwd_flag  PULocationID  \\\n",
       "791170            0.01         1.0                  N           236   \n",
       "1240300           0.87         1.0                  N           164   \n",
       "954475            0.00         5.0                  N           193   \n",
       "675200            0.50         1.0                  N            90   \n",
       "1154872           8.64         1.0                  N           147   \n",
       "...                ...         ...                ...           ...   \n",
       "725442            0.01         1.0                  N            89   \n",
       "952341            8.01         1.0                  N            68   \n",
       "742666            0.04         1.0                  N           151   \n",
       "1240519           1.03         1.0                  N           239   \n",
       "698268            0.00         1.0                  N           244   \n",
       "\n",
       "         DOLocationID  payment_type  fare_amount  extra  mta_tax  tip_amount  \\\n",
       "791170            236           3.0        -2.50   -0.5     -0.5         0.0   \n",
       "1240300            48           3.0        -5.50   -0.5     -0.5         0.0   \n",
       "954475            193           4.0        -0.05    0.0      0.0         0.0   \n",
       "675200            246           3.0        -3.50    0.0     -0.5         0.0   \n",
       "1154872           220           2.0       -27.00   -0.5     -0.5         0.0   \n",
       "...               ...           ...          ...    ...      ...         ...   \n",
       "725442             89           3.0       -16.50    0.0     -0.5         0.0   \n",
       "952341            225           4.0       -33.50    0.0     -0.5         0.0   \n",
       "742666            264           4.0        -2.50   -1.0     -0.5         0.0   \n",
       "1240519           236           3.0        -5.50   -0.5     -0.5         0.0   \n",
       "698268            244           4.0        -2.50    0.0     -0.5         0.0   \n",
       "\n",
       "         tolls_amount  improvement_surcharge  total_amount  \\\n",
       "791170            0.0                   -0.3         -6.30   \n",
       "1240300           0.0                   -0.3         -9.30   \n",
       "954475            0.0                   -0.3         -0.35   \n",
       "675200            0.0                   -0.3         -6.80   \n",
       "1154872           0.0                   -0.3        -28.30   \n",
       "...               ...                    ...           ...   \n",
       "725442            0.0                   -0.3        -17.30   \n",
       "952341            0.0                   -0.3        -36.80   \n",
       "742666            0.0                   -0.3         -4.30   \n",
       "1240519           0.0                   -0.3         -9.30   \n",
       "698268            0.0                   -0.3         -3.30   \n",
       "\n",
       "         congestion_surcharge pickup_date  \n",
       "791170                   -2.5  2021-01-20  \n",
       "1240300                  -2.5  2021-01-30  \n",
       "954475                    0.0  2021-01-24  \n",
       "675200                   -2.5  2021-01-18  \n",
       "1154872                   0.0  2021-01-29  \n",
       "...                       ...         ...  \n",
       "725442                    0.0  2021-01-19  \n",
       "952341                   -2.5  2021-01-24  \n",
       "742666                    0.0  2021-01-19  \n",
       "1240519                  -2.5  2021-01-30  \n",
       "698268                    0.0  2021-01-18  \n",
       "\n",
       "[74 rows x 19 columns]"
      ]
     },
     "execution_count": 31,
     "metadata": {},
     "output_type": "execute_result"
    }
   ],
   "source": [
    "data[(data['total_amount'] <= 0)]"
   ]
  },
  {
   "cell_type": "code",
   "execution_count": 32,
   "id": "a88953bf",
   "metadata": {},
   "outputs": [
    {
     "data": {
      "text/plain": [
       "([791170, 1240300, 954475, 675200, 1154872], 74)"
      ]
     },
     "execution_count": 32,
     "metadata": {},
     "output_type": "execute_result"
    }
   ],
   "source": [
    "dropIndex = list(data[(data['total_amount'] <= 0)].index)\n",
    "dropIndex[:5], len(dropIndex)"
   ]
  },
  {
   "cell_type": "code",
   "execution_count": 33,
   "id": "e1aa1b54",
   "metadata": {},
   "outputs": [],
   "source": [
    "data.drop([i for i in dropIndex], inplace=True)"
   ]
  },
  {
   "cell_type": "code",
   "execution_count": 34,
   "id": "77406917",
   "metadata": {},
   "outputs": [
    {
     "data": {
      "text/plain": [
       "(0.3, 265.8)"
      ]
     },
     "execution_count": 34,
     "metadata": {},
     "output_type": "execute_result"
    }
   ],
   "source": [
    "data['total_amount'].min(), data['total_amount'].max()"
   ]
  },
  {
   "cell_type": "markdown",
   "id": "2fb58a2f",
   "metadata": {},
   "source": [
    "Good, all the negative total amounts are dropped."
   ]
  },
  {
   "cell_type": "markdown",
   "id": "ff4f4795",
   "metadata": {},
   "source": [
    "So, the shape of the total amount column is a 1 dimensional array, we need to group the total amounts into accumulation of each date. Try to create the grouped total amount."
   ]
  },
  {
   "cell_type": "code",
   "execution_count": 35,
   "id": "e8323599",
   "metadata": {},
   "outputs": [
    {
     "data": {
      "text/plain": [
       "pickup_date\n",
       "2021-01-01     4778.08\n",
       "2021-01-02     6639.79\n",
       "2021-01-03     5287.30\n",
       "2021-01-04     7417.19\n",
       "2021-01-05     7705.07\n",
       "2021-01-06     8300.80\n",
       "2021-01-07     9407.10\n",
       "2021-01-08     8575.01\n",
       "2021-01-09     6427.43\n",
       "2021-01-10     5590.99\n",
       "2021-01-11     8245.13\n",
       "2021-01-12     9526.59\n",
       "2021-01-13     8660.63\n",
       "2021-01-14     8953.29\n",
       "2021-01-15    10266.47\n",
       "2021-01-16     6381.31\n",
       "2021-01-17     5739.38\n",
       "2021-01-18     6827.04\n",
       "2021-01-19     9346.99\n",
       "2021-01-20     7858.84\n",
       "2021-01-21    10231.16\n",
       "2021-01-22     8999.51\n",
       "2021-01-23     7270.98\n",
       "2021-01-24     5404.63\n",
       "2021-01-25     8486.85\n",
       "2021-01-26     7773.84\n",
       "2021-01-27     8976.88\n",
       "2021-01-28     9120.10\n",
       "2021-01-29     9516.61\n",
       "2021-01-30     6374.53\n",
       "2021-01-31     5904.79\n",
       "Name: total_amount, dtype: float64"
      ]
     },
     "execution_count": 35,
     "metadata": {},
     "output_type": "execute_result"
    }
   ],
   "source": [
    "grouped_total_amount = data['total_amount'].groupby(data['pickup_date']).sum()\n",
    "grouped_total_amount"
   ]
  },
  {
   "cell_type": "markdown",
   "id": "507c51f6",
   "metadata": {},
   "source": [
    "Check if we accidentally excluded some data"
   ]
  },
  {
   "cell_type": "code",
   "execution_count": 36,
   "id": "6b0c9f60",
   "metadata": {},
   "outputs": [
    {
     "data": {
      "text/plain": [
       "(239994.31000000003, 239994.31)"
      ]
     },
     "execution_count": 36,
     "metadata": {},
     "output_type": "execute_result"
    }
   ],
   "source": [
    "data['total_amount'].sum(), grouped_total_amount.sum()"
   ]
  },
  {
   "cell_type": "code",
   "execution_count": 37,
   "id": "46a1c19e",
   "metadata": {},
   "outputs": [
    {
     "data": {
      "text/plain": [
       "True"
      ]
     },
     "execution_count": 37,
     "metadata": {},
     "output_type": "execute_result"
    }
   ],
   "source": [
    "grouped_total_amount.sum() == round(data['total_amount'].sum(), 2)"
   ]
  },
  {
   "cell_type": "markdown",
   "id": "fb402292",
   "metadata": {},
   "source": [
    "Great, now we have the total amount sums grouped by date, now on the distance"
   ]
  },
  {
   "cell_type": "markdown",
   "id": "e340becd",
   "metadata": {},
   "source": [
    "Check if we have errorous data in trip distance"
   ]
  },
  {
   "cell_type": "code",
   "execution_count": 38,
   "id": "1e3244df",
   "metadata": {},
   "outputs": [
    {
     "data": {
      "text/plain": [
       "False"
      ]
     },
     "execution_count": 38,
     "metadata": {},
     "output_type": "execute_result"
    }
   ],
   "source": [
    "pd.isnull(data['trip_distance'].unique()).any()"
   ]
  },
  {
   "cell_type": "code",
   "execution_count": 39,
   "id": "43d9adcc",
   "metadata": {},
   "outputs": [
    {
     "data": {
      "text/plain": [
       "(0.0, 50.06)"
      ]
     },
     "execution_count": 39,
     "metadata": {},
     "output_type": "execute_result"
    }
   ],
   "source": [
    "data['trip_distance'].min(), data['trip_distance'].max()"
   ]
  },
  {
   "cell_type": "markdown",
   "id": "3c1d0774",
   "metadata": {},
   "source": [
    "In the dataset, we have some 0 values. We will need to remove them"
   ]
  },
  {
   "cell_type": "code",
   "execution_count": 40,
   "id": "b4577ad0",
   "metadata": {},
   "outputs": [
    {
     "data": {
      "text/html": [
       "<div>\n",
       "<style scoped>\n",
       "    .dataframe tbody tr th:only-of-type {\n",
       "        vertical-align: middle;\n",
       "    }\n",
       "\n",
       "    .dataframe tbody tr th {\n",
       "        vertical-align: top;\n",
       "    }\n",
       "\n",
       "    .dataframe thead th {\n",
       "        text-align: right;\n",
       "    }\n",
       "</style>\n",
       "<table border=\"1\" class=\"dataframe\">\n",
       "  <thead>\n",
       "    <tr style=\"text-align: right;\">\n",
       "      <th></th>\n",
       "      <th>VendorID</th>\n",
       "      <th>tpep_pickup_datetime</th>\n",
       "      <th>tpep_dropoff_datetime</th>\n",
       "      <th>passenger_count</th>\n",
       "      <th>trip_distance</th>\n",
       "      <th>RatecodeID</th>\n",
       "      <th>store_and_fwd_flag</th>\n",
       "      <th>PULocationID</th>\n",
       "      <th>DOLocationID</th>\n",
       "      <th>payment_type</th>\n",
       "      <th>fare_amount</th>\n",
       "      <th>extra</th>\n",
       "      <th>mta_tax</th>\n",
       "      <th>tip_amount</th>\n",
       "      <th>tolls_amount</th>\n",
       "      <th>improvement_surcharge</th>\n",
       "      <th>total_amount</th>\n",
       "      <th>congestion_surcharge</th>\n",
       "      <th>pickup_date</th>\n",
       "    </tr>\n",
       "  </thead>\n",
       "  <tbody>\n",
       "    <tr>\n",
       "      <th>303465</th>\n",
       "      <td>2.0</td>\n",
       "      <td>2021-01-09 04:08:00</td>\n",
       "      <td>2021-01-09 04:08:07</td>\n",
       "      <td>1.0</td>\n",
       "      <td>0.0</td>\n",
       "      <td>5.0</td>\n",
       "      <td>N</td>\n",
       "      <td>48</td>\n",
       "      <td>264</td>\n",
       "      <td>1.0</td>\n",
       "      <td>8.0</td>\n",
       "      <td>0.0</td>\n",
       "      <td>0.5</td>\n",
       "      <td>0.00</td>\n",
       "      <td>0.00</td>\n",
       "      <td>0.3</td>\n",
       "      <td>11.30</td>\n",
       "      <td>2.5</td>\n",
       "      <td>2021-01-09</td>\n",
       "    </tr>\n",
       "    <tr>\n",
       "      <th>852827</th>\n",
       "      <td>1.0</td>\n",
       "      <td>2021-01-22 09:12:13</td>\n",
       "      <td>2021-01-22 09:38:42</td>\n",
       "      <td>1.0</td>\n",
       "      <td>0.0</td>\n",
       "      <td>1.0</td>\n",
       "      <td>N</td>\n",
       "      <td>159</td>\n",
       "      <td>161</td>\n",
       "      <td>1.0</td>\n",
       "      <td>22.2</td>\n",
       "      <td>0.0</td>\n",
       "      <td>0.5</td>\n",
       "      <td>0.00</td>\n",
       "      <td>0.00</td>\n",
       "      <td>0.3</td>\n",
       "      <td>23.00</td>\n",
       "      <td>0.0</td>\n",
       "      <td>2021-01-22</td>\n",
       "    </tr>\n",
       "    <tr>\n",
       "      <th>563444</th>\n",
       "      <td>1.0</td>\n",
       "      <td>2021-01-15 10:00:25</td>\n",
       "      <td>2021-01-15 10:21:55</td>\n",
       "      <td>1.0</td>\n",
       "      <td>0.0</td>\n",
       "      <td>1.0</td>\n",
       "      <td>N</td>\n",
       "      <td>177</td>\n",
       "      <td>80</td>\n",
       "      <td>1.0</td>\n",
       "      <td>17.2</td>\n",
       "      <td>0.0</td>\n",
       "      <td>0.5</td>\n",
       "      <td>0.00</td>\n",
       "      <td>0.00</td>\n",
       "      <td>0.3</td>\n",
       "      <td>18.00</td>\n",
       "      <td>0.0</td>\n",
       "      <td>2021-01-15</td>\n",
       "    </tr>\n",
       "    <tr>\n",
       "      <th>244193</th>\n",
       "      <td>1.0</td>\n",
       "      <td>2021-01-07 17:32:32</td>\n",
       "      <td>2021-01-07 18:00:51</td>\n",
       "      <td>1.0</td>\n",
       "      <td>0.0</td>\n",
       "      <td>1.0</td>\n",
       "      <td>N</td>\n",
       "      <td>232</td>\n",
       "      <td>42</td>\n",
       "      <td>1.0</td>\n",
       "      <td>28.2</td>\n",
       "      <td>0.0</td>\n",
       "      <td>0.5</td>\n",
       "      <td>0.00</td>\n",
       "      <td>0.00</td>\n",
       "      <td>0.3</td>\n",
       "      <td>29.00</td>\n",
       "      <td>0.0</td>\n",
       "      <td>2021-01-07</td>\n",
       "    </tr>\n",
       "    <tr>\n",
       "      <th>1169592</th>\n",
       "      <td>1.0</td>\n",
       "      <td>2021-01-29 11:27:21</td>\n",
       "      <td>2021-01-29 11:51:47</td>\n",
       "      <td>1.0</td>\n",
       "      <td>0.0</td>\n",
       "      <td>1.0</td>\n",
       "      <td>N</td>\n",
       "      <td>261</td>\n",
       "      <td>217</td>\n",
       "      <td>1.0</td>\n",
       "      <td>20.2</td>\n",
       "      <td>0.0</td>\n",
       "      <td>0.5</td>\n",
       "      <td>0.00</td>\n",
       "      <td>0.00</td>\n",
       "      <td>0.3</td>\n",
       "      <td>21.00</td>\n",
       "      <td>0.0</td>\n",
       "      <td>2021-01-29</td>\n",
       "    </tr>\n",
       "    <tr>\n",
       "      <th>...</th>\n",
       "      <td>...</td>\n",
       "      <td>...</td>\n",
       "      <td>...</td>\n",
       "      <td>...</td>\n",
       "      <td>...</td>\n",
       "      <td>...</td>\n",
       "      <td>...</td>\n",
       "      <td>...</td>\n",
       "      <td>...</td>\n",
       "      <td>...</td>\n",
       "      <td>...</td>\n",
       "      <td>...</td>\n",
       "      <td>...</td>\n",
       "      <td>...</td>\n",
       "      <td>...</td>\n",
       "      <td>...</td>\n",
       "      <td>...</td>\n",
       "      <td>...</td>\n",
       "      <td>...</td>\n",
       "    </tr>\n",
       "    <tr>\n",
       "      <th>1008173</th>\n",
       "      <td>2.0</td>\n",
       "      <td>2021-01-25 22:46:51</td>\n",
       "      <td>2021-01-25 22:47:00</td>\n",
       "      <td>2.0</td>\n",
       "      <td>0.0</td>\n",
       "      <td>5.0</td>\n",
       "      <td>N</td>\n",
       "      <td>265</td>\n",
       "      <td>265</td>\n",
       "      <td>1.0</td>\n",
       "      <td>70.0</td>\n",
       "      <td>0.0</td>\n",
       "      <td>0.0</td>\n",
       "      <td>0.00</td>\n",
       "      <td>0.00</td>\n",
       "      <td>0.3</td>\n",
       "      <td>70.30</td>\n",
       "      <td>0.0</td>\n",
       "      <td>2021-01-25</td>\n",
       "    </tr>\n",
       "    <tr>\n",
       "      <th>875531</th>\n",
       "      <td>1.0</td>\n",
       "      <td>2021-01-22 15:30:29</td>\n",
       "      <td>2021-01-22 16:10:10</td>\n",
       "      <td>1.0</td>\n",
       "      <td>0.0</td>\n",
       "      <td>1.0</td>\n",
       "      <td>N</td>\n",
       "      <td>25</td>\n",
       "      <td>35</td>\n",
       "      <td>1.0</td>\n",
       "      <td>18.2</td>\n",
       "      <td>0.0</td>\n",
       "      <td>0.5</td>\n",
       "      <td>0.00</td>\n",
       "      <td>0.00</td>\n",
       "      <td>0.3</td>\n",
       "      <td>19.00</td>\n",
       "      <td>0.0</td>\n",
       "      <td>2021-01-22</td>\n",
       "    </tr>\n",
       "    <tr>\n",
       "      <th>879285</th>\n",
       "      <td>1.0</td>\n",
       "      <td>2021-01-22 16:04:24</td>\n",
       "      <td>2021-01-22 16:52:33</td>\n",
       "      <td>1.0</td>\n",
       "      <td>0.0</td>\n",
       "      <td>1.0</td>\n",
       "      <td>N</td>\n",
       "      <td>75</td>\n",
       "      <td>254</td>\n",
       "      <td>1.0</td>\n",
       "      <td>26.2</td>\n",
       "      <td>0.0</td>\n",
       "      <td>0.5</td>\n",
       "      <td>0.00</td>\n",
       "      <td>6.12</td>\n",
       "      <td>0.3</td>\n",
       "      <td>33.12</td>\n",
       "      <td>0.0</td>\n",
       "      <td>2021-01-22</td>\n",
       "    </tr>\n",
       "    <tr>\n",
       "      <th>688933</th>\n",
       "      <td>2.0</td>\n",
       "      <td>2021-01-18 15:55:11</td>\n",
       "      <td>2021-01-18 15:55:19</td>\n",
       "      <td>1.0</td>\n",
       "      <td>0.0</td>\n",
       "      <td>1.0</td>\n",
       "      <td>N</td>\n",
       "      <td>216</td>\n",
       "      <td>216</td>\n",
       "      <td>2.0</td>\n",
       "      <td>2.5</td>\n",
       "      <td>0.0</td>\n",
       "      <td>0.5</td>\n",
       "      <td>0.00</td>\n",
       "      <td>0.00</td>\n",
       "      <td>0.3</td>\n",
       "      <td>3.30</td>\n",
       "      <td>0.0</td>\n",
       "      <td>2021-01-18</td>\n",
       "    </tr>\n",
       "    <tr>\n",
       "      <th>1228332</th>\n",
       "      <td>2.0</td>\n",
       "      <td>2021-01-30 16:54:46</td>\n",
       "      <td>2021-01-30 16:54:49</td>\n",
       "      <td>1.0</td>\n",
       "      <td>0.0</td>\n",
       "      <td>5.0</td>\n",
       "      <td>N</td>\n",
       "      <td>50</td>\n",
       "      <td>50</td>\n",
       "      <td>1.0</td>\n",
       "      <td>7.0</td>\n",
       "      <td>0.0</td>\n",
       "      <td>0.5</td>\n",
       "      <td>1.95</td>\n",
       "      <td>0.00</td>\n",
       "      <td>0.3</td>\n",
       "      <td>9.75</td>\n",
       "      <td>0.0</td>\n",
       "      <td>2021-01-30</td>\n",
       "    </tr>\n",
       "  </tbody>\n",
       "</table>\n",
       "<p>180 rows × 19 columns</p>\n",
       "</div>"
      ],
      "text/plain": [
       "         VendorID tpep_pickup_datetime tpep_dropoff_datetime  passenger_count  \\\n",
       "303465        2.0  2021-01-09 04:08:00   2021-01-09 04:08:07              1.0   \n",
       "852827        1.0  2021-01-22 09:12:13   2021-01-22 09:38:42              1.0   \n",
       "563444        1.0  2021-01-15 10:00:25   2021-01-15 10:21:55              1.0   \n",
       "244193        1.0  2021-01-07 17:32:32   2021-01-07 18:00:51              1.0   \n",
       "1169592       1.0  2021-01-29 11:27:21   2021-01-29 11:51:47              1.0   \n",
       "...           ...                  ...                   ...              ...   \n",
       "1008173       2.0  2021-01-25 22:46:51   2021-01-25 22:47:00              2.0   \n",
       "875531        1.0  2021-01-22 15:30:29   2021-01-22 16:10:10              1.0   \n",
       "879285        1.0  2021-01-22 16:04:24   2021-01-22 16:52:33              1.0   \n",
       "688933        2.0  2021-01-18 15:55:11   2021-01-18 15:55:19              1.0   \n",
       "1228332       2.0  2021-01-30 16:54:46   2021-01-30 16:54:49              1.0   \n",
       "\n",
       "         trip_distance  RatecodeID store_and_fwd_flag  PULocationID  \\\n",
       "303465             0.0         5.0                  N            48   \n",
       "852827             0.0         1.0                  N           159   \n",
       "563444             0.0         1.0                  N           177   \n",
       "244193             0.0         1.0                  N           232   \n",
       "1169592            0.0         1.0                  N           261   \n",
       "...                ...         ...                ...           ...   \n",
       "1008173            0.0         5.0                  N           265   \n",
       "875531             0.0         1.0                  N            25   \n",
       "879285             0.0         1.0                  N            75   \n",
       "688933             0.0         1.0                  N           216   \n",
       "1228332            0.0         5.0                  N            50   \n",
       "\n",
       "         DOLocationID  payment_type  fare_amount  extra  mta_tax  tip_amount  \\\n",
       "303465            264           1.0          8.0    0.0      0.5        0.00   \n",
       "852827            161           1.0         22.2    0.0      0.5        0.00   \n",
       "563444             80           1.0         17.2    0.0      0.5        0.00   \n",
       "244193             42           1.0         28.2    0.0      0.5        0.00   \n",
       "1169592           217           1.0         20.2    0.0      0.5        0.00   \n",
       "...               ...           ...          ...    ...      ...         ...   \n",
       "1008173           265           1.0         70.0    0.0      0.0        0.00   \n",
       "875531             35           1.0         18.2    0.0      0.5        0.00   \n",
       "879285            254           1.0         26.2    0.0      0.5        0.00   \n",
       "688933            216           2.0          2.5    0.0      0.5        0.00   \n",
       "1228332            50           1.0          7.0    0.0      0.5        1.95   \n",
       "\n",
       "         tolls_amount  improvement_surcharge  total_amount  \\\n",
       "303465           0.00                    0.3         11.30   \n",
       "852827           0.00                    0.3         23.00   \n",
       "563444           0.00                    0.3         18.00   \n",
       "244193           0.00                    0.3         29.00   \n",
       "1169592          0.00                    0.3         21.00   \n",
       "...               ...                    ...           ...   \n",
       "1008173          0.00                    0.3         70.30   \n",
       "875531           0.00                    0.3         19.00   \n",
       "879285           6.12                    0.3         33.12   \n",
       "688933           0.00                    0.3          3.30   \n",
       "1228332          0.00                    0.3          9.75   \n",
       "\n",
       "         congestion_surcharge pickup_date  \n",
       "303465                    2.5  2021-01-09  \n",
       "852827                    0.0  2021-01-22  \n",
       "563444                    0.0  2021-01-15  \n",
       "244193                    0.0  2021-01-07  \n",
       "1169592                   0.0  2021-01-29  \n",
       "...                       ...         ...  \n",
       "1008173                   0.0  2021-01-25  \n",
       "875531                    0.0  2021-01-22  \n",
       "879285                    0.0  2021-01-22  \n",
       "688933                    0.0  2021-01-18  \n",
       "1228332                   0.0  2021-01-30  \n",
       "\n",
       "[180 rows x 19 columns]"
      ]
     },
     "execution_count": 40,
     "metadata": {},
     "output_type": "execute_result"
    }
   ],
   "source": [
    "data[data['trip_distance'] == 0]"
   ]
  },
  {
   "cell_type": "code",
   "execution_count": 41,
   "id": "3132ad51",
   "metadata": {
    "scrolled": true
   },
   "outputs": [
    {
     "data": {
      "text/plain": [
       "([303465, 852827, 563444, 244193, 1169592], 180)"
      ]
     },
     "execution_count": 41,
     "metadata": {},
     "output_type": "execute_result"
    }
   ],
   "source": [
    "dropIndex = list(data[data['trip_distance'] <= 0].index)\n",
    "dropIndex[:5], len(dropIndex)"
   ]
  },
  {
   "cell_type": "code",
   "execution_count": 42,
   "id": "38e4bf25",
   "metadata": {},
   "outputs": [],
   "source": [
    "data.drop([i for i in dropIndex], inplace=True)"
   ]
  },
  {
   "cell_type": "code",
   "execution_count": 43,
   "id": "67be0a17",
   "metadata": {},
   "outputs": [
    {
     "data": {
      "text/plain": [
       "(0.01, 50.06)"
      ]
     },
     "execution_count": 43,
     "metadata": {},
     "output_type": "execute_result"
    }
   ],
   "source": [
    "data['trip_distance'].min(), data['trip_distance'].max()"
   ]
  },
  {
   "cell_type": "code",
   "execution_count": 44,
   "id": "37358f8f",
   "metadata": {},
   "outputs": [
    {
     "data": {
      "text/plain": [
       "((13442,), 39704.83)"
      ]
     },
     "execution_count": 44,
     "metadata": {},
     "output_type": "execute_result"
    }
   ],
   "source": [
    "data['trip_distance'].shape, data['trip_distance'].sum()"
   ]
  },
  {
   "cell_type": "markdown",
   "id": "c39fc102",
   "metadata": {},
   "source": [
    "So, the shape of the trip distance column is a 1 dimensional array, we need to group the trip distances into accumulation of each date"
   ]
  },
  {
   "cell_type": "code",
   "execution_count": 45,
   "id": "1e840d60",
   "metadata": {},
   "outputs": [
    {
     "data": {
      "text/plain": [
       "pickup_date\n",
       "2021-01-01     901.04\n",
       "2021-01-02    1219.58\n",
       "2021-01-03    1030.24\n",
       "2021-01-04    1204.27\n",
       "2021-01-05    1237.37\n",
       "2021-01-06    1295.98\n",
       "2021-01-07    1569.16\n",
       "2021-01-08    1348.77\n",
       "2021-01-09    1145.88\n",
       "2021-01-10    1116.45\n",
       "2021-01-11    1364.73\n",
       "2021-01-12    1498.13\n",
       "2021-01-13    1406.12\n",
       "2021-01-14    1428.49\n",
       "2021-01-15    1626.84\n",
       "2021-01-16    1143.34\n",
       "2021-01-17     977.64\n",
       "2021-01-18    1203.42\n",
       "2021-01-19    1496.15\n",
       "2021-01-20    1216.06\n",
       "2021-01-21    1588.47\n",
       "2021-01-22    1423.39\n",
       "2021-01-23    1206.40\n",
       "2021-01-24     999.65\n",
       "2021-01-25    1418.99\n",
       "2021-01-26    1235.31\n",
       "2021-01-27    1430.63\n",
       "2021-01-28    1505.80\n",
       "2021-01-29    1411.39\n",
       "2021-01-30    1004.27\n",
       "2021-01-31    1050.87\n",
       "Name: trip_distance, dtype: float64"
      ]
     },
     "execution_count": 45,
     "metadata": {},
     "output_type": "execute_result"
    }
   ],
   "source": [
    "grouped_trip_distance = data['trip_distance'].groupby(data['pickup_date']).sum()\n",
    "grouped_trip_distance"
   ]
  },
  {
   "cell_type": "markdown",
   "id": "7f1ea21c",
   "metadata": {},
   "source": [
    "The last data we need to clean for this viz will be the passenger count. I would like to add this as the color axis of our heat map"
   ]
  },
  {
   "cell_type": "code",
   "execution_count": 46,
   "id": "a1388b97",
   "metadata": {},
   "outputs": [
    {
     "data": {
      "text/plain": [
       "True"
      ]
     },
     "execution_count": 46,
     "metadata": {},
     "output_type": "execute_result"
    }
   ],
   "source": [
    "pd.isnull(data['passenger_count'].unique()).any()"
   ]
  },
  {
   "cell_type": "code",
   "execution_count": 47,
   "id": "dc32997d",
   "metadata": {},
   "outputs": [
    {
     "data": {
      "text/plain": [
       "(1215088    0.0\n",
       " 612594     1.0\n",
       " 259095     5.0\n",
       " 1049052    3.0\n",
       " 220625     1.0\n",
       "           ... \n",
       " 357786     1.0\n",
       " 396826     1.0\n",
       " 274823     1.0\n",
       " 210304     0.0\n",
       " 170648     2.0\n",
       " Name: passenger_count, Length: 13442, dtype: float64,\n",
       " array([ 0.,  1.,  5.,  3.,  6., nan,  2.,  4.,  8.]))"
      ]
     },
     "execution_count": 47,
     "metadata": {},
     "output_type": "execute_result"
    }
   ],
   "source": [
    "data['passenger_count'], data['passenger_count'].unique()"
   ]
  },
  {
   "cell_type": "markdown",
   "id": "6f6fdb9a",
   "metadata": {},
   "source": [
    "Now, we have empty nan values. For the purpose of this graph, I will convert the nan values to 0 values and remove all the 0 and nan values"
   ]
  },
  {
   "cell_type": "code",
   "execution_count": 48,
   "id": "968739a6",
   "metadata": {
    "scrolled": true
   },
   "outputs": [
    {
     "data": {
      "text/html": [
       "<div>\n",
       "<style scoped>\n",
       "    .dataframe tbody tr th:only-of-type {\n",
       "        vertical-align: middle;\n",
       "    }\n",
       "\n",
       "    .dataframe tbody tr th {\n",
       "        vertical-align: top;\n",
       "    }\n",
       "\n",
       "    .dataframe thead th {\n",
       "        text-align: right;\n",
       "    }\n",
       "</style>\n",
       "<table border=\"1\" class=\"dataframe\">\n",
       "  <thead>\n",
       "    <tr style=\"text-align: right;\">\n",
       "      <th></th>\n",
       "      <th>VendorID</th>\n",
       "      <th>tpep_pickup_datetime</th>\n",
       "      <th>tpep_dropoff_datetime</th>\n",
       "      <th>passenger_count</th>\n",
       "      <th>trip_distance</th>\n",
       "      <th>RatecodeID</th>\n",
       "      <th>store_and_fwd_flag</th>\n",
       "      <th>PULocationID</th>\n",
       "      <th>DOLocationID</th>\n",
       "      <th>payment_type</th>\n",
       "      <th>fare_amount</th>\n",
       "      <th>extra</th>\n",
       "      <th>mta_tax</th>\n",
       "      <th>tip_amount</th>\n",
       "      <th>tolls_amount</th>\n",
       "      <th>improvement_surcharge</th>\n",
       "      <th>total_amount</th>\n",
       "      <th>congestion_surcharge</th>\n",
       "      <th>pickup_date</th>\n",
       "    </tr>\n",
       "  </thead>\n",
       "  <tbody>\n",
       "    <tr>\n",
       "      <th>1215088</th>\n",
       "      <td>1.0</td>\n",
       "      <td>2021-01-30 12:21:33</td>\n",
       "      <td>2021-01-30 12:26:14</td>\n",
       "      <td>0.0</td>\n",
       "      <td>1.0</td>\n",
       "      <td>1.0</td>\n",
       "      <td>N</td>\n",
       "      <td>79</td>\n",
       "      <td>107</td>\n",
       "      <td>2.0</td>\n",
       "      <td>5.5</td>\n",
       "      <td>2.5</td>\n",
       "      <td>0.5</td>\n",
       "      <td>0.00</td>\n",
       "      <td>0.0</td>\n",
       "      <td>0.3</td>\n",
       "      <td>8.80</td>\n",
       "      <td>2.5</td>\n",
       "      <td>2021-01-30</td>\n",
       "    </tr>\n",
       "    <tr>\n",
       "      <th>968776</th>\n",
       "      <td>1.0</td>\n",
       "      <td>2021-01-25 07:29:33</td>\n",
       "      <td>2021-01-25 07:38:59</td>\n",
       "      <td>0.0</td>\n",
       "      <td>2.7</td>\n",
       "      <td>1.0</td>\n",
       "      <td>N</td>\n",
       "      <td>140</td>\n",
       "      <td>170</td>\n",
       "      <td>1.0</td>\n",
       "      <td>10.5</td>\n",
       "      <td>2.5</td>\n",
       "      <td>0.5</td>\n",
       "      <td>4.10</td>\n",
       "      <td>0.0</td>\n",
       "      <td>0.3</td>\n",
       "      <td>17.90</td>\n",
       "      <td>2.5</td>\n",
       "      <td>2021-01-25</td>\n",
       "    </tr>\n",
       "    <tr>\n",
       "      <th>112943</th>\n",
       "      <td>1.0</td>\n",
       "      <td>2021-01-04 18:23:29</td>\n",
       "      <td>2021-01-04 18:29:17</td>\n",
       "      <td>0.0</td>\n",
       "      <td>0.9</td>\n",
       "      <td>1.0</td>\n",
       "      <td>N</td>\n",
       "      <td>140</td>\n",
       "      <td>263</td>\n",
       "      <td>1.0</td>\n",
       "      <td>6.0</td>\n",
       "      <td>3.5</td>\n",
       "      <td>0.5</td>\n",
       "      <td>2.05</td>\n",
       "      <td>0.0</td>\n",
       "      <td>0.3</td>\n",
       "      <td>12.35</td>\n",
       "      <td>2.5</td>\n",
       "      <td>2021-01-04</td>\n",
       "    </tr>\n",
       "    <tr>\n",
       "      <th>1065766</th>\n",
       "      <td>1.0</td>\n",
       "      <td>2021-01-27 11:05:16</td>\n",
       "      <td>2021-01-27 11:37:54</td>\n",
       "      <td>0.0</td>\n",
       "      <td>16.3</td>\n",
       "      <td>1.0</td>\n",
       "      <td>N</td>\n",
       "      <td>140</td>\n",
       "      <td>265</td>\n",
       "      <td>1.0</td>\n",
       "      <td>45.5</td>\n",
       "      <td>2.5</td>\n",
       "      <td>0.5</td>\n",
       "      <td>9.75</td>\n",
       "      <td>0.0</td>\n",
       "      <td>0.3</td>\n",
       "      <td>58.55</td>\n",
       "      <td>2.5</td>\n",
       "      <td>2021-01-27</td>\n",
       "    </tr>\n",
       "    <tr>\n",
       "      <th>922392</th>\n",
       "      <td>1.0</td>\n",
       "      <td>2021-01-23 16:44:54</td>\n",
       "      <td>2021-01-23 16:53:33</td>\n",
       "      <td>0.0</td>\n",
       "      <td>1.7</td>\n",
       "      <td>1.0</td>\n",
       "      <td>N</td>\n",
       "      <td>236</td>\n",
       "      <td>74</td>\n",
       "      <td>1.0</td>\n",
       "      <td>8.5</td>\n",
       "      <td>2.5</td>\n",
       "      <td>0.5</td>\n",
       "      <td>1.00</td>\n",
       "      <td>0.0</td>\n",
       "      <td>0.3</td>\n",
       "      <td>12.80</td>\n",
       "      <td>2.5</td>\n",
       "      <td>2021-01-23</td>\n",
       "    </tr>\n",
       "  </tbody>\n",
       "</table>\n",
       "</div>"
      ],
      "text/plain": [
       "         VendorID tpep_pickup_datetime tpep_dropoff_datetime  passenger_count  \\\n",
       "1215088       1.0  2021-01-30 12:21:33   2021-01-30 12:26:14              0.0   \n",
       "968776        1.0  2021-01-25 07:29:33   2021-01-25 07:38:59              0.0   \n",
       "112943        1.0  2021-01-04 18:23:29   2021-01-04 18:29:17              0.0   \n",
       "1065766       1.0  2021-01-27 11:05:16   2021-01-27 11:37:54              0.0   \n",
       "922392        1.0  2021-01-23 16:44:54   2021-01-23 16:53:33              0.0   \n",
       "\n",
       "         trip_distance  RatecodeID store_and_fwd_flag  PULocationID  \\\n",
       "1215088            1.0         1.0                  N            79   \n",
       "968776             2.7         1.0                  N           140   \n",
       "112943             0.9         1.0                  N           140   \n",
       "1065766           16.3         1.0                  N           140   \n",
       "922392             1.7         1.0                  N           236   \n",
       "\n",
       "         DOLocationID  payment_type  fare_amount  extra  mta_tax  tip_amount  \\\n",
       "1215088           107           2.0          5.5    2.5      0.5        0.00   \n",
       "968776            170           1.0         10.5    2.5      0.5        4.10   \n",
       "112943            263           1.0          6.0    3.5      0.5        2.05   \n",
       "1065766           265           1.0         45.5    2.5      0.5        9.75   \n",
       "922392             74           1.0          8.5    2.5      0.5        1.00   \n",
       "\n",
       "         tolls_amount  improvement_surcharge  total_amount  \\\n",
       "1215088           0.0                    0.3          8.80   \n",
       "968776            0.0                    0.3         17.90   \n",
       "112943            0.0                    0.3         12.35   \n",
       "1065766           0.0                    0.3         58.55   \n",
       "922392            0.0                    0.3         12.80   \n",
       "\n",
       "         congestion_surcharge pickup_date  \n",
       "1215088                   2.5  2021-01-30  \n",
       "968776                    2.5  2021-01-25  \n",
       "112943                    2.5  2021-01-04  \n",
       "1065766                   2.5  2021-01-27  \n",
       "922392                    2.5  2021-01-23  "
      ]
     },
     "execution_count": 48,
     "metadata": {},
     "output_type": "execute_result"
    }
   ],
   "source": [
    "data[data['passenger_count'] == 0].head()"
   ]
  },
  {
   "cell_type": "code",
   "execution_count": 49,
   "id": "0b6acebe",
   "metadata": {},
   "outputs": [
    {
     "data": {
      "text/plain": [
       "([1215088, 968776, 112943, 1065766, 922392], 271)"
      ]
     },
     "execution_count": 49,
     "metadata": {},
     "output_type": "execute_result"
    }
   ],
   "source": [
    "dropIndex = list(data[data['passenger_count'] == 0].index)\n",
    "dropIndex[:5], len(dropIndex)"
   ]
  },
  {
   "cell_type": "code",
   "execution_count": 50,
   "id": "293ed98c",
   "metadata": {},
   "outputs": [],
   "source": [
    "data.drop([i for i in dropIndex], inplace=True)"
   ]
  },
  {
   "cell_type": "code",
   "execution_count": 51,
   "id": "3016288b",
   "metadata": {},
   "outputs": [],
   "source": [
    "data = data[~pd.isnull(data['passenger_count'])]"
   ]
  },
  {
   "cell_type": "code",
   "execution_count": 52,
   "id": "0757aa8c",
   "metadata": {},
   "outputs": [
    {
     "data": {
      "text/plain": [
       "array([1., 5., 3., 6., 2., 4., 8.])"
      ]
     },
     "execution_count": 52,
     "metadata": {},
     "output_type": "execute_result"
    }
   ],
   "source": [
    "data['passenger_count'].unique()"
   ]
  },
  {
   "cell_type": "markdown",
   "id": "c0d83f1b",
   "metadata": {},
   "source": [
    "Now, calculate the sum of the passenger count grouped by date"
   ]
  },
  {
   "cell_type": "code",
   "execution_count": 53,
   "id": "51f9f783",
   "metadata": {
    "scrolled": false
   },
   "outputs": [
    {
     "data": {
      "text/plain": [
       "pickup_date\n",
       "2021-01-01    331.0\n",
       "2021-01-02    457.0\n",
       "2021-01-03    320.0\n",
       "2021-01-04    561.0\n",
       "2021-01-05    597.0\n",
       "2021-01-06    609.0\n",
       "2021-01-07    703.0\n",
       "2021-01-08    670.0\n",
       "2021-01-09    493.0\n",
       "2021-01-10    423.0\n",
       "2021-01-11    628.0\n",
       "2021-01-12    629.0\n",
       "2021-01-13    598.0\n",
       "2021-01-14    647.0\n",
       "2021-01-15    761.0\n",
       "2021-01-16    493.0\n",
       "2021-01-17    460.0\n",
       "2021-01-18    484.0\n",
       "2021-01-19    681.0\n",
       "2021-01-20    585.0\n",
       "2021-01-21    679.0\n",
       "2021-01-22    697.0\n",
       "2021-01-23    589.0\n",
       "2021-01-24    436.0\n",
       "2021-01-25    591.0\n",
       "2021-01-26    572.0\n",
       "2021-01-27    696.0\n",
       "2021-01-28    620.0\n",
       "2021-01-29    728.0\n",
       "2021-01-30    554.0\n",
       "2021-01-31    405.0\n",
       "Name: passenger_count, dtype: float64"
      ]
     },
     "execution_count": 53,
     "metadata": {},
     "output_type": "execute_result"
    }
   ],
   "source": [
    "grouped_passenger_count = data['passenger_count'].groupby(data['pickup_date']).sum()\n",
    "grouped_passenger_count"
   ]
  },
  {
   "cell_type": "markdown",
   "id": "6c58f20f",
   "metadata": {},
   "source": [
    "### Summary of the dataset:"
   ]
  },
  {
   "cell_type": "markdown",
   "id": "e3bddb51",
   "metadata": {},
   "source": [
    "There were in total 18 columns in the dataset. The names were printed above alongside their datatypes. The dataset represents the total trips of yellow taxi at NYC during January, 2021. The dataset includes many fields such as DateTime for each trip, specified to pick up time and drop off time. The trip distance, the fares, the rates, and the payment types and passenger numbers for each entry. On the site, the raw data is collected within the partnership with the NYC DOITT, but I could not find the person who created these datasets. The credits are not given either on the website or in the dataset. This dataset is interesting as we can analyze the pay for each driver and the relationship of their pay with the pay standard we have in NYC. Also, we can tell from this dataset that we could use this dataset to find out the market of taxis in NYC. The further analysis that I described above would also be interesting to explore."
   ]
  },
  {
   "cell_type": "markdown",
   "id": "c55c8e59",
   "metadata": {},
   "source": [
    "### Plot of interest:"
   ]
  },
  {
   "cell_type": "markdown",
   "id": "97458ea7",
   "metadata": {},
   "source": [
    "Lets make a simple one, a frequency graph with the x axis as everyday in January, and the y-axis as the count of taxi drives each date. (For each date, we are only considering the pickup time, as we will have some trips that begins late in one day and arrived on the next day, so I would merge these trips into the date when they started the trip)"
   ]
  },
  {
   "cell_type": "markdown",
   "id": "81fbc36a",
   "metadata": {},
   "source": [
    "The data looks good, now we were ready to create some simple data visualization on this dataset"
   ]
  },
  {
   "cell_type": "code",
   "execution_count": 54,
   "id": "941eb2f2",
   "metadata": {
    "scrolled": true
   },
   "outputs": [
    {
     "data": {
      "image/png": "[encoded data removed]",
      "text/plain": [
       "<Figure size 1080x360 with 1 Axes>"
      ]
     },
     "metadata": {},
     "output_type": "display_data"
    }
   ],
   "source": [
    "# Step 1 - hard code the stuff\n",
    "style = 'seaborn'\n",
    "graphBins = len(data['pickup_date'].unique())\n",
    "with plt.style.context(style):\n",
    "    fig, ax = plt.subplots(figsize=(15,5))\n",
    "    plt.hist(x=data['pickup_date'], bins=graphBins)\n",
    "    ax.set_xlabel('Date in January')\n",
    "    ax.set_ylabel('Taxi Drives Frequency')\n",
    "    ax.set_title('Taxi Drives Frequency in January')\n",
    "    plt.show()"
   ]
  },
  {
   "cell_type": "markdown",
   "id": "bbd90c59",
   "metadata": {},
   "source": [
    "# Final Project Part 2 - Dashboard"
   ]
  },
  {
   "cell_type": "markdown",
   "id": "c748166d",
   "metadata": {},
   "source": [
    "We would continue on the previous frequency graph we made, and we would be producing more graphs as it goes. \n",
    "\n",
    "Lets check the data types again to make sure nothing is wrong"
   ]
  },
  {
   "cell_type": "code",
   "execution_count": 55,
   "id": "51d8efad",
   "metadata": {
    "scrolled": true
   },
   "outputs": [
    {
     "data": {
      "text/plain": [
       "VendorID                        float64\n",
       "tpep_pickup_datetime     datetime64[ns]\n",
       "tpep_dropoff_datetime    datetime64[ns]\n",
       "passenger_count                 float64\n",
       "trip_distance                   float64\n",
       "RatecodeID                      float64\n",
       "store_and_fwd_flag               object\n",
       "PULocationID                      int64\n",
       "DOLocationID                      int64\n",
       "payment_type                    float64\n",
       "fare_amount                     float64\n",
       "extra                           float64\n",
       "mta_tax                         float64\n",
       "tip_amount                      float64\n",
       "tolls_amount                    float64\n",
       "improvement_surcharge           float64\n",
       "total_amount                    float64\n",
       "congestion_surcharge            float64\n",
       "pickup_date              datetime64[ns]\n",
       "dtype: object"
      ]
     },
     "execution_count": 55,
     "metadata": {},
     "output_type": "execute_result"
    }
   ],
   "source": [
    "data.dtypes"
   ]
  },
  {
   "cell_type": "markdown",
   "id": "b572460d",
   "metadata": {},
   "source": [
    "Good, seems nothing is wrong since the last part. Now lets try to shift the graph to bqplot"
   ]
  },
  {
   "cell_type": "code",
   "execution_count": 56,
   "id": "beb3f445",
   "metadata": {
    "scrolled": false
   },
   "outputs": [
    {
     "data": {
      "application/vnd.jupyter.widget-view+json": {
       "model_id": "67f79cbbdd6e4f0baabe0d5267b92ffd",
       "version_major": 2,
       "version_minor": 0
      },
      "text/plain": [
       "Figure(axes=[Axis(label='Date in January', scale=DateScale()), Axis(label='Taxi Drives Frequency', label_offse…"
      ]
     },
     "metadata": {},
     "output_type": "display_data"
    }
   ],
   "source": [
    "# try to shift to bqplot to produce the same graph\n",
    "\n",
    "x_sch = bqplot.DateScale()\n",
    "y_sch = bqplot.LinearScale()\n",
    "\n",
    "# set p axis\n",
    "x_axh = bqplot.Axis(scale = x_sch, label = 'Date in January')\n",
    "# Adjusted the label offset so that the label would not collide\n",
    "# with the data\n",
    "y_axh = bqplot.Axis(scale = y_sch, \n",
    "                   orientation = 'vertical', \n",
    "                   label = 'Taxi Drives Frequency',\n",
    "                   label_offset = \"45px\")\n",
    "\n",
    "# (1) set up the marks\n",
    "hist = bqplot.Hist(sample = data['pickup_date'],\n",
    "                  normalized = False,\n",
    "                  scales = {'sample':x_sch, 'count':y_sch},\n",
    "                  bins=graphBins)\n",
    "\n",
    "fig_hist = bqplot.Figure(marks=[hist], axes = [x_axh, y_axh])\n",
    "# figh.layout.width = \"800px\"\n",
    "fig_hist"
   ]
  },
  {
   "cell_type": "markdown",
   "id": "2589f71f",
   "metadata": {},
   "source": [
    "So we have successfully reproduced the graph using bqplot. Now it is time to include some interactions and dashboards."
   ]
  },
  {
   "cell_type": "markdown",
   "id": "ff39ce27",
   "metadata": {},
   "source": [
    "### Scatter plot of total amount and trip distance with the color axis as passenger count for the graph"
   ]
  },
  {
   "cell_type": "markdown",
   "id": "7fce4029",
   "metadata": {},
   "source": [
    "Now we have the all the data we need, we could create a scatter plot on this"
   ]
  },
  {
   "cell_type": "code",
   "execution_count": 57,
   "id": "50f1eb6d",
   "metadata": {},
   "outputs": [
    {
     "data": {
      "text/plain": [
       "(265.8, 0.3)"
      ]
     },
     "execution_count": 57,
     "metadata": {},
     "output_type": "execute_result"
    }
   ],
   "source": [
    "data['total_amount'].max(), data['total_amount'].min()"
   ]
  },
  {
   "cell_type": "code",
   "execution_count": 58,
   "id": "c3d21ef6",
   "metadata": {
    "scrolled": false
   },
   "outputs": [
    {
     "data": {
      "application/vnd.jupyter.widget-view+json": {
       "model_id": "661e2081d5e84f3989985d9976251217",
       "version_major": 2,
       "version_minor": 0
      },
      "text/plain": [
       "Figure(axes=[Axis(label='Trip Distance', scale=LinearScale()), Axis(label='Total Amount', label_offset='48px',…"
      ]
     },
     "metadata": {},
     "output_type": "display_data"
    }
   ],
   "source": [
    "# Set up x/y scales\n",
    "x_sc = bqplot.LinearScale()\n",
    "y_sc = bqplot.LinearScale()\n",
    "\n",
    "# Set p axis\n",
    "x_ax = bqplot.Axis(scale = x_sc, label='Trip Distance')\n",
    "y_ax = bqplot.Axis(scale = y_sc, \n",
    "                   orientation = 'vertical', \n",
    "                   label='Total Amount',\n",
    "                  label_offset = \"48px\")\n",
    "\n",
    "#(1) set up marks\n",
    "scatters = bqplot.Scatter(x = data['trip_distance'],\n",
    "                          y = data['total_amount'],\n",
    "                          scales = {'x': x_sc, 'y': y_sc})\n",
    "\n",
    "fig = bqplot.Figure(marks = [scatters], axes = [x_ax, y_ax]) \n",
    "fig"
   ]
  },
  {
   "cell_type": "markdown",
   "id": "803c331a",
   "metadata": {},
   "source": [
    "Take a look at the grouped values"
   ]
  },
  {
   "cell_type": "code",
   "execution_count": 59,
   "id": "cd7e6f77",
   "metadata": {},
   "outputs": [
    {
     "data": {
      "application/vnd.jupyter.widget-view+json": {
       "model_id": "94904c115bbf4fe59903e3256eefdc85",
       "version_major": 2,
       "version_minor": 0
      },
      "text/plain": [
       "Figure(axes=[Axis(label='Trip Distance', scale=LinearScale()), Axis(label='Total Amount', label_offset='48px',…"
      ]
     },
     "metadata": {},
     "output_type": "display_data"
    }
   ],
   "source": [
    "# Set up x/y scales\n",
    "x_sc = bqplot.LinearScale()\n",
    "y_sc = bqplot.LinearScale()\n",
    "\n",
    "# Set p axis\n",
    "x_ax = bqplot.Axis(scale = x_sc, label='Trip Distance')\n",
    "y_ax = bqplot.Axis(scale = y_sc, \n",
    "                   orientation = 'vertical', \n",
    "                   label='Total Amount',\n",
    "                  label_offset = \"48px\")\n",
    "\n",
    "#(1) set up marks\n",
    "scatters = bqplot.Scatter(x = grouped_trip_distance,\n",
    "                          y = grouped_total_amount,\n",
    "                          scales = {'x': x_sc, 'y': y_sc})\n",
    "\n",
    "fig = bqplot.Figure(marks = [scatters], axes = [x_ax, y_ax]) \n",
    "fig"
   ]
  },
  {
   "cell_type": "markdown",
   "id": "91f1b943",
   "metadata": {},
   "source": [
    "From the graph we can tell, our data is a bit of large so it the range is fairly big. And I haven't implement the color axis, which will be the passenger count of the dataset"
   ]
  },
  {
   "cell_type": "markdown",
   "id": "45514559",
   "metadata": {},
   "source": [
    "Take a look at the individual values with color"
   ]
  },
  {
   "cell_type": "code",
   "execution_count": 60,
   "id": "67b11402",
   "metadata": {
    "scrolled": false
   },
   "outputs": [
    {
     "data": {
      "application/vnd.jupyter.widget-view+json": {
       "model_id": "938765d4b4b94204b762b482a7b3dfba",
       "version_major": 2,
       "version_minor": 0
      },
      "text/plain": [
       "Figure(axes=[Axis(label='Trip Distance', scale=LinearScale()), Axis(label='Total Amount', label_offset='48px',…"
      ]
     },
     "metadata": {},
     "output_type": "display_data"
    }
   ],
   "source": [
    "# Set up x/y scales\n",
    "x_sc = bqplot.LinearScale()\n",
    "y_sc = bqplot.LinearScale()\n",
    "\n",
    "# Set p axis\n",
    "x_ax = bqplot.Axis(scale = x_sc, label='Trip Distance')\n",
    "y_ax = bqplot.Axis(scale = y_sc, \n",
    "                   orientation = 'vertical', \n",
    "                   label='Total Amount',\n",
    "                  label_offset = \"48px\")\n",
    "\n",
    "# Add in color scale\n",
    "c_sc = bqplot.ColorScale()\n",
    "# color axes:\n",
    "c_ax = bqplot.ColorAxis(scale = c_sc, label = 'Passenger Count', \n",
    "                       orientation = 'vertical', side = 'right')\n",
    "                       # label_offset = \"100px\")\n",
    "\n",
    "# set up marks\n",
    "scatters = bqplot.Scatter(x = data['trip_distance'],\n",
    "                          y = data['total_amount'],\n",
    "                          color = data['passenger_count'],\n",
    "                          scales = {'x': x_sc, \n",
    "                                    'y': y_sc,\n",
    "                                    'color':c_sc})\n",
    "\n",
    "fig = bqplot.Figure(marks = [scatters], axes = [x_ax, y_ax, c_ax]) \n",
    "# fig.layout.width = \"600px\"\n",
    "fig"
   ]
  },
  {
   "cell_type": "markdown",
   "id": "758d2f92",
   "metadata": {},
   "source": [
    "Now the grouped values with color"
   ]
  },
  {
   "cell_type": "code",
   "execution_count": 61,
   "id": "8b28f81e",
   "metadata": {},
   "outputs": [
    {
     "data": {
      "application/vnd.jupyter.widget-view+json": {
       "model_id": "37483e0d351048098272f8d6fe276126",
       "version_major": 2,
       "version_minor": 0
      },
      "text/plain": [
       "Figure(axes=[Axis(label='Trip Distance', scale=LinearScale()), Axis(label='Total Amount', label_offset='48px',…"
      ]
     },
     "metadata": {},
     "output_type": "display_data"
    }
   ],
   "source": [
    "# Set up x/y scales\n",
    "x_sc = bqplot.LinearScale()\n",
    "y_sc = bqplot.LinearScale()\n",
    "\n",
    "# Set p axis\n",
    "x_ax = bqplot.Axis(scale = x_sc, label='Trip Distance')\n",
    "y_ax = bqplot.Axis(scale = y_sc, \n",
    "                   orientation = 'vertical', \n",
    "                   label='Total Amount',\n",
    "                  label_offset = \"48px\")\n",
    "\n",
    "# Add in color scale\n",
    "c_sc = bqplot.ColorScale()\n",
    "# color axes:\n",
    "c_ax = bqplot.ColorAxis(scale = c_sc, label = 'Passenger Count', \n",
    "                       orientation = 'vertical', side = 'right')\n",
    "                       # label_offset = \"100px\")\n",
    "\n",
    "# set up marks\n",
    "scatters = bqplot.Scatter(x = grouped_trip_distance,\n",
    "                          y = grouped_total_amount,\n",
    "                          color = grouped_passenger_count,\n",
    "                          scales = {'x': x_sc, \n",
    "                                    'y': y_sc,\n",
    "                                    'color':c_sc})\n",
    "\n",
    "fig = bqplot.Figure(marks = [scatters], axes = [x_ax, y_ax, c_ax]) \n",
    "# fig.layout.width = \"600px\"\n",
    "fig"
   ]
  },
  {
   "cell_type": "markdown",
   "id": "71dabe67",
   "metadata": {},
   "source": [
    "After plotting the graph, not a bad color map, but I would still like to take the log for the passenger count, as it does have a huge range in sum"
   ]
  },
  {
   "cell_type": "code",
   "execution_count": 62,
   "id": "bbc47c0d",
   "metadata": {},
   "outputs": [
    {
     "data": {
      "text/plain": [
       "(320.0, 761.0)"
      ]
     },
     "execution_count": 62,
     "metadata": {},
     "output_type": "execute_result"
    }
   ],
   "source": [
    "grouped_passenger_count.min(), grouped_passenger_count.max()"
   ]
  },
  {
   "cell_type": "markdown",
   "id": "1064b1f3",
   "metadata": {},
   "source": [
    "Replot the graph with log10 computation on the passenger count"
   ]
  },
  {
   "cell_type": "code",
   "execution_count": 63,
   "id": "fd523351",
   "metadata": {},
   "outputs": [
    {
     "data": {
      "application/vnd.jupyter.widget-view+json": {
       "model_id": "080f912fa45e48afbeaf30d4057601dc",
       "version_major": 2,
       "version_minor": 0
      },
      "text/plain": [
       "Figure(axes=[Axis(label='Trip Distance', scale=LinearScale()), Axis(label='Total Amount', label_offset='48px',…"
      ]
     },
     "metadata": {},
     "output_type": "display_data"
    }
   ],
   "source": [
    "# Set up x/y scales\n",
    "x_sc = bqplot.LinearScale()\n",
    "y_sc = bqplot.LinearScale()\n",
    "\n",
    "# Set p axis\n",
    "x_ax = bqplot.Axis(scale = x_sc, label='Trip Distance')\n",
    "y_ax = bqplot.Axis(scale = y_sc, \n",
    "                   orientation = 'vertical', \n",
    "                   label='Total Amount',\n",
    "                  label_offset = \"48px\")\n",
    "\n",
    "# Add in color scale\n",
    "c_sc = bqplot.ColorScale()\n",
    "# color axes:\n",
    "c_ax = bqplot.ColorAxis(scale = c_sc, label = 'log(pass_c)', \n",
    "                       orientation = 'vertical', side = 'right')\n",
    "\n",
    "# set up marks\n",
    "scatters = bqplot.Scatter(x = grouped_trip_distance,\n",
    "                          y = grouped_total_amount,\n",
    "                          color = np.log10(grouped_passenger_count),\n",
    "                          scales = {'x': x_sc, \n",
    "                                    'y': y_sc,\n",
    "                                    'color':c_sc})\n",
    "\n",
    "fig = bqplot.Figure(marks = [scatters], axes = [x_ax, y_ax, c_ax]) \n",
    "fig"
   ]
  },
  {
   "cell_type": "markdown",
   "id": "4239b267",
   "metadata": {},
   "source": [
    "Well... No clear difference indicated after taking the log of the passenger count... Will remove the log in later stage"
   ]
  },
  {
   "cell_type": "markdown",
   "id": "c03cf477",
   "metadata": {},
   "source": [
    "Now we will try to create the heatmap by transforming the scatter plot we have into the heatmap"
   ]
  },
  {
   "cell_type": "code",
   "execution_count": 64,
   "id": "05b6a525",
   "metadata": {
    "scrolled": true
   },
   "outputs": [
    {
     "data": {
      "image/png": "[encoded data removed]",
      "text/plain": [
       "<Figure size 432x288 with 2 Axes>"
      ]
     },
     "metadata": {
      "needs_background": "light"
     },
     "output_type": "display_data"
    }
   ],
   "source": [
    "plt.hist2d(x=grouped_trip_distance, \n",
    "           y=grouped_total_amount, \n",
    "           weights=grouped_passenger_count, \n",
    "          bins = graphBins, \n",
    "          cmap = 'RdPu')\n",
    "cb = plt.colorbar()\n",
    "cb.set_label('passenger counts')"
   ]
  },
  {
   "cell_type": "markdown",
   "id": "3d82620e",
   "metadata": {},
   "source": [
    "Now the individual data"
   ]
  },
  {
   "cell_type": "code",
   "execution_count": 65,
   "id": "3e389881",
   "metadata": {},
   "outputs": [
    {
     "data": {
      "image/png": "[encoded data removed]",
      "text/plain": [
       "<Figure size 432x288 with 2 Axes>"
      ]
     },
     "metadata": {
      "needs_background": "light"
     },
     "output_type": "display_data"
    }
   ],
   "source": [
    "plt.hist2d(x=data['trip_distance'],\n",
    "          y=data['total_amount'],\n",
    "          weights=data['passenger_count'],\n",
    "          bins=graphBins,\n",
    "          cmap='RdPu')\n",
    "cb = plt.colorbar()\n",
    "cb.set_label('passenger counts')"
   ]
  },
  {
   "cell_type": "markdown",
   "id": "d992f1cc",
   "metadata": {},
   "source": [
    "Note that we did not get something good from both the graphs, as we have not rebin the graphs yet. The second graph is the reason why I choose to downsample the dataset. So that my computer would able to calculate the bins without pushing to its absolute limit. "
   ]
  },
  {
   "cell_type": "markdown",
   "id": "3210996f",
   "metadata": {},
   "source": [
    "Take a look at the min and max of the binning"
   ]
  },
  {
   "cell_type": "code",
   "execution_count": 66,
   "id": "a83ec188",
   "metadata": {},
   "outputs": [
    {
     "data": {
      "text/plain": [
       "(761.0, 320.0)"
      ]
     },
     "execution_count": 66,
     "metadata": {},
     "output_type": "execute_result"
    }
   ],
   "source": [
    "grouped_passenger_count.max(), grouped_passenger_count.min()"
   ]
  },
  {
   "cell_type": "code",
   "execution_count": 67,
   "id": "c6efecc7",
   "metadata": {
    "scrolled": true
   },
   "outputs": [
    {
     "data": {
      "text/plain": [
       "(1.0, 8.0)"
      ]
     },
     "execution_count": 67,
     "metadata": {},
     "output_type": "execute_result"
    }
   ],
   "source": [
    "data['passenger_count'].min(), data['passenger_count'].max()"
   ]
  },
  {
   "cell_type": "markdown",
   "id": "11981113",
   "metadata": {},
   "source": [
    "Clearly, for the grouped one, we would need to create a log scale for the passenger count, but for the individual ones, we could also try to do that as we are binning the data into 31 entries."
   ]
  },
  {
   "cell_type": "code",
   "execution_count": 68,
   "id": "59aad390",
   "metadata": {},
   "outputs": [
    {
     "name": "stderr",
     "output_type": "stream",
     "text": [
      "/Users/rockywu/opt/anaconda3/envs/DataViz/lib/python3.7/site-packages/ipykernel_launcher.py:6: MatplotlibDeprecationWarning: default base may change from np.e to 10.  To suppress this warning specify the base keyword argument.\n",
      "  \n"
     ]
    },
    {
     "data": {
      "image/png": "[encoded data removed]",
      "text/plain": [
       "<Figure size 432x288 with 2 Axes>"
      ]
     },
     "metadata": {
      "needs_background": "light"
     },
     "output_type": "display_data"
    }
   ],
   "source": [
    "plt.hist2d(x=grouped_trip_distance, \n",
    "           y=grouped_total_amount, \n",
    "           weights=grouped_passenger_count, \n",
    "          bins = graphBins, \n",
    "          cmap = 'RdPu',\n",
    "          norm = mpl_colors.SymLogNorm(10))\n",
    "cb = plt.colorbar()\n",
    "cb.set_label('passenger counts')"
   ]
  },
  {
   "cell_type": "code",
   "execution_count": 70,
   "id": "16c25a88",
   "metadata": {
    "scrolled": true
   },
   "outputs": [
    {
     "name": "stderr",
     "output_type": "stream",
     "text": [
      "/Users/rockywu/opt/anaconda3/envs/DataViz/lib/python3.7/site-packages/ipykernel_launcher.py:6: MatplotlibDeprecationWarning: default base may change from np.e to 10.  To suppress this warning specify the base keyword argument.\n",
      "  \n"
     ]
    },
    {
     "data": {
      "image/png": "[encoded data removed]",
      "text/plain": [
       "<Figure size 432x288 with 2 Axes>"
      ]
     },
     "metadata": {
      "needs_background": "light"
     },
     "output_type": "display_data"
    }
   ],
   "source": [
    "plt.hist2d(x=data['trip_distance'],\n",
    "          y=data['total_amount'],\n",
    "          weights=data['passenger_count'],\n",
    "          bins = graphBins,\n",
    "          cmap = 'RdPu',\n",
    "          norm = mpl_colors.SymLogNorm(10))\n",
    "cb = plt.colorbar()\n",
    "cb.set_label('passenger count')"
   ]
  },
  {
   "cell_type": "markdown",
   "id": "63ac2333",
   "metadata": {},
   "source": [
    "Great, this is much better for both the graph. We are now getting an mimic of our scatter plot on the heat map.\n",
    "\n",
    "Now we would create the hist2d function to help us in the later stage"
   ]
  },
  {
   "cell_type": "markdown",
   "id": "9ff3f2e4",
   "metadata": {},
   "source": [
    "Grouped data:"
   ]
  },
  {
   "cell_type": "code",
   "execution_count": 71,
   "id": "48b2d3d2",
   "metadata": {},
   "outputs": [
    {
     "data": {
      "text/plain": [
       "array([[ 331.,    0.,    0.,    0.,    0.,    0.,    0.,    0.,    0.,\n",
       "           0.,    0.,    0.,    0.,    0.,    0.,    0.,    0.,    0.,\n",
       "           0.,    0.],\n",
       "       [   0.,    0.,    0.,    0.,    0.,    0.,    0.,    0.,    0.,\n",
       "           0.,    0.,    0.,    0.,    0.,    0.,    0.,    0.,    0.,\n",
       "           0.,    0.],\n",
       "       [   0.,    0.,  436.,  460.,    0.,  554.,    0.,    0.,    0.,\n",
       "           0.,    0.,    0.,    0.,    0.,    0.,    0.,    0.,    0.,\n",
       "           0.,    0.],\n",
       "       [   0.,  320.,    0.,    0.,    0.,    0.,    0.,    0.,    0.,\n",
       "           0.,    0.,    0.,    0.,    0.,    0.,    0.,    0.,    0.,\n",
       "           0.,    0.],\n",
       "       [   0.,    0.,    0.,    0.,  405.,    0.,    0.,    0.,    0.,\n",
       "           0.,    0.,    0.,    0.,    0.,    0.,    0.,    0.,    0.,\n",
       "           0.,    0.],\n",
       "       [   0.,    0.,  423.,    0.,    0.,    0.,    0.,    0.,    0.,\n",
       "           0.,    0.,    0.,    0.,    0.,    0.,    0.,    0.,    0.,\n",
       "           0.,    0.],\n",
       "       [   0.,    0.,    0.,    0.,    0.,  493.,  493.,    0.,    0.,\n",
       "           0.,    0.,    0.,    0.,    0.,    0.,    0.,    0.,    0.,\n",
       "           0.,    0.],\n",
       "       [   0.,    0.,    0.,    0.,    0.,    0.,    0.,    0.,    0.,\n",
       "           0.,    0.,    0.,    0.,    0.,    0.,    0.,    0.,    0.,\n",
       "           0.,    0.],\n",
       "       [   0.,    0.,    0.,    0.,    0.,    0.,  457.,  484.,    0.,\n",
       "        1150.,    0.,  585.,    0.,    0.,    0.,    0.,    0.,    0.,\n",
       "           0.,    0.],\n",
       "       [   0.,    0.,    0.,    0.,    0.,    0.,    0.,    0.,    0.,\n",
       "           0., 1169.,    0.,    0.,    0.,    0.,    0.,    0.,    0.,\n",
       "           0.,    0.],\n",
       "       [   0.,    0.,    0.,    0.,    0.,    0.,    0.,    0.,    0.,\n",
       "           0.,    0.,    0.,  609.,    0.,    0.,    0.,    0.,    0.,\n",
       "           0.,    0.],\n",
       "       [   0.,    0.,    0.,    0.,    0.,    0.,    0.,    0.,    0.,\n",
       "           0.,    0.,    0.,    0.,    0.,    0.,    0.,    0.,    0.,\n",
       "           0.,    0.],\n",
       "       [   0.,    0.,    0.,    0.,    0.,    0.,    0.,    0.,    0.,\n",
       "           0.,    0.,    0.,  628.,  670.,    0.,    0.,    0.,    0.,\n",
       "           0.,    0.],\n",
       "       [   0.,    0.,    0.,    0.,    0.,    0.,    0.,    0.,    0.,\n",
       "           0.,    0.,    0.,    0.,    0.,  598.,    0.,    0.,    0.,\n",
       "           0.,    0.],\n",
       "       [   0.,    0.,    0.,    0.,    0.,    0.,    0.,    0.,    0.,\n",
       "           0.,    0.,    0.,    0.,  591.,    0., 2040.,    0.,  728.,\n",
       "           0.,    0.],\n",
       "       [   0.,    0.,    0.,    0.,    0.,    0.,    0.,    0.,    0.,\n",
       "           0.,    0.,    0.,    0.,    0.,    0.,    0.,    0.,    0.,\n",
       "           0.,    0.],\n",
       "       [   0.,    0.,    0.,    0.,    0.,    0.,    0.,    0.,    0.,\n",
       "           0.,    0.,    0.,    0.,    0.,    0.,  620.,  681.,  629.,\n",
       "           0.,    0.],\n",
       "       [   0.,    0.,    0.,    0.,    0.,    0.,    0.,    0.,    0.,\n",
       "           0.,    0.,    0.,    0.,    0.,    0.,    0.,    0.,    0.,\n",
       "           0.,    0.],\n",
       "       [   0.,    0.,    0.,    0.,    0.,    0.,    0.,    0.,    0.,\n",
       "           0.,    0.,    0.,    0.,    0.,    0.,    0.,  703.,    0.,\n",
       "           0.,  679.],\n",
       "       [   0.,    0.,    0.,    0.,    0.,    0.,    0.,    0.,    0.,\n",
       "           0.,    0.,    0.,    0.,    0.,    0.,    0.,    0.,    0.,\n",
       "           0.,  761.]])"
      ]
     },
     "execution_count": 71,
     "metadata": {},
     "output_type": "execute_result"
    }
   ],
   "source": [
    "ntrip_distance = 20\n",
    "ntotal_payment = 20\n",
    "\n",
    "hist2d, trip_edges, pay_edges = np.histogram2d(grouped_trip_distance,\n",
    "                                              grouped_total_amount,\n",
    "                                              weights=grouped_passenger_count,\n",
    "                                              bins = [ntrip_distance, ntotal_payment])\n",
    "\n",
    "hist2d"
   ]
  },
  {
   "cell_type": "markdown",
   "id": "921da632",
   "metadata": {},
   "source": [
    "Individual data:"
   ]
  },
  {
   "cell_type": "code",
   "execution_count": 74,
   "id": "80a21e82",
   "metadata": {},
   "outputs": [
    {
     "data": {
      "text/plain": [
       "array([[9.257e+03, 3.243e+03, 2.300e+01, 2.000e+00, 2.000e+00, 0.000e+00,\n",
       "        0.000e+00, 0.000e+00, 0.000e+00, 0.000e+00, 0.000e+00, 0.000e+00,\n",
       "        0.000e+00, 0.000e+00, 0.000e+00, 0.000e+00, 0.000e+00, 0.000e+00,\n",
       "        0.000e+00, 0.000e+00],\n",
       "       [8.500e+01, 2.981e+03, 1.290e+02, 2.000e+00, 0.000e+00, 0.000e+00,\n",
       "        0.000e+00, 1.000e+00, 0.000e+00, 0.000e+00, 0.000e+00, 0.000e+00,\n",
       "        0.000e+00, 0.000e+00, 0.000e+00, 0.000e+00, 0.000e+00, 0.000e+00,\n",
       "        0.000e+00, 0.000e+00],\n",
       "       [0.000e+00, 4.160e+02, 4.430e+02, 1.000e+00, 1.000e+00, 1.000e+00,\n",
       "        0.000e+00, 0.000e+00, 0.000e+00, 0.000e+00, 0.000e+00, 0.000e+00,\n",
       "        0.000e+00, 0.000e+00, 0.000e+00, 0.000e+00, 0.000e+00, 0.000e+00,\n",
       "        0.000e+00, 0.000e+00]])"
      ]
     },
     "execution_count": 74,
     "metadata": {},
     "output_type": "execute_result"
    }
   ],
   "source": [
    "ntrip_distance = 20\n",
    "ntotal_payment = 20\n",
    "\n",
    "hist2d, trip_edges, pay_edges = np.histogram2d(data['trip_distance'],\n",
    "                                              data['total_amount'],\n",
    "                                              weights=data['passenger_count'],\n",
    "                                              bins = [ntrip_distance, ntotal_payment])\n",
    "\n",
    "hist2d[:3]"
   ]
  },
  {
   "cell_type": "code",
   "execution_count": null,
   "id": "e01bbfc8",
   "metadata": {},
   "outputs": [],
   "source": [
    "hist2d.max(), hist2d.min()"
   ]
  },
  {
   "cell_type": "code",
   "execution_count": null,
   "id": "6f644979",
   "metadata": {},
   "outputs": [],
   "source": [
    "plt.imshow(hist2d, cmap='RdPu', norm = mpl_colors.SymLogNorm(10))"
   ]
  },
  {
   "cell_type": "code",
   "execution_count": null,
   "id": "2a3659aa",
   "metadata": {},
   "outputs": [],
   "source": [
    "plt.imshow(hist2d.T, cmap='RdPu', norm=mpl_colors.SymLogNorm(10))"
   ]
  },
  {
   "cell_type": "code",
   "execution_count": null,
   "id": "468e795a",
   "metadata": {},
   "outputs": [],
   "source": [
    "hist2d, trip_edges, pay_edges = np.histogram2d(x=grouped_trip_distance,\n",
    "                                              y=grouped_total_amount,\n",
    "                                              weights=grouped_passenger_count,\n",
    "                                               density = True,\n",
    "                                              bins = [ntrip_distance, ntotal_payment])\n",
    "\n",
    "hist2d.max(), hist2d.min()"
   ]
  },
  {
   "cell_type": "code",
   "execution_count": null,
   "id": "3202af1b",
   "metadata": {},
   "outputs": [],
   "source": [
    "hist2d.shape, trip_edges.shape, pay_edges.shape"
   ]
  },
  {
   "cell_type": "code",
   "execution_count": null,
   "id": "ff47b7a9",
   "metadata": {},
   "outputs": [],
   "source": [
    "trip_centers = (trip_edges[:-1] + trip_edges[1:]) / 2\n",
    "trip_centers"
   ]
  },
  {
   "cell_type": "code",
   "execution_count": null,
   "id": "08cfc20b",
   "metadata": {},
   "outputs": [],
   "source": [
    "pay_centers = (pay_edges[:-1] + pay_edges[1:]) / 2\n",
    "pay_centers"
   ]
  },
  {
   "cell_type": "code",
   "execution_count": null,
   "id": "8e6f0948",
   "metadata": {},
   "outputs": [],
   "source": [
    "trip_centers.min(), trip_centers.max(), pay_centers.min(), pay_centers.max()"
   ]
  },
  {
   "cell_type": "code",
   "execution_count": null,
   "id": "77d31e4c",
   "metadata": {},
   "outputs": [],
   "source": [
    "trip_bins = np.linspace(trip_centers.min(), trip_centers.max(), ntrip_distance + 1)\n",
    "pay_bins = np.linspace(pay_centers.min(), pay_centers.max(), ntotal_payment + 1)\n",
    "print(trip_bins, trip_bins.shape)\n",
    "print(pay_bins, pay_bins.shape)"
   ]
  },
  {
   "cell_type": "code",
   "execution_count": null,
   "id": "43af2886",
   "metadata": {},
   "outputs": [],
   "source": [
    "hist2d, trip_edges, pay_edges = np.histogram2d(grouped_trip_distance,\n",
    "                                              grouped_total_amount,\n",
    "                                              weights=grouped_passenger_count,\n",
    "                                              bins = [trip_bins, pay_bins])\n",
    "\n",
    "hist2d.max(), hist2d.min()"
   ]
  },
  {
   "cell_type": "code",
   "execution_count": null,
   "id": "73c1bead",
   "metadata": {},
   "outputs": [],
   "source": [
    "trip_centers = (trip_edges[:-1] + trip_edges[1:]) / 2\n",
    "pay_centers = (pay_edges[:-1] + pay_edges[1:]) / 2"
   ]
  },
  {
   "cell_type": "code",
   "execution_count": null,
   "id": "3c35556f",
   "metadata": {},
   "outputs": [],
   "source": [
    "hist2d = hist2d.T"
   ]
  },
  {
   "cell_type": "code",
   "execution_count": null,
   "id": "7bc38432",
   "metadata": {},
   "outputs": [],
   "source": [
    "hist2d.min(), hist2d.max(), hist2d[hist2d>0].min()"
   ]
  },
  {
   "cell_type": "code",
   "execution_count": null,
   "id": "8d825ff3",
   "metadata": {},
   "outputs": [],
   "source": [
    "np.log10(hist2d).min()"
   ]
  },
  {
   "cell_type": "code",
   "execution_count": null,
   "id": "119ba21c",
   "metadata": {},
   "outputs": [],
   "source": [
    "hist2d[hist2d <= 0] = np.nan\n",
    "hist2d = np.log10(hist2d)\n",
    "hist2d[:10]"
   ]
  },
  {
   "cell_type": "markdown",
   "id": "499dcfc4",
   "metadata": {},
   "source": [
    "### Convert the binning and reshaping into a function"
   ]
  },
  {
   "cell_type": "code",
   "execution_count": null,
   "id": "2b3d5254",
   "metadata": {},
   "outputs": [],
   "source": [
    "def generate_histogram_from_trip_pay(data, ntrip=20, npay=20, tripmin=919.185, tripmax=1608.695,\n",
    "                                     paymin=4915.28975, paymax=10129.26025,\n",
    "                                     takeLog=True):\n",
    "    trip_bins = np.linspace(tripmin, tripmax, ntrip+1)\n",
    "    pay_bins = np.linspace(paymin, paymax, npay+1)\n",
    "    hist2d, trip_edges, pay_edges = np.histogram2d(grouped_trip_distance,\n",
    "                                                  grouped_total_amount,\n",
    "                                                  weights=grouped_passenger_count,\n",
    "                                                  bins = [trip_bins, pay_bins])\n",
    "    hist2d = hist2d.T\n",
    "    if takeLog:\n",
    "        hist2d[hist2d <= 0] = np.nan # set zeros to NaNs\n",
    "        # then take log\n",
    "        hist2d = np.log10(hist2d)\n",
    "        trip_centers = (trip_edges[:-1] + trip_edges[1:]) / 2\n",
    "        pay_centers = (pay_edges[:-1] + pay_edges[1:]) / 2\n",
    "    return hist2d, trip_centers, pay_centers, trip_edges, pay_edges"
   ]
  },
  {
   "cell_type": "markdown",
   "id": "4be67db0",
   "metadata": {},
   "source": [
    "Now we would just use the function"
   ]
  },
  {
   "cell_type": "code",
   "execution_count": null,
   "id": "2adce6a6",
   "metadata": {},
   "outputs": [],
   "source": [
    "hist2d, trip_centers, pay_centers, trip_edges, pay_edges = generate_histogram_from_trip_pay(data)"
   ]
  },
  {
   "cell_type": "markdown",
   "id": "432a8aac",
   "metadata": {},
   "source": [
    "Good, finally we can take a look at the heatmap"
   ]
  },
  {
   "cell_type": "code",
   "execution_count": null,
   "id": "dd9c683b",
   "metadata": {},
   "outputs": [],
   "source": [
    "col_sc = bqplot.ColorScale(scheme=\"RdPu\",\n",
    "                          min = np.nanmin(hist2d),\n",
    "                          max = np.nanmax(hist2d))\n",
    "x_sc = bqplot.LinearScale()\n",
    "y_sc = bqplot.LinearScale()\n",
    "\n",
    "# create axis\n",
    "c_ax = bqplot.ColorAxis(scale=col_sc, \n",
    "                        orientation='vertical', \n",
    "                       side = 'right')\n",
    "x_ax = bqplot.Axis(scale = x_sc, label='Trip Distance')\n",
    "y_ax = bqplot.Axis(scale = y_sc, \n",
    "                   label = 'Total Payment', \n",
    "                  orientation='vertical',\n",
    "                  label_offset = \"45px\")\n",
    "\n",
    "heat_map = bqplot.GridHeatMap(color = hist2d,\n",
    "                             row = pay_centers,\n",
    "                             column = trip_centers,\n",
    "                             scales = {'color':col_sc,\n",
    "                                      'row':y_sc,\n",
    "                                      'column':x_sc},\n",
    "                             interactions = {'click':'select'},\n",
    "                             anchor_style = {'fill':'blue'},\n",
    "                             selected_style = {'opacity':1.0},\n",
    "                             unselected_style = {'opacity':1.0})\n",
    "\n",
    "# show the fig\n",
    "fig = bqplot.Figure(marks = [heat_map], axes = [c_ax, y_ax, x_ax])\n",
    "fig"
   ]
  },
  {
   "cell_type": "markdown",
   "id": "c997dff1",
   "metadata": {},
   "source": [
    "Finally, we can build up a dashboard"
   ]
  },
  {
   "cell_type": "code",
   "execution_count": null,
   "id": "3890577b",
   "metadata": {},
   "outputs": [],
   "source": [
    "# scales\n",
    "col_sc = bqplot.ColorScale(scheme=\"RdPu\",\n",
    "                          min = np.nanmin(hist2d),\n",
    "                          max = np.nanmax(hist2d))\n",
    "x_sc = bqplot.LinearScale()\n",
    "y_sc = bqplot.LinearScale()\n",
    "\n",
    "# create axis\n",
    "c_ax = bqplot.ColorAxis(scale=col_sc, \n",
    "                        orientation='vertical', \n",
    "                       side = 'right')\n",
    "x_ax = bqplot.Axis(scale = x_sc, label='Trip Distance')\n",
    "y_ax = bqplot.Axis(scale = y_sc, \n",
    "                   label = 'Total Payment', \n",
    "                  orientation='vertical',\n",
    "                  label_offset = \"45px\")\n",
    "\n",
    "# marks\n",
    "heat_map = bqplot.GridHeatMap(color = hist2d,\n",
    "                             row = pay_centers,\n",
    "                             column = trip_centers,\n",
    "                             scales = {'color':col_sc,\n",
    "                                      'row':y_sc,\n",
    "                                      'column':x_sc},\n",
    "                             interactions = {'click':'select'},\n",
    "                             anchor_style = {'fill':'blue'},\n",
    "                             selected_style = {'opacity':1.0},\n",
    "                             unselected_style = {'opacity':1.0})\n",
    "\n",
    "# interaction:\n",
    "mySelectedLabel = ipywidgets.Label()\n",
    "def get_data_value(change):\n",
    "    if len(change['owner'].selected) == 1:\n",
    "        i, j = change['owner'].selected[0]\n",
    "        v = hist2d[i, j]\n",
    "        mySelectedLabel.value = \"Passenger Count in log \" + str(v)\n",
    "        \n",
    "heat_map.observe(get_data_value, 'selected')\n",
    "\n",
    "# show the fig\n",
    "fig = bqplot.Figure(marks = [heat_map], axes = [c_ax, y_ax, x_ax])\n",
    "myDashboard = ipywidgets.VBox([mySelectedLabel, fig])\n",
    "myDashboard"
   ]
  },
  {
   "cell_type": "markdown",
   "id": "5c1daefd",
   "metadata": {},
   "source": [
    "## Scatter plot + heatmap + DashBoard\n",
    "\n",
    "Great, now we could connect our graphs together"
   ]
  },
  {
   "cell_type": "code",
   "execution_count": null,
   "id": "c2963130",
   "metadata": {},
   "outputs": [],
   "source": [
    "# Create the label\n",
    "mySelectedLabel = ipywidgets.Label()"
   ]
  },
  {
   "cell_type": "markdown",
   "id": "28fe46b0",
   "metadata": {},
   "source": [
    "### Heat Map first~"
   ]
  },
  {
   "cell_type": "code",
   "execution_count": null,
   "id": "4c15ccc7",
   "metadata": {},
   "outputs": [],
   "source": [
    "# scales\n",
    "col_sc = bqplot.ColorScale(scheme=\"RdPu\",\n",
    "                          min = np.nanmin(hist2d),\n",
    "                          max = np.nanmax(hist2d))\n",
    "x_sc = bqplot.LinearScale()\n",
    "y_sc = bqplot.LinearScale()\n",
    "\n",
    "# create axis\n",
    "c_ax = bqplot.ColorAxis(scale=col_sc, \n",
    "                        orientation='vertical', \n",
    "                       side = 'right')\n",
    "x_ax = bqplot.Axis(scale = x_sc, label='Trip Distance')\n",
    "y_ax = bqplot.Axis(scale = y_sc, \n",
    "                   label = 'Total Payment', \n",
    "                  orientation='vertical',\n",
    "                  label_offset = \"45px\")\n",
    "\n",
    "# marks\n",
    "heat_map = bqplot.GridHeatMap(color = hist2d,\n",
    "                             row = pay_centers,\n",
    "                             column = trip_centers,\n",
    "                             scales = {'color':col_sc,\n",
    "                                      'row':y_sc,\n",
    "                                      'column':x_sc},\n",
    "                             interactions = {'click':'select'},\n",
    "                             anchor_style = {'fill':'blue'},\n",
    "                             selected_style = {'opacity':1.0},\n",
    "                             unselected_style = {'opacity':1.0})"
   ]
  },
  {
   "cell_type": "markdown",
   "id": "cb0f3a0e",
   "metadata": {},
   "source": [
    "### Then scatter plot"
   ]
  },
  {
   "cell_type": "code",
   "execution_count": null,
   "id": "0140063b",
   "metadata": {},
   "outputs": [],
   "source": [
    "data['pickup_date'].min(), data['pickup_date'].max()"
   ]
  },
  {
   "cell_type": "code",
   "execution_count": null,
   "id": "5e391ec6",
   "metadata": {},
   "outputs": [],
   "source": [
    "# scales\n",
    "x_scl = bqplot.DateScale()\n",
    "y_scl = bqplot.LogScale()\n",
    "\n",
    "# axis\n",
    "ax_xcl = bqplot.Axis(label = \"Date\", scale=x_scl)\n",
    "ax_ycl = bqplot.Axis(label = 'Passenger Count in Log', scale = y_scl,\n",
    "                    orientation = 'vertical', side = 'left')\n",
    "\n",
    "# Start with an default data - just randomly picked one\n",
    "i, j = 15, 0\n",
    "trips = [trip_edges[j], trip_edges[j+1]]\n",
    "pays = [pay_edges[i], pay_edges[i+1]]\n",
    "pass_scatt = bqplot.Scatter(x=data['pickup_date'],\n",
    "                               y=data['passenger_count'],\n",
    "                               scales = {'x':x_scl, 'y':y_scl})"
   ]
  },
  {
   "cell_type": "markdown",
   "id": "a98b34e0",
   "metadata": {},
   "source": [
    "Define the interaction function~"
   ]
  },
  {
   "cell_type": "code",
   "execution_count": null,
   "id": "8044abe8",
   "metadata": {},
   "outputs": [],
   "source": [
    "def get_data_value(change):\n",
    "    if len(change['owner'].selected) == 1:\n",
    "        i, j = change['owner'].selected[0]\n",
    "        v = hist2d[i, j]\n",
    "        mySelectedLabel.value = \"Passenger Count \" + str(v)\n",
    "        trips = [trip_edges[j], trip_edges[j+1]]\n",
    "        pays = [pay_edges[i], pay_edges[i+1]]\n",
    "        region_mask = ((data['total_amount'] >= pays[0]) & (data['total_amount']<=pays[1]) &\\\n",
    "                    (data['trip_distance'] >= trips[0]) & (data['trip_distance']<=trips[1]) )\n",
    "        pass_scatt = bqplot.Scatter(x=data['pickup_date'][region_mask],\n",
    "                               y=data['passenger_count'][region_mask],\n",
    "                               scales = {'x':x_scl, 'y':y_scl})\n",
    "        \n",
    "heat_map.observe(get_data_value, 'selected')"
   ]
  },
  {
   "cell_type": "code",
   "execution_count": null,
   "id": "86d07a9f",
   "metadata": {},
   "outputs": [],
   "source": [
    "region_mask = ((data['total_amount'] >= pays[0]) & (data['total_amount']<=pays[1]) &\\\n",
    "                    (data['trip_distance'] >= trips[0]) & (data['trip_distance']<=trips[1]) )\n",
    "\n",
    "pays[1]"
   ]
  },
  {
   "cell_type": "code",
   "execution_count": null,
   "id": "f25c21d3",
   "metadata": {},
   "outputs": [],
   "source": [
    "# (5) create figures\n",
    "fig_heatmap = bqplot.Figure(marks = [heat_map], axes = [c_ax, y_ax, x_ax])\n",
    "fig_pass = bqplot.Figure(marks = [pass_scatt], axes = [ax_xcl, ax_ycl])"
   ]
  },
  {
   "cell_type": "code",
   "execution_count": null,
   "id": "838384b5",
   "metadata": {},
   "outputs": [],
   "source": [
    "fig_heatmap.layout.min_width='500px'\n",
    "fig_pass.layout.min_width='500px'\n",
    "\n",
    "myDashboard = ipywidgets.VBox([mySelectedLabel, ipywidgets.HBox([fig_heatmap,fig_pass])])\n",
    "myDashboard"
   ]
  }
 ],
 "metadata": {
  "kernelspec": {
   "display_name": "Python 3 (ipykernel)",
   "language": "python",
   "name": "python3"
  },
  "language_info": {
   "codemirror_mode": {
    "name": "ipython",
    "version": 3
   },
   "file_extension": ".py",
   "mimetype": "text/x-python",
   "name": "python",
   "nbconvert_exporter": "python",
   "pygments_lexer": "ipython3",
   "version": "3.7.12"
  }
 },
 "nbformat": 4,
 "nbformat_minor": 5
}
