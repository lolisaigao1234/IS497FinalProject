{
 "cells": [
  {
   "cell_type": "markdown",
   "id": "a4aee0c7",
   "metadata": {},
   "source": [
    "# Rocky Wu - jywu3"
   ]
  },
  {
   "cell_type": "markdown",
   "id": "72c6689d",
   "metadata": {},
   "source": [
    "As usual, import the packages we want"
   ]
  },
  {
   "cell_type": "code",
   "execution_count": 1,
   "id": "60ed5396",
   "metadata": {},
   "outputs": [],
   "source": [
    "import pandas as pd\n",
    "import numpy as np\n",
    "import matplotlib.pyplot as plt\n",
    "import ipywidgets\n",
    "import bqplot\n",
    "import matplotlib.colors as mpl_colors"
   ]
  },
  {
   "cell_type": "markdown",
   "id": "dfc896c1",
   "metadata": {},
   "source": [
    "Set the seed for the down sampling to make sure we could reproduce the results"
   ]
  },
  {
   "cell_type": "code",
   "execution_count": 2,
   "id": "fac0e414",
   "metadata": {},
   "outputs": [],
   "source": [
    "np.random.seed(2022)"
   ]
  },
  {
   "cell_type": "markdown",
   "id": "50501576",
   "metadata": {},
   "source": [
    "### Explore the dataset:"
   ]
  },
  {
   "cell_type": "markdown",
   "id": "a902f2dd",
   "metadata": {},
   "source": [
    "The name of the dataset: Yellow Taxi trip data 2021-01 in NYC\n",
    "\n",
    "We can obtain the dataset at the TLC official site. [link towards the dataset webpage](https://www1.nyc.gov/site/tlc/about/tlc-trip-record-data.page)\n",
    "\n",
    "The link towards the dataset:\n",
    "https://s3.amazonaws.com/nyc-tlc/trip+data/yellow_tripdata_2021-01.csv\n",
    "\n",
    "Preferably, download the dataset first as the dataset is fairly large, 126MB. \n",
    "\n",
    "No identification of the license, so I am assuming we can play around with it. We do have an user guide of the dataset, but not much was mentioned on what we can do with the data. Link to the user guide: https://www1.nyc.gov/assets/tlc/downloads/pdf/trip_record_user_guide.pdf\n",
    "\n",
    "The dictionary of the dataset:https://www1.nyc.gov/assets/tlc/downloads/pdf/data_dictionary_trip_records_yellow.pdf\n",
    "\n"
   ]
  },
  {
   "cell_type": "markdown",
   "id": "c1e47089",
   "metadata": {},
   "source": [
    "#### Columns explained:\n",
    "VendorID - A code indicating the TPEP provider that provided the record. [1= Creative Mobile Technologies, LLC; 2= VeriFone Inc.]\n",
    "\n",
    "tpep_pickup_datetime - The date and time when the meter was engaged.\n",
    "\n",
    "tpep_dropoff_datetime - The date and time when the meter was disengaged.\n",
    "\n",
    "Passenger_count - The number of passengers in the vehicle. This is a driver-entered value.\n",
    "\n",
    "Trip_distance - The elapsed trip distance in miles reported by the taximeter.\n",
    "\n",
    "PULocationID - TLC Taxi Zone in which the taximeter was engaged\n",
    "\n",
    "DOLocationID - TLC Taxi Zone in which the taximeter was disengaged\n",
    "\n",
    "RateCodeID - The final rate code in effect at the end of the trip.\n",
    "[1= Standard rate, 2=JFK, 3=Newark, 4=Nassau or Westchester, 5=Negotiated fare, 6=Group ride]\n",
    "\n",
    "Store_and_fwd_flag - This flag indicates whether the trip record was held in vehicle memory before sending to the vendor, aka “store and forward,” because the vehicle did not have a connection to the server.\n",
    "[Y= store and forward trip, N= not a store and forward trip]\n",
    "\n",
    "Payment_type - A numeric code signifying how the passenger paid for the trip.\n",
    "[1= Credit card, 2= Cash, 3= No charge, 4= Dispute, 5= Unknown, 6= Voided trip]\n",
    "\n",
    "Fare_amount - The time-and-distance fare calculated by the meter.\n",
    "\n",
    "Extra - Miscellaneous extras and surcharges. Currently, this only includes the \\\\$0.50 and \\\\$1 rush hour and overnight charges.\n",
    "\n",
    "MTA_tax - \\\\$0.50 MTA tax that is automatically triggered based on the metered rate in use.\n",
    "\n",
    "Improvement_surcharge - \\\\$0.30 improvement surcharge assessed trips at the flag drop. The improvement surcharge began being levied in 2015.\n",
    "\n",
    "Tip_amount - This field is automatically populated for credit card tips. Cash tips are not included.\n",
    "\n",
    "Tolls_amount - Total amount of all tolls paid in trip.\n",
    "\n",
    "Total_amount - The total amount charged to passengers. Does not include cash tips."
   ]
  },
  {
   "cell_type": "code",
   "execution_count": 3,
   "id": "bd4df95b",
   "metadata": {
    "scrolled": false
   },
   "outputs": [],
   "source": [
    "# Original import using the link\n",
    "# data = pd.read_csv(\"https://s3.amazonaws.com/\n",
    "# nyc-tlc/trip+data/yellow_tripdata_2021-01.csv\")\n",
    "data = pd.read_csv(\"../data/yellow_tripdata_2021-01.csv\", \n",
    "                   low_memory=False)"
   ]
  },
  {
   "cell_type": "markdown",
   "id": "8b5279d6",
   "metadata": {},
   "source": [
    "There was a warning indicating the dtype conflicts in some of the columns in the dataset. Will deal with the warning in the later stage. Escaping the warning by setting low_memory = False"
   ]
  },
  {
   "cell_type": "markdown",
   "id": "75faa8e8",
   "metadata": {},
   "source": [
    "Take a look of the dataset"
   ]
  },
  {
   "cell_type": "code",
   "execution_count": 4,
   "id": "3aa505d3",
   "metadata": {
    "scrolled": true
   },
   "outputs": [
    {
     "data": {
      "text/html": [
       "<div>\n",
       "<style scoped>\n",
       "    .dataframe tbody tr th:only-of-type {\n",
       "        vertical-align: middle;\n",
       "    }\n",
       "\n",
       "    .dataframe tbody tr th {\n",
       "        vertical-align: top;\n",
       "    }\n",
       "\n",
       "    .dataframe thead th {\n",
       "        text-align: right;\n",
       "    }\n",
       "</style>\n",
       "<table border=\"1\" class=\"dataframe\">\n",
       "  <thead>\n",
       "    <tr style=\"text-align: right;\">\n",
       "      <th></th>\n",
       "      <th>VendorID</th>\n",
       "      <th>tpep_pickup_datetime</th>\n",
       "      <th>tpep_dropoff_datetime</th>\n",
       "      <th>passenger_count</th>\n",
       "      <th>trip_distance</th>\n",
       "      <th>RatecodeID</th>\n",
       "      <th>store_and_fwd_flag</th>\n",
       "      <th>PULocationID</th>\n",
       "      <th>DOLocationID</th>\n",
       "      <th>payment_type</th>\n",
       "      <th>fare_amount</th>\n",
       "      <th>extra</th>\n",
       "      <th>mta_tax</th>\n",
       "      <th>tip_amount</th>\n",
       "      <th>tolls_amount</th>\n",
       "      <th>improvement_surcharge</th>\n",
       "      <th>total_amount</th>\n",
       "      <th>congestion_surcharge</th>\n",
       "    </tr>\n",
       "  </thead>\n",
       "  <tbody>\n",
       "    <tr>\n",
       "      <th>0</th>\n",
       "      <td>1.0</td>\n",
       "      <td>2021-01-01 00:30:10</td>\n",
       "      <td>2021-01-01 00:36:12</td>\n",
       "      <td>1.0</td>\n",
       "      <td>2.10</td>\n",
       "      <td>1.0</td>\n",
       "      <td>N</td>\n",
       "      <td>142</td>\n",
       "      <td>43</td>\n",
       "      <td>2.0</td>\n",
       "      <td>8.0</td>\n",
       "      <td>3.0</td>\n",
       "      <td>0.5</td>\n",
       "      <td>0.00</td>\n",
       "      <td>0.0</td>\n",
       "      <td>0.3</td>\n",
       "      <td>11.80</td>\n",
       "      <td>2.5</td>\n",
       "    </tr>\n",
       "    <tr>\n",
       "      <th>1</th>\n",
       "      <td>1.0</td>\n",
       "      <td>2021-01-01 00:51:20</td>\n",
       "      <td>2021-01-01 00:52:19</td>\n",
       "      <td>1.0</td>\n",
       "      <td>0.20</td>\n",
       "      <td>1.0</td>\n",
       "      <td>N</td>\n",
       "      <td>238</td>\n",
       "      <td>151</td>\n",
       "      <td>2.0</td>\n",
       "      <td>3.0</td>\n",
       "      <td>0.5</td>\n",
       "      <td>0.5</td>\n",
       "      <td>0.00</td>\n",
       "      <td>0.0</td>\n",
       "      <td>0.3</td>\n",
       "      <td>4.30</td>\n",
       "      <td>0.0</td>\n",
       "    </tr>\n",
       "    <tr>\n",
       "      <th>2</th>\n",
       "      <td>1.0</td>\n",
       "      <td>2021-01-01 00:43:30</td>\n",
       "      <td>2021-01-01 01:11:06</td>\n",
       "      <td>1.0</td>\n",
       "      <td>14.70</td>\n",
       "      <td>1.0</td>\n",
       "      <td>N</td>\n",
       "      <td>132</td>\n",
       "      <td>165</td>\n",
       "      <td>1.0</td>\n",
       "      <td>42.0</td>\n",
       "      <td>0.5</td>\n",
       "      <td>0.5</td>\n",
       "      <td>8.65</td>\n",
       "      <td>0.0</td>\n",
       "      <td>0.3</td>\n",
       "      <td>51.95</td>\n",
       "      <td>0.0</td>\n",
       "    </tr>\n",
       "    <tr>\n",
       "      <th>3</th>\n",
       "      <td>1.0</td>\n",
       "      <td>2021-01-01 00:15:48</td>\n",
       "      <td>2021-01-01 00:31:01</td>\n",
       "      <td>0.0</td>\n",
       "      <td>10.60</td>\n",
       "      <td>1.0</td>\n",
       "      <td>N</td>\n",
       "      <td>138</td>\n",
       "      <td>132</td>\n",
       "      <td>1.0</td>\n",
       "      <td>29.0</td>\n",
       "      <td>0.5</td>\n",
       "      <td>0.5</td>\n",
       "      <td>6.05</td>\n",
       "      <td>0.0</td>\n",
       "      <td>0.3</td>\n",
       "      <td>36.35</td>\n",
       "      <td>0.0</td>\n",
       "    </tr>\n",
       "    <tr>\n",
       "      <th>4</th>\n",
       "      <td>2.0</td>\n",
       "      <td>2021-01-01 00:31:49</td>\n",
       "      <td>2021-01-01 00:48:21</td>\n",
       "      <td>1.0</td>\n",
       "      <td>4.94</td>\n",
       "      <td>1.0</td>\n",
       "      <td>N</td>\n",
       "      <td>68</td>\n",
       "      <td>33</td>\n",
       "      <td>1.0</td>\n",
       "      <td>16.5</td>\n",
       "      <td>0.5</td>\n",
       "      <td>0.5</td>\n",
       "      <td>4.06</td>\n",
       "      <td>0.0</td>\n",
       "      <td>0.3</td>\n",
       "      <td>24.36</td>\n",
       "      <td>2.5</td>\n",
       "    </tr>\n",
       "  </tbody>\n",
       "</table>\n",
       "</div>"
      ],
      "text/plain": [
       "   VendorID tpep_pickup_datetime tpep_dropoff_datetime  passenger_count  \\\n",
       "0       1.0  2021-01-01 00:30:10   2021-01-01 00:36:12              1.0   \n",
       "1       1.0  2021-01-01 00:51:20   2021-01-01 00:52:19              1.0   \n",
       "2       1.0  2021-01-01 00:43:30   2021-01-01 01:11:06              1.0   \n",
       "3       1.0  2021-01-01 00:15:48   2021-01-01 00:31:01              0.0   \n",
       "4       2.0  2021-01-01 00:31:49   2021-01-01 00:48:21              1.0   \n",
       "\n",
       "   trip_distance  RatecodeID store_and_fwd_flag  PULocationID  DOLocationID  \\\n",
       "0           2.10         1.0                  N           142            43   \n",
       "1           0.20         1.0                  N           238           151   \n",
       "2          14.70         1.0                  N           132           165   \n",
       "3          10.60         1.0                  N           138           132   \n",
       "4           4.94         1.0                  N            68            33   \n",
       "\n",
       "   payment_type  fare_amount  extra  mta_tax  tip_amount  tolls_amount  \\\n",
       "0           2.0          8.0    3.0      0.5        0.00           0.0   \n",
       "1           2.0          3.0    0.5      0.5        0.00           0.0   \n",
       "2           1.0         42.0    0.5      0.5        8.65           0.0   \n",
       "3           1.0         29.0    0.5      0.5        6.05           0.0   \n",
       "4           1.0         16.5    0.5      0.5        4.06           0.0   \n",
       "\n",
       "   improvement_surcharge  total_amount  congestion_surcharge  \n",
       "0                    0.3         11.80                   2.5  \n",
       "1                    0.3          4.30                   0.0  \n",
       "2                    0.3         51.95                   0.0  \n",
       "3                    0.3         36.35                   0.0  \n",
       "4                    0.3         24.36                   2.5  "
      ]
     },
     "execution_count": 4,
     "metadata": {},
     "output_type": "execute_result"
    }
   ],
   "source": [
    "data.head()"
   ]
  },
  {
   "cell_type": "markdown",
   "id": "64757ba7",
   "metadata": {},
   "source": [
    "In total 1369765 rows inside the dataset, indeed a large one."
   ]
  },
  {
   "cell_type": "code",
   "execution_count": 5,
   "id": "cb5d3dd3",
   "metadata": {},
   "outputs": [
    {
     "data": {
      "text/plain": [
       "1369765"
      ]
     },
     "execution_count": 5,
     "metadata": {},
     "output_type": "execute_result"
    }
   ],
   "source": [
    "dataLength = len(data)\n",
    "dataLength"
   ]
  },
  {
   "cell_type": "markdown",
   "id": "3dc4b0d1",
   "metadata": {},
   "source": [
    "How many columns:"
   ]
  },
  {
   "cell_type": "code",
   "execution_count": 6,
   "id": "5e113f84",
   "metadata": {},
   "outputs": [
    {
     "data": {
      "text/plain": [
       "18"
      ]
     },
     "execution_count": 6,
     "metadata": {},
     "output_type": "execute_result"
    }
   ],
   "source": [
    "len(data.columns)"
   ]
  },
  {
   "cell_type": "markdown",
   "id": "15adbbfd",
   "metadata": {},
   "source": [
    "Take a look on the columns"
   ]
  },
  {
   "cell_type": "code",
   "execution_count": 7,
   "id": "c22e3080",
   "metadata": {
    "scrolled": true
   },
   "outputs": [
    {
     "name": "stdout",
     "output_type": "stream",
     "text": [
      "VendorID\n",
      "tpep_pickup_datetime\n",
      "tpep_dropoff_datetime\n",
      "passenger_count\n",
      "trip_distance\n",
      "RatecodeID\n",
      "store_and_fwd_flag\n",
      "PULocationID\n",
      "DOLocationID\n",
      "payment_type\n",
      "fare_amount\n",
      "extra\n",
      "mta_tax\n",
      "tip_amount\n",
      "tolls_amount\n",
      "improvement_surcharge\n",
      "total_amount\n",
      "congestion_surcharge\n"
     ]
    }
   ],
   "source": [
    "for c in data.columns:\n",
    "    print(c)"
   ]
  },
  {
   "cell_type": "markdown",
   "id": "5160fa55",
   "metadata": {},
   "source": [
    "We will first downsample the dataset, else my computer could not handle the dataset"
   ]
  },
  {
   "cell_type": "code",
   "execution_count": 8,
   "id": "4b8fa3d6",
   "metadata": {},
   "outputs": [
    {
     "data": {
      "text/plain": [
       "(array([1215088,  612594,  259095, ..., 1303868,  674338,  152455]), 136976)"
      ]
     },
     "execution_count": 8,
     "metadata": {},
     "output_type": "execute_result"
    }
   ],
   "source": [
    "np.random.seed(0)\n",
    "nsamples = len(data) // 10\n",
    "downSampleMask = np.random.choice(range(len(data)-1), \n",
    "                                  nsamples, replace=False)\n",
    "downSampleMask, len(downSampleMask)"
   ]
  },
  {
   "cell_type": "code",
   "execution_count": 9,
   "id": "a6c7ddc7",
   "metadata": {},
   "outputs": [
    {
     "data": {
      "text/plain": [
       "136976"
      ]
     },
     "execution_count": 9,
     "metadata": {},
     "output_type": "execute_result"
    }
   ],
   "source": [
    "data = data.loc[downSampleMask]\n",
    "len(data)"
   ]
  },
  {
   "cell_type": "code",
   "execution_count": 10,
   "id": "5cbc212c",
   "metadata": {},
   "outputs": [
    {
     "data": {
      "text/plain": [
       "136976"
      ]
     },
     "execution_count": 10,
     "metadata": {},
     "output_type": "execute_result"
    }
   ],
   "source": [
    "dataLength = len(data)\n",
    "dataLength"
   ]
  },
  {
   "cell_type": "code",
   "execution_count": 11,
   "id": "b2329027",
   "metadata": {},
   "outputs": [
    {
     "data": {
      "text/html": [
       "<div>\n",
       "<style scoped>\n",
       "    .dataframe tbody tr th:only-of-type {\n",
       "        vertical-align: middle;\n",
       "    }\n",
       "\n",
       "    .dataframe tbody tr th {\n",
       "        vertical-align: top;\n",
       "    }\n",
       "\n",
       "    .dataframe thead th {\n",
       "        text-align: right;\n",
       "    }\n",
       "</style>\n",
       "<table border=\"1\" class=\"dataframe\">\n",
       "  <thead>\n",
       "    <tr style=\"text-align: right;\">\n",
       "      <th></th>\n",
       "      <th>VendorID</th>\n",
       "      <th>tpep_pickup_datetime</th>\n",
       "      <th>tpep_dropoff_datetime</th>\n",
       "      <th>passenger_count</th>\n",
       "      <th>trip_distance</th>\n",
       "      <th>RatecodeID</th>\n",
       "      <th>store_and_fwd_flag</th>\n",
       "      <th>PULocationID</th>\n",
       "      <th>DOLocationID</th>\n",
       "      <th>payment_type</th>\n",
       "      <th>fare_amount</th>\n",
       "      <th>extra</th>\n",
       "      <th>mta_tax</th>\n",
       "      <th>tip_amount</th>\n",
       "      <th>tolls_amount</th>\n",
       "      <th>improvement_surcharge</th>\n",
       "      <th>total_amount</th>\n",
       "      <th>congestion_surcharge</th>\n",
       "    </tr>\n",
       "  </thead>\n",
       "  <tbody>\n",
       "    <tr>\n",
       "      <th>1215088</th>\n",
       "      <td>1.0</td>\n",
       "      <td>2021-01-30 12:21:33</td>\n",
       "      <td>2021-01-30 12:26:14</td>\n",
       "      <td>0.0</td>\n",
       "      <td>1.00</td>\n",
       "      <td>1.0</td>\n",
       "      <td>N</td>\n",
       "      <td>79</td>\n",
       "      <td>107</td>\n",
       "      <td>2.0</td>\n",
       "      <td>5.5</td>\n",
       "      <td>2.5</td>\n",
       "      <td>0.5</td>\n",
       "      <td>0.00</td>\n",
       "      <td>0.0</td>\n",
       "      <td>0.3</td>\n",
       "      <td>8.80</td>\n",
       "      <td>2.5</td>\n",
       "    </tr>\n",
       "    <tr>\n",
       "      <th>612594</th>\n",
       "      <td>2.0</td>\n",
       "      <td>2021-01-16 12:23:31</td>\n",
       "      <td>2021-01-16 12:29:11</td>\n",
       "      <td>1.0</td>\n",
       "      <td>1.19</td>\n",
       "      <td>1.0</td>\n",
       "      <td>N</td>\n",
       "      <td>164</td>\n",
       "      <td>68</td>\n",
       "      <td>1.0</td>\n",
       "      <td>6.5</td>\n",
       "      <td>0.0</td>\n",
       "      <td>0.5</td>\n",
       "      <td>1.96</td>\n",
       "      <td>0.0</td>\n",
       "      <td>0.3</td>\n",
       "      <td>11.76</td>\n",
       "      <td>2.5</td>\n",
       "    </tr>\n",
       "    <tr>\n",
       "      <th>259095</th>\n",
       "      <td>2.0</td>\n",
       "      <td>2021-01-08 07:07:00</td>\n",
       "      <td>2021-01-08 07:10:36</td>\n",
       "      <td>5.0</td>\n",
       "      <td>1.07</td>\n",
       "      <td>1.0</td>\n",
       "      <td>N</td>\n",
       "      <td>114</td>\n",
       "      <td>90</td>\n",
       "      <td>1.0</td>\n",
       "      <td>5.5</td>\n",
       "      <td>0.0</td>\n",
       "      <td>0.5</td>\n",
       "      <td>1.76</td>\n",
       "      <td>0.0</td>\n",
       "      <td>0.3</td>\n",
       "      <td>10.56</td>\n",
       "      <td>2.5</td>\n",
       "    </tr>\n",
       "    <tr>\n",
       "      <th>1049052</th>\n",
       "      <td>2.0</td>\n",
       "      <td>2021-01-26 19:17:16</td>\n",
       "      <td>2021-01-26 19:33:39</td>\n",
       "      <td>3.0</td>\n",
       "      <td>2.92</td>\n",
       "      <td>1.0</td>\n",
       "      <td>N</td>\n",
       "      <td>140</td>\n",
       "      <td>238</td>\n",
       "      <td>1.0</td>\n",
       "      <td>13.0</td>\n",
       "      <td>1.0</td>\n",
       "      <td>0.5</td>\n",
       "      <td>2.00</td>\n",
       "      <td>0.0</td>\n",
       "      <td>0.3</td>\n",
       "      <td>19.30</td>\n",
       "      <td>2.5</td>\n",
       "    </tr>\n",
       "    <tr>\n",
       "      <th>220625</th>\n",
       "      <td>2.0</td>\n",
       "      <td>2021-01-07 10:13:49</td>\n",
       "      <td>2021-01-07 10:16:42</td>\n",
       "      <td>1.0</td>\n",
       "      <td>0.74</td>\n",
       "      <td>1.0</td>\n",
       "      <td>N</td>\n",
       "      <td>246</td>\n",
       "      <td>68</td>\n",
       "      <td>1.0</td>\n",
       "      <td>4.5</td>\n",
       "      <td>0.0</td>\n",
       "      <td>0.5</td>\n",
       "      <td>0.00</td>\n",
       "      <td>0.0</td>\n",
       "      <td>0.3</td>\n",
       "      <td>7.80</td>\n",
       "      <td>2.5</td>\n",
       "    </tr>\n",
       "    <tr>\n",
       "      <th>...</th>\n",
       "      <td>...</td>\n",
       "      <td>...</td>\n",
       "      <td>...</td>\n",
       "      <td>...</td>\n",
       "      <td>...</td>\n",
       "      <td>...</td>\n",
       "      <td>...</td>\n",
       "      <td>...</td>\n",
       "      <td>...</td>\n",
       "      <td>...</td>\n",
       "      <td>...</td>\n",
       "      <td>...</td>\n",
       "      <td>...</td>\n",
       "      <td>...</td>\n",
       "      <td>...</td>\n",
       "      <td>...</td>\n",
       "      <td>...</td>\n",
       "      <td>...</td>\n",
       "    </tr>\n",
       "    <tr>\n",
       "      <th>434599</th>\n",
       "      <td>2.0</td>\n",
       "      <td>2021-01-12 14:05:52</td>\n",
       "      <td>2021-01-12 14:36:08</td>\n",
       "      <td>1.0</td>\n",
       "      <td>12.89</td>\n",
       "      <td>1.0</td>\n",
       "      <td>N</td>\n",
       "      <td>263</td>\n",
       "      <td>228</td>\n",
       "      <td>1.0</td>\n",
       "      <td>36.5</td>\n",
       "      <td>0.0</td>\n",
       "      <td>0.5</td>\n",
       "      <td>1.99</td>\n",
       "      <td>0.0</td>\n",
       "      <td>0.3</td>\n",
       "      <td>41.79</td>\n",
       "      <td>2.5</td>\n",
       "    </tr>\n",
       "    <tr>\n",
       "      <th>509440</th>\n",
       "      <td>2.0</td>\n",
       "      <td>2021-01-14 08:48:17</td>\n",
       "      <td>2021-01-14 08:56:49</td>\n",
       "      <td>1.0</td>\n",
       "      <td>0.77</td>\n",
       "      <td>1.0</td>\n",
       "      <td>N</td>\n",
       "      <td>263</td>\n",
       "      <td>141</td>\n",
       "      <td>1.0</td>\n",
       "      <td>7.0</td>\n",
       "      <td>0.0</td>\n",
       "      <td>0.5</td>\n",
       "      <td>2.58</td>\n",
       "      <td>0.0</td>\n",
       "      <td>0.3</td>\n",
       "      <td>12.88</td>\n",
       "      <td>2.5</td>\n",
       "    </tr>\n",
       "    <tr>\n",
       "      <th>1303868</th>\n",
       "      <td>NaN</td>\n",
       "      <td>2021-01-08 13:01:50</td>\n",
       "      <td>2021-01-08 13:01:05</td>\n",
       "      <td>NaN</td>\n",
       "      <td>0.40</td>\n",
       "      <td>NaN</td>\n",
       "      <td>NaN</td>\n",
       "      <td>265</td>\n",
       "      <td>188</td>\n",
       "      <td>NaN</td>\n",
       "      <td>15.2</td>\n",
       "      <td>0.0</td>\n",
       "      <td>0.5</td>\n",
       "      <td>0.00</td>\n",
       "      <td>0.0</td>\n",
       "      <td>0.3</td>\n",
       "      <td>16.00</td>\n",
       "      <td>0.0</td>\n",
       "    </tr>\n",
       "    <tr>\n",
       "      <th>674338</th>\n",
       "      <td>1.0</td>\n",
       "      <td>2021-01-18 10:49:15</td>\n",
       "      <td>2021-01-18 11:00:07</td>\n",
       "      <td>3.0</td>\n",
       "      <td>1.90</td>\n",
       "      <td>1.0</td>\n",
       "      <td>N</td>\n",
       "      <td>90</td>\n",
       "      <td>79</td>\n",
       "      <td>1.0</td>\n",
       "      <td>9.5</td>\n",
       "      <td>2.5</td>\n",
       "      <td>0.5</td>\n",
       "      <td>2.55</td>\n",
       "      <td>0.0</td>\n",
       "      <td>0.3</td>\n",
       "      <td>15.35</td>\n",
       "      <td>2.5</td>\n",
       "    </tr>\n",
       "    <tr>\n",
       "      <th>152455</th>\n",
       "      <td>1.0</td>\n",
       "      <td>2021-01-05 17:57:31</td>\n",
       "      <td>2021-01-05 18:05:04</td>\n",
       "      <td>1.0</td>\n",
       "      <td>1.40</td>\n",
       "      <td>1.0</td>\n",
       "      <td>N</td>\n",
       "      <td>161</td>\n",
       "      <td>234</td>\n",
       "      <td>1.0</td>\n",
       "      <td>7.5</td>\n",
       "      <td>3.5</td>\n",
       "      <td>0.5</td>\n",
       "      <td>3.50</td>\n",
       "      <td>0.0</td>\n",
       "      <td>0.3</td>\n",
       "      <td>15.30</td>\n",
       "      <td>2.5</td>\n",
       "    </tr>\n",
       "  </tbody>\n",
       "</table>\n",
       "<p>136976 rows × 18 columns</p>\n",
       "</div>"
      ],
      "text/plain": [
       "         VendorID tpep_pickup_datetime tpep_dropoff_datetime  passenger_count  \\\n",
       "1215088       1.0  2021-01-30 12:21:33   2021-01-30 12:26:14              0.0   \n",
       "612594        2.0  2021-01-16 12:23:31   2021-01-16 12:29:11              1.0   \n",
       "259095        2.0  2021-01-08 07:07:00   2021-01-08 07:10:36              5.0   \n",
       "1049052       2.0  2021-01-26 19:17:16   2021-01-26 19:33:39              3.0   \n",
       "220625        2.0  2021-01-07 10:13:49   2021-01-07 10:16:42              1.0   \n",
       "...           ...                  ...                   ...              ...   \n",
       "434599        2.0  2021-01-12 14:05:52   2021-01-12 14:36:08              1.0   \n",
       "509440        2.0  2021-01-14 08:48:17   2021-01-14 08:56:49              1.0   \n",
       "1303868       NaN  2021-01-08 13:01:50   2021-01-08 13:01:05              NaN   \n",
       "674338        1.0  2021-01-18 10:49:15   2021-01-18 11:00:07              3.0   \n",
       "152455        1.0  2021-01-05 17:57:31   2021-01-05 18:05:04              1.0   \n",
       "\n",
       "         trip_distance  RatecodeID store_and_fwd_flag  PULocationID  \\\n",
       "1215088           1.00         1.0                  N            79   \n",
       "612594            1.19         1.0                  N           164   \n",
       "259095            1.07         1.0                  N           114   \n",
       "1049052           2.92         1.0                  N           140   \n",
       "220625            0.74         1.0                  N           246   \n",
       "...                ...         ...                ...           ...   \n",
       "434599           12.89         1.0                  N           263   \n",
       "509440            0.77         1.0                  N           263   \n",
       "1303868           0.40         NaN                NaN           265   \n",
       "674338            1.90         1.0                  N            90   \n",
       "152455            1.40         1.0                  N           161   \n",
       "\n",
       "         DOLocationID  payment_type  fare_amount  extra  mta_tax  tip_amount  \\\n",
       "1215088           107           2.0          5.5    2.5      0.5        0.00   \n",
       "612594             68           1.0          6.5    0.0      0.5        1.96   \n",
       "259095             90           1.0          5.5    0.0      0.5        1.76   \n",
       "1049052           238           1.0         13.0    1.0      0.5        2.00   \n",
       "220625             68           1.0          4.5    0.0      0.5        0.00   \n",
       "...               ...           ...          ...    ...      ...         ...   \n",
       "434599            228           1.0         36.5    0.0      0.5        1.99   \n",
       "509440            141           1.0          7.0    0.0      0.5        2.58   \n",
       "1303868           188           NaN         15.2    0.0      0.5        0.00   \n",
       "674338             79           1.0          9.5    2.5      0.5        2.55   \n",
       "152455            234           1.0          7.5    3.5      0.5        3.50   \n",
       "\n",
       "         tolls_amount  improvement_surcharge  total_amount  \\\n",
       "1215088           0.0                    0.3          8.80   \n",
       "612594            0.0                    0.3         11.76   \n",
       "259095            0.0                    0.3         10.56   \n",
       "1049052           0.0                    0.3         19.30   \n",
       "220625            0.0                    0.3          7.80   \n",
       "...               ...                    ...           ...   \n",
       "434599            0.0                    0.3         41.79   \n",
       "509440            0.0                    0.3         12.88   \n",
       "1303868           0.0                    0.3         16.00   \n",
       "674338            0.0                    0.3         15.35   \n",
       "152455            0.0                    0.3         15.30   \n",
       "\n",
       "         congestion_surcharge  \n",
       "1215088                   2.5  \n",
       "612594                    2.5  \n",
       "259095                    2.5  \n",
       "1049052                   2.5  \n",
       "220625                    2.5  \n",
       "...                       ...  \n",
       "434599                    2.5  \n",
       "509440                    2.5  \n",
       "1303868                   0.0  \n",
       "674338                    2.5  \n",
       "152455                    2.5  \n",
       "\n",
       "[136976 rows x 18 columns]"
      ]
     },
     "execution_count": 11,
     "metadata": {},
     "output_type": "execute_result"
    }
   ],
   "source": [
    "data"
   ]
  },
  {
   "cell_type": "markdown",
   "id": "3a6b9435",
   "metadata": {},
   "source": [
    "### Explore the values inside each column"
   ]
  },
  {
   "cell_type": "markdown",
   "id": "77570725",
   "metadata": {},
   "source": [
    "The below prints out if there were any nan values inside each column, before printing out the nan values, we would need to convert some columns' datatype"
   ]
  },
  {
   "cell_type": "code",
   "execution_count": 12,
   "id": "9dd03c1d",
   "metadata": {
    "scrolled": true
   },
   "outputs": [
    {
     "data": {
      "text/plain": [
       "VendorID                 float64\n",
       "tpep_pickup_datetime      object\n",
       "tpep_dropoff_datetime     object\n",
       "passenger_count          float64\n",
       "trip_distance            float64\n",
       "RatecodeID               float64\n",
       "store_and_fwd_flag        object\n",
       "PULocationID               int64\n",
       "DOLocationID               int64\n",
       "payment_type             float64\n",
       "fare_amount              float64\n",
       "extra                    float64\n",
       "mta_tax                  float64\n",
       "tip_amount               float64\n",
       "tolls_amount             float64\n",
       "improvement_surcharge    float64\n",
       "total_amount             float64\n",
       "congestion_surcharge     float64\n",
       "dtype: object"
      ]
     },
     "execution_count": 12,
     "metadata": {},
     "output_type": "execute_result"
    }
   ],
   "source": [
    "data.dtypes"
   ]
  },
  {
   "cell_type": "markdown",
   "id": "51f5b24e",
   "metadata": {},
   "source": [
    "From the above, we can tell that the two datetime columns and the flag column need some cleaning. We would convert the object in datetime columns into datetime objectsm and the flag should be converted to string/text data type. "
   ]
  },
  {
   "cell_type": "markdown",
   "id": "79371103",
   "metadata": {},
   "source": [
    "The two datetime columns first:"
   ]
  },
  {
   "cell_type": "code",
   "execution_count": 13,
   "id": "97535d16",
   "metadata": {},
   "outputs": [],
   "source": [
    "data['tpep_pickup_datetime'] = pd.to_datetime(data['tpep_pickup_datetime'])\n",
    "data['tpep_dropoff_datetime'] = pd.to_datetime(data['tpep_dropoff_datetime'])"
   ]
  },
  {
   "cell_type": "code",
   "execution_count": 14,
   "id": "4d2dfd84",
   "metadata": {
    "scrolled": true
   },
   "outputs": [
    {
     "data": {
      "text/plain": [
       "VendorID                        float64\n",
       "tpep_pickup_datetime     datetime64[ns]\n",
       "tpep_dropoff_datetime    datetime64[ns]\n",
       "passenger_count                 float64\n",
       "trip_distance                   float64\n",
       "RatecodeID                      float64\n",
       "store_and_fwd_flag               object\n",
       "PULocationID                      int64\n",
       "DOLocationID                      int64\n",
       "payment_type                    float64\n",
       "fare_amount                     float64\n",
       "extra                           float64\n",
       "mta_tax                         float64\n",
       "tip_amount                      float64\n",
       "tolls_amount                    float64\n",
       "improvement_surcharge           float64\n",
       "total_amount                    float64\n",
       "congestion_surcharge            float64\n",
       "dtype: object"
      ]
     },
     "execution_count": 14,
     "metadata": {},
     "output_type": "execute_result"
    }
   ],
   "source": [
    "data.dtypes"
   ]
  },
  {
   "cell_type": "code",
   "execution_count": 15,
   "id": "b9c46696",
   "metadata": {
    "scrolled": true
   },
   "outputs": [
    {
     "data": {
      "text/plain": [
       "(1215088   2021-01-30 12:21:33\n",
       " 612594    2021-01-16 12:23:31\n",
       " 259095    2021-01-08 07:07:00\n",
       " 1049052   2021-01-26 19:17:16\n",
       " 220625    2021-01-07 10:13:49\n",
       " Name: tpep_pickup_datetime, dtype: datetime64[ns],\n",
       " 1215088   2021-01-30 12:26:14\n",
       " 612594    2021-01-16 12:29:11\n",
       " 259095    2021-01-08 07:10:36\n",
       " 1049052   2021-01-26 19:33:39\n",
       " 220625    2021-01-07 10:16:42\n",
       " Name: tpep_dropoff_datetime, dtype: datetime64[ns])"
      ]
     },
     "execution_count": 15,
     "metadata": {},
     "output_type": "execute_result"
    }
   ],
   "source": [
    "data['tpep_pickup_datetime'].head(), data['tpep_dropoff_datetime'].head()"
   ]
  },
  {
   "cell_type": "markdown",
   "id": "b5594f38",
   "metadata": {},
   "source": [
    "Good, now we have changed the datatype of the dates into the correct type, lets see if there are any nan or strange entries in the column"
   ]
  },
  {
   "cell_type": "code",
   "execution_count": 16,
   "id": "f5b33646",
   "metadata": {
    "scrolled": true
   },
   "outputs": [
    {
     "data": {
      "text/plain": [
       "array([datetime.date(2021, 1, 30), datetime.date(2021, 1, 16),\n",
       "       datetime.date(2021, 1, 8), datetime.date(2021, 1, 26),\n",
       "       datetime.date(2021, 1, 7), datetime.date(2021, 1, 21),\n",
       "       datetime.date(2021, 1, 18), datetime.date(2021, 1, 22),\n",
       "       datetime.date(2021, 1, 11), datetime.date(2021, 1, 28),\n",
       "       datetime.date(2021, 1, 9), datetime.date(2021, 1, 17),\n",
       "       datetime.date(2021, 1, 6), datetime.date(2021, 1, 12),\n",
       "       datetime.date(2021, 1, 29), datetime.date(2021, 1, 14),\n",
       "       datetime.date(2021, 1, 4), datetime.date(2021, 1, 15),\n",
       "       datetime.date(2021, 1, 24), datetime.date(2021, 1, 25),\n",
       "       datetime.date(2021, 1, 23), datetime.date(2021, 1, 1),\n",
       "       datetime.date(2021, 1, 31), datetime.date(2021, 1, 10),\n",
       "       datetime.date(2021, 1, 5), datetime.date(2021, 1, 2),\n",
       "       datetime.date(2021, 1, 3), datetime.date(2021, 1, 27),\n",
       "       datetime.date(2021, 1, 13), datetime.date(2021, 1, 20),\n",
       "       datetime.date(2021, 1, 19), datetime.date(2020, 12, 31)],\n",
       "      dtype=object)"
      ]
     },
     "execution_count": 16,
     "metadata": {},
     "output_type": "execute_result"
    }
   ],
   "source": [
    "pd.to_datetime(data['tpep_pickup_datetime']).dt.date.unique()"
   ]
  },
  {
   "cell_type": "markdown",
   "id": "a93f823f",
   "metadata": {},
   "source": [
    "Notice that we have three errorous data in the dataset, some indicated 2008/12/31, some indicated 2020/12/31 and the rest indicating 2009/12/31. We should remove these entries."
   ]
  },
  {
   "cell_type": "code",
   "execution_count": 17,
   "id": "2add47a6",
   "metadata": {},
   "outputs": [
    {
     "data": {
      "text/html": [
       "<div>\n",
       "<style scoped>\n",
       "    .dataframe tbody tr th:only-of-type {\n",
       "        vertical-align: middle;\n",
       "    }\n",
       "\n",
       "    .dataframe tbody tr th {\n",
       "        vertical-align: top;\n",
       "    }\n",
       "\n",
       "    .dataframe thead th {\n",
       "        text-align: right;\n",
       "    }\n",
       "</style>\n",
       "<table border=\"1\" class=\"dataframe\">\n",
       "  <thead>\n",
       "    <tr style=\"text-align: right;\">\n",
       "      <th></th>\n",
       "      <th>VendorID</th>\n",
       "      <th>tpep_pickup_datetime</th>\n",
       "      <th>tpep_dropoff_datetime</th>\n",
       "      <th>passenger_count</th>\n",
       "      <th>trip_distance</th>\n",
       "      <th>RatecodeID</th>\n",
       "      <th>store_and_fwd_flag</th>\n",
       "      <th>PULocationID</th>\n",
       "      <th>DOLocationID</th>\n",
       "      <th>payment_type</th>\n",
       "      <th>fare_amount</th>\n",
       "      <th>extra</th>\n",
       "      <th>mta_tax</th>\n",
       "      <th>tip_amount</th>\n",
       "      <th>tolls_amount</th>\n",
       "      <th>improvement_surcharge</th>\n",
       "      <th>total_amount</th>\n",
       "      <th>congestion_surcharge</th>\n",
       "    </tr>\n",
       "  </thead>\n",
       "  <tbody>\n",
       "    <tr>\n",
       "      <th>3474</th>\n",
       "      <td>2.0</td>\n",
       "      <td>2020-12-31 23:06:12</td>\n",
       "      <td>2020-12-31 23:18:39</td>\n",
       "      <td>1.0</td>\n",
       "      <td>7.08</td>\n",
       "      <td>1.0</td>\n",
       "      <td>N</td>\n",
       "      <td>42</td>\n",
       "      <td>137</td>\n",
       "      <td>2.0</td>\n",
       "      <td>21.0</td>\n",
       "      <td>0.5</td>\n",
       "      <td>0.5</td>\n",
       "      <td>0.00</td>\n",
       "      <td>0.0</td>\n",
       "      <td>0.3</td>\n",
       "      <td>24.80</td>\n",
       "      <td>2.5</td>\n",
       "    </tr>\n",
       "    <tr>\n",
       "      <th>2846</th>\n",
       "      <td>2.0</td>\n",
       "      <td>2020-12-31 18:25:31</td>\n",
       "      <td>2020-12-31 18:35:41</td>\n",
       "      <td>1.0</td>\n",
       "      <td>2.72</td>\n",
       "      <td>1.0</td>\n",
       "      <td>N</td>\n",
       "      <td>142</td>\n",
       "      <td>233</td>\n",
       "      <td>1.0</td>\n",
       "      <td>10.5</td>\n",
       "      <td>0.5</td>\n",
       "      <td>0.5</td>\n",
       "      <td>2.86</td>\n",
       "      <td>0.0</td>\n",
       "      <td>0.3</td>\n",
       "      <td>17.16</td>\n",
       "      <td>2.5</td>\n",
       "    </tr>\n",
       "    <tr>\n",
       "      <th>455</th>\n",
       "      <td>2.0</td>\n",
       "      <td>2020-12-31 23:59:06</td>\n",
       "      <td>2021-01-01 00:02:51</td>\n",
       "      <td>2.0</td>\n",
       "      <td>0.74</td>\n",
       "      <td>1.0</td>\n",
       "      <td>N</td>\n",
       "      <td>237</td>\n",
       "      <td>236</td>\n",
       "      <td>1.0</td>\n",
       "      <td>5.0</td>\n",
       "      <td>0.5</td>\n",
       "      <td>0.5</td>\n",
       "      <td>1.76</td>\n",
       "      <td>0.0</td>\n",
       "      <td>0.3</td>\n",
       "      <td>10.56</td>\n",
       "      <td>2.5</td>\n",
       "    </tr>\n",
       "    <tr>\n",
       "      <th>902</th>\n",
       "      <td>2.0</td>\n",
       "      <td>2020-12-31 23:55:40</td>\n",
       "      <td>2021-01-01 00:24:51</td>\n",
       "      <td>1.0</td>\n",
       "      <td>6.45</td>\n",
       "      <td>1.0</td>\n",
       "      <td>N</td>\n",
       "      <td>231</td>\n",
       "      <td>17</td>\n",
       "      <td>2.0</td>\n",
       "      <td>24.5</td>\n",
       "      <td>0.5</td>\n",
       "      <td>0.5</td>\n",
       "      <td>0.00</td>\n",
       "      <td>0.0</td>\n",
       "      <td>0.3</td>\n",
       "      <td>28.30</td>\n",
       "      <td>2.5</td>\n",
       "    </tr>\n",
       "  </tbody>\n",
       "</table>\n",
       "</div>"
      ],
      "text/plain": [
       "      VendorID tpep_pickup_datetime tpep_dropoff_datetime  passenger_count  \\\n",
       "3474       2.0  2020-12-31 23:06:12   2020-12-31 23:18:39              1.0   \n",
       "2846       2.0  2020-12-31 18:25:31   2020-12-31 18:35:41              1.0   \n",
       "455        2.0  2020-12-31 23:59:06   2021-01-01 00:02:51              2.0   \n",
       "902        2.0  2020-12-31 23:55:40   2021-01-01 00:24:51              1.0   \n",
       "\n",
       "      trip_distance  RatecodeID store_and_fwd_flag  PULocationID  \\\n",
       "3474           7.08         1.0                  N            42   \n",
       "2846           2.72         1.0                  N           142   \n",
       "455            0.74         1.0                  N           237   \n",
       "902            6.45         1.0                  N           231   \n",
       "\n",
       "      DOLocationID  payment_type  fare_amount  extra  mta_tax  tip_amount  \\\n",
       "3474           137           2.0         21.0    0.5      0.5        0.00   \n",
       "2846           233           1.0         10.5    0.5      0.5        2.86   \n",
       "455            236           1.0          5.0    0.5      0.5        1.76   \n",
       "902             17           2.0         24.5    0.5      0.5        0.00   \n",
       "\n",
       "      tolls_amount  improvement_surcharge  total_amount  congestion_surcharge  \n",
       "3474           0.0                    0.3         24.80                   2.5  \n",
       "2846           0.0                    0.3         17.16                   2.5  \n",
       "455            0.0                    0.3         10.56                   2.5  \n",
       "902            0.0                    0.3         28.30                   2.5  "
      ]
     },
     "execution_count": 17,
     "metadata": {},
     "output_type": "execute_result"
    }
   ],
   "source": [
    "data[(data['tpep_pickup_datetime'] <= \"2020-12-31 23:59:59\") \n",
    "     | (data['tpep_pickup_datetime'] > \"2021-01-31 23:59:59\")]"
   ]
  },
  {
   "cell_type": "code",
   "execution_count": 18,
   "id": "06743f09",
   "metadata": {
    "scrolled": true
   },
   "outputs": [],
   "source": [
    "dropIndex = list(data[(data['tpep_pickup_datetime'] <= \"2020-12-31 23:59:59\") | (data['tpep_pickup_datetime'] > \"2021-01-31 23:59:59\")].index)"
   ]
  },
  {
   "cell_type": "code",
   "execution_count": 19,
   "id": "890838d7",
   "metadata": {
    "scrolled": true
   },
   "outputs": [
    {
     "data": {
      "text/plain": [
       "[3474, 2846, 455, 902]"
      ]
     },
     "execution_count": 19,
     "metadata": {},
     "output_type": "execute_result"
    }
   ],
   "source": [
    "dropIndex"
   ]
  },
  {
   "cell_type": "code",
   "execution_count": 20,
   "id": "42736e5e",
   "metadata": {},
   "outputs": [],
   "source": [
    "data.drop([i for i in dropIndex], inplace=True)"
   ]
  },
  {
   "cell_type": "code",
   "execution_count": 21,
   "id": "3453fb3c",
   "metadata": {},
   "outputs": [
    {
     "data": {
      "text/plain": [
       "array([datetime.date(2021, 1, 30), datetime.date(2021, 1, 16),\n",
       "       datetime.date(2021, 1, 8), datetime.date(2021, 1, 26),\n",
       "       datetime.date(2021, 1, 7), datetime.date(2021, 1, 21),\n",
       "       datetime.date(2021, 1, 18), datetime.date(2021, 1, 22),\n",
       "       datetime.date(2021, 1, 11), datetime.date(2021, 1, 28),\n",
       "       datetime.date(2021, 1, 9), datetime.date(2021, 1, 17),\n",
       "       datetime.date(2021, 1, 6), datetime.date(2021, 1, 12),\n",
       "       datetime.date(2021, 1, 29), datetime.date(2021, 1, 14),\n",
       "       datetime.date(2021, 1, 4), datetime.date(2021, 1, 15),\n",
       "       datetime.date(2021, 1, 24), datetime.date(2021, 1, 25),\n",
       "       datetime.date(2021, 1, 23), datetime.date(2021, 1, 1),\n",
       "       datetime.date(2021, 1, 31), datetime.date(2021, 1, 10),\n",
       "       datetime.date(2021, 1, 5), datetime.date(2021, 1, 2),\n",
       "       datetime.date(2021, 1, 3), datetime.date(2021, 1, 27),\n",
       "       datetime.date(2021, 1, 13), datetime.date(2021, 1, 20),\n",
       "       datetime.date(2021, 1, 19)], dtype=object)"
      ]
     },
     "execution_count": 21,
     "metadata": {},
     "output_type": "execute_result"
    }
   ],
   "source": [
    "pd.to_datetime(data['tpep_pickup_datetime']).dt.date.unique()"
   ]
  },
  {
   "cell_type": "markdown",
   "id": "8643956b",
   "metadata": {},
   "source": [
    "Good, the errorous data were all dropped. Check if the length of the dataset is correct"
   ]
  },
  {
   "cell_type": "code",
   "execution_count": 22,
   "id": "5c9a692a",
   "metadata": {},
   "outputs": [
    {
     "data": {
      "text/plain": [
       "True"
      ]
     },
     "execution_count": 22,
     "metadata": {},
     "output_type": "execute_result"
    }
   ],
   "source": [
    "dataLength - len(data) == len(dropIndex)"
   ]
  },
  {
   "cell_type": "markdown",
   "id": "33354b62",
   "metadata": {},
   "source": [
    "Now the flag one is bit complicated, we would have to deal with nan values...\n",
    "\n",
    "Actually, we would not need to convert the flag columns, as we still can filter out the results using string. But we would still need to cope with the nan values in this column."
   ]
  },
  {
   "cell_type": "code",
   "execution_count": 23,
   "id": "03f348b0",
   "metadata": {},
   "outputs": [],
   "source": [
    "data['store_and_fwd_flag'] = data['store_and_fwd_flag'].astype(str)"
   ]
  },
  {
   "cell_type": "code",
   "execution_count": 24,
   "id": "4193b26a",
   "metadata": {},
   "outputs": [
    {
     "data": {
      "text/html": [
       "<div>\n",
       "<style scoped>\n",
       "    .dataframe tbody tr th:only-of-type {\n",
       "        vertical-align: middle;\n",
       "    }\n",
       "\n",
       "    .dataframe tbody tr th {\n",
       "        vertical-align: top;\n",
       "    }\n",
       "\n",
       "    .dataframe thead th {\n",
       "        text-align: right;\n",
       "    }\n",
       "</style>\n",
       "<table border=\"1\" class=\"dataframe\">\n",
       "  <thead>\n",
       "    <tr style=\"text-align: right;\">\n",
       "      <th></th>\n",
       "      <th>VendorID</th>\n",
       "      <th>tpep_pickup_datetime</th>\n",
       "      <th>tpep_dropoff_datetime</th>\n",
       "      <th>passenger_count</th>\n",
       "      <th>trip_distance</th>\n",
       "      <th>RatecodeID</th>\n",
       "      <th>store_and_fwd_flag</th>\n",
       "      <th>PULocationID</th>\n",
       "      <th>DOLocationID</th>\n",
       "      <th>payment_type</th>\n",
       "      <th>fare_amount</th>\n",
       "      <th>extra</th>\n",
       "      <th>mta_tax</th>\n",
       "      <th>tip_amount</th>\n",
       "      <th>tolls_amount</th>\n",
       "      <th>improvement_surcharge</th>\n",
       "      <th>total_amount</th>\n",
       "      <th>congestion_surcharge</th>\n",
       "    </tr>\n",
       "  </thead>\n",
       "  <tbody>\n",
       "    <tr>\n",
       "      <th>1215088</th>\n",
       "      <td>1.0</td>\n",
       "      <td>2021-01-30 12:21:33</td>\n",
       "      <td>2021-01-30 12:26:14</td>\n",
       "      <td>0.0</td>\n",
       "      <td>1.00</td>\n",
       "      <td>1.0</td>\n",
       "      <td>N</td>\n",
       "      <td>79</td>\n",
       "      <td>107</td>\n",
       "      <td>2.0</td>\n",
       "      <td>5.5</td>\n",
       "      <td>2.5</td>\n",
       "      <td>0.5</td>\n",
       "      <td>0.00</td>\n",
       "      <td>0.0</td>\n",
       "      <td>0.3</td>\n",
       "      <td>8.80</td>\n",
       "      <td>2.5</td>\n",
       "    </tr>\n",
       "    <tr>\n",
       "      <th>612594</th>\n",
       "      <td>2.0</td>\n",
       "      <td>2021-01-16 12:23:31</td>\n",
       "      <td>2021-01-16 12:29:11</td>\n",
       "      <td>1.0</td>\n",
       "      <td>1.19</td>\n",
       "      <td>1.0</td>\n",
       "      <td>N</td>\n",
       "      <td>164</td>\n",
       "      <td>68</td>\n",
       "      <td>1.0</td>\n",
       "      <td>6.5</td>\n",
       "      <td>0.0</td>\n",
       "      <td>0.5</td>\n",
       "      <td>1.96</td>\n",
       "      <td>0.0</td>\n",
       "      <td>0.3</td>\n",
       "      <td>11.76</td>\n",
       "      <td>2.5</td>\n",
       "    </tr>\n",
       "    <tr>\n",
       "      <th>259095</th>\n",
       "      <td>2.0</td>\n",
       "      <td>2021-01-08 07:07:00</td>\n",
       "      <td>2021-01-08 07:10:36</td>\n",
       "      <td>5.0</td>\n",
       "      <td>1.07</td>\n",
       "      <td>1.0</td>\n",
       "      <td>N</td>\n",
       "      <td>114</td>\n",
       "      <td>90</td>\n",
       "      <td>1.0</td>\n",
       "      <td>5.5</td>\n",
       "      <td>0.0</td>\n",
       "      <td>0.5</td>\n",
       "      <td>1.76</td>\n",
       "      <td>0.0</td>\n",
       "      <td>0.3</td>\n",
       "      <td>10.56</td>\n",
       "      <td>2.5</td>\n",
       "    </tr>\n",
       "    <tr>\n",
       "      <th>1049052</th>\n",
       "      <td>2.0</td>\n",
       "      <td>2021-01-26 19:17:16</td>\n",
       "      <td>2021-01-26 19:33:39</td>\n",
       "      <td>3.0</td>\n",
       "      <td>2.92</td>\n",
       "      <td>1.0</td>\n",
       "      <td>N</td>\n",
       "      <td>140</td>\n",
       "      <td>238</td>\n",
       "      <td>1.0</td>\n",
       "      <td>13.0</td>\n",
       "      <td>1.0</td>\n",
       "      <td>0.5</td>\n",
       "      <td>2.00</td>\n",
       "      <td>0.0</td>\n",
       "      <td>0.3</td>\n",
       "      <td>19.30</td>\n",
       "      <td>2.5</td>\n",
       "    </tr>\n",
       "    <tr>\n",
       "      <th>220625</th>\n",
       "      <td>2.0</td>\n",
       "      <td>2021-01-07 10:13:49</td>\n",
       "      <td>2021-01-07 10:16:42</td>\n",
       "      <td>1.0</td>\n",
       "      <td>0.74</td>\n",
       "      <td>1.0</td>\n",
       "      <td>N</td>\n",
       "      <td>246</td>\n",
       "      <td>68</td>\n",
       "      <td>1.0</td>\n",
       "      <td>4.5</td>\n",
       "      <td>0.0</td>\n",
       "      <td>0.5</td>\n",
       "      <td>0.00</td>\n",
       "      <td>0.0</td>\n",
       "      <td>0.3</td>\n",
       "      <td>7.80</td>\n",
       "      <td>2.5</td>\n",
       "    </tr>\n",
       "  </tbody>\n",
       "</table>\n",
       "</div>"
      ],
      "text/plain": [
       "         VendorID tpep_pickup_datetime tpep_dropoff_datetime  passenger_count  \\\n",
       "1215088       1.0  2021-01-30 12:21:33   2021-01-30 12:26:14              0.0   \n",
       "612594        2.0  2021-01-16 12:23:31   2021-01-16 12:29:11              1.0   \n",
       "259095        2.0  2021-01-08 07:07:00   2021-01-08 07:10:36              5.0   \n",
       "1049052       2.0  2021-01-26 19:17:16   2021-01-26 19:33:39              3.0   \n",
       "220625        2.0  2021-01-07 10:13:49   2021-01-07 10:16:42              1.0   \n",
       "\n",
       "         trip_distance  RatecodeID store_and_fwd_flag  PULocationID  \\\n",
       "1215088           1.00         1.0                  N            79   \n",
       "612594            1.19         1.0                  N           164   \n",
       "259095            1.07         1.0                  N           114   \n",
       "1049052           2.92         1.0                  N           140   \n",
       "220625            0.74         1.0                  N           246   \n",
       "\n",
       "         DOLocationID  payment_type  fare_amount  extra  mta_tax  tip_amount  \\\n",
       "1215088           107           2.0          5.5    2.5      0.5        0.00   \n",
       "612594             68           1.0          6.5    0.0      0.5        1.96   \n",
       "259095             90           1.0          5.5    0.0      0.5        1.76   \n",
       "1049052           238           1.0         13.0    1.0      0.5        2.00   \n",
       "220625             68           1.0          4.5    0.0      0.5        0.00   \n",
       "\n",
       "         tolls_amount  improvement_surcharge  total_amount  \\\n",
       "1215088           0.0                    0.3          8.80   \n",
       "612594            0.0                    0.3         11.76   \n",
       "259095            0.0                    0.3         10.56   \n",
       "1049052           0.0                    0.3         19.30   \n",
       "220625            0.0                    0.3          7.80   \n",
       "\n",
       "         congestion_surcharge  \n",
       "1215088                   2.5  \n",
       "612594                    2.5  \n",
       "259095                    2.5  \n",
       "1049052                   2.5  \n",
       "220625                    2.5  "
      ]
     },
     "execution_count": 24,
     "metadata": {},
     "output_type": "execute_result"
    }
   ],
   "source": [
    "data[data['store_and_fwd_flag'] == 'N'].head()"
   ]
  },
  {
   "cell_type": "markdown",
   "id": "9a766178",
   "metadata": {},
   "source": [
    "After cleaning the datatypes, we can use the pd.isnull to determine if there were nan values inside the columns"
   ]
  },
  {
   "cell_type": "markdown",
   "id": "8c8a8354",
   "metadata": {},
   "source": [
    "Print out the if nan values exists in the column"
   ]
  },
  {
   "cell_type": "code",
   "execution_count": 25,
   "id": "23dc52a3",
   "metadata": {},
   "outputs": [
    {
     "name": "stdout",
     "output_type": "stream",
     "text": [
      "VendorID\n",
      "passenger_count\n",
      "RatecodeID\n",
      "payment_type\n"
     ]
    }
   ],
   "source": [
    "for c in data.columns:\n",
    "    if pd.isnull(data[c].unique()).any():\n",
    "        print(c)\n",
    "    # print(c, pd.isnull(data[c].unique()).any())"
   ]
  },
  {
   "cell_type": "markdown",
   "id": "fe554c30",
   "metadata": {},
   "source": [
    "From the output above, we now know that there were some nan values in VendorID, passenger_count, RatecodeID, payment_type. Not really a huge problem, but we would need to be careful when creating viz. Good news is that we do not have any nan values inside our total_pay and other numerical columns"
   ]
  },
  {
   "cell_type": "markdown",
   "id": "6c58f20f",
   "metadata": {},
   "source": [
    "### Summary of the dataset:"
   ]
  },
  {
   "cell_type": "markdown",
   "id": "e3bddb51",
   "metadata": {},
   "source": [
    "There were in total 18 columns in the dataset. The names were printed above alongside their datatypes. The dataset represents the total trips of yellow taxi at NYC during January, 2021. The dataset includes many fields such as DateTime for each trip, specified to pick up time and drop off time. The trip distance, the fares, the rates, and the payment types and passenger numbers for each entry. On the site, the raw data is collected within the partnership with the NYC DOITT, but I could not find the person who created these datasets. The credits are not given either on the website or in the dataset. This dataset is interesting as we can analyze the pay for each driver and the relationship of their pay with the pay standard we have in NYC. Also, we can tell from this dataset that we could use this dataset to find out the market of taxis in NYC. The further analysis that I described above would also be interesting to explore."
   ]
  },
  {
   "cell_type": "markdown",
   "id": "c55c8e59",
   "metadata": {},
   "source": [
    "### Plot of interest:"
   ]
  },
  {
   "cell_type": "markdown",
   "id": "97458ea7",
   "metadata": {},
   "source": [
    "Lets make a simple one, a frequency graph with the x axis as everyday in January, and the y-axis as the count of taxi drives each date. (For each date, we are only considering the pickup time, as we will have some trips that begins late in one day and arrived on the next day, so I would merge these trips into the date when they started the trip)"
   ]
  },
  {
   "cell_type": "code",
   "execution_count": 26,
   "id": "cddaa6f2",
   "metadata": {},
   "outputs": [
    {
     "data": {
      "text/plain": [
       "tpep_pickup_datetime\n",
       "2021-01-01    2395\n",
       "2021-01-02    3357\n",
       "2021-01-03    2558\n",
       "2021-01-04    4400\n",
       "2021-01-05    4681\n",
       "2021-01-06    4947\n",
       "2021-01-07    5033\n",
       "2021-01-08    5048\n",
       "2021-01-09    3964\n",
       "2021-01-10    3010\n",
       "2021-01-11    4645\n",
       "2021-01-12    5146\n",
       "2021-01-13    5091\n",
       "2021-01-14    5294\n",
       "2021-01-15    5336\n",
       "2021-01-16    3894\n",
       "2021-01-17    3299\n",
       "2021-01-18    3691\n",
       "2021-01-19    5203\n",
       "2021-01-20    4970\n",
       "2021-01-21    5358\n",
       "2021-01-22    5387\n",
       "2021-01-23    4151\n",
       "2021-01-24    3141\n",
       "2021-01-25    4710\n",
       "2021-01-26    4799\n",
       "2021-01-27    5364\n",
       "2021-01-28    5570\n",
       "2021-01-29    5423\n",
       "2021-01-30    3956\n",
       "2021-01-31    3151\n",
       "dtype: int64"
      ]
     },
     "execution_count": 26,
     "metadata": {},
     "output_type": "execute_result"
    }
   ],
   "source": [
    "# Create the count of each date in the data\n",
    "\n",
    "data.groupby(pd.to_datetime(data['tpep_pickup_datetime']).dt.date).size()"
   ]
  },
  {
   "cell_type": "code",
   "execution_count": 27,
   "id": "795e0c7a",
   "metadata": {
    "scrolled": false
   },
   "outputs": [
    {
     "data": {
      "text/html": [
       "<div>\n",
       "<style scoped>\n",
       "    .dataframe tbody tr th:only-of-type {\n",
       "        vertical-align: middle;\n",
       "    }\n",
       "\n",
       "    .dataframe tbody tr th {\n",
       "        vertical-align: top;\n",
       "    }\n",
       "\n",
       "    .dataframe thead th {\n",
       "        text-align: right;\n",
       "    }\n",
       "</style>\n",
       "<table border=\"1\" class=\"dataframe\">\n",
       "  <thead>\n",
       "    <tr style=\"text-align: right;\">\n",
       "      <th></th>\n",
       "      <th>VendorID</th>\n",
       "      <th>tpep_pickup_datetime</th>\n",
       "      <th>tpep_dropoff_datetime</th>\n",
       "      <th>passenger_count</th>\n",
       "      <th>trip_distance</th>\n",
       "      <th>RatecodeID</th>\n",
       "      <th>store_and_fwd_flag</th>\n",
       "      <th>PULocationID</th>\n",
       "      <th>DOLocationID</th>\n",
       "      <th>payment_type</th>\n",
       "      <th>fare_amount</th>\n",
       "      <th>extra</th>\n",
       "      <th>mta_tax</th>\n",
       "      <th>tip_amount</th>\n",
       "      <th>tolls_amount</th>\n",
       "      <th>improvement_surcharge</th>\n",
       "      <th>total_amount</th>\n",
       "      <th>congestion_surcharge</th>\n",
       "      <th>pickup_date</th>\n",
       "    </tr>\n",
       "  </thead>\n",
       "  <tbody>\n",
       "    <tr>\n",
       "      <th>1215088</th>\n",
       "      <td>1.0</td>\n",
       "      <td>2021-01-30 12:21:33</td>\n",
       "      <td>2021-01-30 12:26:14</td>\n",
       "      <td>0.0</td>\n",
       "      <td>1.00</td>\n",
       "      <td>1.0</td>\n",
       "      <td>N</td>\n",
       "      <td>79</td>\n",
       "      <td>107</td>\n",
       "      <td>2.0</td>\n",
       "      <td>5.5</td>\n",
       "      <td>2.5</td>\n",
       "      <td>0.5</td>\n",
       "      <td>0.00</td>\n",
       "      <td>0.0</td>\n",
       "      <td>0.3</td>\n",
       "      <td>8.80</td>\n",
       "      <td>2.5</td>\n",
       "      <td>2021-01-30</td>\n",
       "    </tr>\n",
       "    <tr>\n",
       "      <th>612594</th>\n",
       "      <td>2.0</td>\n",
       "      <td>2021-01-16 12:23:31</td>\n",
       "      <td>2021-01-16 12:29:11</td>\n",
       "      <td>1.0</td>\n",
       "      <td>1.19</td>\n",
       "      <td>1.0</td>\n",
       "      <td>N</td>\n",
       "      <td>164</td>\n",
       "      <td>68</td>\n",
       "      <td>1.0</td>\n",
       "      <td>6.5</td>\n",
       "      <td>0.0</td>\n",
       "      <td>0.5</td>\n",
       "      <td>1.96</td>\n",
       "      <td>0.0</td>\n",
       "      <td>0.3</td>\n",
       "      <td>11.76</td>\n",
       "      <td>2.5</td>\n",
       "      <td>2021-01-16</td>\n",
       "    </tr>\n",
       "    <tr>\n",
       "      <th>259095</th>\n",
       "      <td>2.0</td>\n",
       "      <td>2021-01-08 07:07:00</td>\n",
       "      <td>2021-01-08 07:10:36</td>\n",
       "      <td>5.0</td>\n",
       "      <td>1.07</td>\n",
       "      <td>1.0</td>\n",
       "      <td>N</td>\n",
       "      <td>114</td>\n",
       "      <td>90</td>\n",
       "      <td>1.0</td>\n",
       "      <td>5.5</td>\n",
       "      <td>0.0</td>\n",
       "      <td>0.5</td>\n",
       "      <td>1.76</td>\n",
       "      <td>0.0</td>\n",
       "      <td>0.3</td>\n",
       "      <td>10.56</td>\n",
       "      <td>2.5</td>\n",
       "      <td>2021-01-08</td>\n",
       "    </tr>\n",
       "    <tr>\n",
       "      <th>1049052</th>\n",
       "      <td>2.0</td>\n",
       "      <td>2021-01-26 19:17:16</td>\n",
       "      <td>2021-01-26 19:33:39</td>\n",
       "      <td>3.0</td>\n",
       "      <td>2.92</td>\n",
       "      <td>1.0</td>\n",
       "      <td>N</td>\n",
       "      <td>140</td>\n",
       "      <td>238</td>\n",
       "      <td>1.0</td>\n",
       "      <td>13.0</td>\n",
       "      <td>1.0</td>\n",
       "      <td>0.5</td>\n",
       "      <td>2.00</td>\n",
       "      <td>0.0</td>\n",
       "      <td>0.3</td>\n",
       "      <td>19.30</td>\n",
       "      <td>2.5</td>\n",
       "      <td>2021-01-26</td>\n",
       "    </tr>\n",
       "    <tr>\n",
       "      <th>220625</th>\n",
       "      <td>2.0</td>\n",
       "      <td>2021-01-07 10:13:49</td>\n",
       "      <td>2021-01-07 10:16:42</td>\n",
       "      <td>1.0</td>\n",
       "      <td>0.74</td>\n",
       "      <td>1.0</td>\n",
       "      <td>N</td>\n",
       "      <td>246</td>\n",
       "      <td>68</td>\n",
       "      <td>1.0</td>\n",
       "      <td>4.5</td>\n",
       "      <td>0.0</td>\n",
       "      <td>0.5</td>\n",
       "      <td>0.00</td>\n",
       "      <td>0.0</td>\n",
       "      <td>0.3</td>\n",
       "      <td>7.80</td>\n",
       "      <td>2.5</td>\n",
       "      <td>2021-01-07</td>\n",
       "    </tr>\n",
       "  </tbody>\n",
       "</table>\n",
       "</div>"
      ],
      "text/plain": [
       "         VendorID tpep_pickup_datetime tpep_dropoff_datetime  passenger_count  \\\n",
       "1215088       1.0  2021-01-30 12:21:33   2021-01-30 12:26:14              0.0   \n",
       "612594        2.0  2021-01-16 12:23:31   2021-01-16 12:29:11              1.0   \n",
       "259095        2.0  2021-01-08 07:07:00   2021-01-08 07:10:36              5.0   \n",
       "1049052       2.0  2021-01-26 19:17:16   2021-01-26 19:33:39              3.0   \n",
       "220625        2.0  2021-01-07 10:13:49   2021-01-07 10:16:42              1.0   \n",
       "\n",
       "         trip_distance  RatecodeID store_and_fwd_flag  PULocationID  \\\n",
       "1215088           1.00         1.0                  N            79   \n",
       "612594            1.19         1.0                  N           164   \n",
       "259095            1.07         1.0                  N           114   \n",
       "1049052           2.92         1.0                  N           140   \n",
       "220625            0.74         1.0                  N           246   \n",
       "\n",
       "         DOLocationID  payment_type  fare_amount  extra  mta_tax  tip_amount  \\\n",
       "1215088           107           2.0          5.5    2.5      0.5        0.00   \n",
       "612594             68           1.0          6.5    0.0      0.5        1.96   \n",
       "259095             90           1.0          5.5    0.0      0.5        1.76   \n",
       "1049052           238           1.0         13.0    1.0      0.5        2.00   \n",
       "220625             68           1.0          4.5    0.0      0.5        0.00   \n",
       "\n",
       "         tolls_amount  improvement_surcharge  total_amount  \\\n",
       "1215088           0.0                    0.3          8.80   \n",
       "612594            0.0                    0.3         11.76   \n",
       "259095            0.0                    0.3         10.56   \n",
       "1049052           0.0                    0.3         19.30   \n",
       "220625            0.0                    0.3          7.80   \n",
       "\n",
       "         congestion_surcharge pickup_date  \n",
       "1215088                   2.5  2021-01-30  \n",
       "612594                    2.5  2021-01-16  \n",
       "259095                    2.5  2021-01-08  \n",
       "1049052                   2.5  2021-01-26  \n",
       "220625                    2.5  2021-01-07  "
      ]
     },
     "execution_count": 27,
     "metadata": {},
     "output_type": "execute_result"
    }
   ],
   "source": [
    "data['pickup_date'] = pd.to_datetime(data['tpep_pickup_datetime']).dt.date\n",
    "data['pickup_date'] = pd.to_datetime(data['pickup_date'])\n",
    "data.head()"
   ]
  },
  {
   "cell_type": "markdown",
   "id": "fafce9d6",
   "metadata": {},
   "source": [
    "Check if we accidentally create some errorous data"
   ]
  },
  {
   "cell_type": "code",
   "execution_count": 28,
   "id": "1741878a",
   "metadata": {
    "scrolled": true
   },
   "outputs": [
    {
     "data": {
      "text/plain": [
       "array(['2021-01-30T00:00:00.000000000', '2021-01-16T00:00:00.000000000',\n",
       "       '2021-01-08T00:00:00.000000000', '2021-01-26T00:00:00.000000000',\n",
       "       '2021-01-07T00:00:00.000000000', '2021-01-21T00:00:00.000000000',\n",
       "       '2021-01-18T00:00:00.000000000', '2021-01-22T00:00:00.000000000',\n",
       "       '2021-01-11T00:00:00.000000000', '2021-01-28T00:00:00.000000000',\n",
       "       '2021-01-09T00:00:00.000000000', '2021-01-17T00:00:00.000000000',\n",
       "       '2021-01-06T00:00:00.000000000', '2021-01-12T00:00:00.000000000',\n",
       "       '2021-01-29T00:00:00.000000000', '2021-01-14T00:00:00.000000000',\n",
       "       '2021-01-04T00:00:00.000000000', '2021-01-15T00:00:00.000000000',\n",
       "       '2021-01-24T00:00:00.000000000', '2021-01-25T00:00:00.000000000',\n",
       "       '2021-01-23T00:00:00.000000000', '2021-01-01T00:00:00.000000000',\n",
       "       '2021-01-31T00:00:00.000000000', '2021-01-10T00:00:00.000000000',\n",
       "       '2021-01-05T00:00:00.000000000', '2021-01-02T00:00:00.000000000',\n",
       "       '2021-01-03T00:00:00.000000000', '2021-01-27T00:00:00.000000000',\n",
       "       '2021-01-13T00:00:00.000000000', '2021-01-20T00:00:00.000000000',\n",
       "       '2021-01-19T00:00:00.000000000'], dtype='datetime64[ns]')"
      ]
     },
     "execution_count": 28,
     "metadata": {},
     "output_type": "execute_result"
    }
   ],
   "source": [
    "data['pickup_date'].unique()"
   ]
  },
  {
   "cell_type": "markdown",
   "id": "81fbc36a",
   "metadata": {},
   "source": [
    "The data looks good, now we were ready to create some simple data visualization on this dataset"
   ]
  },
  {
   "cell_type": "code",
   "execution_count": 29,
   "id": "941eb2f2",
   "metadata": {
    "scrolled": true
   },
   "outputs": [
    {
     "data": {
      "image/png": "[encoded data removed]",
      "text/plain": [
       "<Figure size 1080x360 with 1 Axes>"
      ]
     },
     "metadata": {},
     "output_type": "display_data"
    }
   ],
   "source": [
    "# Step 1 - hard code the stuff\n",
    "style = 'seaborn'\n",
    "graphBins = len(data['pickup_date'].unique())\n",
    "with plt.style.context(style):\n",
    "    fig, ax = plt.subplots(figsize=(15,5))\n",
    "    plt.hist(x=data['pickup_date'], bins=graphBins)\n",
    "    ax.set_xlabel('Date in January')\n",
    "    ax.set_ylabel('Taxi Drives Frequency')\n",
    "    ax.set_title('Taxi Drives Frequency in January')\n",
    "    plt.show()"
   ]
  },
  {
   "cell_type": "markdown",
   "id": "bbd90c59",
   "metadata": {},
   "source": [
    "# Final Project Part 2 - Dashboard"
   ]
  },
  {
   "cell_type": "markdown",
   "id": "c748166d",
   "metadata": {},
   "source": [
    "We would continue on the previous frequency graph we made, and we would be producing more graphs as it goes. \n",
    "\n",
    "Lets check the data types again to make sure nothing is wrong"
   ]
  },
  {
   "cell_type": "code",
   "execution_count": 30,
   "id": "51d8efad",
   "metadata": {
    "scrolled": true
   },
   "outputs": [
    {
     "data": {
      "text/plain": [
       "VendorID                        float64\n",
       "tpep_pickup_datetime     datetime64[ns]\n",
       "tpep_dropoff_datetime    datetime64[ns]\n",
       "passenger_count                 float64\n",
       "trip_distance                   float64\n",
       "RatecodeID                      float64\n",
       "store_and_fwd_flag               object\n",
       "PULocationID                      int64\n",
       "DOLocationID                      int64\n",
       "payment_type                    float64\n",
       "fare_amount                     float64\n",
       "extra                           float64\n",
       "mta_tax                         float64\n",
       "tip_amount                      float64\n",
       "tolls_amount                    float64\n",
       "improvement_surcharge           float64\n",
       "total_amount                    float64\n",
       "congestion_surcharge            float64\n",
       "pickup_date              datetime64[ns]\n",
       "dtype: object"
      ]
     },
     "execution_count": 30,
     "metadata": {},
     "output_type": "execute_result"
    }
   ],
   "source": [
    "data.dtypes"
   ]
  },
  {
   "cell_type": "markdown",
   "id": "b572460d",
   "metadata": {},
   "source": [
    "Good, seems nothing is wrong since the last part. Now lets try to shift the graph to bqplot"
   ]
  },
  {
   "cell_type": "code",
   "execution_count": 31,
   "id": "beb3f445",
   "metadata": {
    "scrolled": false
   },
   "outputs": [
    {
     "data": {
      "application/vnd.jupyter.widget-view+json": {
       "model_id": "48774864ff8645d1b9fa2a793a7dca8b",
       "version_major": 2,
       "version_minor": 0
      },
      "text/plain": [
       "Figure(axes=[Axis(label='Date in January', scale=DateScale()), Axis(label='Taxi Drives Frequency', label_offse…"
      ]
     },
     "metadata": {},
     "output_type": "display_data"
    }
   ],
   "source": [
    "# try to shift to bqplot to produce the same graph\n",
    "\n",
    "x_sch = bqplot.DateScale()\n",
    "y_sch = bqplot.LinearScale()\n",
    "\n",
    "# set p axis\n",
    "x_axh = bqplot.Axis(scale = x_sch, label = 'Date in January')\n",
    "# Adjusted the label offset so that the label would not collide\n",
    "# with the data\n",
    "y_axh = bqplot.Axis(scale = y_sch, \n",
    "                   orientation = 'vertical', \n",
    "                   label = 'Taxi Drives Frequency',\n",
    "                   label_offset = \"45px\")\n",
    "\n",
    "# (1) set up the marks\n",
    "hist = bqplot.Hist(sample = data['pickup_date'],\n",
    "                  normalized = False,\n",
    "                  scales = {'sample':x_sch, 'count':y_sch},\n",
    "                  bins=graphBins)\n",
    "\n",
    "fig_hist = bqplot.Figure(marks=[hist], axes = [x_axh, y_axh])\n",
    "# figh.layout.width = \"800px\"\n",
    "fig_hist"
   ]
  },
  {
   "cell_type": "markdown",
   "id": "2589f71f",
   "metadata": {},
   "source": [
    "So we have successfully reproduced the graph using bqplot. Now it is time to include some interactions and dashboards."
   ]
  },
  {
   "cell_type": "markdown",
   "id": "ff39ce27",
   "metadata": {},
   "source": [
    "### Scatter plot of total amount and trip distance with the color axis as passenger count for the graph"
   ]
  },
  {
   "cell_type": "markdown",
   "id": "20fb0e6a",
   "metadata": {},
   "source": [
    "Take a look at the total amount column"
   ]
  },
  {
   "cell_type": "code",
   "execution_count": 32,
   "id": "cdd2cd0d",
   "metadata": {
    "scrolled": true
   },
   "outputs": [
    {
     "data": {
      "text/plain": [
       "((136972,), 2396730.92)"
      ]
     },
     "execution_count": 32,
     "metadata": {},
     "output_type": "execute_result"
    }
   ],
   "source": [
    "data['total_amount'].shape, data['total_amount'].sum()"
   ]
  },
  {
   "cell_type": "markdown",
   "id": "ff4f4795",
   "metadata": {},
   "source": [
    "So, the shape of the total amount column is a 1 dimensional array, we need to group the total amounts into accumulation of each date"
   ]
  },
  {
   "cell_type": "markdown",
   "id": "ad4a5841",
   "metadata": {},
   "source": [
    "Try to create the grouped total amount"
   ]
  },
  {
   "cell_type": "code",
   "execution_count": 33,
   "id": "e8323599",
   "metadata": {},
   "outputs": [
    {
     "data": {
      "text/plain": [
       "pickup_date\n",
       "2021-01-01    45422.42\n",
       "2021-01-02    64858.98\n",
       "2021-01-03    51032.95\n",
       "2021-01-04    87375.48\n",
       "2021-01-05    83595.62\n",
       "2021-01-06    86387.95\n",
       "2021-01-07    88985.54\n",
       "2021-01-08    85977.45\n",
       "2021-01-09    69356.73\n",
       "2021-01-10    56834.30\n",
       "2021-01-11    80639.65\n",
       "2021-01-12    89830.89\n",
       "2021-01-13    87438.22\n",
       "2021-01-14    91878.82\n",
       "2021-01-15    91425.93\n",
       "2021-01-16    67242.08\n",
       "2021-01-17    58732.25\n",
       "2021-01-18    63740.34\n",
       "2021-01-19    91020.51\n",
       "2021-01-20    83115.40\n",
       "2021-01-21    93639.47\n",
       "2021-01-22    91984.50\n",
       "2021-01-23    69247.84\n",
       "2021-01-24    56704.51\n",
       "2021-01-25    81172.67\n",
       "2021-01-26    80155.63\n",
       "2021-01-27    89967.46\n",
       "2021-01-28    94840.15\n",
       "2021-01-29    91641.41\n",
       "2021-01-30    66239.49\n",
       "2021-01-31    56246.28\n",
       "Name: total_amount, dtype: float64"
      ]
     },
     "execution_count": 33,
     "metadata": {},
     "output_type": "execute_result"
    }
   ],
   "source": [
    "grouped_total_amount = data['total_amount'].groupby(data['pickup_date']).sum()\n",
    "grouped_total_amount"
   ]
  },
  {
   "cell_type": "markdown",
   "id": "507c51f6",
   "metadata": {},
   "source": [
    "Check if we accidentally excluded some data"
   ]
  },
  {
   "cell_type": "code",
   "execution_count": 34,
   "id": "46a1c19e",
   "metadata": {},
   "outputs": [
    {
     "data": {
      "text/plain": [
       "True"
      ]
     },
     "execution_count": 34,
     "metadata": {},
     "output_type": "execute_result"
    }
   ],
   "source": [
    "grouped_total_amount.sum() == round(data['total_amount'].sum(), 2)"
   ]
  },
  {
   "cell_type": "markdown",
   "id": "fb402292",
   "metadata": {},
   "source": [
    "Great, now we have the total amount sums grouped by date, now on the distance"
   ]
  },
  {
   "cell_type": "code",
   "execution_count": 35,
   "id": "37358f8f",
   "metadata": {},
   "outputs": [
    {
     "data": {
      "text/plain": [
       "((136972,), 526464.3899999999)"
      ]
     },
     "execution_count": 35,
     "metadata": {},
     "output_type": "execute_result"
    }
   ],
   "source": [
    "data['trip_distance'].shape, data['trip_distance'].sum()"
   ]
  },
  {
   "cell_type": "markdown",
   "id": "c39fc102",
   "metadata": {},
   "source": [
    "So, the shape of the trip distance column is a 1 dimensional array, we need to group the trip distances into accumulation of each date"
   ]
  },
  {
   "cell_type": "code",
   "execution_count": 36,
   "id": "1e840d60",
   "metadata": {},
   "outputs": [
    {
     "data": {
      "text/plain": [
       "pickup_date\n",
       "2021-01-01     8589.45\n",
       "2021-01-02    11833.54\n",
       "2021-01-03    10180.27\n",
       "2021-01-04    13543.50\n",
       "2021-01-05    14073.10\n",
       "2021-01-06    14193.47\n",
       "2021-01-07    14740.11\n",
       "2021-01-08    64564.01\n",
       "2021-01-09    40673.88\n",
       "2021-01-10    61667.03\n",
       "2021-01-11    13309.31\n",
       "2021-01-12    14300.60\n",
       "2021-01-13    13914.84\n",
       "2021-01-14    14756.36\n",
       "2021-01-15    14652.36\n",
       "2021-01-16    11484.61\n",
       "2021-01-17    10510.04\n",
       "2021-01-18    10910.75\n",
       "2021-01-19    14569.90\n",
       "2021-01-20    13291.73\n",
       "2021-01-21    14713.49\n",
       "2021-01-22    14533.76\n",
       "2021-01-23    11534.95\n",
       "2021-01-24    10473.00\n",
       "2021-01-25    13279.73\n",
       "2021-01-26    12453.62\n",
       "2021-01-27    13892.40\n",
       "2021-01-28    14768.56\n",
       "2021-01-29    14070.42\n",
       "2021-01-30    10963.17\n",
       "2021-01-31    10022.43\n",
       "Name: trip_distance, dtype: float64"
      ]
     },
     "execution_count": 36,
     "metadata": {},
     "output_type": "execute_result"
    }
   ],
   "source": [
    "grouped_trip_distance = data['trip_distance'].groupby(data['pickup_date']).sum()\n",
    "grouped_trip_distance"
   ]
  },
  {
   "cell_type": "markdown",
   "id": "7f1ea21c",
   "metadata": {},
   "source": [
    "The last data we need to clean for this viz will be the passenger count. I would like to add this as the color axis of our heat map"
   ]
  },
  {
   "cell_type": "code",
   "execution_count": 37,
   "id": "918cd18e",
   "metadata": {},
   "outputs": [
    {
     "data": {
      "text/plain": [
       "True"
      ]
     },
     "execution_count": 37,
     "metadata": {},
     "output_type": "execute_result"
    }
   ],
   "source": [
    "pd.isnull(data['passenger_count'].unique()).any()"
   ]
  },
  {
   "cell_type": "code",
   "execution_count": 38,
   "id": "dc32997d",
   "metadata": {},
   "outputs": [
    {
     "data": {
      "text/plain": [
       "1215088    0.0\n",
       "612594     1.0\n",
       "259095     5.0\n",
       "1049052    3.0\n",
       "220625     1.0\n",
       "          ... \n",
       "434599     1.0\n",
       "509440     1.0\n",
       "1303868    NaN\n",
       "674338     3.0\n",
       "152455     1.0\n",
       "Name: passenger_count, Length: 136972, dtype: float64"
      ]
     },
     "execution_count": 38,
     "metadata": {},
     "output_type": "execute_result"
    }
   ],
   "source": [
    "data['passenger_count']"
   ]
  },
  {
   "cell_type": "markdown",
   "id": "6f6fdb9a",
   "metadata": {},
   "source": [
    "Now, we have empty nan values. For the purpose of this graph, I will replace them with 0 as we are calculating the sum for each date"
   ]
  },
  {
   "cell_type": "code",
   "execution_count": 39,
   "id": "2fff6191",
   "metadata": {},
   "outputs": [
    {
     "data": {
      "text/plain": [
       "1215088    0.0\n",
       "612594     1.0\n",
       "259095     5.0\n",
       "1049052    3.0\n",
       "220625     1.0\n",
       "          ... \n",
       "434599     1.0\n",
       "509440     1.0\n",
       "1303868    0.0\n",
       "674338     3.0\n",
       "152455     1.0\n",
       "Name: passenger_count, Length: 136972, dtype: float64"
      ]
     },
     "execution_count": 39,
     "metadata": {},
     "output_type": "execute_result"
    }
   ],
   "source": [
    "data['passenger_count'] = data['passenger_count'].replace(np.nan, 0)\n",
    "data['passenger_count']"
   ]
  },
  {
   "cell_type": "markdown",
   "id": "c0d83f1b",
   "metadata": {},
   "source": [
    "Now, calculate the sum of the passenger count grouped by date"
   ]
  },
  {
   "cell_type": "code",
   "execution_count": 40,
   "id": "51f9f783",
   "metadata": {},
   "outputs": [
    {
     "data": {
      "text/plain": [
       "pickup_date\n",
       "2021-01-01    3373.0\n",
       "2021-01-02    4597.0\n",
       "2021-01-03    3410.0\n",
       "2021-01-04    5688.0\n",
       "2021-01-05    6035.0\n",
       "2021-01-06    6259.0\n",
       "2021-01-07    6471.0\n",
       "2021-01-08    6684.0\n",
       "2021-01-09    5453.0\n",
       "2021-01-10    4114.0\n",
       "2021-01-11    6075.0\n",
       "2021-01-12    6554.0\n",
       "2021-01-13    6356.0\n",
       "2021-01-14    6920.0\n",
       "2021-01-15    7000.0\n",
       "2021-01-16    5281.0\n",
       "2021-01-17    4465.0\n",
       "2021-01-18    4816.0\n",
       "2021-01-19    6688.0\n",
       "2021-01-20    6379.0\n",
       "2021-01-21    6948.0\n",
       "2021-01-22    6874.0\n",
       "2021-01-23    5735.0\n",
       "2021-01-24    4242.0\n",
       "2021-01-25    6108.0\n",
       "2021-01-26    6234.0\n",
       "2021-01-27    6825.0\n",
       "2021-01-28    7201.0\n",
       "2021-01-29    6977.0\n",
       "2021-01-30    5361.0\n",
       "2021-01-31    4227.0\n",
       "Name: passenger_count, dtype: float64"
      ]
     },
     "execution_count": 40,
     "metadata": {},
     "output_type": "execute_result"
    }
   ],
   "source": [
    "grouped_passenger_count = data['passenger_count'].groupby(data['pickup_date']).sum()\n",
    "grouped_passenger_count"
   ]
  },
  {
   "cell_type": "markdown",
   "id": "7fce4029",
   "metadata": {},
   "source": [
    "Now we have the all the data we need, we could create a scatter plot on this"
   ]
  },
  {
   "cell_type": "code",
   "execution_count": 41,
   "id": "c3d21ef6",
   "metadata": {},
   "outputs": [
    {
     "data": {
      "application/vnd.jupyter.widget-view+json": {
       "model_id": "346f711a97784a639beeb4a434600444",
       "version_major": 2,
       "version_minor": 0
      },
      "text/plain": [
       "Figure(axes=[Axis(label='Trip Distance', scale=LinearScale()), Axis(label='Total Amount', label_offset='48px',…"
      ]
     },
     "metadata": {},
     "output_type": "display_data"
    }
   ],
   "source": [
    "# Set up x/y scales\n",
    "x_sc = bqplot.LinearScale()\n",
    "y_sc = bqplot.LinearScale()\n",
    "\n",
    "# Set p axis\n",
    "x_ax = bqplot.Axis(scale = x_sc, label='Trip Distance')\n",
    "y_ax = bqplot.Axis(scale = y_sc, \n",
    "                   orientation = 'vertical', \n",
    "                   label='Total Amount',\n",
    "                  label_offset = \"48px\")\n",
    "\n",
    "#(1) set up marks\n",
    "scatters = bqplot.Scatter(x = data['trip_distance'],\n",
    "                          y = data['total_amount'],\n",
    "                          scales = {'x': x_sc, 'y': y_sc})\n",
    "\n",
    "fig = bqplot.Figure(marks = [scatters], axes = [x_ax, y_ax]) \n",
    "fig"
   ]
  },
  {
   "cell_type": "markdown",
   "id": "91f1b943",
   "metadata": {},
   "source": [
    "From the graph we can tell, our data is a bit of large so it the range is fairly big. And I haven't implement the color axis, which will be the passenger count of the dataset"
   ]
  },
  {
   "cell_type": "code",
   "execution_count": 42,
   "id": "8b28f81e",
   "metadata": {},
   "outputs": [
    {
     "data": {
      "application/vnd.jupyter.widget-view+json": {
       "model_id": "c783339287594f67bde6c69aadd481e5",
       "version_major": 2,
       "version_minor": 0
      },
      "text/plain": [
       "Figure(axes=[Axis(label='Trip Distance', scale=LinearScale()), Axis(label='Total Amount', label_offset='48px',…"
      ]
     },
     "metadata": {},
     "output_type": "display_data"
    }
   ],
   "source": [
    "# Set up x/y scales\n",
    "x_sc = bqplot.LinearScale()\n",
    "y_sc = bqplot.LinearScale()\n",
    "\n",
    "# Set p axis\n",
    "x_ax = bqplot.Axis(scale = x_sc, label='Trip Distance')\n",
    "y_ax = bqplot.Axis(scale = y_sc, \n",
    "                   orientation = 'vertical', \n",
    "                   label='Total Amount',\n",
    "                  label_offset = \"48px\")\n",
    "\n",
    "# Add in color scale\n",
    "c_sc = bqplot.ColorScale()\n",
    "# color axes:\n",
    "c_ax = bqplot.ColorAxis(scale = c_sc, label = 'Passenger Count', \n",
    "                       orientation = 'vertical', side = 'right')\n",
    "                       # label_offset = \"100px\")\n",
    "\n",
    "# set up marks\n",
    "scatters = bqplot.Scatter(x = grouped_trip_distance,\n",
    "                          y = grouped_total_amount,\n",
    "                          color = grouped_passenger_count,\n",
    "                          scales = {'x': x_sc, \n",
    "                                    'y': y_sc,\n",
    "                                    'color':c_sc})\n",
    "\n",
    "fig = bqplot.Figure(marks = [scatters], axes = [x_ax, y_ax, c_ax]) \n",
    "# fig.layout.width = \"600px\"\n",
    "fig"
   ]
  },
  {
   "cell_type": "markdown",
   "id": "71dabe67",
   "metadata": {},
   "source": [
    "After plotting the graph, not a bad color map, but I would still like to take the log for the passenger count, as it does have a huge range in sum"
   ]
  },
  {
   "cell_type": "code",
   "execution_count": 43,
   "id": "bbc47c0d",
   "metadata": {},
   "outputs": [
    {
     "data": {
      "text/plain": [
       "(3373.0, 7201.0)"
      ]
     },
     "execution_count": 43,
     "metadata": {},
     "output_type": "execute_result"
    }
   ],
   "source": [
    "grouped_passenger_count.min(), grouped_passenger_count.max()"
   ]
  },
  {
   "cell_type": "markdown",
   "id": "1064b1f3",
   "metadata": {},
   "source": [
    "Replot the graph with log10 computation on the passenger count"
   ]
  },
  {
   "cell_type": "code",
   "execution_count": 44,
   "id": "fd523351",
   "metadata": {},
   "outputs": [
    {
     "data": {
      "application/vnd.jupyter.widget-view+json": {
       "model_id": "23bd6e233615470b8be42ea890affc5a",
       "version_major": 2,
       "version_minor": 0
      },
      "text/plain": [
       "Figure(axes=[Axis(label='Trip Distance', scale=LinearScale()), Axis(label='Total Amount', label_offset='48px',…"
      ]
     },
     "metadata": {},
     "output_type": "display_data"
    }
   ],
   "source": [
    "# Set up x/y scales\n",
    "x_sc = bqplot.LinearScale()\n",
    "y_sc = bqplot.LinearScale()\n",
    "\n",
    "# Set p axis\n",
    "x_ax = bqplot.Axis(scale = x_sc, label='Trip Distance')\n",
    "y_ax = bqplot.Axis(scale = y_sc, \n",
    "                   orientation = 'vertical', \n",
    "                   label='Total Amount',\n",
    "                  label_offset = \"48px\")\n",
    "\n",
    "# Add in color scale\n",
    "c_sc = bqplot.ColorScale()\n",
    "# color axes:\n",
    "c_ax = bqplot.ColorAxis(scale = c_sc, label = 'log(pass_c)', \n",
    "                       orientation = 'vertical', side = 'right')\n",
    "\n",
    "# set up marks\n",
    "scatters = bqplot.Scatter(x = grouped_trip_distance,\n",
    "                          y = grouped_total_amount,\n",
    "                          color = np.log10(grouped_passenger_count),\n",
    "                          scales = {'x': x_sc, \n",
    "                                    'y': y_sc,\n",
    "                                    'color':c_sc})\n",
    "\n",
    "fig = bqplot.Figure(marks = [scatters], axes = [x_ax, y_ax, c_ax]) \n",
    "fig"
   ]
  },
  {
   "cell_type": "markdown",
   "id": "4239b267",
   "metadata": {},
   "source": [
    "Well... No clear difference indicated after taking the log of the passenger count... Will remove the log in later stage"
   ]
  },
  {
   "cell_type": "markdown",
   "id": "c03cf477",
   "metadata": {},
   "source": [
    "Now we will try to create the heatmap by transforming the scatter plot we have into the heatmap"
   ]
  },
  {
   "cell_type": "code",
   "execution_count": 45,
   "id": "05b6a525",
   "metadata": {},
   "outputs": [
    {
     "data": {
      "image/png": "[encoded data removed]",
      "text/plain": [
       "<Figure size 432x288 with 2 Axes>"
      ]
     },
     "metadata": {
      "needs_background": "light"
     },
     "output_type": "display_data"
    }
   ],
   "source": [
    "plt.hist2d(x=grouped_trip_distance, \n",
    "           y=grouped_total_amount, \n",
    "           weights=grouped_passenger_count, \n",
    "          bins = graphBins, \n",
    "          cmap = 'RdPu')\n",
    "cb = plt.colorbar()\n",
    "cb.set_label('passenger counts')"
   ]
  },
  {
   "cell_type": "code",
   "execution_count": 46,
   "id": "a83ec188",
   "metadata": {},
   "outputs": [
    {
     "data": {
      "text/plain": [
       "(7201.0, 3373.0)"
      ]
     },
     "execution_count": 46,
     "metadata": {},
     "output_type": "execute_result"
    }
   ],
   "source": [
    "grouped_passenger_count.max(), grouped_passenger_count.min()"
   ]
  },
  {
   "cell_type": "code",
   "execution_count": 47,
   "id": "59aad390",
   "metadata": {},
   "outputs": [
    {
     "name": "stderr",
     "output_type": "stream",
     "text": [
      "/Users/rockywu/opt/anaconda3/envs/DataViz/lib/python3.7/site-packages/ipykernel_launcher.py:6: MatplotlibDeprecationWarning: default base may change from np.e to 10.  To suppress this warning specify the base keyword argument.\n",
      "  \n"
     ]
    },
    {
     "data": {
      "image/png": "[encoded data removed]",
      "text/plain": [
       "<Figure size 432x288 with 2 Axes>"
      ]
     },
     "metadata": {
      "needs_background": "light"
     },
     "output_type": "display_data"
    }
   ],
   "source": [
    "plt.hist2d(x=grouped_trip_distance, \n",
    "           y=grouped_total_amount, \n",
    "           weights=grouped_passenger_count, \n",
    "          bins = graphBins, \n",
    "          cmap = 'RdPu',\n",
    "          norm = mpl_colors.SymLogNorm(10))\n",
    "cb = plt.colorbar()\n",
    "cb.set_label('passenger counts')"
   ]
  },
  {
   "cell_type": "code",
   "execution_count": 48,
   "id": "48b2d3d2",
   "metadata": {},
   "outputs": [
    {
     "data": {
      "text/plain": [
       "array([[ 3373.,     0.,  3410.,     0.,  8469.,  4465.,     0.,  4816.,\n",
       "         5361.,     0.,     0.,     0.,     0.,     0.,     0.,     0.,\n",
       "            0.,     0.,     0.,     0.],\n",
       "       [    0.,     0.,     0.,     0.,     0.,     0.,     0.,  4597.,\n",
       "         5281.,  5735.,     0.,     0.,     0.,     0., 18417., 12414.,\n",
       "         5688.,  6356., 13802.,     0.],\n",
       "       [    0.,     0.,     0.,     0.,     0.,     0.,     0.,     0.,\n",
       "            0.,     0.,     0.,     0.,     0.,     0.,     0.,     0.,\n",
       "         6259., 13025., 27482., 14149.],\n",
       "       [    0.,     0.,     0.,     0.,     0.,     0.,     0.,     0.,\n",
       "            0.,     0.,     0.,     0.,     0.,     0.,     0.,     0.,\n",
       "            0.,     0.,     0.,     0.],\n",
       "       [    0.,     0.,     0.,     0.,     0.,     0.,     0.,     0.,\n",
       "            0.,     0.,     0.,     0.,     0.,     0.,     0.,     0.,\n",
       "            0.,     0.,     0.,     0.],\n",
       "       [    0.,     0.,     0.,     0.,     0.,     0.,     0.,     0.,\n",
       "            0.,     0.,     0.,     0.,     0.,     0.,     0.,     0.,\n",
       "            0.,     0.,     0.,     0.],\n",
       "       [    0.,     0.,     0.,     0.,     0.,     0.,     0.,     0.,\n",
       "            0.,     0.,     0.,     0.,     0.,     0.,     0.,     0.,\n",
       "            0.,     0.,     0.,     0.],\n",
       "       [    0.,     0.,     0.,     0.,     0.,     0.,     0.,     0.,\n",
       "            0.,     0.,     0.,     0.,     0.,     0.,     0.,     0.,\n",
       "            0.,     0.,     0.,     0.],\n",
       "       [    0.,     0.,     0.,     0.,     0.,     0.,     0.,     0.,\n",
       "            0.,     0.,     0.,     0.,     0.,     0.,     0.,     0.,\n",
       "            0.,     0.,     0.,     0.],\n",
       "       [    0.,     0.,     0.,     0.,     0.,     0.,     0.,     0.,\n",
       "            0.,     0.,     0.,     0.,     0.,     0.,     0.,     0.,\n",
       "            0.,     0.,     0.,     0.],\n",
       "       [    0.,     0.,     0.,     0.,     0.,     0.,     0.,     0.,\n",
       "            0.,     0.,     0.,     0.,     0.,     0.,     0.,     0.,\n",
       "            0.,     0.,     0.,     0.],\n",
       "       [    0.,     0.,     0.,     0.,     0.,     0.,     0.,     0.,\n",
       "            0.,  5453.,     0.,     0.,     0.,     0.,     0.,     0.,\n",
       "            0.,     0.,     0.,     0.],\n",
       "       [    0.,     0.,     0.,     0.,     0.,     0.,     0.,     0.,\n",
       "            0.,     0.,     0.,     0.,     0.,     0.,     0.,     0.,\n",
       "            0.,     0.,     0.,     0.],\n",
       "       [    0.,     0.,     0.,     0.,     0.,     0.,     0.,     0.,\n",
       "            0.,     0.,     0.,     0.,     0.,     0.,     0.,     0.,\n",
       "            0.,     0.,     0.,     0.],\n",
       "       [    0.,     0.,     0.,     0.,     0.,     0.,     0.,     0.,\n",
       "            0.,     0.,     0.,     0.,     0.,     0.,     0.,     0.,\n",
       "            0.,     0.,     0.,     0.],\n",
       "       [    0.,     0.,     0.,     0.,     0.,     0.,     0.,     0.,\n",
       "            0.,     0.,     0.,     0.,     0.,     0.,     0.,     0.,\n",
       "            0.,     0.,     0.,     0.],\n",
       "       [    0.,     0.,     0.,     0.,     0.,     0.,     0.,     0.,\n",
       "            0.,     0.,     0.,     0.,     0.,     0.,     0.,     0.,\n",
       "            0.,     0.,     0.,     0.],\n",
       "       [    0.,     0.,     0.,     0.,     0.,     0.,     0.,     0.,\n",
       "            0.,     0.,     0.,     0.,     0.,     0.,     0.,     0.,\n",
       "            0.,     0.,     0.,     0.],\n",
       "       [    0.,     0.,     0.,     0.,  4114.,     0.,     0.,     0.,\n",
       "            0.,     0.,     0.,     0.,     0.,     0.,     0.,     0.,\n",
       "            0.,     0.,     0.,     0.],\n",
       "       [    0.,     0.,     0.,     0.,     0.,     0.,     0.,     0.,\n",
       "            0.,     0.,     0.,     0.,     0.,     0.,     0.,     0.,\n",
       "         6684.,     0.,     0.,     0.]])"
      ]
     },
     "execution_count": 48,
     "metadata": {},
     "output_type": "execute_result"
    }
   ],
   "source": [
    "ntrip_distance = 20\n",
    "ntotal_payment = 20\n",
    "\n",
    "hist2d, trip_edges, pay_edges = np.histogram2d(grouped_trip_distance,\n",
    "                                              grouped_total_amount,\n",
    "                                              weights=grouped_passenger_count,\n",
    "                                              bins = [ntrip_distance, ntotal_payment])\n",
    "\n",
    "hist2d"
   ]
  },
  {
   "cell_type": "code",
   "execution_count": 49,
   "id": "e01bbfc8",
   "metadata": {},
   "outputs": [
    {
     "data": {
      "text/plain": [
       "(27482.0, 0.0)"
      ]
     },
     "execution_count": 49,
     "metadata": {},
     "output_type": "execute_result"
    }
   ],
   "source": [
    "hist2d.max(), hist2d.min()"
   ]
  },
  {
   "cell_type": "code",
   "execution_count": 50,
   "id": "6f644979",
   "metadata": {},
   "outputs": [
    {
     "name": "stderr",
     "output_type": "stream",
     "text": [
      "/Users/rockywu/opt/anaconda3/envs/DataViz/lib/python3.7/site-packages/ipykernel_launcher.py:1: MatplotlibDeprecationWarning: default base may change from np.e to 10.  To suppress this warning specify the base keyword argument.\n",
      "  \"\"\"Entry point for launching an IPython kernel.\n"
     ]
    },
    {
     "data": {
      "text/plain": [
       "<matplotlib.image.AxesImage at 0x7feef1f85690>"
      ]
     },
     "execution_count": 50,
     "metadata": {},
     "output_type": "execute_result"
    },
    {
     "data": {
      "image/png": "[encoded data removed]",
      "text/plain": [
       "<Figure size 432x288 with 1 Axes>"
      ]
     },
     "metadata": {
      "needs_background": "light"
     },
     "output_type": "display_data"
    }
   ],
   "source": [
    "plt.imshow(hist2d, cmap='RdPu', norm = mpl_colors.SymLogNorm(10))"
   ]
  },
  {
   "cell_type": "code",
   "execution_count": 51,
   "id": "2a3659aa",
   "metadata": {},
   "outputs": [
    {
     "name": "stderr",
     "output_type": "stream",
     "text": [
      "/Users/rockywu/opt/anaconda3/envs/DataViz/lib/python3.7/site-packages/ipykernel_launcher.py:1: MatplotlibDeprecationWarning: default base may change from np.e to 10.  To suppress this warning specify the base keyword argument.\n",
      "  \"\"\"Entry point for launching an IPython kernel.\n"
     ]
    },
    {
     "data": {
      "text/plain": [
       "<matplotlib.image.AxesImage at 0x7feef1f9ea10>"
      ]
     },
     "execution_count": 51,
     "metadata": {},
     "output_type": "execute_result"
    },
    {
     "data": {
      "image/png": "[encoded data removed]",
      "text/plain": [
       "<Figure size 432x288 with 1 Axes>"
      ]
     },
     "metadata": {
      "needs_background": "light"
     },
     "output_type": "display_data"
    }
   ],
   "source": [
    "plt.imshow(hist2d.T, cmap='RdPu', norm=mpl_colors.SymLogNorm(10))"
   ]
  },
  {
   "cell_type": "code",
   "execution_count": 52,
   "id": "468e795a",
   "metadata": {},
   "outputs": [
    {
     "data": {
      "text/plain": [
       "(2.2158148313657574e-08, 0.0)"
      ]
     },
     "execution_count": 52,
     "metadata": {},
     "output_type": "execute_result"
    }
   ],
   "source": [
    "hist2d, trip_edges, pay_edges = np.histogram2d(x=grouped_trip_distance,\n",
    "                                              y=grouped_total_amount,\n",
    "                                              weights=grouped_passenger_count,\n",
    "                                               density = True,\n",
    "                                              bins = [ntrip_distance, ntotal_payment])\n",
    "\n",
    "hist2d.max(), hist2d.min()"
   ]
  },
  {
   "cell_type": "code",
   "execution_count": 53,
   "id": "3202af1b",
   "metadata": {},
   "outputs": [
    {
     "data": {
      "text/plain": [
       "((20, 20), (21,), (21,))"
      ]
     },
     "execution_count": 53,
     "metadata": {},
     "output_type": "execute_result"
    }
   ],
   "source": [
    "hist2d.shape, trip_edges.shape, pay_edges.shape"
   ]
  },
  {
   "cell_type": "code",
   "execution_count": 54,
   "id": "ff47b7a9",
   "metadata": {},
   "outputs": [
    {
     "data": {
      "text/plain": [
       "array([ 9988.814, 12787.542, 15586.27 , 18384.998, 21183.726, 23982.454,\n",
       "       26781.182, 29579.91 , 32378.638, 35177.366, 37976.094, 40774.822,\n",
       "       43573.55 , 46372.278, 49171.006, 51969.734, 54768.462, 57567.19 ,\n",
       "       60365.918, 63164.646])"
      ]
     },
     "execution_count": 54,
     "metadata": {},
     "output_type": "execute_result"
    }
   ],
   "source": [
    "trip_centers = (trip_edges[:-1] + trip_edges[1:]) / 2\n",
    "trip_centers"
   ]
  },
  {
   "cell_type": "code",
   "execution_count": 55,
   "id": "08cfc20b",
   "metadata": {},
   "outputs": [
    {
     "data": {
      "text/plain": [
       "array([46657.86325, 49128.74975, 51599.63625, 54070.52275, 56541.40925,\n",
       "       59012.29575, 61483.18225, 63954.06875, 66424.95525, 68895.84175,\n",
       "       71366.72825, 73837.61475, 76308.50125, 78779.38775, 81250.27425,\n",
       "       83721.16075, 86192.04725, 88662.93375, 91133.82025, 93604.70675])"
      ]
     },
     "execution_count": 55,
     "metadata": {},
     "output_type": "execute_result"
    }
   ],
   "source": [
    "pay_centers = (pay_edges[:-1] + pay_edges[1:]) / 2\n",
    "pay_centers"
   ]
  },
  {
   "cell_type": "code",
   "execution_count": 56,
   "id": "77d31e4c",
   "metadata": {},
   "outputs": [
    {
     "name": "stdout",
     "output_type": "stream",
     "text": [
      "[100046.37  121227.544 142408.718 163589.892 184771.066 205952.24\n",
      " 227133.414 248314.588 269495.762 290676.936 311858.11  333039.284\n",
      " 354220.458 375401.632 396582.806 417763.98  438945.154 460126.328\n",
      " 481307.502 502488.676 523669.85 ] (21,)\n",
      "[479386.87   502758.2155 526129.561  549500.9065 572872.252  596243.5975\n",
      " 619614.943  642986.2885 666357.634  689728.9795 713100.325  736471.6705\n",
      " 759843.016  783214.3615 806585.707  829957.0525 853328.398  876699.7435\n",
      " 900071.089  923442.4345 946813.78  ] (21,)\n"
     ]
    }
   ],
   "source": [
    "trip_bins = np.linspace(100046.37, 523669.85, ntrip_distance + 1)\n",
    "pay_bins = np.linspace(479386.87, 946813.78, ntotal_payment + 1)\n",
    "print(trip_bins, trip_bins.shape)\n",
    "print(pay_bins, pay_bins.shape)"
   ]
  },
  {
   "cell_type": "code",
   "execution_count": 57,
   "id": "43af2886",
   "metadata": {},
   "outputs": [
    {
     "data": {
      "text/plain": [
       "(0.0, 0.0)"
      ]
     },
     "execution_count": 57,
     "metadata": {},
     "output_type": "execute_result"
    }
   ],
   "source": [
    "hist2d, trip_edges, pay_edges = np.histogram2d(grouped_trip_distance,\n",
    "                                              grouped_total_amount,\n",
    "                                              weights=grouped_passenger_count,\n",
    "                                              bins = [trip_bins, pay_bins])\n",
    "\n",
    "hist2d.max(), hist2d.min()"
   ]
  },
  {
   "cell_type": "code",
   "execution_count": 58,
   "id": "73c1bead",
   "metadata": {},
   "outputs": [],
   "source": [
    "trip_centers = (trip_edges[:-1] + trip_edges[1:]) / 2\n",
    "pay_centers = (pay_edges[:-1] + pay_edges[1:]) / 2"
   ]
  },
  {
   "cell_type": "code",
   "execution_count": 59,
   "id": "3c35556f",
   "metadata": {},
   "outputs": [],
   "source": [
    "hist2d = hist2d.T"
   ]
  },
  {
   "cell_type": "code",
   "execution_count": 60,
   "id": "7bc38432",
   "metadata": {},
   "outputs": [
    {
     "ename": "ValueError",
     "evalue": "zero-size array to reduction operation minimum which has no identity",
     "output_type": "error",
     "traceback": [
      "\u001b[0;31m---------------------------------------------------------------------------\u001b[0m",
      "\u001b[0;31mValueError\u001b[0m                                Traceback (most recent call last)",
      "\u001b[0;32m/var/folders/dd/6ssn970n5ys9cj8v78lr47lh0000gn/T/ipykernel_6580/2836968401.py\u001b[0m in \u001b[0;36m<module>\u001b[0;34m\u001b[0m\n\u001b[0;32m----> 1\u001b[0;31m \u001b[0mhist2d\u001b[0m\u001b[0;34m.\u001b[0m\u001b[0mmin\u001b[0m\u001b[0;34m(\u001b[0m\u001b[0;34m)\u001b[0m\u001b[0;34m,\u001b[0m \u001b[0mhist2d\u001b[0m\u001b[0;34m.\u001b[0m\u001b[0mmax\u001b[0m\u001b[0;34m(\u001b[0m\u001b[0;34m)\u001b[0m\u001b[0;34m,\u001b[0m \u001b[0mhist2d\u001b[0m\u001b[0;34m[\u001b[0m\u001b[0mhist2d\u001b[0m\u001b[0;34m>\u001b[0m\u001b[0;36m0\u001b[0m\u001b[0;34m]\u001b[0m\u001b[0;34m.\u001b[0m\u001b[0mmin\u001b[0m\u001b[0;34m(\u001b[0m\u001b[0;34m)\u001b[0m\u001b[0;34m\u001b[0m\u001b[0;34m\u001b[0m\u001b[0m\n\u001b[0m",
      "\u001b[0;32m~/opt/anaconda3/envs/DataViz/lib/python3.7/site-packages/numpy/core/_methods.py\u001b[0m in \u001b[0;36m_amin\u001b[0;34m(a, axis, out, keepdims, initial, where)\u001b[0m\n\u001b[1;32m     42\u001b[0m def _amin(a, axis=None, out=None, keepdims=False,\n\u001b[1;32m     43\u001b[0m           initial=_NoValue, where=True):\n\u001b[0;32m---> 44\u001b[0;31m     \u001b[0;32mreturn\u001b[0m \u001b[0mumr_minimum\u001b[0m\u001b[0;34m(\u001b[0m\u001b[0ma\u001b[0m\u001b[0;34m,\u001b[0m \u001b[0maxis\u001b[0m\u001b[0;34m,\u001b[0m \u001b[0;32mNone\u001b[0m\u001b[0;34m,\u001b[0m \u001b[0mout\u001b[0m\u001b[0;34m,\u001b[0m \u001b[0mkeepdims\u001b[0m\u001b[0;34m,\u001b[0m \u001b[0minitial\u001b[0m\u001b[0;34m,\u001b[0m \u001b[0mwhere\u001b[0m\u001b[0;34m)\u001b[0m\u001b[0;34m\u001b[0m\u001b[0;34m\u001b[0m\u001b[0m\n\u001b[0m\u001b[1;32m     45\u001b[0m \u001b[0;34m\u001b[0m\u001b[0m\n\u001b[1;32m     46\u001b[0m def _sum(a, axis=None, dtype=None, out=None, keepdims=False,\n",
      "\u001b[0;31mValueError\u001b[0m: zero-size array to reduction operation minimum which has no identity"
     ]
    }
   ],
   "source": [
    "hist2d.min(), hist2d.max(), hist2d[hist2d>0].min()"
   ]
  },
  {
   "cell_type": "code",
   "execution_count": null,
   "id": "8d825ff3",
   "metadata": {},
   "outputs": [],
   "source": [
    "np.log10(hist2d).min()"
   ]
  },
  {
   "cell_type": "code",
   "execution_count": null,
   "id": "119ba21c",
   "metadata": {},
   "outputs": [],
   "source": [
    "hist2d[hist2d <= 0] = np.nan\n",
    "hist2d = np.log10(hist2d)\n",
    "hist2d[:10]"
   ]
  },
  {
   "cell_type": "markdown",
   "id": "499dcfc4",
   "metadata": {},
   "source": [
    "### Convert the binning and reshaping into a function"
   ]
  },
  {
   "cell_type": "code",
   "execution_count": null,
   "id": "2b3d5254",
   "metadata": {},
   "outputs": [],
   "source": [
    "def generate_histogram_from_trip_pay(data, ntrip=20, npay=20, tripmin=100046.37, tripmax=523669.85,\n",
    "                                     paymin=479386.87, paymax=946813.78,\n",
    "                                     takeLog=True):\n",
    "    trip_bins = np.linspace(tripmin, tripmax, ntrip+1)\n",
    "    pay_bins = np.linspace(paymin, paymax, npay+1)\n",
    "    hist2d, trip_edges, pay_edges = np.histogram2d(grouped_trip_distance,\n",
    "                                                  grouped_total_amount,\n",
    "                                                  weights=grouped_passenger_count,\n",
    "                                                  bins = [trip_bins, pay_bins])\n",
    "    hist2d = hist2d.T\n",
    "    if takeLog:\n",
    "        hist2d[hist2d <= 0] = np.nan # set zeros to NaNs\n",
    "        # then take log\n",
    "        hist2d = np.log10(hist2d)\n",
    "        trip_centers = (trip_edges[:-1] + trip_edges[1:]) / 2\n",
    "        pay_centers = (pay_edges[:-1] + pay_edges[1:]) / 2\n",
    "    return hist2d, trip_centers, pay_centers, trip_edges, pay_edges"
   ]
  },
  {
   "cell_type": "markdown",
   "id": "4be67db0",
   "metadata": {},
   "source": [
    "Now we would just use the function"
   ]
  },
  {
   "cell_type": "code",
   "execution_count": null,
   "id": "2adce6a6",
   "metadata": {},
   "outputs": [],
   "source": [
    "hist2d, trip_centers, pay_centers, trip_edges, pay_edges = generate_histogram_from_trip_pay(data)"
   ]
  },
  {
   "cell_type": "markdown",
   "id": "432a8aac",
   "metadata": {},
   "source": [
    "Good, finally we can take a look at the heatmap"
   ]
  },
  {
   "cell_type": "code",
   "execution_count": null,
   "id": "dd9c683b",
   "metadata": {},
   "outputs": [],
   "source": [
    "col_sc = bqplot.ColorScale(scheme=\"RdPu\",\n",
    "                          min = np.nanmin(hist2d),\n",
    "                          max = np.nanmax(hist2d))\n",
    "x_sc = bqplot.LinearScale()\n",
    "y_sc = bqplot.LinearScale()\n",
    "\n",
    "# create axis\n",
    "c_ax = bqplot.ColorAxis(scale=col_sc, \n",
    "                        orientation='vertical', \n",
    "                       side = 'right')\n",
    "x_ax = bqplot.Axis(scale = x_sc, label='Trip Distance')\n",
    "y_ax = bqplot.Axis(scale = y_sc, \n",
    "                   label = 'Total Payment', \n",
    "                  orientation='vertical',\n",
    "                  label_offset = \"45px\")\n",
    "\n",
    "heat_map = bqplot.GridHeatMap(color = hist2d,\n",
    "                             row = pay_centers,\n",
    "                             column = trip_centers,\n",
    "                             scales = {'color':col_sc,\n",
    "                                      'row':y_sc,\n",
    "                                      'column':x_sc},\n",
    "                             interactions = {'click':'select'},\n",
    "                             anchor_style = {'fill':'blue'},\n",
    "                             selected_style = {'opacity':1.0},\n",
    "                             unselected_style = {'opacity':1.0})\n",
    "\n",
    "# show the fig\n",
    "fig = bqplot.Figure(marks = [heat_map], axes = [c_ax, y_ax, x_ax])\n",
    "fig"
   ]
  },
  {
   "cell_type": "markdown",
   "id": "c997dff1",
   "metadata": {},
   "source": [
    "Finally, we can build up a dashboard"
   ]
  },
  {
   "cell_type": "code",
   "execution_count": null,
   "id": "3890577b",
   "metadata": {},
   "outputs": [],
   "source": [
    "# scales\n",
    "col_sc = bqplot.ColorScale(scheme=\"RdPu\",\n",
    "                          min = np.nanmin(hist2d),\n",
    "                          max = np.nanmax(hist2d))\n",
    "x_sc = bqplot.LinearScale()\n",
    "y_sc = bqplot.LinearScale()\n",
    "\n",
    "# create axis\n",
    "c_ax = bqplot.ColorAxis(scale=col_sc, \n",
    "                        orientation='vertical', \n",
    "                       side = 'right')\n",
    "x_ax = bqplot.Axis(scale = x_sc, label='Trip Distance')\n",
    "y_ax = bqplot.Axis(scale = y_sc, \n",
    "                   label = 'Total Payment', \n",
    "                  orientation='vertical',\n",
    "                  label_offset = \"45px\")\n",
    "\n",
    "# marks\n",
    "heat_map = bqplot.GridHeatMap(color = hist2d,\n",
    "                             row = pay_centers,\n",
    "                             column = trip_centers,\n",
    "                             scales = {'color':col_sc,\n",
    "                                      'row':y_sc,\n",
    "                                      'column':x_sc},\n",
    "                             interactions = {'click':'select'},\n",
    "                             anchor_style = {'fill':'blue'},\n",
    "                             selected_style = {'opacity':1.0},\n",
    "                             unselected_style = {'opacity':1.0})\n",
    "\n",
    "# interaction:\n",
    "mySelectedLabel = ipywidgets.Label()\n",
    "def get_data_value(change):\n",
    "    if len(change['owner'].selected) == 1:\n",
    "        i, j = change['owner'].selected[0]\n",
    "        v = hist2d[i, j]\n",
    "        mySelectedLabel.value = \"Passenger Count in log \" + str(v)\n",
    "        \n",
    "heat_map.observe(get_data_value, 'selected')\n",
    "\n",
    "# show the fig\n",
    "fig = bqplot.Figure(marks = [heat_map], axes = [c_ax, y_ax, x_ax])\n",
    "myDashboard = ipywidgets.VBox([mySelectedLabel, fig])\n",
    "myDashboard"
   ]
  },
  {
   "cell_type": "markdown",
   "id": "5c1daefd",
   "metadata": {},
   "source": [
    "## Scatter plot + heatmap + DashBoard\n",
    "\n",
    "Great, now we could connect our graphs together"
   ]
  },
  {
   "cell_type": "code",
   "execution_count": null,
   "id": "c2963130",
   "metadata": {},
   "outputs": [],
   "source": [
    "# Create the label\n",
    "mySelectedLabel = ipywidgets.Label()"
   ]
  },
  {
   "cell_type": "markdown",
   "id": "28fe46b0",
   "metadata": {},
   "source": [
    "### Heat Map first~"
   ]
  },
  {
   "cell_type": "code",
   "execution_count": null,
   "id": "4c15ccc7",
   "metadata": {},
   "outputs": [],
   "source": [
    "# scales\n",
    "col_sc = bqplot.ColorScale(scheme=\"RdPu\",\n",
    "                          min = np.nanmin(hist2d),\n",
    "                          max = np.nanmax(hist2d))\n",
    "x_sc = bqplot.LinearScale()\n",
    "y_sc = bqplot.LinearScale()\n",
    "\n",
    "# create axis\n",
    "c_ax = bqplot.ColorAxis(scale=col_sc, \n",
    "                        orientation='vertical', \n",
    "                       side = 'right')\n",
    "x_ax = bqplot.Axis(scale = x_sc, label='Trip Distance')\n",
    "y_ax = bqplot.Axis(scale = y_sc, \n",
    "                   label = 'Total Payment', \n",
    "                  orientation='vertical',\n",
    "                  label_offset = \"45px\")\n",
    "\n",
    "# marks\n",
    "heat_map = bqplot.GridHeatMap(color = hist2d,\n",
    "                             row = pay_centers,\n",
    "                             column = trip_centers,\n",
    "                             scales = {'color':col_sc,\n",
    "                                      'row':y_sc,\n",
    "                                      'column':x_sc},\n",
    "                             interactions = {'click':'select'},\n",
    "                             anchor_style = {'fill':'blue'},\n",
    "                             selected_style = {'opacity':1.0},\n",
    "                             unselected_style = {'opacity':1.0})"
   ]
  },
  {
   "cell_type": "markdown",
   "id": "cb0f3a0e",
   "metadata": {},
   "source": [
    "### Then scatter plot"
   ]
  },
  {
   "cell_type": "code",
   "execution_count": null,
   "id": "0140063b",
   "metadata": {},
   "outputs": [],
   "source": [
    "data['pickup_date'].min(), data['pickup_date'].max()"
   ]
  },
  {
   "cell_type": "code",
   "execution_count": null,
   "id": "5e391ec6",
   "metadata": {},
   "outputs": [],
   "source": [
    "# scales\n",
    "x_scl = bqplot.DateScale(min=data['pickup_date'].min(),max=data['pickup_date'].max())\n",
    "y_scl = bqplot.LogScale()\n",
    "\n",
    "# axis\n",
    "ax_xcl = bqplot.Axis(label = \"Date\", scale=x_scl)\n",
    "ax_ycl = bqplot.Axis(label = 'Passenger Count in Log', scale = y_scl,\n",
    "                    orientation = 'vertical', side = 'left')\n",
    "\n",
    "# Start with an default data - just randomly picked one\n",
    "i, j = 15, 0\n",
    "trips = [trip_edges[j], trip_edges[j+1]]\n",
    "pays = [pay_edges[i], pay_edges[i+1]]\n",
    "pass_scatt = bqplot.Scatter(x=data['pickup_date'],\n",
    "                               y=data['passenger_count'],\n",
    "                               scales = {'x':x_scl, 'y':y_scl})"
   ]
  },
  {
   "cell_type": "markdown",
   "id": "a98b34e0",
   "metadata": {},
   "source": [
    "Define the interaction function~"
   ]
  },
  {
   "cell_type": "code",
   "execution_count": null,
   "id": "7c1bbf74",
   "metadata": {},
   "outputs": [],
   "source": [
    "data.columns"
   ]
  },
  {
   "cell_type": "code",
   "execution_count": null,
   "id": "8044abe8",
   "metadata": {},
   "outputs": [],
   "source": [
    "def get_data_value(change):\n",
    "    if len(change['owner'].selected) == 1:\n",
    "        i, j = change['owner'].selected[0]\n",
    "        v = hist2d[i, j]\n",
    "        mySelectedLabel.value = \"Passenger Count \" + str(v)\n",
    "        trips = [trip_edges[j], trip_edges[j+1]]\n",
    "        pays = [pay_edges[i], pay_edges[i+1]]\n",
    "        region_mask = ((data['total_amount'] >= pays[0]) & (data['total_amount']<=pays[1]) &\\\n",
    "                    (data['trip_distance'] >= trips[0]) & (data['trip_distance']<=trips[1]) )\n",
    "        pass_scatt = bqplot.Scatter(x=data['pickup_date'][region_mask],\n",
    "                               y=data['passenger_count'][region_mask],\n",
    "                               scales = {'x':x_scl, 'y':y_scl})\n",
    "        \n",
    "heat_map.observe(get_data_value, 'selected')"
   ]
  },
  {
   "cell_type": "code",
   "execution_count": null,
   "id": "86d07a9f",
   "metadata": {},
   "outputs": [],
   "source": [
    "region_mask = ((data['total_amount'] >= pays[0]) & (data['total_amount']<=pays[1]) &\\\n",
    "                    (data['trip_distance'] >= trips[0]) & (data['trip_distance']<=trips[1]) )\n",
    "\n",
    "pays[1]"
   ]
  },
  {
   "cell_type": "code",
   "execution_count": null,
   "id": "f25c21d3",
   "metadata": {},
   "outputs": [],
   "source": [
    "# (5) create figures\n",
    "fig_heatmap = bqplot.Figure(marks = [heat_map], axes = [c_ax, y_ax, x_ax])\n",
    "fig_pass = bqplot.Figure(marks = [pass_scatt], axes = [ax_xcl, ax_ycl])"
   ]
  },
  {
   "cell_type": "code",
   "execution_count": null,
   "id": "838384b5",
   "metadata": {},
   "outputs": [],
   "source": [
    "fig_heatmap.layout.min_width='500px'\n",
    "fig_pass.layout.min_width='500px'\n",
    "\n",
    "myDashboard = ipywidgets.VBox([mySelectedLabel, ipywidgets.HBox([fig_heatmap,fig_pass])])\n",
    "myDashboard"
   ]
  }
 ],
 "metadata": {
  "kernelspec": {
   "display_name": "Python 3 (ipykernel)",
   "language": "python",
   "name": "python3"
  },
  "language_info": {
   "codemirror_mode": {
    "name": "ipython",
    "version": 3
   },
   "file_extension": ".py",
   "mimetype": "text/x-python",
   "name": "python",
   "nbconvert_exporter": "python",
   "pygments_lexer": "ipython3",
   "version": "3.7.12"
  }
 },
 "nbformat": 4,
 "nbformat_minor": 5
}
