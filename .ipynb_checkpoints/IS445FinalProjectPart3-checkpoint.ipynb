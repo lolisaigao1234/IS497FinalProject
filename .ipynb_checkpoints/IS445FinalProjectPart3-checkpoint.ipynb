{
 "cells": [
  {
   "cell_type": "markdown",
   "id": "d62dc918",
   "metadata": {},
   "source": [
    "# Rocky Wu - jywu3"
   ]
  },
  {
   "cell_type": "markdown",
   "id": "9d35f5eb",
   "metadata": {},
   "source": [
    "Code Source that I looked at and learned from: [link](https://uiuc-ischool-dataviz.github.io/is445_spring2022/nbv.html?notebook_name=%2Fis445_spring2022%2Fweek07%2Fprep_notebook_week07_part1.ipynb)"
   ]
  },
  {
   "cell_type": "markdown",
   "id": "7c9643ac",
   "metadata": {},
   "source": [
    "As usual, import the packages we want"
   ]
  },
  {
   "cell_type": "code",
   "execution_count": 1,
   "id": "af7cbff4",
   "metadata": {},
   "outputs": [],
   "source": [
    "import pandas as pd\n",
    "import numpy as np\n",
    "import matplotlib.pyplot as plt\n",
    "import ipywidgets\n",
    "import bqplot\n",
    "import matplotlib.colors as mpl_colors\n",
    "import seaborn as sns\n",
    "import datetime"
   ]
  },
  {
   "cell_type": "markdown",
   "id": "7bbe81d3",
   "metadata": {},
   "source": [
    "---"
   ]
  },
  {
   "cell_type": "markdown",
   "id": "642bbc01",
   "metadata": {},
   "source": [
    "# Final Project - Code Section"
   ]
  },
  {
   "cell_type": "markdown",
   "id": "4b19a1da",
   "metadata": {},
   "source": [
    "## Explore the Dataset:"
   ]
  },
  {
   "cell_type": "markdown",
   "id": "c9138012",
   "metadata": {},
   "source": [
    "The name of the dataset: Yellow Taxi trip data 2021-01 in NYC\n",
    "\n",
    "We can obtain the dataset at the TLC official site. https://www1.nyc.gov/site/tlc/about/tlc-trip-record-data.page\n",
    "\n",
    "The link towards the dataset: https://s3.amazonaws.com/nyc-tlc/trip+data/yellow_tripdata_2021-01.csv\n",
    "\n",
    "Preferably, download the dataset first as the dataset is fairly large, 126MB.\n",
    "\n",
    "However, as I had exceeded the Git LFS in my plan, I swapped the local import into url.\n",
    "\n",
    "No identification of the license, so I am assuming we can play around with it. I do find an user guide of the dataset, but not much was mentioned on what we can do with the data. Link to the user guide: https://www1.nyc.gov/assets/tlc/downloads/pdf/trip_record_user_guide.pdf\n",
    "\n",
    "The dictionary of the dataset:https://www1.nyc.gov/assets/tlc/downloads/pdf/data_dictionary_trip_records_yellow.pdf"
   ]
  },
  {
   "cell_type": "markdown",
   "id": "8b72be2c",
   "metadata": {},
   "source": [
    "---"
   ]
  },
  {
   "cell_type": "markdown",
   "id": "5f59db73",
   "metadata": {},
   "source": [
    "### Columns Explained:"
   ]
  },
  {
   "cell_type": "markdown",
   "id": "18b5163f",
   "metadata": {},
   "source": [
    "The following columns are the columns that I will be used in the final project part 3. The explanation for rest of the columns can be found inside the dictionary of the dataset noted above. "
   ]
  },
  {
   "cell_type": "markdown",
   "id": "9e7bb329",
   "metadata": {},
   "source": [
    "tpep_pickup_datetime - The date and time when the meter was engaged.\n",
    "\n",
    "Passenger_count - The number of passengers in the vehicle. This is a driver-entered value.\n",
    "\n",
    "Trip_distance - The elapsed trip distance in miles reported by the taximeter.\n",
    "\n",
    "Total_amount - The total amount charged to passengers. Does not include cash tips."
   ]
  },
  {
   "cell_type": "markdown",
   "id": "1df1540c",
   "metadata": {},
   "source": [
    "---"
   ]
  },
  {
   "cell_type": "markdown",
   "id": "57188476",
   "metadata": {},
   "source": [
    "### Take a look of the dataset"
   ]
  },
  {
   "cell_type": "markdown",
   "id": "c5c5ac0a",
   "metadata": {},
   "source": [
    "There was a warning indicating the dtype conflicts in some of the columns in the dataset. Will deal with the warning in the later stage. Escaping the warning now by setting low_memory = False"
   ]
  },
  {
   "cell_type": "markdown",
   "id": "a30fbbe6",
   "metadata": {},
   "source": [
    "We will first downsample the dataset, else mybinder could not handle the dataset. I am taking the number of samples to be 0.1% of the original dataset else mybinder would crash. Feel free to adjust the sample to see different results."
   ]
  },
  {
   "cell_type": "code",
   "execution_count": 2,
   "id": "ea1adddd",
   "metadata": {
    "scrolled": true
   },
   "outputs": [],
   "source": [
    "data_2021 = pd.read_csv(\"https://s3.amazonaws.com/nyc-tlc/trip+data/yellow_tripdata_2021-01.csv\", \n",
    "                   low_memory=False)"
   ]
  },
  {
   "cell_type": "code",
   "execution_count": 3,
   "id": "a7d869e4",
   "metadata": {},
   "outputs": [],
   "source": [
    "np.random.seed(2022)\n",
    "nsamples = len(data_2021) // 100\n",
    "downSampleMask = np.random.choice(range(len(data_2021)-1), \n",
    "                                  nsamples, replace=False)\n",
    "data_2021 = data_2021.loc[downSampleMask]"
   ]
  },
  {
   "cell_type": "code",
   "execution_count": 4,
   "id": "5107916f",
   "metadata": {},
   "outputs": [
    {
     "data": {
      "text/html": [
       "<div>\n",
       "<style scoped>\n",
       "    .dataframe tbody tr th:only-of-type {\n",
       "        vertical-align: middle;\n",
       "    }\n",
       "\n",
       "    .dataframe tbody tr th {\n",
       "        vertical-align: top;\n",
       "    }\n",
       "\n",
       "    .dataframe thead th {\n",
       "        text-align: right;\n",
       "    }\n",
       "</style>\n",
       "<table border=\"1\" class=\"dataframe\">\n",
       "  <thead>\n",
       "    <tr style=\"text-align: right;\">\n",
       "      <th></th>\n",
       "      <th>VendorID</th>\n",
       "      <th>tpep_pickup_datetime</th>\n",
       "      <th>tpep_dropoff_datetime</th>\n",
       "      <th>passenger_count</th>\n",
       "      <th>trip_distance</th>\n",
       "      <th>RatecodeID</th>\n",
       "      <th>store_and_fwd_flag</th>\n",
       "      <th>PULocationID</th>\n",
       "      <th>DOLocationID</th>\n",
       "      <th>payment_type</th>\n",
       "      <th>fare_amount</th>\n",
       "      <th>extra</th>\n",
       "      <th>mta_tax</th>\n",
       "      <th>tip_amount</th>\n",
       "      <th>tolls_amount</th>\n",
       "      <th>improvement_surcharge</th>\n",
       "      <th>total_amount</th>\n",
       "      <th>congestion_surcharge</th>\n",
       "    </tr>\n",
       "  </thead>\n",
       "  <tbody>\n",
       "    <tr>\n",
       "      <th>1158080</th>\n",
       "      <td>2.0</td>\n",
       "      <td>2021-01-29 07:50:29</td>\n",
       "      <td>2021-01-29 07:58:11</td>\n",
       "      <td>1.0</td>\n",
       "      <td>0.80</td>\n",
       "      <td>1.0</td>\n",
       "      <td>N</td>\n",
       "      <td>163</td>\n",
       "      <td>237</td>\n",
       "      <td>1.0</td>\n",
       "      <td>6.5</td>\n",
       "      <td>0.0</td>\n",
       "      <td>0.5</td>\n",
       "      <td>1.47</td>\n",
       "      <td>0.00</td>\n",
       "      <td>0.3</td>\n",
       "      <td>11.27</td>\n",
       "      <td>2.5</td>\n",
       "    </tr>\n",
       "    <tr>\n",
       "      <th>373006</th>\n",
       "      <td>2.0</td>\n",
       "      <td>2021-01-11 08:23:28</td>\n",
       "      <td>2021-01-11 08:47:21</td>\n",
       "      <td>1.0</td>\n",
       "      <td>4.25</td>\n",
       "      <td>1.0</td>\n",
       "      <td>N</td>\n",
       "      <td>186</td>\n",
       "      <td>262</td>\n",
       "      <td>1.0</td>\n",
       "      <td>18.0</td>\n",
       "      <td>0.0</td>\n",
       "      <td>0.5</td>\n",
       "      <td>5.33</td>\n",
       "      <td>0.00</td>\n",
       "      <td>0.3</td>\n",
       "      <td>26.63</td>\n",
       "      <td>2.5</td>\n",
       "    </tr>\n",
       "    <tr>\n",
       "      <th>223110</th>\n",
       "      <td>1.0</td>\n",
       "      <td>2021-01-07 11:15:57</td>\n",
       "      <td>2021-01-07 11:21:21</td>\n",
       "      <td>1.0</td>\n",
       "      <td>0.80</td>\n",
       "      <td>1.0</td>\n",
       "      <td>N</td>\n",
       "      <td>246</td>\n",
       "      <td>100</td>\n",
       "      <td>1.0</td>\n",
       "      <td>5.5</td>\n",
       "      <td>2.5</td>\n",
       "      <td>0.5</td>\n",
       "      <td>1.75</td>\n",
       "      <td>0.00</td>\n",
       "      <td>0.3</td>\n",
       "      <td>10.55</td>\n",
       "      <td>2.5</td>\n",
       "    </tr>\n",
       "    <tr>\n",
       "      <th>353258</th>\n",
       "      <td>2.0</td>\n",
       "      <td>2021-01-10 14:23:25</td>\n",
       "      <td>2021-01-10 14:39:36</td>\n",
       "      <td>5.0</td>\n",
       "      <td>9.39</td>\n",
       "      <td>1.0</td>\n",
       "      <td>N</td>\n",
       "      <td>138</td>\n",
       "      <td>248</td>\n",
       "      <td>1.0</td>\n",
       "      <td>26.5</td>\n",
       "      <td>0.0</td>\n",
       "      <td>0.5</td>\n",
       "      <td>10.03</td>\n",
       "      <td>6.12</td>\n",
       "      <td>0.3</td>\n",
       "      <td>43.45</td>\n",
       "      <td>0.0</td>\n",
       "    </tr>\n",
       "    <tr>\n",
       "      <th>787311</th>\n",
       "      <td>2.0</td>\n",
       "      <td>2021-01-20 18:53:10</td>\n",
       "      <td>2021-01-20 18:57:16</td>\n",
       "      <td>1.0</td>\n",
       "      <td>0.60</td>\n",
       "      <td>1.0</td>\n",
       "      <td>N</td>\n",
       "      <td>142</td>\n",
       "      <td>239</td>\n",
       "      <td>1.0</td>\n",
       "      <td>5.0</td>\n",
       "      <td>1.0</td>\n",
       "      <td>0.5</td>\n",
       "      <td>2.32</td>\n",
       "      <td>0.00</td>\n",
       "      <td>0.3</td>\n",
       "      <td>11.62</td>\n",
       "      <td>2.5</td>\n",
       "    </tr>\n",
       "  </tbody>\n",
       "</table>\n",
       "</div>"
      ],
      "text/plain": [
       "         VendorID tpep_pickup_datetime tpep_dropoff_datetime  passenger_count  \\\n",
       "1158080       2.0  2021-01-29 07:50:29   2021-01-29 07:58:11              1.0   \n",
       "373006        2.0  2021-01-11 08:23:28   2021-01-11 08:47:21              1.0   \n",
       "223110        1.0  2021-01-07 11:15:57   2021-01-07 11:21:21              1.0   \n",
       "353258        2.0  2021-01-10 14:23:25   2021-01-10 14:39:36              5.0   \n",
       "787311        2.0  2021-01-20 18:53:10   2021-01-20 18:57:16              1.0   \n",
       "\n",
       "         trip_distance  RatecodeID store_and_fwd_flag  PULocationID  \\\n",
       "1158080           0.80         1.0                  N           163   \n",
       "373006            4.25         1.0                  N           186   \n",
       "223110            0.80         1.0                  N           246   \n",
       "353258            9.39         1.0                  N           138   \n",
       "787311            0.60         1.0                  N           142   \n",
       "\n",
       "         DOLocationID  payment_type  fare_amount  extra  mta_tax  tip_amount  \\\n",
       "1158080           237           1.0          6.5    0.0      0.5        1.47   \n",
       "373006            262           1.0         18.0    0.0      0.5        5.33   \n",
       "223110            100           1.0          5.5    2.5      0.5        1.75   \n",
       "353258            248           1.0         26.5    0.0      0.5       10.03   \n",
       "787311            239           1.0          5.0    1.0      0.5        2.32   \n",
       "\n",
       "         tolls_amount  improvement_surcharge  total_amount  \\\n",
       "1158080          0.00                    0.3         11.27   \n",
       "373006           0.00                    0.3         26.63   \n",
       "223110           0.00                    0.3         10.55   \n",
       "353258           6.12                    0.3         43.45   \n",
       "787311           0.00                    0.3         11.62   \n",
       "\n",
       "         congestion_surcharge  \n",
       "1158080                   2.5  \n",
       "373006                    2.5  \n",
       "223110                    2.5  \n",
       "353258                    0.0  \n",
       "787311                    2.5  "
      ]
     },
     "execution_count": 4,
     "metadata": {},
     "output_type": "execute_result"
    }
   ],
   "source": [
    "data_2021.head()"
   ]
  },
  {
   "cell_type": "markdown",
   "id": "501219b0",
   "metadata": {},
   "source": [
    "In total 1369765 rows after downsampling inside the dataset, indeed a large one."
   ]
  },
  {
   "cell_type": "code",
   "execution_count": 5,
   "id": "f91cc5c7",
   "metadata": {},
   "outputs": [
    {
     "data": {
      "text/plain": [
       "13697"
      ]
     },
     "execution_count": 5,
     "metadata": {},
     "output_type": "execute_result"
    }
   ],
   "source": [
    "len(data_2021)"
   ]
  },
  {
   "cell_type": "markdown",
   "id": "23cc4c5d",
   "metadata": {},
   "source": [
    "How many columns:"
   ]
  },
  {
   "cell_type": "code",
   "execution_count": 6,
   "id": "c2fdd6eb",
   "metadata": {},
   "outputs": [
    {
     "data": {
      "text/plain": [
       "18"
      ]
     },
     "execution_count": 6,
     "metadata": {},
     "output_type": "execute_result"
    }
   ],
   "source": [
    "len(data_2021.columns)"
   ]
  },
  {
   "cell_type": "markdown",
   "id": "e1e42415",
   "metadata": {},
   "source": [
    "Take a look on the columns that we cared and their datatypes:"
   ]
  },
  {
   "cell_type": "markdown",
   "id": "2a741234",
   "metadata": {},
   "source": [
    "Create a set to inspect: (better performance in runtime)"
   ]
  },
  {
   "cell_type": "code",
   "execution_count": 7,
   "id": "dd57939f",
   "metadata": {},
   "outputs": [],
   "source": [
    "columnsCared = {'tpep_pickup_datetime', 'passenger_count',\n",
    "               'trip_distance','total_amount'}"
   ]
  },
  {
   "cell_type": "code",
   "execution_count": 8,
   "id": "d7d17f12",
   "metadata": {},
   "outputs": [
    {
     "name": "stdout",
     "output_type": "stream",
     "text": [
      "passenger_count float64\n",
      "trip_distance float64\n",
      "tpep_pickup_datetime object\n",
      "total_amount float64\n"
     ]
    }
   ],
   "source": [
    "for c in columnsCared:\n",
    "    print(c, data_2021[c].dtype)"
   ]
  },
  {
   "cell_type": "markdown",
   "id": "58dad34c",
   "metadata": {},
   "source": [
    "---"
   ]
  },
  {
   "cell_type": "markdown",
   "id": "bb437da6",
   "metadata": {},
   "source": [
    "### Explore the values inside each column"
   ]
  },
  {
   "cell_type": "markdown",
   "id": "9704b527",
   "metadata": {},
   "source": [
    "From the above, we can tell that the datetime column need some cleaning. We would create a new column called \"pickup_date\" to store the values that transferred the values inside \"tpep_pickup_datetime\" into date objects."
   ]
  },
  {
   "cell_type": "code",
   "execution_count": 9,
   "id": "5e5c6555",
   "metadata": {},
   "outputs": [
    {
     "data": {
      "text/plain": [
       "1158080   2021-01-29\n",
       "373006    2021-01-11\n",
       "223110    2021-01-07\n",
       "353258    2021-01-10\n",
       "787311    2021-01-20\n",
       "Name: pickup_date, dtype: datetime64[ns]"
      ]
     },
     "execution_count": 9,
     "metadata": {},
     "output_type": "execute_result"
    }
   ],
   "source": [
    "data_2021['pickup_date'] = pd.to_datetime(data_2021['tpep_pickup_datetime']).dt.date\n",
    "data_2021['pickup_date'] = pd.to_datetime(data_2021['pickup_date'])\n",
    "data_2021['pickup_date'].head()"
   ]
  },
  {
   "cell_type": "markdown",
   "id": "bd383948",
   "metadata": {},
   "source": [
    "Good, now we have changed the datatype of the dates into the correct type, lets see if there are any nan or strange entries in the column"
   ]
  },
  {
   "cell_type": "code",
   "execution_count": 10,
   "id": "a28b1c7e",
   "metadata": {
    "scrolled": true
   },
   "outputs": [
    {
     "data": {
      "text/plain": [
       "array([datetime.date(2021, 1, 29), datetime.date(2021, 1, 11),\n",
       "       datetime.date(2021, 1, 7), datetime.date(2021, 1, 10),\n",
       "       datetime.date(2021, 1, 20), datetime.date(2021, 1, 14),\n",
       "       datetime.date(2021, 1, 4), datetime.date(2021, 1, 23),\n",
       "       datetime.date(2021, 1, 28), datetime.date(2021, 1, 8),\n",
       "       datetime.date(2021, 1, 2), datetime.date(2021, 1, 1),\n",
       "       datetime.date(2021, 1, 26), datetime.date(2021, 1, 13),\n",
       "       datetime.date(2021, 1, 21), datetime.date(2021, 1, 12),\n",
       "       datetime.date(2021, 1, 6), datetime.date(2021, 1, 15),\n",
       "       datetime.date(2021, 1, 19), datetime.date(2021, 1, 22),\n",
       "       datetime.date(2021, 1, 16), datetime.date(2021, 1, 9),\n",
       "       datetime.date(2021, 1, 27), datetime.date(2021, 1, 30),\n",
       "       datetime.date(2021, 1, 25), datetime.date(2021, 1, 5),\n",
       "       datetime.date(2021, 1, 31), datetime.date(2021, 1, 18),\n",
       "       datetime.date(2021, 1, 24), datetime.date(2021, 1, 17),\n",
       "       datetime.date(2021, 1, 3), datetime.date(2020, 12, 31)],\n",
       "      dtype=object)"
      ]
     },
     "execution_count": 10,
     "metadata": {},
     "output_type": "execute_result"
    }
   ],
   "source": [
    "pd.to_datetime(data_2021['pickup_date']).dt.date.unique()"
   ]
  },
  {
   "cell_type": "markdown",
   "id": "66a86ac4",
   "metadata": {},
   "source": [
    "---"
   ]
  },
  {
   "cell_type": "markdown",
   "id": "efc994d8",
   "metadata": {},
   "source": [
    "### Data Cleaning"
   ]
  },
  {
   "cell_type": "markdown",
   "id": "360d74d9",
   "metadata": {},
   "source": [
    "Notice that we have three errorous data in the dataset, some indicated 2008/12/31, some indicated 2020/12/31 and the rest indicating 2009/12/31. We should remove these entries."
   ]
  },
  {
   "cell_type": "code",
   "execution_count": 11,
   "id": "7b1928d1",
   "metadata": {
    "scrolled": true
   },
   "outputs": [
    {
     "data": {
      "text/html": [
       "<div>\n",
       "<style scoped>\n",
       "    .dataframe tbody tr th:only-of-type {\n",
       "        vertical-align: middle;\n",
       "    }\n",
       "\n",
       "    .dataframe tbody tr th {\n",
       "        vertical-align: top;\n",
       "    }\n",
       "\n",
       "    .dataframe thead th {\n",
       "        text-align: right;\n",
       "    }\n",
       "</style>\n",
       "<table border=\"1\" class=\"dataframe\">\n",
       "  <thead>\n",
       "    <tr style=\"text-align: right;\">\n",
       "      <th></th>\n",
       "      <th>VendorID</th>\n",
       "      <th>tpep_pickup_datetime</th>\n",
       "      <th>tpep_dropoff_datetime</th>\n",
       "      <th>passenger_count</th>\n",
       "      <th>trip_distance</th>\n",
       "      <th>RatecodeID</th>\n",
       "      <th>store_and_fwd_flag</th>\n",
       "      <th>PULocationID</th>\n",
       "      <th>DOLocationID</th>\n",
       "      <th>payment_type</th>\n",
       "      <th>fare_amount</th>\n",
       "      <th>extra</th>\n",
       "      <th>mta_tax</th>\n",
       "      <th>tip_amount</th>\n",
       "      <th>tolls_amount</th>\n",
       "      <th>improvement_surcharge</th>\n",
       "      <th>total_amount</th>\n",
       "      <th>congestion_surcharge</th>\n",
       "      <th>pickup_date</th>\n",
       "    </tr>\n",
       "  </thead>\n",
       "  <tbody>\n",
       "    <tr>\n",
       "      <th>637</th>\n",
       "      <td>2.0</td>\n",
       "      <td>2020-12-31 18:41:27</td>\n",
       "      <td>2021-01-01 17:52:03</td>\n",
       "      <td>1.0</td>\n",
       "      <td>2.61</td>\n",
       "      <td>1.0</td>\n",
       "      <td>N</td>\n",
       "      <td>90</td>\n",
       "      <td>229</td>\n",
       "      <td>1.0</td>\n",
       "      <td>10.0</td>\n",
       "      <td>0.5</td>\n",
       "      <td>0.5</td>\n",
       "      <td>2.76</td>\n",
       "      <td>0.0</td>\n",
       "      <td>0.3</td>\n",
       "      <td>16.56</td>\n",
       "      <td>2.5</td>\n",
       "      <td>2020-12-31</td>\n",
       "    </tr>\n",
       "  </tbody>\n",
       "</table>\n",
       "</div>"
      ],
      "text/plain": [
       "     VendorID tpep_pickup_datetime tpep_dropoff_datetime  passenger_count  \\\n",
       "637       2.0  2020-12-31 18:41:27   2021-01-01 17:52:03              1.0   \n",
       "\n",
       "     trip_distance  RatecodeID store_and_fwd_flag  PULocationID  DOLocationID  \\\n",
       "637           2.61         1.0                  N            90           229   \n",
       "\n",
       "     payment_type  fare_amount  extra  mta_tax  tip_amount  tolls_amount  \\\n",
       "637           1.0         10.0    0.5      0.5        2.76           0.0   \n",
       "\n",
       "     improvement_surcharge  total_amount  congestion_surcharge pickup_date  \n",
       "637                    0.3         16.56                   2.5  2020-12-31  "
      ]
     },
     "execution_count": 11,
     "metadata": {},
     "output_type": "execute_result"
    }
   ],
   "source": [
    "data_2021[(data_2021['pickup_date'] <= \"2020-12-31\") \n",
    "     | (data_2021['pickup_date'] > \"2021-01-31\")].head()"
   ]
  },
  {
   "cell_type": "markdown",
   "id": "da0ecabf",
   "metadata": {},
   "source": [
    "Create a dropIndex list to remove all the error data"
   ]
  },
  {
   "cell_type": "code",
   "execution_count": 12,
   "id": "1e3db262",
   "metadata": {},
   "outputs": [],
   "source": [
    "dropIndex = list(data_2021[(data_2021['pickup_date'] <= \"2020-12-31\") \n",
    "     | (data_2021['pickup_date'] > \"2021-01-31\")].index)"
   ]
  },
  {
   "cell_type": "markdown",
   "id": "d0c5a0e5",
   "metadata": {},
   "source": [
    "Take a look inside the dropIndex"
   ]
  },
  {
   "cell_type": "code",
   "execution_count": 13,
   "id": "889f8726",
   "metadata": {},
   "outputs": [
    {
     "data": {
      "text/plain": [
       "([637], 1)"
      ]
     },
     "execution_count": 13,
     "metadata": {},
     "output_type": "execute_result"
    }
   ],
   "source": [
    "dropIndex[:5], len(dropIndex)"
   ]
  },
  {
   "cell_type": "markdown",
   "id": "a67abf58",
   "metadata": {},
   "source": [
    "Drop the error data"
   ]
  },
  {
   "cell_type": "code",
   "execution_count": 14,
   "id": "e23dc217",
   "metadata": {},
   "outputs": [],
   "source": [
    "data_2021.drop([i for i in dropIndex], inplace=True)"
   ]
  },
  {
   "cell_type": "markdown",
   "id": "af0ed080",
   "metadata": {},
   "source": [
    "Now the data should look good"
   ]
  },
  {
   "cell_type": "code",
   "execution_count": 15,
   "id": "3a9d1b79",
   "metadata": {},
   "outputs": [
    {
     "data": {
      "text/plain": [
       "array([datetime.date(2021, 1, 29), datetime.date(2021, 1, 11),\n",
       "       datetime.date(2021, 1, 7), datetime.date(2021, 1, 10),\n",
       "       datetime.date(2021, 1, 20), datetime.date(2021, 1, 14),\n",
       "       datetime.date(2021, 1, 4), datetime.date(2021, 1, 23),\n",
       "       datetime.date(2021, 1, 28), datetime.date(2021, 1, 8),\n",
       "       datetime.date(2021, 1, 2), datetime.date(2021, 1, 1),\n",
       "       datetime.date(2021, 1, 26), datetime.date(2021, 1, 13),\n",
       "       datetime.date(2021, 1, 21), datetime.date(2021, 1, 12),\n",
       "       datetime.date(2021, 1, 6), datetime.date(2021, 1, 15),\n",
       "       datetime.date(2021, 1, 19), datetime.date(2021, 1, 22),\n",
       "       datetime.date(2021, 1, 16), datetime.date(2021, 1, 9),\n",
       "       datetime.date(2021, 1, 27), datetime.date(2021, 1, 30),\n",
       "       datetime.date(2021, 1, 25), datetime.date(2021, 1, 5),\n",
       "       datetime.date(2021, 1, 31), datetime.date(2021, 1, 18),\n",
       "       datetime.date(2021, 1, 24), datetime.date(2021, 1, 17),\n",
       "       datetime.date(2021, 1, 3)], dtype=object)"
      ]
     },
     "execution_count": 15,
     "metadata": {},
     "output_type": "execute_result"
    }
   ],
   "source": [
    "pd.to_datetime(data_2021['tpep_pickup_datetime']).dt.date.unique()"
   ]
  },
  {
   "cell_type": "markdown",
   "id": "e346cd76",
   "metadata": {},
   "source": [
    "Create a chart to show the trip count at NYC in January, 2021"
   ]
  },
  {
   "cell_type": "code",
   "execution_count": 16,
   "id": "cfb9acad",
   "metadata": {},
   "outputs": [
    {
     "data": {
      "image/png": "[encoded data removed]",
      "text/plain": [
       "<Figure size 1080x720 with 1 Axes>"
      ]
     },
     "metadata": {
      "needs_background": "light"
     },
     "output_type": "display_data"
    }
   ],
   "source": [
    "fig = plt.figure(figsize=(15,10))\n",
    "\n",
    "record_2021_df = data_2021.value_counts('pickup_date').sort_index()\n",
    "bar_chart = plt.bar(x =record_2021_df.index, \n",
    "                    height = record_2021_df.values)\n",
    "bar_chart.colors = [\"blue\"]\n",
    "\n",
    "plt.xlabel(\"Date\")\n",
    "plt.ylabel(\"Trip Count\")\n",
    "plt.title(\"Trip Count in Jan. 2021\")\n",
    "\n",
    "plt.show()"
   ]
  },
  {
   "cell_type": "code",
   "execution_count": 17,
   "id": "9b7985ab",
   "metadata": {},
   "outputs": [
    {
     "data": {
      "text/plain": [
       "(213, 559)"
      ]
     },
     "execution_count": 17,
     "metadata": {},
     "output_type": "execute_result"
    }
   ],
   "source": [
    "record_2021_df.min(), record_2021_df.max()"
   ]
  },
  {
   "cell_type": "markdown",
   "id": "d500eb7e",
   "metadata": {},
   "source": [
    "Thus, we should take the log for the values, as the range is pretty big. To make sure that data could show the graph better without losing the scale, taking log is my option. "
   ]
  },
  {
   "cell_type": "code",
   "execution_count": 18,
   "id": "7e06bf70",
   "metadata": {},
   "outputs": [
    {
     "data": {
      "text/plain": [
       "pickup_date\n",
       "2021-01-01    2.328380\n",
       "2021-01-02    2.535294\n",
       "2021-01-03    2.434569\n",
       "2021-01-04    2.628389\n",
       "2021-01-05    2.691965\n",
       "dtype: float64"
      ]
     },
     "execution_count": 18,
     "metadata": {},
     "output_type": "execute_result"
    }
   ],
   "source": [
    "record_2021_df = np.log10(record_2021_df)\n",
    "record_2021_df.head()"
   ]
  },
  {
   "cell_type": "code",
   "execution_count": 19,
   "id": "277d2bbb",
   "metadata": {},
   "outputs": [
    {
     "data": {
      "text/plain": [
       "DatetimeIndex(['2021-01-01', '2021-01-02', '2021-01-03', '2021-01-04',\n",
       "               '2021-01-05', '2021-01-06', '2021-01-07', '2021-01-08',\n",
       "               '2021-01-09', '2021-01-10', '2021-01-11', '2021-01-12',\n",
       "               '2021-01-13', '2021-01-14', '2021-01-15', '2021-01-16',\n",
       "               '2021-01-17', '2021-01-18', '2021-01-19', '2021-01-20',\n",
       "               '2021-01-21', '2021-01-22', '2021-01-23', '2021-01-24',\n",
       "               '2021-01-25', '2021-01-26', '2021-01-27', '2021-01-28',\n",
       "               '2021-01-29', '2021-01-30', '2021-01-31'],\n",
       "              dtype='datetime64[ns]', name='pickup_date', freq=None)"
      ]
     },
     "execution_count": 19,
     "metadata": {},
     "output_type": "execute_result"
    }
   ],
   "source": [
    "record_2021_df.index"
   ]
  },
  {
   "cell_type": "markdown",
   "id": "1bfcc00f",
   "metadata": {},
   "source": [
    "Create a new data frame that only contains the day and log count"
   ]
  },
  {
   "cell_type": "code",
   "execution_count": 20,
   "id": "7fb56a92",
   "metadata": {},
   "outputs": [
    {
     "data": {
      "text/html": [
       "<div>\n",
       "<style scoped>\n",
       "    .dataframe tbody tr th:only-of-type {\n",
       "        vertical-align: middle;\n",
       "    }\n",
       "\n",
       "    .dataframe tbody tr th {\n",
       "        vertical-align: top;\n",
       "    }\n",
       "\n",
       "    .dataframe thead th {\n",
       "        text-align: right;\n",
       "    }\n",
       "</style>\n",
       "<table border=\"1\" class=\"dataframe\">\n",
       "  <thead>\n",
       "    <tr style=\"text-align: right;\">\n",
       "      <th></th>\n",
       "      <th>date</th>\n",
       "      <th>record_2021</th>\n",
       "    </tr>\n",
       "  </thead>\n",
       "  <tbody>\n",
       "    <tr>\n",
       "      <th>0</th>\n",
       "      <td>2021-01-01</td>\n",
       "      <td>2.328380</td>\n",
       "    </tr>\n",
       "    <tr>\n",
       "      <th>1</th>\n",
       "      <td>2021-01-02</td>\n",
       "      <td>2.535294</td>\n",
       "    </tr>\n",
       "    <tr>\n",
       "      <th>2</th>\n",
       "      <td>2021-01-03</td>\n",
       "      <td>2.434569</td>\n",
       "    </tr>\n",
       "    <tr>\n",
       "      <th>3</th>\n",
       "      <td>2021-01-04</td>\n",
       "      <td>2.628389</td>\n",
       "    </tr>\n",
       "    <tr>\n",
       "      <th>4</th>\n",
       "      <td>2021-01-05</td>\n",
       "      <td>2.691965</td>\n",
       "    </tr>\n",
       "  </tbody>\n",
       "</table>\n",
       "</div>"
      ],
      "text/plain": [
       "        date  record_2021\n",
       "0 2021-01-01     2.328380\n",
       "1 2021-01-02     2.535294\n",
       "2 2021-01-03     2.434569\n",
       "3 2021-01-04     2.628389\n",
       "4 2021-01-05     2.691965"
      ]
     },
     "execution_count": 20,
     "metadata": {},
     "output_type": "execute_result"
    }
   ],
   "source": [
    "data_grouped = pd.DataFrame()\n",
    "\n",
    "data_grouped['date'] = record_2021_df.index\n",
    "# data_grouped['record_2019'] = record_2019_df.values\n",
    "# data_grouped['record_2020'] = record_2020_df.values\n",
    "data_grouped['record_2021'] = record_2021_df.values\n",
    "\n",
    "data_grouped.head()"
   ]
  },
  {
   "cell_type": "markdown",
   "id": "39e8f740",
   "metadata": {},
   "source": [
    "Create a average recod count variable for each year\n",
    "\n",
    "The number 13587 was from the [source](https://medium.com/@NYCTLC/factbook-deep-dive-1-e4dd57075945) at here which tells us the total amount to taxi drivers in NYC. (There were 13,587 licensed yellow cabs, compared to 35,000 licensed High Volume vehicles, at that time.)"
   ]
  },
  {
   "cell_type": "code",
   "execution_count": 21,
   "id": "541fe9e8",
   "metadata": {},
   "outputs": [
    {
     "data": {
      "text/plain": [
       "pickup_date\n",
       "2021-01-01    0.015677\n",
       "2021-01-02    0.025245\n",
       "2021-01-03    0.020019\n",
       "2021-01-04    0.031280\n",
       "2021-01-05    0.036211\n",
       "dtype: float64"
      ]
     },
     "execution_count": 21,
     "metadata": {},
     "output_type": "execute_result"
    }
   ],
   "source": [
    "avg_record_2021_df = data_2021.value_counts('pickup_date').sort_index() / 13587\n",
    "avg_record_2021_df.head()"
   ]
  },
  {
   "cell_type": "code",
   "execution_count": 22,
   "id": "cc026cfb",
   "metadata": {},
   "outputs": [
    {
     "data": {
      "text/plain": [
       "0.03251685078478717"
      ]
     },
     "execution_count": 22,
     "metadata": {},
     "output_type": "execute_result"
    }
   ],
   "source": [
    "avg_record_2021 = avg_record_2021_df.sum() / len(avg_record_2021_df)\n",
    "avg_record_2021"
   ]
  },
  {
   "cell_type": "markdown",
   "id": "31878ef3",
   "metadata": {},
   "source": [
    "Create a total amount variable for each year"
   ]
  },
  {
   "cell_type": "code",
   "execution_count": 23,
   "id": "d21e929d",
   "metadata": {},
   "outputs": [
    {
     "data": {
      "text/plain": [
       "pickup_date\n",
       "2021-01-01    3.574699\n",
       "2021-01-02    3.802189\n",
       "2021-01-03    3.755559\n",
       "2021-01-04    3.879316\n",
       "2021-01-05    3.933960\n",
       "Name: total_amount, dtype: float64"
      ]
     },
     "execution_count": 23,
     "metadata": {},
     "output_type": "execute_result"
    }
   ],
   "source": [
    "total_amount_2021 = data_2021.groupby('pickup_date')['total_amount'].sum()\n",
    "total_amount_2021 = np.log10(total_amount_2021)\n",
    "total_amount_2021.head()"
   ]
  },
  {
   "cell_type": "markdown",
   "id": "f153cd36",
   "metadata": {},
   "source": [
    "Create a passenger count variable for the year"
   ]
  },
  {
   "cell_type": "markdown",
   "id": "5d91076a",
   "metadata": {},
   "source": [
    "However, we would have to remove some faulty data inside the passenger count column, as we will find some NaN values and 0 values. These data entries need to be removed."
   ]
  },
  {
   "cell_type": "markdown",
   "id": "000276fb",
   "metadata": {},
   "source": [
    "Check unique values to find the possible errors"
   ]
  },
  {
   "cell_type": "code",
   "execution_count": 24,
   "id": "2e1b8f41",
   "metadata": {
    "scrolled": true
   },
   "outputs": [
    {
     "data": {
      "text/plain": [
       "array([ 1.,  5., nan,  3.,  0.,  2.,  6.,  4.])"
      ]
     },
     "execution_count": 24,
     "metadata": {},
     "output_type": "execute_result"
    }
   ],
   "source": [
    "data_2021['passenger_count'].unique()"
   ]
  },
  {
   "cell_type": "markdown",
   "id": "bdd0c14e",
   "metadata": {},
   "source": [
    "Show all the 0 passenger count values inside the dataset"
   ]
  },
  {
   "cell_type": "code",
   "execution_count": 25,
   "id": "65d64946",
   "metadata": {},
   "outputs": [
    {
     "data": {
      "text/html": [
       "<div>\n",
       "<style scoped>\n",
       "    .dataframe tbody tr th:only-of-type {\n",
       "        vertical-align: middle;\n",
       "    }\n",
       "\n",
       "    .dataframe tbody tr th {\n",
       "        vertical-align: top;\n",
       "    }\n",
       "\n",
       "    .dataframe thead th {\n",
       "        text-align: right;\n",
       "    }\n",
       "</style>\n",
       "<table border=\"1\" class=\"dataframe\">\n",
       "  <thead>\n",
       "    <tr style=\"text-align: right;\">\n",
       "      <th></th>\n",
       "      <th>VendorID</th>\n",
       "      <th>tpep_pickup_datetime</th>\n",
       "      <th>tpep_dropoff_datetime</th>\n",
       "      <th>passenger_count</th>\n",
       "      <th>trip_distance</th>\n",
       "      <th>RatecodeID</th>\n",
       "      <th>store_and_fwd_flag</th>\n",
       "      <th>PULocationID</th>\n",
       "      <th>DOLocationID</th>\n",
       "      <th>payment_type</th>\n",
       "      <th>fare_amount</th>\n",
       "      <th>extra</th>\n",
       "      <th>mta_tax</th>\n",
       "      <th>tip_amount</th>\n",
       "      <th>tolls_amount</th>\n",
       "      <th>improvement_surcharge</th>\n",
       "      <th>total_amount</th>\n",
       "      <th>congestion_surcharge</th>\n",
       "      <th>pickup_date</th>\n",
       "    </tr>\n",
       "  </thead>\n",
       "  <tbody>\n",
       "    <tr>\n",
       "      <th>235117</th>\n",
       "      <td>1.0</td>\n",
       "      <td>2021-01-07 15:01:15</td>\n",
       "      <td>2021-01-07 15:09:31</td>\n",
       "      <td>0.0</td>\n",
       "      <td>1.1</td>\n",
       "      <td>1.0</td>\n",
       "      <td>N</td>\n",
       "      <td>90</td>\n",
       "      <td>100</td>\n",
       "      <td>1.0</td>\n",
       "      <td>7.0</td>\n",
       "      <td>2.5</td>\n",
       "      <td>0.5</td>\n",
       "      <td>1.00</td>\n",
       "      <td>0.0</td>\n",
       "      <td>0.3</td>\n",
       "      <td>11.30</td>\n",
       "      <td>2.5</td>\n",
       "      <td>2021-01-07</td>\n",
       "    </tr>\n",
       "    <tr>\n",
       "      <th>402803</th>\n",
       "      <td>1.0</td>\n",
       "      <td>2021-01-11 18:11:05</td>\n",
       "      <td>2021-01-11 18:20:31</td>\n",
       "      <td>0.0</td>\n",
       "      <td>1.1</td>\n",
       "      <td>1.0</td>\n",
       "      <td>N</td>\n",
       "      <td>143</td>\n",
       "      <td>48</td>\n",
       "      <td>2.0</td>\n",
       "      <td>7.5</td>\n",
       "      <td>3.5</td>\n",
       "      <td>0.5</td>\n",
       "      <td>0.00</td>\n",
       "      <td>0.0</td>\n",
       "      <td>0.3</td>\n",
       "      <td>11.80</td>\n",
       "      <td>2.5</td>\n",
       "      <td>2021-01-11</td>\n",
       "    </tr>\n",
       "    <tr>\n",
       "      <th>90971</th>\n",
       "      <td>1.0</td>\n",
       "      <td>2021-01-04 10:34:14</td>\n",
       "      <td>2021-01-04 10:37:23</td>\n",
       "      <td>0.0</td>\n",
       "      <td>0.4</td>\n",
       "      <td>1.0</td>\n",
       "      <td>N</td>\n",
       "      <td>229</td>\n",
       "      <td>162</td>\n",
       "      <td>2.0</td>\n",
       "      <td>4.0</td>\n",
       "      <td>2.5</td>\n",
       "      <td>0.5</td>\n",
       "      <td>0.00</td>\n",
       "      <td>0.0</td>\n",
       "      <td>0.3</td>\n",
       "      <td>7.30</td>\n",
       "      <td>2.5</td>\n",
       "      <td>2021-01-04</td>\n",
       "    </tr>\n",
       "    <tr>\n",
       "      <th>315905</th>\n",
       "      <td>1.0</td>\n",
       "      <td>2021-01-09 13:15:13</td>\n",
       "      <td>2021-01-09 13:21:51</td>\n",
       "      <td>0.0</td>\n",
       "      <td>1.3</td>\n",
       "      <td>1.0</td>\n",
       "      <td>N</td>\n",
       "      <td>264</td>\n",
       "      <td>264</td>\n",
       "      <td>1.0</td>\n",
       "      <td>7.0</td>\n",
       "      <td>0.0</td>\n",
       "      <td>0.5</td>\n",
       "      <td>2.05</td>\n",
       "      <td>2.5</td>\n",
       "      <td>0.3</td>\n",
       "      <td>12.35</td>\n",
       "      <td>0.0</td>\n",
       "      <td>2021-01-09</td>\n",
       "    </tr>\n",
       "    <tr>\n",
       "      <th>56770</th>\n",
       "      <td>1.0</td>\n",
       "      <td>2021-01-03 07:18:05</td>\n",
       "      <td>2021-01-03 07:24:00</td>\n",
       "      <td>0.0</td>\n",
       "      <td>0.9</td>\n",
       "      <td>1.0</td>\n",
       "      <td>N</td>\n",
       "      <td>161</td>\n",
       "      <td>162</td>\n",
       "      <td>2.0</td>\n",
       "      <td>6.0</td>\n",
       "      <td>2.5</td>\n",
       "      <td>0.5</td>\n",
       "      <td>0.00</td>\n",
       "      <td>0.0</td>\n",
       "      <td>0.3</td>\n",
       "      <td>9.30</td>\n",
       "      <td>2.5</td>\n",
       "      <td>2021-01-03</td>\n",
       "    </tr>\n",
       "  </tbody>\n",
       "</table>\n",
       "</div>"
      ],
      "text/plain": [
       "        VendorID tpep_pickup_datetime tpep_dropoff_datetime  passenger_count  \\\n",
       "235117       1.0  2021-01-07 15:01:15   2021-01-07 15:09:31              0.0   \n",
       "402803       1.0  2021-01-11 18:11:05   2021-01-11 18:20:31              0.0   \n",
       "90971        1.0  2021-01-04 10:34:14   2021-01-04 10:37:23              0.0   \n",
       "315905       1.0  2021-01-09 13:15:13   2021-01-09 13:21:51              0.0   \n",
       "56770        1.0  2021-01-03 07:18:05   2021-01-03 07:24:00              0.0   \n",
       "\n",
       "        trip_distance  RatecodeID store_and_fwd_flag  PULocationID  \\\n",
       "235117            1.1         1.0                  N            90   \n",
       "402803            1.1         1.0                  N           143   \n",
       "90971             0.4         1.0                  N           229   \n",
       "315905            1.3         1.0                  N           264   \n",
       "56770             0.9         1.0                  N           161   \n",
       "\n",
       "        DOLocationID  payment_type  fare_amount  extra  mta_tax  tip_amount  \\\n",
       "235117           100           1.0          7.0    2.5      0.5        1.00   \n",
       "402803            48           2.0          7.5    3.5      0.5        0.00   \n",
       "90971            162           2.0          4.0    2.5      0.5        0.00   \n",
       "315905           264           1.0          7.0    0.0      0.5        2.05   \n",
       "56770            162           2.0          6.0    2.5      0.5        0.00   \n",
       "\n",
       "        tolls_amount  improvement_surcharge  total_amount  \\\n",
       "235117           0.0                    0.3         11.30   \n",
       "402803           0.0                    0.3         11.80   \n",
       "90971            0.0                    0.3          7.30   \n",
       "315905           2.5                    0.3         12.35   \n",
       "56770            0.0                    0.3          9.30   \n",
       "\n",
       "        congestion_surcharge pickup_date  \n",
       "235117                   2.5  2021-01-07  \n",
       "402803                   2.5  2021-01-11  \n",
       "90971                    2.5  2021-01-04  \n",
       "315905                   0.0  2021-01-09  \n",
       "56770                    2.5  2021-01-03  "
      ]
     },
     "execution_count": 25,
     "metadata": {},
     "output_type": "execute_result"
    }
   ],
   "source": [
    "data_2021[data_2021['passenger_count'] == 0].head()"
   ]
  },
  {
   "cell_type": "markdown",
   "id": "606277c4",
   "metadata": {},
   "source": [
    "Make a dropIndex list to drop all the error data"
   ]
  },
  {
   "cell_type": "code",
   "execution_count": 26,
   "id": "ff164962",
   "metadata": {},
   "outputs": [
    {
     "data": {
      "text/plain": [
       "([235117, 402803, 90971, 315905, 56770], 269)"
      ]
     },
     "execution_count": 26,
     "metadata": {},
     "output_type": "execute_result"
    }
   ],
   "source": [
    "dropIndex = list(data_2021[data_2021['passenger_count'] == 0].index)\n",
    "dropIndex[:5], len(dropIndex)"
   ]
  },
  {
   "cell_type": "markdown",
   "id": "5cdcf8e8",
   "metadata": {},
   "source": [
    "Drop the indices"
   ]
  },
  {
   "cell_type": "code",
   "execution_count": 27,
   "id": "75c06858",
   "metadata": {},
   "outputs": [],
   "source": [
    "data_2021.drop([i for i in dropIndex], inplace=True)"
   ]
  },
  {
   "cell_type": "markdown",
   "id": "d7c3b539",
   "metadata": {},
   "source": [
    "Drop the NaN values"
   ]
  },
  {
   "cell_type": "code",
   "execution_count": 28,
   "id": "5e1cc898",
   "metadata": {},
   "outputs": [],
   "source": [
    "data_2021 = data_2021[~pd.isnull(data_2021['passenger_count'])]"
   ]
  },
  {
   "cell_type": "markdown",
   "id": "0f7029a5",
   "metadata": {},
   "source": [
    "Check the unique data inside to make sure we cleaned everything"
   ]
  },
  {
   "cell_type": "code",
   "execution_count": 29,
   "id": "d3692b29",
   "metadata": {},
   "outputs": [
    {
     "data": {
      "text/plain": [
       "array([1., 5., 3., 2., 6., 4.])"
      ]
     },
     "execution_count": 29,
     "metadata": {},
     "output_type": "execute_result"
    }
   ],
   "source": [
    "data_2021['passenger_count'].unique()"
   ]
  },
  {
   "cell_type": "code",
   "execution_count": 30,
   "id": "c31c00fe",
   "metadata": {
    "scrolled": false
   },
   "outputs": [
    {
     "data": {
      "text/plain": [
       "pickup_date\n",
       "2021-01-01    317.0\n",
       "2021-01-02    446.0\n",
       "2021-01-03    345.0\n",
       "2021-01-04    551.0\n",
       "2021-01-05    653.0\n",
       "2021-01-06    621.0\n",
       "2021-01-07    637.0\n",
       "2021-01-08    705.0\n",
       "2021-01-09    561.0\n",
       "2021-01-10    401.0\n",
       "2021-01-11    615.0\n",
       "2021-01-12    674.0\n",
       "2021-01-13    648.0\n",
       "2021-01-14    632.0\n",
       "2021-01-15    637.0\n",
       "2021-01-16    521.0\n",
       "2021-01-17    464.0\n",
       "2021-01-18    508.0\n",
       "2021-01-19    616.0\n",
       "2021-01-20    632.0\n",
       "2021-01-21    746.0\n",
       "2021-01-22    682.0\n",
       "2021-01-23    592.0\n",
       "2021-01-24    445.0\n",
       "2021-01-25    666.0\n",
       "2021-01-26    636.0\n",
       "2021-01-27    686.0\n",
       "2021-01-28    749.0\n",
       "2021-01-29    712.0\n",
       "2021-01-30    598.0\n",
       "2021-01-31    438.0\n",
       "Name: passenger_count, dtype: float64"
      ]
     },
     "execution_count": 30,
     "metadata": {},
     "output_type": "execute_result"
    }
   ],
   "source": [
    "pass_count_2021 = data_2021.groupby('pickup_date')['passenger_count'].sum()\n",
    "pass_count_2021"
   ]
  },
  {
   "cell_type": "markdown",
   "id": "53794a08",
   "metadata": {},
   "source": [
    "## Create helper function for the dashboard"
   ]
  },
  {
   "cell_type": "code",
   "execution_count": 31,
   "id": "d36d6158",
   "metadata": {},
   "outputs": [],
   "source": [
    "myIndividuaLSelectedLabel = ipywidgets.Label()"
   ]
  },
  {
   "cell_type": "code",
   "execution_count": 32,
   "id": "12a43a42",
   "metadata": {},
   "outputs": [],
   "source": [
    "ntrip_distance = 20\n",
    "ntotal_payment = 20"
   ]
  },
  {
   "cell_type": "code",
   "execution_count": 33,
   "id": "a526791d",
   "metadata": {},
   "outputs": [],
   "source": [
    "Itrip_bins = np.linspace(1.26125, 48.80875, ntrip_distance+1)\n",
    "Ipay_bins = np.linspace(6.9375, 259.1625, ntotal_payment+1)"
   ]
  },
  {
   "cell_type": "code",
   "execution_count": 34,
   "id": "e7aa6826",
   "metadata": {},
   "outputs": [],
   "source": [
    "Ihist2d, Itrip_edges, Ipay_edges = np.histogram2d(data_2021['trip_distance'],\n",
    "                                                 data_2021['total_amount'],\n",
    "                                                 weights=data_2021['passenger_count'],\n",
    "                                                 bins = [Itrip_bins, Ipay_bins])"
   ]
  },
  {
   "cell_type": "code",
   "execution_count": 35,
   "id": "abb9aafd",
   "metadata": {},
   "outputs": [],
   "source": [
    "Itrip_centers = (Itrip_edges[:-1] + Itrip_edges[1:]) / 2\n",
    "Ipay_centers = (Ipay_edges[:-1] + Ipay_edges[1:]) / 2"
   ]
  },
  {
   "cell_type": "code",
   "execution_count": 36,
   "id": "7fb79c6a",
   "metadata": {},
   "outputs": [],
   "source": [
    "Itripmin = Itrip_centers.min()\n",
    "Itripmax = Itrip_centers.max()\n",
    "Ipaymin = Ipay_centers.min()\n",
    "Ipaymax = Ipay_centers.max()"
   ]
  },
  {
   "cell_type": "code",
   "execution_count": 37,
   "id": "d087421e",
   "metadata": {},
   "outputs": [],
   "source": [
    "def individual_generate_histogram_from_trip_pay(data, ntrip=20, npay=20,\n",
    "                                               tripmin=Itripmin, tripmax=Itripmax,\n",
    "                                               paymin=Ipaymin,paymax=Ipaymax,\n",
    "                                                takeLog=True):\n",
    "    trip_bins = np.linspace(tripmin, tripmax, ntrip+1)\n",
    "    pay_bins = np.linspace(paymin, paymax, npay+1)\n",
    "    hist2d, trip_edges, pay_edges = np.histogram2d(data['trip_distance'],\n",
    "                                                  data['total_amount'],\n",
    "                                                  weights=data['passenger_count'],\n",
    "                                                  bins = [trip_bins, pay_bins])\n",
    "    hist2d = hist2d.T\n",
    "    if takeLog:\n",
    "        hist2d[hist2d <= 0] = np.nan # set zeros to NaNs\n",
    "        # then take log\n",
    "        hist2d = np.log10(hist2d)\n",
    "        trip_centers = (trip_edges[:-1] + trip_edges[1:]) / 2\n",
    "        pay_centers = (pay_edges[:-1] + pay_edges[1:]) / 2\n",
    "    return hist2d, trip_centers, pay_centers, trip_edges, pay_edges"
   ]
  },
  {
   "cell_type": "code",
   "execution_count": 38,
   "id": "603b771e",
   "metadata": {},
   "outputs": [],
   "source": [
    "Ihist2d, Itrip_centers, Ipay_centers, Itrip_edges, Ipay_edges = individual_generate_histogram_from_trip_pay(data_2021)"
   ]
  },
  {
   "cell_type": "markdown",
   "id": "74487296",
   "metadata": {},
   "source": [
    "### Heat map"
   ]
  },
  {
   "cell_type": "code",
   "execution_count": 39,
   "id": "56537a6f",
   "metadata": {},
   "outputs": [],
   "source": [
    "# Scale\n",
    "col_sc = bqplot.ColorScale(scheme=\"RdPu\",\n",
    "                          min=np.nanmin(Ihist2d),\n",
    "                          max=np.nanmax(Ihist2d))\n",
    "x_sc = bqplot.LinearScale()\n",
    "y_sc = bqplot.LinearScale()\n",
    "\n",
    "# Axis\n",
    "c_ax = bqplot.ColorAxis(scale = col_sc,\n",
    "                       orientation='vertical',\n",
    "                       side='right')\n",
    "x_ax = bqplot.Axis(scale = x_sc, label='Trip Distance')\n",
    "y_ax = bqplot.Axis(scale = y_sc, label='Total Payment',\n",
    "                  orientation='vertical', label_offset=\"45px\")\n",
    "\n",
    "\n",
    "# Marks\n",
    "Iheat_map = bqplot.GridHeatMap(color = Ihist2d,\n",
    "                              row = Ipay_centers,\n",
    "                              column = Itrip_centers,\n",
    "                              scales = {'color':col_sc,\n",
    "                                       'row': y_sc, \n",
    "                                       'column':x_sc},\n",
    "                              interactions = {'click':'select'},\n",
    "                              anchor_style = {'fill':'blue'},\n",
    "                              selected_style = {'opacity':1.00},\n",
    "                              unselected_style = {'opacity':1.00})"
   ]
  },
  {
   "cell_type": "markdown",
   "id": "caaeeb2f",
   "metadata": {},
   "source": [
    "### Scatter plot"
   ]
  },
  {
   "cell_type": "code",
   "execution_count": 43,
   "id": "a572574a",
   "metadata": {},
   "outputs": [],
   "source": [
    "# Scale\n",
    "x_scl = bqplot.DateScale()\n",
    "y_scl = bqplot.LogScale()\n",
    "\n",
    "# Axis\n",
    "ax_xcl = bqplot.Axis(label='Date', scale = x_scl)\n",
    "ax_ycl = bqplot.Axis(label = 'Passenger Count', scale = y_scl, \n",
    "                    orientation = 'vertical', side = 'left')\n",
    "\n",
    "# Marks\n",
    "i,j = 0, 0\n",
    "Itrips = [Itrip_edges[j], Itrip_edges[j+1]]\n",
    "Ipays = [Ipay_edges[i], Ipay_edges[i+1]]\n",
    "\n",
    "# region mask\n",
    "region_mask = ((data_2021['total_amount'] >= Ipays[0]) & (data_2021['total_amount']<=Ipays[1]) &\\\n",
    "                    (data_2021['trip_distance'] >= Itrips[0]) & (data_2021['trip_distance']<=Itrips[1]))\n",
    "\n",
    "# Fig\n",
    "Ipass_scatt = bqplot.Scatter(x=data_2021['pickup_date'][region_mask],\n",
    "                            y=data_2021['passenger_count'][region_mask],\n",
    "                            scales = {'x':x_scl, 'y':y_scl})\n",
    "# data_2021['pickup_date'][region_mask]\n",
    "# data_2021['passenger_count'][region_mask]"
   ]
  },
  {
   "cell_type": "code",
   "execution_count": 44,
   "id": "ce5ea8d3",
   "metadata": {},
   "outputs": [],
   "source": [
    "def get_individual_data_value(change):\n",
    "    if len(change['owner'].selected) == 1:\n",
    "        i, j = change['owner'].selected[0]\n",
    "        v = Ihist2d[i, j]\n",
    "        myIndividuaLSelectedLabel.value = \"Passenger Count in Log = \" + str(v)\n",
    "        Itrips = [Itrip_edges[j], Itrip_edges[j+1]]\n",
    "        Ipays = [Ipay_edges[i], Ipay_edges[i+1]]\n",
    "        region_mask = ((data_2021['total_amount'] >= Ipays[0]) & (data_2021['total_amount']<=Ipays[1]) &\\\n",
    "                    (data_2021['trip_distance'] >= Itrips[0]) & (data_2021['trip_distance']<=Itrips[1]))\n",
    "        Ipass_scatt.x = data_2021['pickup_date'][region_mask]\n",
    "        Ipass_scatt.y = data_2021['passenger_count'][region_mask]\n",
    "        \n",
    "Iheat_map.observe(get_individual_data_value, 'selected')"
   ]
  },
  {
   "cell_type": "code",
   "execution_count": 45,
   "id": "2748b2d1",
   "metadata": {},
   "outputs": [],
   "source": [
    "fig_Iheatmap = bqplot.Figure(marks = [Iheat_map], axes = [c_ax, y_ax, x_ax])\n",
    "fig_Ipass = bqplot.Figure(marks = [Ipass_scatt], axes = [ax_xcl, ax_ycl])"
   ]
  },
  {
   "cell_type": "code",
   "execution_count": 46,
   "id": "9e1ed92b",
   "metadata": {},
   "outputs": [],
   "source": [
    "fig_Iheatmap.layout.min_width='500px'\n",
    "fig_Ipass.layout.min_width='500px'\n",
    "\n",
    "myDashboard = ipywidgets.VBox([myIndividuaLSelectedLabel, ipywidgets.HBox([fig_Iheatmap,fig_Ipass])])\n",
    "# myDashboard"
   ]
  },
  {
   "cell_type": "markdown",
   "id": "7cf819dc",
   "metadata": {},
   "source": [
    "# Final Project Part 3 - Write Up"
   ]
  },
  {
   "cell_type": "markdown",
   "id": "cf957b16",
   "metadata": {},
   "source": [
    "The code for the write-up were either taken from the web or taken from this file. Citations will be included if I had used something from the web."
   ]
  },
  {
   "cell_type": "markdown",
   "id": "b98cca7b",
   "metadata": {},
   "source": [
    "## Data Visualization - TLC Yellow Taxi Simple Investigation"
   ]
  },
  {
   "cell_type": "markdown",
   "id": "dfae724b",
   "metadata": {},
   "source": [
    "### *TLC DATA AT JANUARY 2021 DEEP DIVE* \n",
    "*This post will take a closer look at the yellow taxi industry in New York City by examining the total trips and total payments and the passenger counts in January 2021* "
   ]
  },
  {
   "cell_type": "markdown",
   "id": "a9f677be",
   "metadata": {},
   "source": [
    "As we know, since the late 2019, when the COVID-2019 breakout, we had suffered a gigantic impact on travelling, both domestic and international. As you can see below, a major impact would be the count on recorded data for the January at 2019, 2020, and 2021. In 2019, the records we had on the taxi drives are 7667255 drives. In 2020, the records we had on the taxi drives are 6404796 drives. In 2021, the records we had on teh taxi drives are 1369741 drives. There was a significant drop in the recorded drives. "
   ]
  },
  {
   "cell_type": "code",
   "execution_count": 47,
   "id": "5f9f42a3",
   "metadata": {
    "scrolled": false
   },
   "outputs": [
    {
     "data": {
      "image/png": "[encoded data removed]",
      "text/plain": [
       "<Figure size 1080x720 with 1 Axes>"
      ]
     },
     "metadata": {
      "needs_background": "light"
     },
     "output_type": "display_data"
    }
   ],
   "source": [
    "# I looked at the tutorial for reference and hints of this graph\n",
    "# https://www.tutorialspoint.com/python-matplotlib-multiple-bars\n",
    "plt.rcParams[\"figure.figsize\"] = [15, 10]\n",
    "plt.rcParams[\"figure.autolayout\"] = True\n",
    "plt.rc('axes', titlesize=30)\n",
    "plt.rc('axes', labelsize=25)\n",
    "plt.rc('xtick', labelsize=18)\n",
    "plt.rc('ytick', labelsize=18)\n",
    "\n",
    "labels = data_grouped['date']\n",
    "# record_2019 = record_2019_df.values\n",
    "# record_2020 = record_2020_df.values\n",
    "record_2021 = record_2021_df.values\n",
    "\n",
    "x = np.arange(len(labels))\n",
    "width = 0.7\n",
    "\n",
    "fig, ax = plt.subplots()\n",
    "# rects_2019 = ax.bar(x  - width, record_2019, width, label = \"2019\")\n",
    "# rects_2020 = ax.bar(x, record_2020, width, label = \"2020\")\n",
    "rects_2021 = ax.bar(x, record_2021, width, label = \"2021\")\n",
    "\n",
    "ax.set_xlabel(\"Date in January\")\n",
    "ax.set_ylabel('Taxi Drives in Log')\n",
    "ax.set_title('Taxi Drives in January, 2021')\n",
    "ax.set_xticks(x)\n",
    "ax.set_xticklabels(labels)\n",
    "ax.legend()\n",
    "\n",
    "def autolabel(rects):\n",
    "    for rect in rects:\n",
    "        height = round(rect.get_height(), 2)\n",
    "        ax.annotate('{}'.format(height),\n",
    "                    xy=(rect.get_x() + rect.get_width() / 2, height),\n",
    "                    xytext=(0, 3), # 3 points vertical offset\n",
    "                    textcoords=\"offset points\",\n",
    "                    ha='center', va='bottom')\n",
    "    \n",
    "autolabel(rects_2021)\n",
    "\n",
    "plt.show()"
   ]
  },
  {
   "cell_type": "markdown",
   "id": "ffdce869",
   "metadata": {},
   "source": [
    "From the graph we can tell that there was much change in the taxi drive counts throughout the month. For the pattern, it almost looked like an sine wave in mathematics. We have some days with high trip counts and  some days with lower trip counts, which grouped into 8 different sections in the month."
   ]
  },
  {
   "cell_type": "markdown",
   "id": "aef82dc5",
   "metadata": {},
   "source": [
    "## So, what is Yellow Taxi in NYC?"
   ]
  },
  {
   "cell_type": "markdown",
   "id": "6801a0a4",
   "metadata": {},
   "source": [
    "The TLC regulates medallion, street hail livery, commuter van, paratransit, and for-hire vehicles in New York City. The yellow taxi are the traditional type of taxi we imagine.\n",
    "Interesting enough, according to the NYC State Law, yellow taxicabs were limited to 13,587 on the road. So we can tell that with this gigantic amount of taxi drives per day, we are interested in the amount of average trips for each taxi driver per day. We can do a little calculation for the year 2021."
   ]
  },
  {
   "cell_type": "code",
   "execution_count": 48,
   "id": "4cc5faa9",
   "metadata": {},
   "outputs": [
    {
     "data": {
      "text/plain": [
       "0.03251685078478717"
      ]
     },
     "execution_count": 48,
     "metadata": {},
     "output_type": "execute_result"
    }
   ],
   "source": [
    "avg_record_2021"
   ]
  },
  {
   "cell_type": "markdown",
   "id": "80e7aa48",
   "metadata": {},
   "source": [
    "The average trip for the 2021 taxi drivers were fairly low"
   ]
  },
  {
   "cell_type": "markdown",
   "id": "4574664c",
   "metadata": {},
   "source": [
    "## Digging a little deeper"
   ]
  },
  {
   "cell_type": "markdown",
   "id": "a7f69166",
   "metadata": {},
   "source": [
    "### Total amount"
   ]
  },
  {
   "cell_type": "markdown",
   "id": "c350c701",
   "metadata": {},
   "source": [
    "Now, we had explored the trip, pay and passenger and the change in total record of trips in the 2021 year. We could also analyze the total revenue in the the yellow taxi drives for the 2021 year by building a bar graph graph."
   ]
  },
  {
   "cell_type": "code",
   "execution_count": 49,
   "id": "d615723a",
   "metadata": {},
   "outputs": [
    {
     "data": {
      "image/png": "[encoded data removed]",
      "text/plain": [
       "<Figure size 1080x720 with 1 Axes>"
      ]
     },
     "metadata": {
      "needs_background": "light"
     },
     "output_type": "display_data"
    }
   ],
   "source": [
    "plt.rcParams[\"figure.figsize\"] = [15, 10]\n",
    "plt.rcParams[\"figure.autolayout\"] = True\n",
    "plt.rc('axes', titlesize=30)\n",
    "plt.rc('axes', labelsize=25)\n",
    "plt.rc('xtick', labelsize=18)\n",
    "plt.rc('ytick', labelsize=18)\n",
    "\n",
    "labels = data_grouped['date']\n",
    "# record_2019 = total_amount_2019.values\n",
    "# record_2020 = total_amount_2020.values\n",
    "record_2021 = total_amount_2021.values\n",
    "\n",
    "x = np.arange(len(labels))\n",
    "width = 0.7\n",
    "\n",
    "fig, ax = plt.subplots()\n",
    "# rects_2019 = ax.bar(x  - width, record_2019, width, label = \"2019\")\n",
    "# rects_2020 = ax.bar(x, record_2020, width, label = \"2020\")\n",
    "rects_2021 = ax.bar(x, record_2021, width, label = \"2021\")\n",
    "\n",
    "ax.set_xlabel(\"Date in January\")\n",
    "ax.set_ylabel('Total Payment')\n",
    "ax.set_title('Total Payment in January, 2019 - 2021')\n",
    "ax.set_xticks(x)\n",
    "ax.set_xticklabels(labels)\n",
    "ax.legend()\n",
    "\n",
    "def autolabel(rects):\n",
    "    for rect in rects:\n",
    "        height = round(rect.get_height(), 2)\n",
    "        ax.annotate('{}'.format(height),\n",
    "                    xy=(rect.get_x() + rect.get_width() / 2, height),\n",
    "                    xytext=(0, 3), # 3 points vertical offset\n",
    "                    textcoords=\"offset points\",\n",
    "                    ha='center', va='bottom')\n",
    "\n",
    "autolabel(rects_2021)\n",
    "\n",
    "plt.show()"
   ]
  },
  {
   "cell_type": "markdown",
   "id": "7fccfed1",
   "metadata": {},
   "source": [
    "## Passenger Count"
   ]
  },
  {
   "cell_type": "markdown",
   "id": "6030bd89",
   "metadata": {},
   "source": [
    "The trips records across the year showed a significant change in the total amount and the average amount of trips in the month January. However, we have not inspect regarding the total amount of the market in January and the passenger count for each trip. We could make a bar  graph for us to achieve something like this. I will take the 2021 data value as the example."
   ]
  },
  {
   "cell_type": "code",
   "execution_count": 50,
   "id": "fad954c3",
   "metadata": {},
   "outputs": [
    {
     "data": {
      "image/png": "[encoded data removed]",
      "text/plain": [
       "<Figure size 1080x720 with 1 Axes>"
      ]
     },
     "metadata": {
      "needs_background": "light"
     },
     "output_type": "display_data"
    }
   ],
   "source": [
    "# I looked at the tutorial for reference and hints of this graph\n",
    "# https://www.tutorialspoint.com/python-matplotlib-multiple-bars\n",
    "plt.rcParams[\"figure.figsize\"] = [15, 10]\n",
    "plt.rcParams[\"figure.autolayout\"] = True\n",
    "plt.rc('axes', titlesize=30)\n",
    "plt.rc('axes', labelsize=25)\n",
    "plt.rc('xtick', labelsize=18)\n",
    "plt.rc('ytick', labelsize=18)\n",
    "\n",
    "labels = data_grouped['date']\n",
    "# record_2019 = record_2019_df.values\n",
    "# record_2020 = record_2020_df.values\n",
    "record_2021 = np.log10(pass_count_2021)\n",
    "\n",
    "x = np.arange(len(labels))\n",
    "width = 0.7\n",
    "\n",
    "fig, ax = plt.subplots()\n",
    "# rects_2019 = ax.bar(x  - width, record_2019, width, label = \"2019\")\n",
    "# rects_2020 = ax.bar(x, record_2020, width, label = \"2020\")\n",
    "rects_2021 = ax.bar(x, record_2021, width, label = \"2021\")\n",
    "\n",
    "ax.set_xlabel(\"Date in January\")\n",
    "ax.set_ylabel('Passenger Count in Log')\n",
    "ax.set_title('Passenger Count in January, 2021')\n",
    "ax.set_xticks(x)\n",
    "ax.set_xticklabels(labels)\n",
    "ax.legend()\n",
    "\n",
    "def autolabel(rects):\n",
    "    for rect in rects:\n",
    "        height = round(rect.get_height(), 2)\n",
    "        ax.annotate('{}'.format(height),\n",
    "                    xy=(rect.get_x() + rect.get_width() / 2, height),\n",
    "                    xytext=(0, 3), # 3 points vertical offset\n",
    "                    textcoords=\"offset points\",\n",
    "                    ha='center', va='bottom')\n",
    "    \n",
    "autolabel(rects_2021)\n",
    "\n",
    "plt.show()"
   ]
  },
  {
   "cell_type": "markdown",
   "id": "85df93c8",
   "metadata": {},
   "source": [
    "From the three bar graphs above, we can tell that the relationship between the trip distance and the total amount is linear. However, the passenger count may flex for some distance and some payments."
   ]
  },
  {
   "cell_type": "markdown",
   "id": "329b80a1",
   "metadata": {},
   "source": [
    "Below is an interactive heatmap that shows the relationship between the variables that we indicated above. "
   ]
  },
  {
   "cell_type": "markdown",
   "id": "bd35f216",
   "metadata": {},
   "source": [
    "The trips records across the three years showed a significant change in the total amount and the average amount of trips in the month January. However, we have not inspect regarding the total amount of the market in January and the passenger count for each trip. We could make an interactive dashboard graph for us to achieve something like this. I will take the 2021 data value as the example."
   ]
  },
  {
   "cell_type": "code",
   "execution_count": 51,
   "id": "064bf8cd",
   "metadata": {},
   "outputs": [
    {
     "data": {
      "application/vnd.jupyter.widget-view+json": {
       "model_id": "e3d655bc4a2a4872a4b55d15630824b1",
       "version_major": 2,
       "version_minor": 0
      },
      "text/plain": [
       "VBox(children=(Label(value=''), HBox(children=(Figure(axes=[ColorAxis(orientation='vertical', scale=ColorScale…"
      ]
     },
     "metadata": {},
     "output_type": "display_data"
    }
   ],
   "source": [
    "myDashboard"
   ]
  },
  {
   "cell_type": "markdown",
   "id": "221a77f7",
   "metadata": {},
   "source": [
    "## End of Part 3"
   ]
  }
 ],
 "metadata": {
  "kernelspec": {
   "display_name": "Python 3 (ipykernel)",
   "language": "python",
   "name": "python3"
  },
  "language_info": {
   "codemirror_mode": {
    "name": "ipython",
    "version": 3
   },
   "file_extension": ".py",
   "mimetype": "text/x-python",
   "name": "python",
   "nbconvert_exporter": "python",
   "pygments_lexer": "ipython3",
   "version": "3.7.12"
  }
 },
 "nbformat": 4,
 "nbformat_minor": 5
}
