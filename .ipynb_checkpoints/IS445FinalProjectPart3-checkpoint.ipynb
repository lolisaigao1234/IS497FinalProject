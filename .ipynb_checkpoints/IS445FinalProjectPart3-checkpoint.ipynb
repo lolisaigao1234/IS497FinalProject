{
 "cells": [
  {
   "cell_type": "markdown",
   "id": "d62dc918",
   "metadata": {},
   "source": [
    "# Rocky Wu - jywu3"
   ]
  },
  {
   "cell_type": "markdown",
   "id": "9d35f5eb",
   "metadata": {},
   "source": [
    "Code Source that I looked at and learned from: [link](https://uiuc-ischool-dataviz.github.io/is445_spring2022/nbv.html?notebook_name=%2Fis445_spring2022%2Fweek07%2Fprep_notebook_week07_part1.ipynb)"
   ]
  },
  {
   "cell_type": "markdown",
   "id": "7c9643ac",
   "metadata": {},
   "source": [
    "As usual, import the packages we want"
   ]
  },
  {
   "cell_type": "code",
   "execution_count": 1,
   "id": "af7cbff4",
   "metadata": {},
   "outputs": [],
   "source": [
    "import pandas as pd\n",
    "import numpy as np\n",
    "import matplotlib.pyplot as plt\n",
    "import ipywidgets\n",
    "import bqplot\n",
    "import matplotlib.colors as mpl_colors\n",
    "import seaborn as sns"
   ]
  },
  {
   "cell_type": "markdown",
   "id": "7bbe81d3",
   "metadata": {},
   "source": [
    "---"
   ]
  },
  {
   "cell_type": "markdown",
   "id": "642bbc01",
   "metadata": {},
   "source": [
    "# Final Project - Code Section"
   ]
  },
  {
   "cell_type": "markdown",
   "id": "4b19a1da",
   "metadata": {},
   "source": [
    "## Explore the Dataset:"
   ]
  },
  {
   "cell_type": "markdown",
   "id": "c9138012",
   "metadata": {},
   "source": [
    "The name of the dataset: Yellow Taxi trip data 2021-01 in NYC\n",
    "\n",
    "We can obtain the dataset at the TLC official site. https://www1.nyc.gov/site/tlc/about/tlc-trip-record-data.page\n",
    "\n",
    "The link towards the dataset: https://s3.amazonaws.com/nyc-tlc/trip+data/yellow_tripdata_2021-01.csv\n",
    "\n",
    "Preferably, download the dataset first as the dataset is fairly large, 126MB.\n",
    "\n",
    "However, as I had exceeded the Git LFS in my plan, I swapped the local import into url.\n",
    "\n",
    "No identification of the license, so I am assuming we can play around with it. I do find an user guide of the dataset, but not much was mentioned on what we can do with the data. Link to the user guide: https://www1.nyc.gov/assets/tlc/downloads/pdf/trip_record_user_guide.pdf\n",
    "\n",
    "The dictionary of the dataset:https://www1.nyc.gov/assets/tlc/downloads/pdf/data_dictionary_trip_records_yellow.pdf"
   ]
  },
  {
   "cell_type": "markdown",
   "id": "8b72be2c",
   "metadata": {},
   "source": [
    "---"
   ]
  },
  {
   "cell_type": "markdown",
   "id": "5f59db73",
   "metadata": {},
   "source": [
    "### Columns Explained:"
   ]
  },
  {
   "cell_type": "markdown",
   "id": "18b5163f",
   "metadata": {},
   "source": [
    "The following columns are the columns that I will be used in the final project part 3. The explanation for rest of the columns can be found inside the dictionary of the dataset noted above. "
   ]
  },
  {
   "cell_type": "markdown",
   "id": "9e7bb329",
   "metadata": {},
   "source": [
    "tpep_pickup_datetime - The date and time when the meter was engaged.\n",
    "\n",
    "Passenger_count - The number of passengers in the vehicle. This is a driver-entered value.\n",
    "\n",
    "Trip_distance - The elapsed trip distance in miles reported by the taximeter.\n",
    "\n",
    "Total_amount - The total amount charged to passengers. Does not include cash tips."
   ]
  },
  {
   "cell_type": "markdown",
   "id": "1df1540c",
   "metadata": {},
   "source": [
    "---"
   ]
  },
  {
   "cell_type": "markdown",
   "id": "57188476",
   "metadata": {},
   "source": [
    "### Take a look of the dataset"
   ]
  },
  {
   "cell_type": "markdown",
   "id": "c5c5ac0a",
   "metadata": {},
   "source": [
    "There was a warning indicating the dtype conflicts in some of the columns in the dataset. Will deal with the warning in the later stage. Escaping the warning now by setting low_memory = False"
   ]
  },
  {
   "cell_type": "markdown",
   "id": "a30fbbe6",
   "metadata": {},
   "source": [
    "We will first downsample the dataset, else mybinder could not handle the dataset. I am taking the number of samples to be 0.1% of the original dataset else mybinder would crash. Feel free to adjust the sample to see different results."
   ]
  },
  {
   "cell_type": "code",
   "execution_count": 2,
   "id": "ea1adddd",
   "metadata": {
    "scrolled": true
   },
   "outputs": [],
   "source": [
    "data_2021 = pd.read_csv(\"https://s3.amazonaws.com/nyc-tlc/trip+data/yellow_tripdata_2021-01.csv\", \n",
    "                   low_memory=False)"
   ]
  },
  {
   "cell_type": "code",
   "execution_count": 3,
   "id": "a7d869e4",
   "metadata": {},
   "outputs": [],
   "source": [
    "nsamples = len(data_2021) // 100\n",
    "downSampleMask = np.random.choice(range(len(data_2021)-1), \n",
    "                                  nsamples, replace=False)\n",
    "data_2021 = data_2021.loc[downSampleMask]"
   ]
  },
  {
   "cell_type": "code",
   "execution_count": 4,
   "id": "5107916f",
   "metadata": {},
   "outputs": [
    {
     "data": {
      "text/html": [
       "<div>\n",
       "<style scoped>\n",
       "    .dataframe tbody tr th:only-of-type {\n",
       "        vertical-align: middle;\n",
       "    }\n",
       "\n",
       "    .dataframe tbody tr th {\n",
       "        vertical-align: top;\n",
       "    }\n",
       "\n",
       "    .dataframe thead th {\n",
       "        text-align: right;\n",
       "    }\n",
       "</style>\n",
       "<table border=\"1\" class=\"dataframe\">\n",
       "  <thead>\n",
       "    <tr style=\"text-align: right;\">\n",
       "      <th></th>\n",
       "      <th>VendorID</th>\n",
       "      <th>tpep_pickup_datetime</th>\n",
       "      <th>tpep_dropoff_datetime</th>\n",
       "      <th>passenger_count</th>\n",
       "      <th>trip_distance</th>\n",
       "      <th>RatecodeID</th>\n",
       "      <th>store_and_fwd_flag</th>\n",
       "      <th>PULocationID</th>\n",
       "      <th>DOLocationID</th>\n",
       "      <th>payment_type</th>\n",
       "      <th>fare_amount</th>\n",
       "      <th>extra</th>\n",
       "      <th>mta_tax</th>\n",
       "      <th>tip_amount</th>\n",
       "      <th>tolls_amount</th>\n",
       "      <th>improvement_surcharge</th>\n",
       "      <th>total_amount</th>\n",
       "      <th>congestion_surcharge</th>\n",
       "    </tr>\n",
       "  </thead>\n",
       "  <tbody>\n",
       "    <tr>\n",
       "      <th>496474</th>\n",
       "      <td>2.0</td>\n",
       "      <td>2021-01-13 18:14:09</td>\n",
       "      <td>2021-01-13 18:20:26</td>\n",
       "      <td>1.0</td>\n",
       "      <td>1.26</td>\n",
       "      <td>1.0</td>\n",
       "      <td>N</td>\n",
       "      <td>161</td>\n",
       "      <td>237</td>\n",
       "      <td>1.0</td>\n",
       "      <td>6.5</td>\n",
       "      <td>1.0</td>\n",
       "      <td>0.5</td>\n",
       "      <td>1.70</td>\n",
       "      <td>0.0</td>\n",
       "      <td>0.3</td>\n",
       "      <td>12.50</td>\n",
       "      <td>2.5</td>\n",
       "    </tr>\n",
       "    <tr>\n",
       "      <th>301881</th>\n",
       "      <td>1.0</td>\n",
       "      <td>2021-01-08 23:29:38</td>\n",
       "      <td>2021-01-08 23:44:04</td>\n",
       "      <td>2.0</td>\n",
       "      <td>4.20</td>\n",
       "      <td>1.0</td>\n",
       "      <td>N</td>\n",
       "      <td>162</td>\n",
       "      <td>239</td>\n",
       "      <td>2.0</td>\n",
       "      <td>14.5</td>\n",
       "      <td>3.0</td>\n",
       "      <td>0.5</td>\n",
       "      <td>0.00</td>\n",
       "      <td>0.0</td>\n",
       "      <td>0.3</td>\n",
       "      <td>18.30</td>\n",
       "      <td>2.5</td>\n",
       "    </tr>\n",
       "    <tr>\n",
       "      <th>1189978</th>\n",
       "      <td>1.0</td>\n",
       "      <td>2021-01-29 17:14:06</td>\n",
       "      <td>2021-01-29 17:17:54</td>\n",
       "      <td>0.0</td>\n",
       "      <td>0.80</td>\n",
       "      <td>1.0</td>\n",
       "      <td>N</td>\n",
       "      <td>151</td>\n",
       "      <td>151</td>\n",
       "      <td>1.0</td>\n",
       "      <td>5.0</td>\n",
       "      <td>1.0</td>\n",
       "      <td>0.5</td>\n",
       "      <td>1.70</td>\n",
       "      <td>0.0</td>\n",
       "      <td>0.3</td>\n",
       "      <td>8.50</td>\n",
       "      <td>0.0</td>\n",
       "    </tr>\n",
       "    <tr>\n",
       "      <th>406640</th>\n",
       "      <td>2.0</td>\n",
       "      <td>2021-01-11 19:04:25</td>\n",
       "      <td>2021-01-11 19:15:48</td>\n",
       "      <td>1.0</td>\n",
       "      <td>2.48</td>\n",
       "      <td>1.0</td>\n",
       "      <td>N</td>\n",
       "      <td>170</td>\n",
       "      <td>141</td>\n",
       "      <td>1.0</td>\n",
       "      <td>10.5</td>\n",
       "      <td>1.0</td>\n",
       "      <td>0.5</td>\n",
       "      <td>2.96</td>\n",
       "      <td>0.0</td>\n",
       "      <td>0.3</td>\n",
       "      <td>17.76</td>\n",
       "      <td>2.5</td>\n",
       "    </tr>\n",
       "    <tr>\n",
       "      <th>868403</th>\n",
       "      <td>1.0</td>\n",
       "      <td>2021-01-22 14:24:22</td>\n",
       "      <td>2021-01-22 14:30:48</td>\n",
       "      <td>1.0</td>\n",
       "      <td>1.00</td>\n",
       "      <td>1.0</td>\n",
       "      <td>N</td>\n",
       "      <td>170</td>\n",
       "      <td>162</td>\n",
       "      <td>1.0</td>\n",
       "      <td>6.5</td>\n",
       "      <td>2.5</td>\n",
       "      <td>0.5</td>\n",
       "      <td>1.95</td>\n",
       "      <td>0.0</td>\n",
       "      <td>0.3</td>\n",
       "      <td>11.75</td>\n",
       "      <td>2.5</td>\n",
       "    </tr>\n",
       "  </tbody>\n",
       "</table>\n",
       "</div>"
      ],
      "text/plain": [
       "         VendorID tpep_pickup_datetime tpep_dropoff_datetime  passenger_count  \\\n",
       "496474        2.0  2021-01-13 18:14:09   2021-01-13 18:20:26              1.0   \n",
       "301881        1.0  2021-01-08 23:29:38   2021-01-08 23:44:04              2.0   \n",
       "1189978       1.0  2021-01-29 17:14:06   2021-01-29 17:17:54              0.0   \n",
       "406640        2.0  2021-01-11 19:04:25   2021-01-11 19:15:48              1.0   \n",
       "868403        1.0  2021-01-22 14:24:22   2021-01-22 14:30:48              1.0   \n",
       "\n",
       "         trip_distance  RatecodeID store_and_fwd_flag  PULocationID  \\\n",
       "496474            1.26         1.0                  N           161   \n",
       "301881            4.20         1.0                  N           162   \n",
       "1189978           0.80         1.0                  N           151   \n",
       "406640            2.48         1.0                  N           170   \n",
       "868403            1.00         1.0                  N           170   \n",
       "\n",
       "         DOLocationID  payment_type  fare_amount  extra  mta_tax  tip_amount  \\\n",
       "496474            237           1.0          6.5    1.0      0.5        1.70   \n",
       "301881            239           2.0         14.5    3.0      0.5        0.00   \n",
       "1189978           151           1.0          5.0    1.0      0.5        1.70   \n",
       "406640            141           1.0         10.5    1.0      0.5        2.96   \n",
       "868403            162           1.0          6.5    2.5      0.5        1.95   \n",
       "\n",
       "         tolls_amount  improvement_surcharge  total_amount  \\\n",
       "496474            0.0                    0.3         12.50   \n",
       "301881            0.0                    0.3         18.30   \n",
       "1189978           0.0                    0.3          8.50   \n",
       "406640            0.0                    0.3         17.76   \n",
       "868403            0.0                    0.3         11.75   \n",
       "\n",
       "         congestion_surcharge  \n",
       "496474                    2.5  \n",
       "301881                    2.5  \n",
       "1189978                   0.0  \n",
       "406640                    2.5  \n",
       "868403                    2.5  "
      ]
     },
     "execution_count": 4,
     "metadata": {},
     "output_type": "execute_result"
    }
   ],
   "source": [
    "data_2021.head()"
   ]
  },
  {
   "cell_type": "markdown",
   "id": "501219b0",
   "metadata": {},
   "source": [
    "In total 1369765 rows after downsampling inside the dataset, indeed a large one."
   ]
  },
  {
   "cell_type": "code",
   "execution_count": 5,
   "id": "f91cc5c7",
   "metadata": {},
   "outputs": [
    {
     "data": {
      "text/plain": [
       "13697"
      ]
     },
     "execution_count": 5,
     "metadata": {},
     "output_type": "execute_result"
    }
   ],
   "source": [
    "len(data_2021)"
   ]
  },
  {
   "cell_type": "markdown",
   "id": "23cc4c5d",
   "metadata": {},
   "source": [
    "How many columns:"
   ]
  },
  {
   "cell_type": "code",
   "execution_count": 6,
   "id": "c2fdd6eb",
   "metadata": {},
   "outputs": [
    {
     "data": {
      "text/plain": [
       "18"
      ]
     },
     "execution_count": 6,
     "metadata": {},
     "output_type": "execute_result"
    }
   ],
   "source": [
    "len(data_2021.columns)"
   ]
  },
  {
   "cell_type": "markdown",
   "id": "e1e42415",
   "metadata": {},
   "source": [
    "Take a look on the columns that we cared and their datatypes:"
   ]
  },
  {
   "cell_type": "markdown",
   "id": "2a741234",
   "metadata": {},
   "source": [
    "Create a set to inspect: (better performance in runtime)"
   ]
  },
  {
   "cell_type": "code",
   "execution_count": 7,
   "id": "dd57939f",
   "metadata": {},
   "outputs": [],
   "source": [
    "columnsCared = {'tpep_pickup_datetime', 'passenger_count',\n",
    "               'trip_distance','total_amount'}"
   ]
  },
  {
   "cell_type": "code",
   "execution_count": 8,
   "id": "d7d17f12",
   "metadata": {},
   "outputs": [
    {
     "name": "stdout",
     "output_type": "stream",
     "text": [
      "tpep_pickup_datetime object\n",
      "total_amount float64\n",
      "passenger_count float64\n",
      "trip_distance float64\n"
     ]
    }
   ],
   "source": [
    "for c in columnsCared:\n",
    "    print(c, data_2021[c].dtype)"
   ]
  },
  {
   "cell_type": "markdown",
   "id": "58dad34c",
   "metadata": {},
   "source": [
    "---"
   ]
  },
  {
   "cell_type": "markdown",
   "id": "bb437da6",
   "metadata": {},
   "source": [
    "### Explore the values inside each column"
   ]
  },
  {
   "cell_type": "markdown",
   "id": "9704b527",
   "metadata": {},
   "source": [
    "From the above, we can tell that the datetime column need some cleaning. We would create a new column called \"pickup_date\" to store the values that transferred the values inside \"tpep_pickup_datetime\" into date objects."
   ]
  },
  {
   "cell_type": "code",
   "execution_count": 9,
   "id": "5e5c6555",
   "metadata": {},
   "outputs": [
    {
     "data": {
      "text/plain": [
       "496474    2021-01-13\n",
       "301881    2021-01-08\n",
       "1189978   2021-01-29\n",
       "406640    2021-01-11\n",
       "868403    2021-01-22\n",
       "Name: pickup_date, dtype: datetime64[ns]"
      ]
     },
     "execution_count": 9,
     "metadata": {},
     "output_type": "execute_result"
    }
   ],
   "source": [
    "data_2021['pickup_date'] = pd.to_datetime(data_2021['tpep_pickup_datetime']).dt.date\n",
    "data_2021['pickup_date'] = pd.to_datetime(data_2021['pickup_date'])\n",
    "data_2021['pickup_date'].head()"
   ]
  },
  {
   "cell_type": "markdown",
   "id": "bd383948",
   "metadata": {},
   "source": [
    "Good, now we have changed the datatype of the dates into the correct type, lets see if there are any nan or strange entries in the column"
   ]
  },
  {
   "cell_type": "code",
   "execution_count": 10,
   "id": "a28b1c7e",
   "metadata": {
    "scrolled": true
   },
   "outputs": [
    {
     "data": {
      "text/plain": [
       "array([datetime.date(2021, 1, 13), datetime.date(2021, 1, 8),\n",
       "       datetime.date(2021, 1, 29), datetime.date(2021, 1, 11),\n",
       "       datetime.date(2021, 1, 22), datetime.date(2021, 1, 2),\n",
       "       datetime.date(2021, 1, 17), datetime.date(2021, 1, 21),\n",
       "       datetime.date(2021, 1, 6), datetime.date(2021, 1, 15),\n",
       "       datetime.date(2021, 1, 20), datetime.date(2021, 1, 31),\n",
       "       datetime.date(2021, 1, 1), datetime.date(2021, 1, 3),\n",
       "       datetime.date(2021, 1, 5), datetime.date(2021, 1, 9),\n",
       "       datetime.date(2021, 1, 28), datetime.date(2021, 1, 14),\n",
       "       datetime.date(2021, 1, 7), datetime.date(2021, 1, 23),\n",
       "       datetime.date(2021, 1, 4), datetime.date(2021, 1, 19),\n",
       "       datetime.date(2021, 1, 26), datetime.date(2021, 1, 25),\n",
       "       datetime.date(2021, 1, 16), datetime.date(2021, 1, 18),\n",
       "       datetime.date(2021, 1, 12), datetime.date(2021, 1, 30),\n",
       "       datetime.date(2021, 1, 27), datetime.date(2021, 1, 24),\n",
       "       datetime.date(2021, 1, 10)], dtype=object)"
      ]
     },
     "execution_count": 10,
     "metadata": {},
     "output_type": "execute_result"
    }
   ],
   "source": [
    "pd.to_datetime(data_2021['pickup_date']).dt.date.unique()"
   ]
  },
  {
   "cell_type": "markdown",
   "id": "66a86ac4",
   "metadata": {},
   "source": [
    "---"
   ]
  },
  {
   "cell_type": "markdown",
   "id": "efc994d8",
   "metadata": {},
   "source": [
    "### Data Cleaning"
   ]
  },
  {
   "cell_type": "markdown",
   "id": "360d74d9",
   "metadata": {},
   "source": [
    "Notice that we have three errorous data in the dataset, some indicated 2008/12/31, some indicated 2020/12/31 and the rest indicating 2009/12/31. We should remove these entries."
   ]
  },
  {
   "cell_type": "code",
   "execution_count": 11,
   "id": "7b1928d1",
   "metadata": {
    "scrolled": true
   },
   "outputs": [
    {
     "data": {
      "text/html": [
       "<div>\n",
       "<style scoped>\n",
       "    .dataframe tbody tr th:only-of-type {\n",
       "        vertical-align: middle;\n",
       "    }\n",
       "\n",
       "    .dataframe tbody tr th {\n",
       "        vertical-align: top;\n",
       "    }\n",
       "\n",
       "    .dataframe thead th {\n",
       "        text-align: right;\n",
       "    }\n",
       "</style>\n",
       "<table border=\"1\" class=\"dataframe\">\n",
       "  <thead>\n",
       "    <tr style=\"text-align: right;\">\n",
       "      <th></th>\n",
       "      <th>VendorID</th>\n",
       "      <th>tpep_pickup_datetime</th>\n",
       "      <th>tpep_dropoff_datetime</th>\n",
       "      <th>passenger_count</th>\n",
       "      <th>trip_distance</th>\n",
       "      <th>RatecodeID</th>\n",
       "      <th>store_and_fwd_flag</th>\n",
       "      <th>PULocationID</th>\n",
       "      <th>DOLocationID</th>\n",
       "      <th>payment_type</th>\n",
       "      <th>fare_amount</th>\n",
       "      <th>extra</th>\n",
       "      <th>mta_tax</th>\n",
       "      <th>tip_amount</th>\n",
       "      <th>tolls_amount</th>\n",
       "      <th>improvement_surcharge</th>\n",
       "      <th>total_amount</th>\n",
       "      <th>congestion_surcharge</th>\n",
       "      <th>pickup_date</th>\n",
       "    </tr>\n",
       "  </thead>\n",
       "  <tbody>\n",
       "  </tbody>\n",
       "</table>\n",
       "</div>"
      ],
      "text/plain": [
       "Empty DataFrame\n",
       "Columns: [VendorID, tpep_pickup_datetime, tpep_dropoff_datetime, passenger_count, trip_distance, RatecodeID, store_and_fwd_flag, PULocationID, DOLocationID, payment_type, fare_amount, extra, mta_tax, tip_amount, tolls_amount, improvement_surcharge, total_amount, congestion_surcharge, pickup_date]\n",
       "Index: []"
      ]
     },
     "execution_count": 11,
     "metadata": {},
     "output_type": "execute_result"
    }
   ],
   "source": [
    "data_2021[(data_2021['pickup_date'] <= \"2020-12-31\") \n",
    "     | (data_2021['pickup_date'] > \"2021-01-31\")].head()"
   ]
  },
  {
   "cell_type": "markdown",
   "id": "da0ecabf",
   "metadata": {},
   "source": [
    "Create a dropIndex list to remove all the error data"
   ]
  },
  {
   "cell_type": "code",
   "execution_count": 12,
   "id": "1e3db262",
   "metadata": {},
   "outputs": [],
   "source": [
    "dropIndex = list(data_2021[(data_2021['pickup_date'] <= \"2020-12-31\") \n",
    "     | (data_2021['pickup_date'] > \"2021-01-31\")].index)"
   ]
  },
  {
   "cell_type": "markdown",
   "id": "d0c5a0e5",
   "metadata": {},
   "source": [
    "Take a look inside the dropIndex"
   ]
  },
  {
   "cell_type": "code",
   "execution_count": 13,
   "id": "889f8726",
   "metadata": {},
   "outputs": [
    {
     "data": {
      "text/plain": [
       "([], 0)"
      ]
     },
     "execution_count": 13,
     "metadata": {},
     "output_type": "execute_result"
    }
   ],
   "source": [
    "dropIndex[:5], len(dropIndex)"
   ]
  },
  {
   "cell_type": "markdown",
   "id": "a67abf58",
   "metadata": {},
   "source": [
    "Drop the error data"
   ]
  },
  {
   "cell_type": "code",
   "execution_count": 14,
   "id": "e23dc217",
   "metadata": {},
   "outputs": [],
   "source": [
    "data_2021.drop([i for i in dropIndex], inplace=True)"
   ]
  },
  {
   "cell_type": "markdown",
   "id": "af0ed080",
   "metadata": {},
   "source": [
    "Now the data should look good"
   ]
  },
  {
   "cell_type": "code",
   "execution_count": 15,
   "id": "3a9d1b79",
   "metadata": {},
   "outputs": [
    {
     "data": {
      "text/plain": [
       "array([datetime.date(2021, 1, 13), datetime.date(2021, 1, 8),\n",
       "       datetime.date(2021, 1, 29), datetime.date(2021, 1, 11),\n",
       "       datetime.date(2021, 1, 22), datetime.date(2021, 1, 2),\n",
       "       datetime.date(2021, 1, 17), datetime.date(2021, 1, 21),\n",
       "       datetime.date(2021, 1, 6), datetime.date(2021, 1, 15),\n",
       "       datetime.date(2021, 1, 20), datetime.date(2021, 1, 31),\n",
       "       datetime.date(2021, 1, 1), datetime.date(2021, 1, 3),\n",
       "       datetime.date(2021, 1, 5), datetime.date(2021, 1, 9),\n",
       "       datetime.date(2021, 1, 28), datetime.date(2021, 1, 14),\n",
       "       datetime.date(2021, 1, 7), datetime.date(2021, 1, 23),\n",
       "       datetime.date(2021, 1, 4), datetime.date(2021, 1, 19),\n",
       "       datetime.date(2021, 1, 26), datetime.date(2021, 1, 25),\n",
       "       datetime.date(2021, 1, 16), datetime.date(2021, 1, 18),\n",
       "       datetime.date(2021, 1, 12), datetime.date(2021, 1, 30),\n",
       "       datetime.date(2021, 1, 27), datetime.date(2021, 1, 24),\n",
       "       datetime.date(2021, 1, 10)], dtype=object)"
      ]
     },
     "execution_count": 15,
     "metadata": {},
     "output_type": "execute_result"
    }
   ],
   "source": [
    "pd.to_datetime(data_2021['tpep_pickup_datetime']).dt.date.unique()"
   ]
  },
  {
   "cell_type": "markdown",
   "id": "e346cd76",
   "metadata": {},
   "source": [
    "Create a chart to show the trip count at NYC in January, 2021"
   ]
  },
  {
   "cell_type": "code",
   "execution_count": 16,
   "id": "cfb9acad",
   "metadata": {},
   "outputs": [
    {
     "data": {
      "image/png": "[encoded data removed]",
      "text/plain": [
       "<Figure size 1080x720 with 1 Axes>"
      ]
     },
     "metadata": {
      "needs_background": "light"
     },
     "output_type": "display_data"
    }
   ],
   "source": [
    "fig = plt.figure(figsize=(15,10))\n",
    "\n",
    "record_2021_df = data_2021.value_counts('pickup_date').sort_index()\n",
    "bar_chart = plt.bar(x =record_2021_df.index, \n",
    "                    height = record_2021_df.values)\n",
    "bar_chart.colors = [\"blue\"]\n",
    "\n",
    "plt.xlabel(\"Date\")\n",
    "plt.ylabel(\"Trip Count\")\n",
    "plt.title(\"Trip Count in Jan. 2021\")\n",
    "\n",
    "plt.show()"
   ]
  },
  {
   "cell_type": "code",
   "execution_count": 17,
   "id": "9b7985ab",
   "metadata": {},
   "outputs": [
    {
     "data": {
      "text/plain": [
       "(240, 606)"
      ]
     },
     "execution_count": 17,
     "metadata": {},
     "output_type": "execute_result"
    }
   ],
   "source": [
    "record_2021_df.min(), record_2021_df.max()"
   ]
  },
  {
   "cell_type": "markdown",
   "id": "d500eb7e",
   "metadata": {},
   "source": [
    "Thus, we should take the log for the values, as the range is pretty big. To make sure that data could show the graph better without losing the scale, taking log is my option. "
   ]
  },
  {
   "cell_type": "code",
   "execution_count": 18,
   "id": "7e06bf70",
   "metadata": {},
   "outputs": [
    {
     "data": {
      "text/plain": [
       "pickup_date\n",
       "2021-01-01    2.380211\n",
       "2021-01-02    2.544068\n",
       "2021-01-03    2.394452\n",
       "2021-01-04    2.632457\n",
       "2021-01-05    2.661813\n",
       "dtype: float64"
      ]
     },
     "execution_count": 18,
     "metadata": {},
     "output_type": "execute_result"
    }
   ],
   "source": [
    "record_2021_df = np.log10(record_2021_df)\n",
    "record_2021_df.head()"
   ]
  },
  {
   "cell_type": "markdown",
   "id": "1bfcc00f",
   "metadata": {},
   "source": [
    "Create a new data frame that only contains the day and log count"
   ]
  },
  {
   "cell_type": "code",
   "execution_count": 19,
   "id": "7fb56a92",
   "metadata": {},
   "outputs": [
    {
     "data": {
      "text/html": [
       "<div>\n",
       "<style scoped>\n",
       "    .dataframe tbody tr th:only-of-type {\n",
       "        vertical-align: middle;\n",
       "    }\n",
       "\n",
       "    .dataframe tbody tr th {\n",
       "        vertical-align: top;\n",
       "    }\n",
       "\n",
       "    .dataframe thead th {\n",
       "        text-align: right;\n",
       "    }\n",
       "</style>\n",
       "<table border=\"1\" class=\"dataframe\">\n",
       "  <thead>\n",
       "    <tr style=\"text-align: right;\">\n",
       "      <th></th>\n",
       "      <th>date</th>\n",
       "      <th>record_2021</th>\n",
       "    </tr>\n",
       "  </thead>\n",
       "  <tbody>\n",
       "    <tr>\n",
       "      <th>0</th>\n",
       "      <td>1</td>\n",
       "      <td>2.380211</td>\n",
       "    </tr>\n",
       "    <tr>\n",
       "      <th>1</th>\n",
       "      <td>2</td>\n",
       "      <td>2.544068</td>\n",
       "    </tr>\n",
       "    <tr>\n",
       "      <th>2</th>\n",
       "      <td>3</td>\n",
       "      <td>2.394452</td>\n",
       "    </tr>\n",
       "    <tr>\n",
       "      <th>3</th>\n",
       "      <td>4</td>\n",
       "      <td>2.632457</td>\n",
       "    </tr>\n",
       "    <tr>\n",
       "      <th>4</th>\n",
       "      <td>5</td>\n",
       "      <td>2.661813</td>\n",
       "    </tr>\n",
       "  </tbody>\n",
       "</table>\n",
       "</div>"
      ],
      "text/plain": [
       "   date  record_2021\n",
       "0     1     2.380211\n",
       "1     2     2.544068\n",
       "2     3     2.394452\n",
       "3     4     2.632457\n",
       "4     5     2.661813"
      ]
     },
     "execution_count": 19,
     "metadata": {},
     "output_type": "execute_result"
    }
   ],
   "source": [
    "data_grouped = pd.DataFrame()\n",
    "\n",
    "data_grouped['date'] = record_2021_df.index.day\n",
    "# data_grouped['record_2019'] = record_2019_df.values\n",
    "# data_grouped['record_2020'] = record_2020_df.values\n",
    "data_grouped['record_2021'] = record_2021_df.values\n",
    "\n",
    "data_grouped.head()"
   ]
  },
  {
   "cell_type": "markdown",
   "id": "39e8f740",
   "metadata": {},
   "source": [
    "Create a average recod count variable for each year\n",
    "\n",
    "The number 13587 was from the [source](https://medium.com/@NYCTLC/factbook-deep-dive-1-e4dd57075945) at here which tells us the total amount to taxi drivers in NYC. (There were 13,587 licensed yellow cabs, compared to 35,000 licensed High Volume vehicles, at that time.)"
   ]
  },
  {
   "cell_type": "code",
   "execution_count": 20,
   "id": "541fe9e8",
   "metadata": {},
   "outputs": [
    {
     "data": {
      "text/plain": [
       "pickup_date\n",
       "2021-01-01    0.017664\n",
       "2021-01-02    0.025760\n",
       "2021-01-03    0.018253\n",
       "2021-01-04    0.031574\n",
       "2021-01-05    0.033782\n",
       "dtype: float64"
      ]
     },
     "execution_count": 20,
     "metadata": {},
     "output_type": "execute_result"
    }
   ],
   "source": [
    "avg_record_2021_df = data_2021.value_counts('pickup_date').sort_index() / 13587\n",
    "avg_record_2021_df.head()"
   ]
  },
  {
   "cell_type": "code",
   "execution_count": 21,
   "id": "cc026cfb",
   "metadata": {},
   "outputs": [
    {
     "data": {
      "text/plain": [
       "0.032519224970738156"
      ]
     },
     "execution_count": 21,
     "metadata": {},
     "output_type": "execute_result"
    }
   ],
   "source": [
    "avg_record_2021 = avg_record_2021_df.sum() / len(avg_record_2021_df)\n",
    "avg_record_2021"
   ]
  },
  {
   "cell_type": "markdown",
   "id": "31878ef3",
   "metadata": {},
   "source": [
    "Create a total amount variable for each year"
   ]
  },
  {
   "cell_type": "code",
   "execution_count": 22,
   "id": "d21e929d",
   "metadata": {},
   "outputs": [
    {
     "data": {
      "text/plain": [
       "pickup_date\n",
       "2021-01-01    3.710563\n",
       "2021-01-02    3.832152\n",
       "2021-01-03    3.675467\n",
       "2021-01-04    3.889819\n",
       "2021-01-05    3.915950\n",
       "Name: total_amount, dtype: float64"
      ]
     },
     "execution_count": 22,
     "metadata": {},
     "output_type": "execute_result"
    }
   ],
   "source": [
    "total_amount_2021 = data_2021.groupby('pickup_date')['total_amount'].sum()\n",
    "total_amount_2021 = np.log10(total_amount_2021)\n",
    "total_amount_2021.head()"
   ]
  },
  {
   "cell_type": "markdown",
   "id": "f153cd36",
   "metadata": {},
   "source": [
    "Create a passenger count variable for the year"
   ]
  },
  {
   "cell_type": "markdown",
   "id": "5d91076a",
   "metadata": {},
   "source": [
    "However, we would have to remove some faulty data inside the passenger count column, as we will find some NaN values and 0 values. These data entries need to be removed."
   ]
  },
  {
   "cell_type": "markdown",
   "id": "000276fb",
   "metadata": {},
   "source": [
    "Check unique values to find the possible errors"
   ]
  },
  {
   "cell_type": "code",
   "execution_count": 23,
   "id": "2e1b8f41",
   "metadata": {
    "scrolled": true
   },
   "outputs": [
    {
     "data": {
      "text/plain": [
       "array([ 1.,  2.,  0., nan,  6.,  3.,  4.,  5.])"
      ]
     },
     "execution_count": 23,
     "metadata": {},
     "output_type": "execute_result"
    }
   ],
   "source": [
    "data_2021['passenger_count'].unique()"
   ]
  },
  {
   "cell_type": "markdown",
   "id": "bdd0c14e",
   "metadata": {},
   "source": [
    "Show all the 0 passenger count values inside the dataset"
   ]
  },
  {
   "cell_type": "code",
   "execution_count": 24,
   "id": "65d64946",
   "metadata": {},
   "outputs": [
    {
     "data": {
      "text/html": [
       "<div>\n",
       "<style scoped>\n",
       "    .dataframe tbody tr th:only-of-type {\n",
       "        vertical-align: middle;\n",
       "    }\n",
       "\n",
       "    .dataframe tbody tr th {\n",
       "        vertical-align: top;\n",
       "    }\n",
       "\n",
       "    .dataframe thead th {\n",
       "        text-align: right;\n",
       "    }\n",
       "</style>\n",
       "<table border=\"1\" class=\"dataframe\">\n",
       "  <thead>\n",
       "    <tr style=\"text-align: right;\">\n",
       "      <th></th>\n",
       "      <th>VendorID</th>\n",
       "      <th>tpep_pickup_datetime</th>\n",
       "      <th>tpep_dropoff_datetime</th>\n",
       "      <th>passenger_count</th>\n",
       "      <th>trip_distance</th>\n",
       "      <th>RatecodeID</th>\n",
       "      <th>store_and_fwd_flag</th>\n",
       "      <th>PULocationID</th>\n",
       "      <th>DOLocationID</th>\n",
       "      <th>payment_type</th>\n",
       "      <th>fare_amount</th>\n",
       "      <th>extra</th>\n",
       "      <th>mta_tax</th>\n",
       "      <th>tip_amount</th>\n",
       "      <th>tolls_amount</th>\n",
       "      <th>improvement_surcharge</th>\n",
       "      <th>total_amount</th>\n",
       "      <th>congestion_surcharge</th>\n",
       "      <th>pickup_date</th>\n",
       "    </tr>\n",
       "  </thead>\n",
       "  <tbody>\n",
       "    <tr>\n",
       "      <th>1189978</th>\n",
       "      <td>1.0</td>\n",
       "      <td>2021-01-29 17:14:06</td>\n",
       "      <td>2021-01-29 17:17:54</td>\n",
       "      <td>0.0</td>\n",
       "      <td>0.8</td>\n",
       "      <td>1.0</td>\n",
       "      <td>N</td>\n",
       "      <td>151</td>\n",
       "      <td>151</td>\n",
       "      <td>1.0</td>\n",
       "      <td>5.0</td>\n",
       "      <td>1.0</td>\n",
       "      <td>0.5</td>\n",
       "      <td>1.7</td>\n",
       "      <td>0.0</td>\n",
       "      <td>0.3</td>\n",
       "      <td>8.5</td>\n",
       "      <td>0.0</td>\n",
       "      <td>2021-01-29</td>\n",
       "    </tr>\n",
       "    <tr>\n",
       "      <th>534419</th>\n",
       "      <td>1.0</td>\n",
       "      <td>2021-01-14 15:00:13</td>\n",
       "      <td>2021-01-14 15:00:16</td>\n",
       "      <td>0.0</td>\n",
       "      <td>1.2</td>\n",
       "      <td>1.0</td>\n",
       "      <td>N</td>\n",
       "      <td>107</td>\n",
       "      <td>107</td>\n",
       "      <td>1.0</td>\n",
       "      <td>2.5</td>\n",
       "      <td>2.5</td>\n",
       "      <td>0.5</td>\n",
       "      <td>1.0</td>\n",
       "      <td>0.0</td>\n",
       "      <td>0.3</td>\n",
       "      <td>6.8</td>\n",
       "      <td>2.5</td>\n",
       "      <td>2021-01-14</td>\n",
       "    </tr>\n",
       "    <tr>\n",
       "      <th>813867</th>\n",
       "      <td>1.0</td>\n",
       "      <td>2021-01-21 12:38:17</td>\n",
       "      <td>2021-01-21 12:50:02</td>\n",
       "      <td>0.0</td>\n",
       "      <td>1.2</td>\n",
       "      <td>1.0</td>\n",
       "      <td>N</td>\n",
       "      <td>238</td>\n",
       "      <td>75</td>\n",
       "      <td>1.0</td>\n",
       "      <td>9.0</td>\n",
       "      <td>0.0</td>\n",
       "      <td>0.5</td>\n",
       "      <td>2.0</td>\n",
       "      <td>0.0</td>\n",
       "      <td>0.3</td>\n",
       "      <td>11.8</td>\n",
       "      <td>0.0</td>\n",
       "      <td>2021-01-21</td>\n",
       "    </tr>\n",
       "    <tr>\n",
       "      <th>205127</th>\n",
       "      <td>1.0</td>\n",
       "      <td>2021-01-06 19:13:20</td>\n",
       "      <td>2021-01-06 19:25:04</td>\n",
       "      <td>0.0</td>\n",
       "      <td>1.5</td>\n",
       "      <td>1.0</td>\n",
       "      <td>N</td>\n",
       "      <td>24</td>\n",
       "      <td>74</td>\n",
       "      <td>1.0</td>\n",
       "      <td>9.5</td>\n",
       "      <td>1.0</td>\n",
       "      <td>0.5</td>\n",
       "      <td>1.0</td>\n",
       "      <td>0.0</td>\n",
       "      <td>0.3</td>\n",
       "      <td>12.3</td>\n",
       "      <td>0.0</td>\n",
       "      <td>2021-01-06</td>\n",
       "    </tr>\n",
       "    <tr>\n",
       "      <th>766756</th>\n",
       "      <td>1.0</td>\n",
       "      <td>2021-01-20 12:14:59</td>\n",
       "      <td>2021-01-20 12:27:53</td>\n",
       "      <td>0.0</td>\n",
       "      <td>2.2</td>\n",
       "      <td>1.0</td>\n",
       "      <td>N</td>\n",
       "      <td>231</td>\n",
       "      <td>107</td>\n",
       "      <td>1.0</td>\n",
       "      <td>10.5</td>\n",
       "      <td>2.5</td>\n",
       "      <td>0.5</td>\n",
       "      <td>1.5</td>\n",
       "      <td>0.0</td>\n",
       "      <td>0.3</td>\n",
       "      <td>15.3</td>\n",
       "      <td>2.5</td>\n",
       "      <td>2021-01-20</td>\n",
       "    </tr>\n",
       "  </tbody>\n",
       "</table>\n",
       "</div>"
      ],
      "text/plain": [
       "         VendorID tpep_pickup_datetime tpep_dropoff_datetime  passenger_count  \\\n",
       "1189978       1.0  2021-01-29 17:14:06   2021-01-29 17:17:54              0.0   \n",
       "534419        1.0  2021-01-14 15:00:13   2021-01-14 15:00:16              0.0   \n",
       "813867        1.0  2021-01-21 12:38:17   2021-01-21 12:50:02              0.0   \n",
       "205127        1.0  2021-01-06 19:13:20   2021-01-06 19:25:04              0.0   \n",
       "766756        1.0  2021-01-20 12:14:59   2021-01-20 12:27:53              0.0   \n",
       "\n",
       "         trip_distance  RatecodeID store_and_fwd_flag  PULocationID  \\\n",
       "1189978            0.8         1.0                  N           151   \n",
       "534419             1.2         1.0                  N           107   \n",
       "813867             1.2         1.0                  N           238   \n",
       "205127             1.5         1.0                  N            24   \n",
       "766756             2.2         1.0                  N           231   \n",
       "\n",
       "         DOLocationID  payment_type  fare_amount  extra  mta_tax  tip_amount  \\\n",
       "1189978           151           1.0          5.0    1.0      0.5         1.7   \n",
       "534419            107           1.0          2.5    2.5      0.5         1.0   \n",
       "813867             75           1.0          9.0    0.0      0.5         2.0   \n",
       "205127             74           1.0          9.5    1.0      0.5         1.0   \n",
       "766756            107           1.0         10.5    2.5      0.5         1.5   \n",
       "\n",
       "         tolls_amount  improvement_surcharge  total_amount  \\\n",
       "1189978           0.0                    0.3           8.5   \n",
       "534419            0.0                    0.3           6.8   \n",
       "813867            0.0                    0.3          11.8   \n",
       "205127            0.0                    0.3          12.3   \n",
       "766756            0.0                    0.3          15.3   \n",
       "\n",
       "         congestion_surcharge pickup_date  \n",
       "1189978                   0.0  2021-01-29  \n",
       "534419                    2.5  2021-01-14  \n",
       "813867                    0.0  2021-01-21  \n",
       "205127                    0.0  2021-01-06  \n",
       "766756                    2.5  2021-01-20  "
      ]
     },
     "execution_count": 24,
     "metadata": {},
     "output_type": "execute_result"
    }
   ],
   "source": [
    "data_2021[data_2021['passenger_count'] == 0].head()"
   ]
  },
  {
   "cell_type": "markdown",
   "id": "606277c4",
   "metadata": {},
   "source": [
    "Make a dropIndex list to drop all the error data"
   ]
  },
  {
   "cell_type": "code",
   "execution_count": 25,
   "id": "ff164962",
   "metadata": {},
   "outputs": [
    {
     "data": {
      "text/plain": [
       "([1189978, 534419, 813867, 205127, 766756], 271)"
      ]
     },
     "execution_count": 25,
     "metadata": {},
     "output_type": "execute_result"
    }
   ],
   "source": [
    "dropIndex = list(data_2021[data_2021['passenger_count'] == 0].index)\n",
    "dropIndex[:5], len(dropIndex)"
   ]
  },
  {
   "cell_type": "markdown",
   "id": "5cdcf8e8",
   "metadata": {},
   "source": [
    "Drop the indices"
   ]
  },
  {
   "cell_type": "code",
   "execution_count": 26,
   "id": "75c06858",
   "metadata": {},
   "outputs": [],
   "source": [
    "data_2021.drop([i for i in dropIndex], inplace=True)"
   ]
  },
  {
   "cell_type": "markdown",
   "id": "d7c3b539",
   "metadata": {},
   "source": [
    "Drop the NaN values"
   ]
  },
  {
   "cell_type": "code",
   "execution_count": 27,
   "id": "5e1cc898",
   "metadata": {},
   "outputs": [],
   "source": [
    "data_2021 = data_2021[~pd.isnull(data_2021['passenger_count'])]"
   ]
  },
  {
   "cell_type": "markdown",
   "id": "0f7029a5",
   "metadata": {},
   "source": [
    "Check the unique data inside to make sure we cleaned everything"
   ]
  },
  {
   "cell_type": "code",
   "execution_count": 28,
   "id": "d3692b29",
   "metadata": {},
   "outputs": [
    {
     "data": {
      "text/plain": [
       "array([1., 2., 6., 3., 4., 5.])"
      ]
     },
     "execution_count": 28,
     "metadata": {},
     "output_type": "execute_result"
    }
   ],
   "source": [
    "data_2021['passenger_count'].unique()"
   ]
  },
  {
   "cell_type": "code",
   "execution_count": 29,
   "id": "c31c00fe",
   "metadata": {},
   "outputs": [
    {
     "data": {
      "text/plain": [
       "pickup_date\n",
       "2021-01-01    344.0\n",
       "2021-01-02    493.0\n",
       "2021-01-03    330.0\n",
       "2021-01-04    529.0\n",
       "2021-01-05    564.0\n",
       "2021-01-06    675.0\n",
       "2021-01-07    669.0\n",
       "2021-01-08    628.0\n",
       "2021-01-09    526.0\n",
       "2021-01-10    452.0\n",
       "2021-01-11    568.0\n",
       "2021-01-12    621.0\n",
       "2021-01-13    656.0\n",
       "2021-01-14    714.0\n",
       "2021-01-15    703.0\n",
       "2021-01-16    498.0\n",
       "2021-01-17    424.0\n",
       "2021-01-18    504.0\n",
       "2021-01-19    682.0\n",
       "2021-01-20    601.0\n",
       "2021-01-21    739.0\n",
       "2021-01-22    737.0\n",
       "2021-01-23    606.0\n",
       "2021-01-24    403.0\n",
       "2021-01-25    601.0\n",
       "2021-01-26    591.0\n",
       "2021-01-27    706.0\n",
       "2021-01-28    751.0\n",
       "2021-01-29    673.0\n",
       "2021-01-30    518.0\n",
       "2021-01-31    456.0\n",
       "Name: passenger_count, dtype: float64"
      ]
     },
     "execution_count": 29,
     "metadata": {},
     "output_type": "execute_result"
    }
   ],
   "source": [
    "pass_count_2021 = data_2021.groupby('pickup_date')['passenger_count'].sum()\n",
    "pass_count_2021"
   ]
  },
  {
   "cell_type": "markdown",
   "id": "53794a08",
   "metadata": {},
   "source": [
    "Create helper function for the dashboard"
   ]
  },
  {
   "cell_type": "code",
   "execution_count": 30,
   "id": "d36d6158",
   "metadata": {},
   "outputs": [],
   "source": [
    "myIndividuaLSelectedLabel = ipywidgets.Label()"
   ]
  },
  {
   "cell_type": "code",
   "execution_count": 31,
   "id": "12a43a42",
   "metadata": {},
   "outputs": [],
   "source": [
    "ntrip_distance = 20\n",
    "ntotal_payment = 20"
   ]
  },
  {
   "cell_type": "code",
   "execution_count": 32,
   "id": "a526791d",
   "metadata": {},
   "outputs": [],
   "source": [
    "Itrip_bins = np.linspace(1.26125, 48.80875, ntrip_distance+1)\n",
    "Ipay_bins = np.linspace(6.9375, 259.1625, ntotal_payment+1)"
   ]
  },
  {
   "cell_type": "code",
   "execution_count": 33,
   "id": "e7aa6826",
   "metadata": {},
   "outputs": [],
   "source": [
    "Ihist2d, Itrip_edges, Ipay_edges = np.histogram2d(data_2021['trip_distance'],\n",
    "                                                 data_2021['total_amount'],\n",
    "                                                 weights=data_2021['passenger_count'],\n",
    "                                                 bins = [Itrip_bins, Ipay_bins])"
   ]
  },
  {
   "cell_type": "code",
   "execution_count": 34,
   "id": "abb9aafd",
   "metadata": {},
   "outputs": [],
   "source": [
    "Itrip_centers = (Itrip_edges[:-1] + Itrip_edges[1:]) / 2\n",
    "Ipay_centers = (Ipay_edges[:-1] + Ipay_edges[1:]) / 2"
   ]
  },
  {
   "cell_type": "code",
   "execution_count": 35,
   "id": "7fb79c6a",
   "metadata": {},
   "outputs": [
    {
     "data": {
      "text/plain": [
       "(2.4499375, 47.6200625, 13.243125000000001, 252.85687500000003)"
      ]
     },
     "execution_count": 35,
     "metadata": {},
     "output_type": "execute_result"
    }
   ],
   "source": [
    "Itripmin = Itrip_centers.min()\n",
    "Itripmax = Itrip_centers.max()\n",
    "Ipaymin = Ipay_centers.min()\n",
    "Ipaymax = Ipay_centers.max()\n",
    "Itripmin, Itripmax, Ipaymin, Ipaymax"
   ]
  },
  {
   "cell_type": "code",
   "execution_count": 36,
   "id": "d087421e",
   "metadata": {},
   "outputs": [],
   "source": [
    "def individual_generate_histogram_from_trip_pay(data, ntrip=20, npay=20,\n",
    "                                               tripmin=Itripmin, tripmax=Itripmax,\n",
    "                                               paymin=Ipaymin,paymax=Ipaymax,\n",
    "                                                takeLog=True):\n",
    "    trip_bins = np.linspace(tripmin, tripmax, ntrip+1)\n",
    "    pay_bins = np.linspace(paymin, paymax, npay+1)\n",
    "    hist2d, trip_edges, pay_edges = np.histogram2d(data['trip_distance'],\n",
    "                                                  data['total_amount'],\n",
    "                                                  weights=data['passenger_count'],\n",
    "                                                  bins = [trip_bins, pay_bins])\n",
    "    hist2d = hist2d.T\n",
    "    if takeLog:\n",
    "        hist2d[hist2d <= 0] = np.nan # set zeros to NaNs\n",
    "        # then take log\n",
    "        hist2d = np.log10(hist2d)\n",
    "        trip_centers = (trip_edges[:-1] + trip_edges[1:]) / 2\n",
    "        pay_centers = (pay_edges[:-1] + pay_edges[1:]) / 2\n",
    "    return hist2d, trip_centers, pay_centers, trip_edges, pay_edges"
   ]
  },
  {
   "cell_type": "code",
   "execution_count": 37,
   "id": "603b771e",
   "metadata": {},
   "outputs": [],
   "source": [
    "Ihist2d, Itrip_centers, Ipay_centers, Itrip_edges, Ipay_edges = individual_generate_histogram_from_trip_pay(data_2021)"
   ]
  },
  {
   "cell_type": "code",
   "execution_count": 38,
   "id": "56537a6f",
   "metadata": {},
   "outputs": [],
   "source": [
    "# Scale\n",
    "col_sc = bqplot.ColorScale(scheme=\"RdPu\",\n",
    "                          min=np.nanmin(Ihist2d),\n",
    "                          max=np.nanmax(Ihist2d))\n",
    "x_sc = bqplot.LinearScale()\n",
    "y_sc = bqplot.LinearScale()\n",
    "\n",
    "# Axis\n",
    "c_ax = bqplot.ColorAxis(scale = col_sc,\n",
    "                       orientation='vertical',\n",
    "                       side='right')\n",
    "x_ax = bqplot.Axis(scale = x_sc, label='Trip Distance')\n",
    "y_ax = bqplot.Axis(scale = y_sc, label='Total Payment',\n",
    "                  orientation='vertical', label_offset=\"45px\")\n",
    "\n",
    "\n",
    "# Marks\n",
    "Iheat_map = bqplot.GridHeatMap(color = Ihist2d,\n",
    "                              row = Ipay_centers,\n",
    "                              column = Itrip_centers,\n",
    "                              scales = {'color':col_sc,\n",
    "                                       'row': y_sc, \n",
    "                                       'column':x_sc},\n",
    "                              interactions = {'click':'select'},\n",
    "                              anchor_style = {'fill':'blue'},\n",
    "                              selected_style = {'opacity':1.00},\n",
    "                              unselected_style = {'opacity':1.00})"
   ]
  },
  {
   "cell_type": "code",
   "execution_count": 39,
   "id": "a572574a",
   "metadata": {},
   "outputs": [],
   "source": [
    "# Scale\n",
    "x_scl = bqplot.DateScale()\n",
    "y_scl = bqplot.LogScale()\n",
    "\n",
    "# Axis\n",
    "ax_xcl = bqplot.Axis(label='Date', scale = x_scl)\n",
    "ax_ycl = bqplot.Axis(label = 'Passenger Count', scale = y_scl, \n",
    "                    orientation = 'vertical', side = 'left')\n",
    "\n",
    "# Marks\n",
    "i,j = 19, 0\n",
    "Itrips = [Itrip_edges[j], Itrip_edges[j+1]]\n",
    "Ipays = [Ipay_edges[i], Ipay_edges[i+1]]\n",
    "\n",
    "# region mask\n",
    "region_mask = ((data_2021['total_amount'] >= Ipays[0]) & (data_2021['total_amount']<=Ipays[1]) &\\\n",
    "                    (data_2021['trip_distance'] >= Itrips[0]) & (data_2021['trip_distance']<=Itrips[1]))\n",
    "\n",
    "# Fig\n",
    "Ipass_scatt = bqplot.Scatter(x=data_2021['pickup_date'][region_mask],\n",
    "                            y=data_2021['passenger_count'][region_mask],\n",
    "                            scales = {'x':x_scl, 'y':y_scl})"
   ]
  },
  {
   "cell_type": "code",
   "execution_count": 40,
   "id": "ce5ea8d3",
   "metadata": {},
   "outputs": [],
   "source": [
    "def get_individual_data_value(change):\n",
    "    if len(change['owner'].selected) == 1:\n",
    "        i, j = change['owner'].selected[0]\n",
    "        v = Ihist2d[i, j]\n",
    "        myIndividuaLSelectedLabel.value = \"Passenger Count in Log = \" + str(v)\n",
    "        Itrips = [Itrip_edges[j], Itrip_edges[j+1]]\n",
    "        Ipays = [Ipay_edges[i], Ipay_edges[i+1]]\n",
    "        region_mask = ((data_2021['total_amount'] >= Ipays[0]) & (data_2021['total_amount']<=Ipays[1]) &\\\n",
    "                    (data_2021['trip_distance'] >= Itrips[0]) & (data_2021['trip_distance']<=Itrips[1]))\n",
    "        Ipass_scatt.x = data_2021['pickup_date'][region_mask]\n",
    "        Ipass_scatt.y = data_2021['passenger_count'][region_mask]\n",
    "        \n",
    "Iheat_map.observe(get_individual_data_value, 'selected')"
   ]
  },
  {
   "cell_type": "code",
   "execution_count": 41,
   "id": "2748b2d1",
   "metadata": {},
   "outputs": [],
   "source": [
    "fig_Iheatmap = bqplot.Figure(marks = [Iheat_map], axes = [c_ax, y_ax, x_ax])\n",
    "fig_Ipass = bqplot.Figure(marks = [Ipass_scatt], axes = [ax_xcl, ax_ycl])"
   ]
  },
  {
   "cell_type": "code",
   "execution_count": 42,
   "id": "9e1ed92b",
   "metadata": {},
   "outputs": [],
   "source": [
    "fig_Iheatmap.layout.min_width='500px'\n",
    "fig_Ipass.layout.min_width='500px'\n",
    "\n",
    "myDashboard = ipywidgets.VBox([myIndividuaLSelectedLabel, ipywidgets.VBox([fig_Iheatmap,fig_Ipass])])\n",
    "# myDashboard"
   ]
  },
  {
   "cell_type": "markdown",
   "id": "7cf819dc",
   "metadata": {},
   "source": [
    "# Final Project Part 3 - Write Up"
   ]
  },
  {
   "cell_type": "markdown",
   "id": "cf957b16",
   "metadata": {},
   "source": [
    "The code for the write-up were either taken from the web or taken from this file. Citations will be included if I had used something from the web."
   ]
  },
  {
   "cell_type": "markdown",
   "id": "b98cca7b",
   "metadata": {},
   "source": [
    "## Data Visualization - TLC Yellow Taxi Simple Investigation"
   ]
  },
  {
   "cell_type": "markdown",
   "id": "dfae724b",
   "metadata": {},
   "source": [
    "### *TLC DATA AT JANUARY 2021 DEEP DIVE* \n",
    "*This post will take a closer look at the yellow taxi industry in New York City by examining the total trips and total payments and the passenger counts in January 2021* "
   ]
  },
  {
   "cell_type": "markdown",
   "id": "a9f677be",
   "metadata": {},
   "source": [
    "As we know, since the late 2019, when the COVID-2019 breakout, we had suffered a gigantic impact on travelling, both domestic and international. As you can see below, a major impact would be the count on recorded data for the January at 2019, 2020, and 2021. In 2019, the records we had on the taxi drives are 7667255 drives. In 2020, the records we had on the taxi drives are 6404796 drives. In 2021, the records we had on teh taxi drives are 1369741 drives. There was a significant drop in the recorded drives. "
   ]
  },
  {
   "cell_type": "code",
   "execution_count": 43,
   "id": "5f9f42a3",
   "metadata": {
    "scrolled": false
   },
   "outputs": [
    {
     "data": {
      "image/png": "[encoded data removed]",
      "text/plain": [
       "<Figure size 1080x720 with 1 Axes>"
      ]
     },
     "metadata": {
      "needs_background": "light"
     },
     "output_type": "display_data"
    }
   ],
   "source": [
    "# I looked at the tutorial for reference and hints of this graph\n",
    "# https://www.tutorialspoint.com/python-matplotlib-multiple-bars\n",
    "plt.rcParams[\"figure.figsize\"] = [15, 10]\n",
    "plt.rcParams[\"figure.autolayout\"] = True\n",
    "plt.rc('axes', titlesize=30)\n",
    "plt.rc('axes', labelsize=25)\n",
    "plt.rc('xtick', labelsize=18)\n",
    "plt.rc('ytick', labelsize=18)\n",
    "\n",
    "labels = data_grouped['date']\n",
    "# record_2019 = record_2019_df.values\n",
    "# record_2020 = record_2020_df.values\n",
    "record_2021 = record_2021_df.values\n",
    "\n",
    "x = np.arange(len(labels))\n",
    "width = 0.7\n",
    "\n",
    "fig, ax = plt.subplots()\n",
    "# rects_2019 = ax.bar(x  - width, record_2019, width, label = \"2019\")\n",
    "# rects_2020 = ax.bar(x, record_2020, width, label = \"2020\")\n",
    "rects_2021 = ax.bar(x, record_2021, width, label = \"2021\")\n",
    "\n",
    "ax.set_xlabel(\"Date in January\")\n",
    "ax.set_ylabel('Taxi Drives in Log')\n",
    "ax.set_title('Taxi Drives in January, 2021')\n",
    "ax.set_xticks(x)\n",
    "ax.set_xticklabels(labels)\n",
    "ax.legend()\n",
    "\n",
    "def autolabel(rects):\n",
    "    for rect in rects:\n",
    "        height = round(rect.get_height(), 2)\n",
    "        ax.annotate('{}'.format(height),\n",
    "                    xy=(rect.get_x() + rect.get_width() / 2, height),\n",
    "                    xytext=(0, 3), # 3 points vertical offset\n",
    "                    textcoords=\"offset points\",\n",
    "                    ha='center', va='bottom')\n",
    "    \n",
    "autolabel(rects_2021)\n",
    "\n",
    "plt.show()"
   ]
  },
  {
   "cell_type": "markdown",
   "id": "ffdce869",
   "metadata": {},
   "source": [
    "From the graph we can tell that there was much change in the taxi drive counts throughout the month. For the pattern, it almost looked like an sine wave in mathematics. We have some days with high trip counts and  some days with lower trip counts, which grouped into 8 different sections in the month."
   ]
  },
  {
   "cell_type": "markdown",
   "id": "aef82dc5",
   "metadata": {},
   "source": [
    "## So, what is Yellow Taxi in NYC?"
   ]
  },
  {
   "cell_type": "markdown",
   "id": "6801a0a4",
   "metadata": {},
   "source": [
    "The TLC regulates medallion, street hail livery, commuter van, paratransit, and for-hire vehicles in New York City. The yellow taxi are the traditional type of taxi we imagine.\n",
    "Interesting enough, according to the NYC State Law, yellow taxicabs were limited to 13,587 on the road. So we can tell that with this gigantic amount of taxi drives per day, we are interested in the amount of average trips for each taxi driver per day. We can do a little calculation for the year 2021."
   ]
  },
  {
   "cell_type": "code",
   "execution_count": 44,
   "id": "4cc5faa9",
   "metadata": {},
   "outputs": [
    {
     "data": {
      "text/plain": [
       "0.032519224970738156"
      ]
     },
     "execution_count": 44,
     "metadata": {},
     "output_type": "execute_result"
    }
   ],
   "source": [
    "avg_record_2021"
   ]
  },
  {
   "cell_type": "markdown",
   "id": "80e7aa48",
   "metadata": {},
   "source": [
    "The average trip for the 2021 taxi drivers were fairly low"
   ]
  },
  {
   "cell_type": "markdown",
   "id": "4574664c",
   "metadata": {},
   "source": [
    "## Digging a little deeper"
   ]
  },
  {
   "cell_type": "markdown",
   "id": "a7f69166",
   "metadata": {},
   "source": [
    "### Total amount"
   ]
  },
  {
   "cell_type": "markdown",
   "id": "c350c701",
   "metadata": {},
   "source": [
    "Now, we had explored the trip, pay and passenger and the change in total record of trips in the 2021 year. We could also analyze the total revenue in the the yellow taxi drives for the 2021 year by building a bar graph graph."
   ]
  },
  {
   "cell_type": "code",
   "execution_count": 45,
   "id": "d615723a",
   "metadata": {},
   "outputs": [
    {
     "data": {
      "image/png": "[encoded data removed]",
      "text/plain": [
       "<Figure size 1080x720 with 1 Axes>"
      ]
     },
     "metadata": {
      "needs_background": "light"
     },
     "output_type": "display_data"
    }
   ],
   "source": [
    "plt.rcParams[\"figure.figsize\"] = [15, 10]\n",
    "plt.rcParams[\"figure.autolayout\"] = True\n",
    "plt.rc('axes', titlesize=30)\n",
    "plt.rc('axes', labelsize=25)\n",
    "plt.rc('xtick', labelsize=18)\n",
    "plt.rc('ytick', labelsize=18)\n",
    "\n",
    "labels = data_grouped['date']\n",
    "# record_2019 = total_amount_2019.values\n",
    "# record_2020 = total_amount_2020.values\n",
    "record_2021 = total_amount_2021.values\n",
    "\n",
    "x = np.arange(len(labels))\n",
    "width = 0.7\n",
    "\n",
    "fig, ax = plt.subplots()\n",
    "# rects_2019 = ax.bar(x  - width, record_2019, width, label = \"2019\")\n",
    "# rects_2020 = ax.bar(x, record_2020, width, label = \"2020\")\n",
    "rects_2021 = ax.bar(x, record_2021, width, label = \"2021\")\n",
    "\n",
    "ax.set_xlabel(\"Date in January\")\n",
    "ax.set_ylabel('Total Payment')\n",
    "ax.set_title('Total Payment in January, 2019 - 2021')\n",
    "ax.set_xticks(x)\n",
    "ax.set_xticklabels(labels)\n",
    "ax.legend()\n",
    "\n",
    "def autolabel(rects):\n",
    "    for rect in rects:\n",
    "        height = round(rect.get_height(), 2)\n",
    "        ax.annotate('{}'.format(height),\n",
    "                    xy=(rect.get_x() + rect.get_width() / 2, height),\n",
    "                    xytext=(0, 3), # 3 points vertical offset\n",
    "                    textcoords=\"offset points\",\n",
    "                    ha='center', va='bottom')\n",
    "\n",
    "autolabel(rects_2021)\n",
    "\n",
    "plt.show()"
   ]
  },
  {
   "cell_type": "markdown",
   "id": "7fccfed1",
   "metadata": {},
   "source": [
    "## Passenger Count"
   ]
  },
  {
   "cell_type": "markdown",
   "id": "6030bd89",
   "metadata": {},
   "source": [
    "The trips records across the year showed a significant change in the total amount and the average amount of trips in the month January. However, we have not inspect regarding the total amount of the market in January and the passenger count for each trip. We could make a bar  graph for us to achieve something like this. I will take the 2021 data value as the example."
   ]
  },
  {
   "cell_type": "code",
   "execution_count": 46,
   "id": "fad954c3",
   "metadata": {},
   "outputs": [
    {
     "data": {
      "image/png": "[encoded data removed]",
      "text/plain": [
       "<Figure size 1080x720 with 1 Axes>"
      ]
     },
     "metadata": {
      "needs_background": "light"
     },
     "output_type": "display_data"
    }
   ],
   "source": [
    "# I looked at the tutorial for reference and hints of this graph\n",
    "# https://www.tutorialspoint.com/python-matplotlib-multiple-bars\n",
    "plt.rcParams[\"figure.figsize\"] = [15, 10]\n",
    "plt.rcParams[\"figure.autolayout\"] = True\n",
    "plt.rc('axes', titlesize=30)\n",
    "plt.rc('axes', labelsize=25)\n",
    "plt.rc('xtick', labelsize=18)\n",
    "plt.rc('ytick', labelsize=18)\n",
    "\n",
    "labels = data_grouped['date']\n",
    "# record_2019 = record_2019_df.values\n",
    "# record_2020 = record_2020_df.values\n",
    "record_2021 = np.log10(pass_count_2021)\n",
    "\n",
    "x = np.arange(len(labels))\n",
    "width = 0.7\n",
    "\n",
    "fig, ax = plt.subplots()\n",
    "# rects_2019 = ax.bar(x  - width, record_2019, width, label = \"2019\")\n",
    "# rects_2020 = ax.bar(x, record_2020, width, label = \"2020\")\n",
    "rects_2021 = ax.bar(x, record_2021, width, label = \"2021\")\n",
    "\n",
    "ax.set_xlabel(\"Date in January\")\n",
    "ax.set_ylabel('Passenger Count in Log')\n",
    "ax.set_title('Passenger Count in January, 2021')\n",
    "ax.set_xticks(x)\n",
    "ax.set_xticklabels(labels)\n",
    "ax.legend()\n",
    "\n",
    "def autolabel(rects):\n",
    "    for rect in rects:\n",
    "        height = round(rect.get_height(), 2)\n",
    "        ax.annotate('{}'.format(height),\n",
    "                    xy=(rect.get_x() + rect.get_width() / 2, height),\n",
    "                    xytext=(0, 3), # 3 points vertical offset\n",
    "                    textcoords=\"offset points\",\n",
    "                    ha='center', va='bottom')\n",
    "    \n",
    "autolabel(rects_2021)\n",
    "\n",
    "plt.show()"
   ]
  },
  {
   "cell_type": "markdown",
   "id": "85df93c8",
   "metadata": {},
   "source": [
    "From the three bar graphs above, we can tell that the relationship between the trip distance and the total amount is linear. However, the passenger count may flex for some distance and some payments."
   ]
  },
  {
   "cell_type": "markdown",
   "id": "329b80a1",
   "metadata": {},
   "source": [
    "Below is an interactive heatmap that shows the relationship between the variables that we indicated above. "
   ]
  },
  {
   "cell_type": "markdown",
   "id": "bd35f216",
   "metadata": {},
   "source": [
    "The trips records across the three years showed a significant change in the total amount and the average amount of trips in the month January. However, we have not inspect regarding the total amount of the market in January and the passenger count for each trip. We could make an interactive dashboard graph for us to achieve something like this. I will take the 2021 data value as the example."
   ]
  },
  {
   "cell_type": "code",
   "execution_count": 47,
   "id": "064bf8cd",
   "metadata": {},
   "outputs": [
    {
     "data": {
      "application/vnd.jupyter.widget-view+json": {
       "model_id": "33af7a9b2915403d9e6fe2f6a35c1c37",
       "version_major": 2,
       "version_minor": 0
      },
      "text/plain": [
       "VBox(children=(Label(value=''), VBox(children=(Figure(axes=[ColorAxis(orientation='vertical', scale=ColorScale…"
      ]
     },
     "metadata": {},
     "output_type": "display_data"
    }
   ],
   "source": [
    "myDashboard"
   ]
  },
  {
   "cell_type": "markdown",
   "id": "221a77f7",
   "metadata": {},
   "source": [
    "## End of Part 3"
   ]
  }
 ],
 "metadata": {
  "kernelspec": {
   "display_name": "Python 3 (ipykernel)",
   "language": "python",
   "name": "python3"
  },
  "language_info": {
   "codemirror_mode": {
    "name": "ipython",
    "version": 3
   },
   "file_extension": ".py",
   "mimetype": "text/x-python",
   "name": "python",
   "nbconvert_exporter": "python",
   "pygments_lexer": "ipython3",
   "version": "3.7.12"
  }
 },
 "nbformat": 4,
 "nbformat_minor": 5
}
