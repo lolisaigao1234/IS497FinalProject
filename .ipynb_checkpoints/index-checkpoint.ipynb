{
 "cells": [
  {
   "cell_type": "markdown",
   "id": "a4aee0c7",
   "metadata": {},
   "source": [
    "# Rocky Wu - jywu3"
   ]
  },
  {
   "cell_type": "markdown",
   "id": "8a5dcd47",
   "metadata": {},
   "source": [
    "Code Source that I looked at and learned from: [link](https://uiuc-ischool-dataviz.github.io/is445_spring2022/nbv.html?notebook_name=%2Fis445_spring2022%2Fweek07%2Fprep_notebook_week07_part1.ipynb)"
   ]
  },
  {
   "cell_type": "markdown",
   "id": "72c6689d",
   "metadata": {},
   "source": [
    "As usual, import the packages we want"
   ]
  },
  {
   "cell_type": "code",
   "execution_count": 1,
   "id": "60ed5396",
   "metadata": {},
   "outputs": [],
   "source": [
    "import pandas as pd\n",
    "import numpy as np\n",
    "import matplotlib.pyplot as plt\n",
    "import ipywidgets\n",
    "import bqplot\n",
    "import matplotlib.colors as mpl_colors\n",
    "import seaborn as sns"
   ]
  },
  {
   "cell_type": "markdown",
   "id": "1065afb6",
   "metadata": {},
   "source": [
    "Set the seed for the down sampling to make sure we could reproduce the results"
   ]
  },
  {
   "cell_type": "code",
   "execution_count": 2,
   "id": "e661afd5",
   "metadata": {},
   "outputs": [],
   "source": [
    "np.random.seed(2022)"
   ]
  },
  {
   "cell_type": "markdown",
   "id": "50501576",
   "metadata": {},
   "source": [
    "### Explore the dataset:"
   ]
  },
  {
   "cell_type": "markdown",
   "id": "a902f2dd",
   "metadata": {},
   "source": [
    "The name of the dataset: Yellow Taxi trip data 2021-01 in NYC\n",
    "\n",
    "We can obtain the dataset at the TLC official site. https://www1.nyc.gov/site/tlc/about/tlc-trip-record-data.page\n",
    "\n",
    "The link towards the dataset:\n",
    "https://s3.amazonaws.com/nyc-tlc/trip+data/yellow_tripdata_2021-01.csv\n",
    "\n",
    "Preferably, download the dataset first as the dataset is fairly large, 126MB. \n",
    "\n",
    "However, as I had exceeded the Git LFS in my plan, I swapped the local import into url.\n",
    "\n",
    "No identification of the license, so I am assuming we can play around with it. I do find an user guide of the dataset, but not much was mentioned on what we can do with the data. Link to the user guide: https://www1.nyc.gov/assets/tlc/downloads/pdf/trip_record_user_guide.pdf\n",
    "\n",
    "The dictionary of the dataset:https://www1.nyc.gov/assets/tlc/downloads/pdf/data_dictionary_trip_records_yellow.pdf"
   ]
  },
  {
   "cell_type": "markdown",
   "id": "0a85fb0e",
   "metadata": {},
   "source": [
    "dataset used in part 3:\n",
    "\n",
    "The name of the dataset: Yellow Taxi trip data 2020-01 and 2019-01 in NYC\n",
    "\n",
    "We can obtain the dataset at the TLC official site. https://www1.nyc.gov/site/tlc/about/tlc-trip-record-data.page\n",
    "\n",
    "The link towards the dataset:\n",
    "https://s3.amazonaws.com/nyc-tlc/trip+data/yellow_tripdata_2020-01.csv\n",
    "and https://s3.amazonaws.com/nyc-tlc/trip+data/yellow_tripdata_2019-01.csv\n",
    "\n",
    "Preferably, download the dataset first as the dataset is fairly large.\n",
    "\n",
    "No identification of the license, so I am assuming we can play around with it. I do find an user guide of the dataset, but not much was mentioned on what we can do with the data. Link to the user guide: https://www1.nyc.gov/assets/tlc/downloads/pdf/trip_record_user_guide.pdf\n",
    "\n",
    "The dictionary of the dataset:https://www1.nyc.gov/assets/tlc/downloads/pdf/data_dictionary_trip_records_yellow.pdf"
   ]
  },
  {
   "cell_type": "markdown",
   "id": "c1e47089",
   "metadata": {},
   "source": [
    "#### Columns explained:\n",
    "VendorID - A code indicating the TPEP provider that provided the record. [1= Creative Mobile Technologies, LLC; 2= VeriFone Inc.]\n",
    "\n",
    "tpep_pickup_datetime - The date and time when the meter was engaged.\n",
    "\n",
    "tpep_dropoff_datetime - The date and time when the meter was disengaged.\n",
    "\n",
    "Passenger_count - The number of passengers in the vehicle. This is a driver-entered value.\n",
    "\n",
    "Trip_distance - The elapsed trip distance in miles reported by the taximeter.\n",
    "\n",
    "PULocationID - TLC Taxi Zone in which the taximeter was engaged\n",
    "\n",
    "DOLocationID - TLC Taxi Zone in which the taximeter was disengaged\n",
    "\n",
    "RateCodeID - The final rate code in effect at the end of the trip.\n",
    "[1= Standard rate, 2=JFK, 3=Newark, 4=Nassau or Westchester, 5=Negotiated fare, 6=Group ride]\n",
    "\n",
    "Store_and_fwd_flag - This flag indicates whether the trip record was held in vehicle memory before sending to the vendor, aka “store and forward,” because the vehicle did not have a connection to the server.\n",
    "[Y= store and forward trip, N= not a store and forward trip]\n",
    "\n",
    "Payment_type - A numeric code signifying how the passenger paid for the trip.\n",
    "[1= Credit card, 2= Cash, 3= No charge, 4= Dispute, 5= Unknown, 6= Voided trip]\n",
    "\n",
    "Fare_amount - The time-and-distance fare calculated by the meter.\n",
    "\n",
    "Extra - Miscellaneous extras and surcharges. Currently, this only includes the \\\\$0.50 and \\\\$1 rush hour and overnight charges.\n",
    "\n",
    "MTA_tax - \\\\$0.50 MTA tax that is automatically triggered based on the metered rate in use.\n",
    "\n",
    "Improvement_surcharge - \\\\$0.30 improvement surcharge assessed trips at the flag drop. The improvement surcharge began being levied in 2015.\n",
    "\n",
    "Tip_amount - This field is automatically populated for credit card tips. Cash tips are not included.\n",
    "\n",
    "Tolls_amount - Total amount of all tolls paid in trip.\n",
    "\n",
    "Total_amount - The total amount charged to passengers. Does not include cash tips."
   ]
  },
  {
   "cell_type": "code",
   "execution_count": 3,
   "id": "bd4df95b",
   "metadata": {
    "scrolled": false
   },
   "outputs": [],
   "source": [
    "# Original import using the link\n",
    "data = pd.read_csv(\"https://s3.amazonaws.com/nyc-tlc/trip+data/yellow_tripdata_2021-01.csv\", \n",
    "                   low_memory=False)\n",
    "# This directory is based on the directory on my hard drive\n",
    "# and the file structure on GitHub\n",
    "# data = pd.read_csv(\"../data/yellow_tripdata_2021-01.csv\", \n",
    "#                    low_memory=False)"
   ]
  },
  {
   "cell_type": "markdown",
   "id": "8b5279d6",
   "metadata": {},
   "source": [
    "There was a warning indicating the dtype conflicts in some of the columns in the dataset. Will deal with the warning in the later stage. Escaping the warning now by setting low_memory = False"
   ]
  },
  {
   "cell_type": "markdown",
   "id": "75faa8e8",
   "metadata": {},
   "source": [
    "Take a look of the dataset"
   ]
  },
  {
   "cell_type": "code",
   "execution_count": 4,
   "id": "3aa505d3",
   "metadata": {
    "scrolled": false
   },
   "outputs": [
    {
     "data": {
      "text/html": [
       "<div>\n",
       "<style scoped>\n",
       "    .dataframe tbody tr th:only-of-type {\n",
       "        vertical-align: middle;\n",
       "    }\n",
       "\n",
       "    .dataframe tbody tr th {\n",
       "        vertical-align: top;\n",
       "    }\n",
       "\n",
       "    .dataframe thead th {\n",
       "        text-align: right;\n",
       "    }\n",
       "</style>\n",
       "<table border=\"1\" class=\"dataframe\">\n",
       "  <thead>\n",
       "    <tr style=\"text-align: right;\">\n",
       "      <th></th>\n",
       "      <th>VendorID</th>\n",
       "      <th>tpep_pickup_datetime</th>\n",
       "      <th>tpep_dropoff_datetime</th>\n",
       "      <th>passenger_count</th>\n",
       "      <th>trip_distance</th>\n",
       "      <th>RatecodeID</th>\n",
       "      <th>store_and_fwd_flag</th>\n",
       "      <th>PULocationID</th>\n",
       "      <th>DOLocationID</th>\n",
       "      <th>payment_type</th>\n",
       "      <th>fare_amount</th>\n",
       "      <th>extra</th>\n",
       "      <th>mta_tax</th>\n",
       "      <th>tip_amount</th>\n",
       "      <th>tolls_amount</th>\n",
       "      <th>improvement_surcharge</th>\n",
       "      <th>total_amount</th>\n",
       "      <th>congestion_surcharge</th>\n",
       "    </tr>\n",
       "  </thead>\n",
       "  <tbody>\n",
       "    <tr>\n",
       "      <th>0</th>\n",
       "      <td>1.0</td>\n",
       "      <td>2021-01-01 00:30:10</td>\n",
       "      <td>2021-01-01 00:36:12</td>\n",
       "      <td>1.0</td>\n",
       "      <td>2.10</td>\n",
       "      <td>1.0</td>\n",
       "      <td>N</td>\n",
       "      <td>142</td>\n",
       "      <td>43</td>\n",
       "      <td>2.0</td>\n",
       "      <td>8.0</td>\n",
       "      <td>3.0</td>\n",
       "      <td>0.5</td>\n",
       "      <td>0.00</td>\n",
       "      <td>0.0</td>\n",
       "      <td>0.3</td>\n",
       "      <td>11.80</td>\n",
       "      <td>2.5</td>\n",
       "    </tr>\n",
       "    <tr>\n",
       "      <th>1</th>\n",
       "      <td>1.0</td>\n",
       "      <td>2021-01-01 00:51:20</td>\n",
       "      <td>2021-01-01 00:52:19</td>\n",
       "      <td>1.0</td>\n",
       "      <td>0.20</td>\n",
       "      <td>1.0</td>\n",
       "      <td>N</td>\n",
       "      <td>238</td>\n",
       "      <td>151</td>\n",
       "      <td>2.0</td>\n",
       "      <td>3.0</td>\n",
       "      <td>0.5</td>\n",
       "      <td>0.5</td>\n",
       "      <td>0.00</td>\n",
       "      <td>0.0</td>\n",
       "      <td>0.3</td>\n",
       "      <td>4.30</td>\n",
       "      <td>0.0</td>\n",
       "    </tr>\n",
       "    <tr>\n",
       "      <th>2</th>\n",
       "      <td>1.0</td>\n",
       "      <td>2021-01-01 00:43:30</td>\n",
       "      <td>2021-01-01 01:11:06</td>\n",
       "      <td>1.0</td>\n",
       "      <td>14.70</td>\n",
       "      <td>1.0</td>\n",
       "      <td>N</td>\n",
       "      <td>132</td>\n",
       "      <td>165</td>\n",
       "      <td>1.0</td>\n",
       "      <td>42.0</td>\n",
       "      <td>0.5</td>\n",
       "      <td>0.5</td>\n",
       "      <td>8.65</td>\n",
       "      <td>0.0</td>\n",
       "      <td>0.3</td>\n",
       "      <td>51.95</td>\n",
       "      <td>0.0</td>\n",
       "    </tr>\n",
       "    <tr>\n",
       "      <th>3</th>\n",
       "      <td>1.0</td>\n",
       "      <td>2021-01-01 00:15:48</td>\n",
       "      <td>2021-01-01 00:31:01</td>\n",
       "      <td>0.0</td>\n",
       "      <td>10.60</td>\n",
       "      <td>1.0</td>\n",
       "      <td>N</td>\n",
       "      <td>138</td>\n",
       "      <td>132</td>\n",
       "      <td>1.0</td>\n",
       "      <td>29.0</td>\n",
       "      <td>0.5</td>\n",
       "      <td>0.5</td>\n",
       "      <td>6.05</td>\n",
       "      <td>0.0</td>\n",
       "      <td>0.3</td>\n",
       "      <td>36.35</td>\n",
       "      <td>0.0</td>\n",
       "    </tr>\n",
       "    <tr>\n",
       "      <th>4</th>\n",
       "      <td>2.0</td>\n",
       "      <td>2021-01-01 00:31:49</td>\n",
       "      <td>2021-01-01 00:48:21</td>\n",
       "      <td>1.0</td>\n",
       "      <td>4.94</td>\n",
       "      <td>1.0</td>\n",
       "      <td>N</td>\n",
       "      <td>68</td>\n",
       "      <td>33</td>\n",
       "      <td>1.0</td>\n",
       "      <td>16.5</td>\n",
       "      <td>0.5</td>\n",
       "      <td>0.5</td>\n",
       "      <td>4.06</td>\n",
       "      <td>0.0</td>\n",
       "      <td>0.3</td>\n",
       "      <td>24.36</td>\n",
       "      <td>2.5</td>\n",
       "    </tr>\n",
       "  </tbody>\n",
       "</table>\n",
       "</div>"
      ],
      "text/plain": [
       "   VendorID tpep_pickup_datetime tpep_dropoff_datetime  passenger_count  \\\n",
       "0       1.0  2021-01-01 00:30:10   2021-01-01 00:36:12              1.0   \n",
       "1       1.0  2021-01-01 00:51:20   2021-01-01 00:52:19              1.0   \n",
       "2       1.0  2021-01-01 00:43:30   2021-01-01 01:11:06              1.0   \n",
       "3       1.0  2021-01-01 00:15:48   2021-01-01 00:31:01              0.0   \n",
       "4       2.0  2021-01-01 00:31:49   2021-01-01 00:48:21              1.0   \n",
       "\n",
       "   trip_distance  RatecodeID store_and_fwd_flag  PULocationID  DOLocationID  \\\n",
       "0           2.10         1.0                  N           142            43   \n",
       "1           0.20         1.0                  N           238           151   \n",
       "2          14.70         1.0                  N           132           165   \n",
       "3          10.60         1.0                  N           138           132   \n",
       "4           4.94         1.0                  N            68            33   \n",
       "\n",
       "   payment_type  fare_amount  extra  mta_tax  tip_amount  tolls_amount  \\\n",
       "0           2.0          8.0    3.0      0.5        0.00           0.0   \n",
       "1           2.0          3.0    0.5      0.5        0.00           0.0   \n",
       "2           1.0         42.0    0.5      0.5        8.65           0.0   \n",
       "3           1.0         29.0    0.5      0.5        6.05           0.0   \n",
       "4           1.0         16.5    0.5      0.5        4.06           0.0   \n",
       "\n",
       "   improvement_surcharge  total_amount  congestion_surcharge  \n",
       "0                    0.3         11.80                   2.5  \n",
       "1                    0.3          4.30                   0.0  \n",
       "2                    0.3         51.95                   0.0  \n",
       "3                    0.3         36.35                   0.0  \n",
       "4                    0.3         24.36                   2.5  "
      ]
     },
     "execution_count": 4,
     "metadata": {},
     "output_type": "execute_result"
    }
   ],
   "source": [
    "data.head()"
   ]
  },
  {
   "cell_type": "markdown",
   "id": "64757ba7",
   "metadata": {},
   "source": [
    "In total 1369765 rows inside the dataset, indeed a large one."
   ]
  },
  {
   "cell_type": "code",
   "execution_count": 5,
   "id": "cb5d3dd3",
   "metadata": {},
   "outputs": [
    {
     "data": {
      "text/plain": [
       "1369765"
      ]
     },
     "execution_count": 5,
     "metadata": {},
     "output_type": "execute_result"
    }
   ],
   "source": [
    "dataLength = len(data)\n",
    "dataLength"
   ]
  },
  {
   "cell_type": "markdown",
   "id": "3dc4b0d1",
   "metadata": {},
   "source": [
    "How many columns:"
   ]
  },
  {
   "cell_type": "code",
   "execution_count": 6,
   "id": "5e113f84",
   "metadata": {},
   "outputs": [
    {
     "data": {
      "text/plain": [
       "18"
      ]
     },
     "execution_count": 6,
     "metadata": {},
     "output_type": "execute_result"
    }
   ],
   "source": [
    "len(data.columns)"
   ]
  },
  {
   "cell_type": "markdown",
   "id": "15adbbfd",
   "metadata": {},
   "source": [
    "Take a look on the columns"
   ]
  },
  {
   "cell_type": "code",
   "execution_count": 7,
   "id": "c22e3080",
   "metadata": {
    "scrolled": true
   },
   "outputs": [
    {
     "name": "stdout",
     "output_type": "stream",
     "text": [
      "VendorID\n",
      "tpep_pickup_datetime\n",
      "tpep_dropoff_datetime\n",
      "passenger_count\n",
      "trip_distance\n",
      "RatecodeID\n",
      "store_and_fwd_flag\n",
      "PULocationID\n",
      "DOLocationID\n",
      "payment_type\n",
      "fare_amount\n",
      "extra\n",
      "mta_tax\n",
      "tip_amount\n",
      "tolls_amount\n",
      "improvement_surcharge\n",
      "total_amount\n",
      "congestion_surcharge\n"
     ]
    }
   ],
   "source": [
    "for c in data.columns:\n",
    "    print(c)"
   ]
  },
  {
   "cell_type": "markdown",
   "id": "3d4c22a8",
   "metadata": {},
   "source": [
    "We will first downsample the dataset, else my computer could not handle the dataset. I am taking the number of samples to be 0.1% of the original dataset else my computer would crash. Feel free to adjust the sample to see different results. "
   ]
  },
  {
   "cell_type": "code",
   "execution_count": 8,
   "id": "00ba8195",
   "metadata": {},
   "outputs": [
    {
     "data": {
      "text/plain": [
       "(array([1215088,  612594,  259095, ...,  274823,  210304,  170648]), 13697)"
      ]
     },
     "execution_count": 8,
     "metadata": {},
     "output_type": "execute_result"
    }
   ],
   "source": [
    "np.random.seed(0)\n",
    "nsamples = len(data) // 100\n",
    "downSampleMask = np.random.choice(range(len(data)-1), \n",
    "                                  nsamples, replace=False)\n",
    "downSampleMask, len(downSampleMask)"
   ]
  },
  {
   "cell_type": "code",
   "execution_count": 9,
   "id": "8e6e2c44",
   "metadata": {},
   "outputs": [
    {
     "data": {
      "text/plain": [
       "13697"
      ]
     },
     "execution_count": 9,
     "metadata": {},
     "output_type": "execute_result"
    }
   ],
   "source": [
    "data = data.loc[downSampleMask]\n",
    "len(data)"
   ]
  },
  {
   "cell_type": "code",
   "execution_count": 10,
   "id": "ba1ee2f5",
   "metadata": {},
   "outputs": [
    {
     "data": {
      "text/plain": [
       "13697"
      ]
     },
     "execution_count": 10,
     "metadata": {},
     "output_type": "execute_result"
    }
   ],
   "source": [
    "dataLength = len(data)\n",
    "dataLength"
   ]
  },
  {
   "cell_type": "code",
   "execution_count": 11,
   "id": "046d7460",
   "metadata": {},
   "outputs": [
    {
     "data": {
      "text/html": [
       "<div>\n",
       "<style scoped>\n",
       "    .dataframe tbody tr th:only-of-type {\n",
       "        vertical-align: middle;\n",
       "    }\n",
       "\n",
       "    .dataframe tbody tr th {\n",
       "        vertical-align: top;\n",
       "    }\n",
       "\n",
       "    .dataframe thead th {\n",
       "        text-align: right;\n",
       "    }\n",
       "</style>\n",
       "<table border=\"1\" class=\"dataframe\">\n",
       "  <thead>\n",
       "    <tr style=\"text-align: right;\">\n",
       "      <th></th>\n",
       "      <th>VendorID</th>\n",
       "      <th>tpep_pickup_datetime</th>\n",
       "      <th>tpep_dropoff_datetime</th>\n",
       "      <th>passenger_count</th>\n",
       "      <th>trip_distance</th>\n",
       "      <th>RatecodeID</th>\n",
       "      <th>store_and_fwd_flag</th>\n",
       "      <th>PULocationID</th>\n",
       "      <th>DOLocationID</th>\n",
       "      <th>payment_type</th>\n",
       "      <th>fare_amount</th>\n",
       "      <th>extra</th>\n",
       "      <th>mta_tax</th>\n",
       "      <th>tip_amount</th>\n",
       "      <th>tolls_amount</th>\n",
       "      <th>improvement_surcharge</th>\n",
       "      <th>total_amount</th>\n",
       "      <th>congestion_surcharge</th>\n",
       "    </tr>\n",
       "  </thead>\n",
       "  <tbody>\n",
       "    <tr>\n",
       "      <th>1215088</th>\n",
       "      <td>1.0</td>\n",
       "      <td>2021-01-30 12:21:33</td>\n",
       "      <td>2021-01-30 12:26:14</td>\n",
       "      <td>0.0</td>\n",
       "      <td>1.00</td>\n",
       "      <td>1.0</td>\n",
       "      <td>N</td>\n",
       "      <td>79</td>\n",
       "      <td>107</td>\n",
       "      <td>2.0</td>\n",
       "      <td>5.5</td>\n",
       "      <td>2.5</td>\n",
       "      <td>0.5</td>\n",
       "      <td>0.00</td>\n",
       "      <td>0.0</td>\n",
       "      <td>0.3</td>\n",
       "      <td>8.80</td>\n",
       "      <td>2.5</td>\n",
       "    </tr>\n",
       "    <tr>\n",
       "      <th>612594</th>\n",
       "      <td>2.0</td>\n",
       "      <td>2021-01-16 12:23:31</td>\n",
       "      <td>2021-01-16 12:29:11</td>\n",
       "      <td>1.0</td>\n",
       "      <td>1.19</td>\n",
       "      <td>1.0</td>\n",
       "      <td>N</td>\n",
       "      <td>164</td>\n",
       "      <td>68</td>\n",
       "      <td>1.0</td>\n",
       "      <td>6.5</td>\n",
       "      <td>0.0</td>\n",
       "      <td>0.5</td>\n",
       "      <td>1.96</td>\n",
       "      <td>0.0</td>\n",
       "      <td>0.3</td>\n",
       "      <td>11.76</td>\n",
       "      <td>2.5</td>\n",
       "    </tr>\n",
       "    <tr>\n",
       "      <th>259095</th>\n",
       "      <td>2.0</td>\n",
       "      <td>2021-01-08 07:07:00</td>\n",
       "      <td>2021-01-08 07:10:36</td>\n",
       "      <td>5.0</td>\n",
       "      <td>1.07</td>\n",
       "      <td>1.0</td>\n",
       "      <td>N</td>\n",
       "      <td>114</td>\n",
       "      <td>90</td>\n",
       "      <td>1.0</td>\n",
       "      <td>5.5</td>\n",
       "      <td>0.0</td>\n",
       "      <td>0.5</td>\n",
       "      <td>1.76</td>\n",
       "      <td>0.0</td>\n",
       "      <td>0.3</td>\n",
       "      <td>10.56</td>\n",
       "      <td>2.5</td>\n",
       "    </tr>\n",
       "    <tr>\n",
       "      <th>1049052</th>\n",
       "      <td>2.0</td>\n",
       "      <td>2021-01-26 19:17:16</td>\n",
       "      <td>2021-01-26 19:33:39</td>\n",
       "      <td>3.0</td>\n",
       "      <td>2.92</td>\n",
       "      <td>1.0</td>\n",
       "      <td>N</td>\n",
       "      <td>140</td>\n",
       "      <td>238</td>\n",
       "      <td>1.0</td>\n",
       "      <td>13.0</td>\n",
       "      <td>1.0</td>\n",
       "      <td>0.5</td>\n",
       "      <td>2.00</td>\n",
       "      <td>0.0</td>\n",
       "      <td>0.3</td>\n",
       "      <td>19.30</td>\n",
       "      <td>2.5</td>\n",
       "    </tr>\n",
       "    <tr>\n",
       "      <th>220625</th>\n",
       "      <td>2.0</td>\n",
       "      <td>2021-01-07 10:13:49</td>\n",
       "      <td>2021-01-07 10:16:42</td>\n",
       "      <td>1.0</td>\n",
       "      <td>0.74</td>\n",
       "      <td>1.0</td>\n",
       "      <td>N</td>\n",
       "      <td>246</td>\n",
       "      <td>68</td>\n",
       "      <td>1.0</td>\n",
       "      <td>4.5</td>\n",
       "      <td>0.0</td>\n",
       "      <td>0.5</td>\n",
       "      <td>0.00</td>\n",
       "      <td>0.0</td>\n",
       "      <td>0.3</td>\n",
       "      <td>7.80</td>\n",
       "      <td>2.5</td>\n",
       "    </tr>\n",
       "    <tr>\n",
       "      <th>...</th>\n",
       "      <td>...</td>\n",
       "      <td>...</td>\n",
       "      <td>...</td>\n",
       "      <td>...</td>\n",
       "      <td>...</td>\n",
       "      <td>...</td>\n",
       "      <td>...</td>\n",
       "      <td>...</td>\n",
       "      <td>...</td>\n",
       "      <td>...</td>\n",
       "      <td>...</td>\n",
       "      <td>...</td>\n",
       "      <td>...</td>\n",
       "      <td>...</td>\n",
       "      <td>...</td>\n",
       "      <td>...</td>\n",
       "      <td>...</td>\n",
       "      <td>...</td>\n",
       "    </tr>\n",
       "    <tr>\n",
       "      <th>357786</th>\n",
       "      <td>2.0</td>\n",
       "      <td>2021-01-10 16:36:56</td>\n",
       "      <td>2021-01-10 16:40:53</td>\n",
       "      <td>1.0</td>\n",
       "      <td>1.30</td>\n",
       "      <td>1.0</td>\n",
       "      <td>N</td>\n",
       "      <td>141</td>\n",
       "      <td>236</td>\n",
       "      <td>1.0</td>\n",
       "      <td>5.5</td>\n",
       "      <td>0.0</td>\n",
       "      <td>0.5</td>\n",
       "      <td>2.20</td>\n",
       "      <td>0.0</td>\n",
       "      <td>0.3</td>\n",
       "      <td>11.00</td>\n",
       "      <td>2.5</td>\n",
       "    </tr>\n",
       "    <tr>\n",
       "      <th>396826</th>\n",
       "      <td>2.0</td>\n",
       "      <td>2021-01-11 16:42:30</td>\n",
       "      <td>2021-01-11 17:07:34</td>\n",
       "      <td>1.0</td>\n",
       "      <td>4.94</td>\n",
       "      <td>1.0</td>\n",
       "      <td>N</td>\n",
       "      <td>186</td>\n",
       "      <td>217</td>\n",
       "      <td>2.0</td>\n",
       "      <td>20.0</td>\n",
       "      <td>1.0</td>\n",
       "      <td>0.5</td>\n",
       "      <td>0.00</td>\n",
       "      <td>0.0</td>\n",
       "      <td>0.3</td>\n",
       "      <td>24.30</td>\n",
       "      <td>2.5</td>\n",
       "    </tr>\n",
       "    <tr>\n",
       "      <th>274823</th>\n",
       "      <td>2.0</td>\n",
       "      <td>2021-01-08 13:07:04</td>\n",
       "      <td>2021-01-08 13:10:16</td>\n",
       "      <td>1.0</td>\n",
       "      <td>0.84</td>\n",
       "      <td>1.0</td>\n",
       "      <td>N</td>\n",
       "      <td>90</td>\n",
       "      <td>164</td>\n",
       "      <td>1.0</td>\n",
       "      <td>4.5</td>\n",
       "      <td>0.0</td>\n",
       "      <td>0.5</td>\n",
       "      <td>1.95</td>\n",
       "      <td>0.0</td>\n",
       "      <td>0.3</td>\n",
       "      <td>9.75</td>\n",
       "      <td>2.5</td>\n",
       "    </tr>\n",
       "    <tr>\n",
       "      <th>210304</th>\n",
       "      <td>1.0</td>\n",
       "      <td>2021-01-07 05:59:59</td>\n",
       "      <td>2021-01-07 06:25:40</td>\n",
       "      <td>0.0</td>\n",
       "      <td>9.80</td>\n",
       "      <td>1.0</td>\n",
       "      <td>N</td>\n",
       "      <td>132</td>\n",
       "      <td>37</td>\n",
       "      <td>2.0</td>\n",
       "      <td>29.5</td>\n",
       "      <td>0.5</td>\n",
       "      <td>0.5</td>\n",
       "      <td>0.00</td>\n",
       "      <td>0.0</td>\n",
       "      <td>0.3</td>\n",
       "      <td>30.80</td>\n",
       "      <td>0.0</td>\n",
       "    </tr>\n",
       "    <tr>\n",
       "      <th>170648</th>\n",
       "      <td>2.0</td>\n",
       "      <td>2021-01-06 09:43:41</td>\n",
       "      <td>2021-01-06 09:50:05</td>\n",
       "      <td>2.0</td>\n",
       "      <td>1.41</td>\n",
       "      <td>1.0</td>\n",
       "      <td>N</td>\n",
       "      <td>151</td>\n",
       "      <td>239</td>\n",
       "      <td>1.0</td>\n",
       "      <td>7.0</td>\n",
       "      <td>0.0</td>\n",
       "      <td>0.5</td>\n",
       "      <td>2.06</td>\n",
       "      <td>0.0</td>\n",
       "      <td>0.3</td>\n",
       "      <td>12.36</td>\n",
       "      <td>2.5</td>\n",
       "    </tr>\n",
       "  </tbody>\n",
       "</table>\n",
       "<p>13697 rows × 18 columns</p>\n",
       "</div>"
      ],
      "text/plain": [
       "         VendorID tpep_pickup_datetime tpep_dropoff_datetime  passenger_count  \\\n",
       "1215088       1.0  2021-01-30 12:21:33   2021-01-30 12:26:14              0.0   \n",
       "612594        2.0  2021-01-16 12:23:31   2021-01-16 12:29:11              1.0   \n",
       "259095        2.0  2021-01-08 07:07:00   2021-01-08 07:10:36              5.0   \n",
       "1049052       2.0  2021-01-26 19:17:16   2021-01-26 19:33:39              3.0   \n",
       "220625        2.0  2021-01-07 10:13:49   2021-01-07 10:16:42              1.0   \n",
       "...           ...                  ...                   ...              ...   \n",
       "357786        2.0  2021-01-10 16:36:56   2021-01-10 16:40:53              1.0   \n",
       "396826        2.0  2021-01-11 16:42:30   2021-01-11 17:07:34              1.0   \n",
       "274823        2.0  2021-01-08 13:07:04   2021-01-08 13:10:16              1.0   \n",
       "210304        1.0  2021-01-07 05:59:59   2021-01-07 06:25:40              0.0   \n",
       "170648        2.0  2021-01-06 09:43:41   2021-01-06 09:50:05              2.0   \n",
       "\n",
       "         trip_distance  RatecodeID store_and_fwd_flag  PULocationID  \\\n",
       "1215088           1.00         1.0                  N            79   \n",
       "612594            1.19         1.0                  N           164   \n",
       "259095            1.07         1.0                  N           114   \n",
       "1049052           2.92         1.0                  N           140   \n",
       "220625            0.74         1.0                  N           246   \n",
       "...                ...         ...                ...           ...   \n",
       "357786            1.30         1.0                  N           141   \n",
       "396826            4.94         1.0                  N           186   \n",
       "274823            0.84         1.0                  N            90   \n",
       "210304            9.80         1.0                  N           132   \n",
       "170648            1.41         1.0                  N           151   \n",
       "\n",
       "         DOLocationID  payment_type  fare_amount  extra  mta_tax  tip_amount  \\\n",
       "1215088           107           2.0          5.5    2.5      0.5        0.00   \n",
       "612594             68           1.0          6.5    0.0      0.5        1.96   \n",
       "259095             90           1.0          5.5    0.0      0.5        1.76   \n",
       "1049052           238           1.0         13.0    1.0      0.5        2.00   \n",
       "220625             68           1.0          4.5    0.0      0.5        0.00   \n",
       "...               ...           ...          ...    ...      ...         ...   \n",
       "357786            236           1.0          5.5    0.0      0.5        2.20   \n",
       "396826            217           2.0         20.0    1.0      0.5        0.00   \n",
       "274823            164           1.0          4.5    0.0      0.5        1.95   \n",
       "210304             37           2.0         29.5    0.5      0.5        0.00   \n",
       "170648            239           1.0          7.0    0.0      0.5        2.06   \n",
       "\n",
       "         tolls_amount  improvement_surcharge  total_amount  \\\n",
       "1215088           0.0                    0.3          8.80   \n",
       "612594            0.0                    0.3         11.76   \n",
       "259095            0.0                    0.3         10.56   \n",
       "1049052           0.0                    0.3         19.30   \n",
       "220625            0.0                    0.3          7.80   \n",
       "...               ...                    ...           ...   \n",
       "357786            0.0                    0.3         11.00   \n",
       "396826            0.0                    0.3         24.30   \n",
       "274823            0.0                    0.3          9.75   \n",
       "210304            0.0                    0.3         30.80   \n",
       "170648            0.0                    0.3         12.36   \n",
       "\n",
       "         congestion_surcharge  \n",
       "1215088                   2.5  \n",
       "612594                    2.5  \n",
       "259095                    2.5  \n",
       "1049052                   2.5  \n",
       "220625                    2.5  \n",
       "...                       ...  \n",
       "357786                    2.5  \n",
       "396826                    2.5  \n",
       "274823                    2.5  \n",
       "210304                    0.0  \n",
       "170648                    2.5  \n",
       "\n",
       "[13697 rows x 18 columns]"
      ]
     },
     "execution_count": 11,
     "metadata": {},
     "output_type": "execute_result"
    }
   ],
   "source": [
    "data"
   ]
  },
  {
   "cell_type": "markdown",
   "id": "9a766178",
   "metadata": {},
   "source": [
    "After downsampling the dataset, we can use the pd.isnull to determine if there were nan values inside the columns"
   ]
  },
  {
   "cell_type": "markdown",
   "id": "8c8a8354",
   "metadata": {},
   "source": [
    "Print out the if nan values exists in the column"
   ]
  },
  {
   "cell_type": "code",
   "execution_count": 12,
   "id": "23dc52a3",
   "metadata": {},
   "outputs": [
    {
     "name": "stdout",
     "output_type": "stream",
     "text": [
      "VendorID\n",
      "passenger_count\n",
      "RatecodeID\n",
      "store_and_fwd_flag\n",
      "payment_type\n"
     ]
    }
   ],
   "source": [
    "for c in data.columns:\n",
    "    if pd.isnull(data[c].unique()).any():\n",
    "        print(c)\n",
    "    # print(c, pd.isnull(data[c].unique()).any())"
   ]
  },
  {
   "cell_type": "markdown",
   "id": "fe554c30",
   "metadata": {},
   "source": [
    "From the output above, we now know that there were some nan values in VendorID, passenger_count, RatecodeID, payment_type. I decide to drop all the nan values in the dataset so that we would not be impacted by the nan values when calculating numeric values. The procedure will be in the following part"
   ]
  },
  {
   "cell_type": "markdown",
   "id": "3a6b9435",
   "metadata": {},
   "source": [
    "### Explore the values inside each column"
   ]
  },
  {
   "cell_type": "markdown",
   "id": "77570725",
   "metadata": {},
   "source": [
    "The below prints out if there were any nan values inside each column, before printing out the nan values, we would need to convert some columns' datatype"
   ]
  },
  {
   "cell_type": "code",
   "execution_count": 13,
   "id": "9dd03c1d",
   "metadata": {
    "scrolled": true
   },
   "outputs": [
    {
     "data": {
      "text/plain": [
       "VendorID                 float64\n",
       "tpep_pickup_datetime      object\n",
       "tpep_dropoff_datetime     object\n",
       "passenger_count          float64\n",
       "trip_distance            float64\n",
       "RatecodeID               float64\n",
       "store_and_fwd_flag        object\n",
       "PULocationID               int64\n",
       "DOLocationID               int64\n",
       "payment_type             float64\n",
       "fare_amount              float64\n",
       "extra                    float64\n",
       "mta_tax                  float64\n",
       "tip_amount               float64\n",
       "tolls_amount             float64\n",
       "improvement_surcharge    float64\n",
       "total_amount             float64\n",
       "congestion_surcharge     float64\n",
       "dtype: object"
      ]
     },
     "execution_count": 13,
     "metadata": {},
     "output_type": "execute_result"
    }
   ],
   "source": [
    "data.dtypes"
   ]
  },
  {
   "cell_type": "markdown",
   "id": "51f5b24e",
   "metadata": {},
   "source": [
    "From the above, we can tell that the two datetime columns and the flag column need some cleaning. We would convert the object in datetime columns into datetime objects and the flag should be converted to string/text data type. "
   ]
  },
  {
   "cell_type": "markdown",
   "id": "79371103",
   "metadata": {},
   "source": [
    "The two datetime columns first:"
   ]
  },
  {
   "cell_type": "code",
   "execution_count": 14,
   "id": "97535d16",
   "metadata": {},
   "outputs": [],
   "source": [
    "data['tpep_pickup_datetime'] = pd.to_datetime(data['tpep_pickup_datetime'])\n",
    "data['tpep_dropoff_datetime'] = pd.to_datetime(data['tpep_dropoff_datetime'])"
   ]
  },
  {
   "cell_type": "code",
   "execution_count": 15,
   "id": "4d2dfd84",
   "metadata": {
    "scrolled": true
   },
   "outputs": [
    {
     "data": {
      "text/plain": [
       "VendorID                        float64\n",
       "tpep_pickup_datetime     datetime64[ns]\n",
       "tpep_dropoff_datetime    datetime64[ns]\n",
       "passenger_count                 float64\n",
       "trip_distance                   float64\n",
       "RatecodeID                      float64\n",
       "store_and_fwd_flag               object\n",
       "PULocationID                      int64\n",
       "DOLocationID                      int64\n",
       "payment_type                    float64\n",
       "fare_amount                     float64\n",
       "extra                           float64\n",
       "mta_tax                         float64\n",
       "tip_amount                      float64\n",
       "tolls_amount                    float64\n",
       "improvement_surcharge           float64\n",
       "total_amount                    float64\n",
       "congestion_surcharge            float64\n",
       "dtype: object"
      ]
     },
     "execution_count": 15,
     "metadata": {},
     "output_type": "execute_result"
    }
   ],
   "source": [
    "data.dtypes"
   ]
  },
  {
   "cell_type": "code",
   "execution_count": 16,
   "id": "b9c46696",
   "metadata": {
    "scrolled": true
   },
   "outputs": [
    {
     "data": {
      "text/plain": [
       "(1215088   2021-01-30 12:21:33\n",
       " 612594    2021-01-16 12:23:31\n",
       " 259095    2021-01-08 07:07:00\n",
       " 1049052   2021-01-26 19:17:16\n",
       " 220625    2021-01-07 10:13:49\n",
       " Name: tpep_pickup_datetime, dtype: datetime64[ns],\n",
       " 1215088   2021-01-30 12:26:14\n",
       " 612594    2021-01-16 12:29:11\n",
       " 259095    2021-01-08 07:10:36\n",
       " 1049052   2021-01-26 19:33:39\n",
       " 220625    2021-01-07 10:16:42\n",
       " Name: tpep_dropoff_datetime, dtype: datetime64[ns])"
      ]
     },
     "execution_count": 16,
     "metadata": {},
     "output_type": "execute_result"
    }
   ],
   "source": [
    "data['tpep_pickup_datetime'].head(), data['tpep_dropoff_datetime'].head()"
   ]
  },
  {
   "cell_type": "markdown",
   "id": "b5594f38",
   "metadata": {},
   "source": [
    "Good, now we have changed the datatype of the dates into the correct type, lets see if there are any nan or strange entries in the column"
   ]
  },
  {
   "cell_type": "code",
   "execution_count": 17,
   "id": "f5b33646",
   "metadata": {
    "scrolled": false
   },
   "outputs": [
    {
     "data": {
      "text/plain": [
       "array([datetime.date(2021, 1, 30), datetime.date(2021, 1, 16),\n",
       "       datetime.date(2021, 1, 8), datetime.date(2021, 1, 26),\n",
       "       datetime.date(2021, 1, 7), datetime.date(2021, 1, 21),\n",
       "       datetime.date(2021, 1, 18), datetime.date(2021, 1, 22),\n",
       "       datetime.date(2021, 1, 11), datetime.date(2021, 1, 28),\n",
       "       datetime.date(2021, 1, 9), datetime.date(2021, 1, 17),\n",
       "       datetime.date(2021, 1, 6), datetime.date(2021, 1, 12),\n",
       "       datetime.date(2021, 1, 29), datetime.date(2021, 1, 14),\n",
       "       datetime.date(2021, 1, 4), datetime.date(2021, 1, 15),\n",
       "       datetime.date(2021, 1, 24), datetime.date(2021, 1, 25),\n",
       "       datetime.date(2021, 1, 23), datetime.date(2021, 1, 1),\n",
       "       datetime.date(2021, 1, 31), datetime.date(2021, 1, 10),\n",
       "       datetime.date(2021, 1, 5), datetime.date(2021, 1, 2),\n",
       "       datetime.date(2021, 1, 3), datetime.date(2021, 1, 27),\n",
       "       datetime.date(2021, 1, 13), datetime.date(2021, 1, 20),\n",
       "       datetime.date(2021, 1, 19), datetime.date(2020, 12, 31)],\n",
       "      dtype=object)"
      ]
     },
     "execution_count": 17,
     "metadata": {},
     "output_type": "execute_result"
    }
   ],
   "source": [
    "pd.to_datetime(data['tpep_pickup_datetime']).dt.date.unique()"
   ]
  },
  {
   "cell_type": "markdown",
   "id": "049a885c",
   "metadata": {},
   "source": [
    "#### The part below will be very important to execute if the downsampled dataset was adjusted to a larger sample, as there are some data that went out of range of the month. But for the sample at now, the following part would not adjust the dataset. "
   ]
  },
  {
   "cell_type": "markdown",
   "id": "a93f823f",
   "metadata": {},
   "source": [
    "Notice that we have three errorous data in the dataset, some indicated 2008/12/31, some indicated 2020/12/31 and the rest indicating 2009/12/31. We should remove these entries."
   ]
  },
  {
   "cell_type": "code",
   "execution_count": 18,
   "id": "2add47a6",
   "metadata": {
    "scrolled": true
   },
   "outputs": [
    {
     "data": {
      "text/html": [
       "<div>\n",
       "<style scoped>\n",
       "    .dataframe tbody tr th:only-of-type {\n",
       "        vertical-align: middle;\n",
       "    }\n",
       "\n",
       "    .dataframe tbody tr th {\n",
       "        vertical-align: top;\n",
       "    }\n",
       "\n",
       "    .dataframe thead th {\n",
       "        text-align: right;\n",
       "    }\n",
       "</style>\n",
       "<table border=\"1\" class=\"dataframe\">\n",
       "  <thead>\n",
       "    <tr style=\"text-align: right;\">\n",
       "      <th></th>\n",
       "      <th>VendorID</th>\n",
       "      <th>tpep_pickup_datetime</th>\n",
       "      <th>tpep_dropoff_datetime</th>\n",
       "      <th>passenger_count</th>\n",
       "      <th>trip_distance</th>\n",
       "      <th>RatecodeID</th>\n",
       "      <th>store_and_fwd_flag</th>\n",
       "      <th>PULocationID</th>\n",
       "      <th>DOLocationID</th>\n",
       "      <th>payment_type</th>\n",
       "      <th>fare_amount</th>\n",
       "      <th>extra</th>\n",
       "      <th>mta_tax</th>\n",
       "      <th>tip_amount</th>\n",
       "      <th>tolls_amount</th>\n",
       "      <th>improvement_surcharge</th>\n",
       "      <th>total_amount</th>\n",
       "      <th>congestion_surcharge</th>\n",
       "    </tr>\n",
       "  </thead>\n",
       "  <tbody>\n",
       "    <tr>\n",
       "      <th>3474</th>\n",
       "      <td>2.0</td>\n",
       "      <td>2020-12-31 23:06:12</td>\n",
       "      <td>2020-12-31 23:18:39</td>\n",
       "      <td>1.0</td>\n",
       "      <td>7.08</td>\n",
       "      <td>1.0</td>\n",
       "      <td>N</td>\n",
       "      <td>42</td>\n",
       "      <td>137</td>\n",
       "      <td>2.0</td>\n",
       "      <td>21.0</td>\n",
       "      <td>0.5</td>\n",
       "      <td>0.5</td>\n",
       "      <td>0.0</td>\n",
       "      <td>0.0</td>\n",
       "      <td>0.3</td>\n",
       "      <td>24.8</td>\n",
       "      <td>2.5</td>\n",
       "    </tr>\n",
       "  </tbody>\n",
       "</table>\n",
       "</div>"
      ],
      "text/plain": [
       "      VendorID tpep_pickup_datetime tpep_dropoff_datetime  passenger_count  \\\n",
       "3474       2.0  2020-12-31 23:06:12   2020-12-31 23:18:39              1.0   \n",
       "\n",
       "      trip_distance  RatecodeID store_and_fwd_flag  PULocationID  \\\n",
       "3474           7.08         1.0                  N            42   \n",
       "\n",
       "      DOLocationID  payment_type  fare_amount  extra  mta_tax  tip_amount  \\\n",
       "3474           137           2.0         21.0    0.5      0.5         0.0   \n",
       "\n",
       "      tolls_amount  improvement_surcharge  total_amount  congestion_surcharge  \n",
       "3474           0.0                    0.3          24.8                   2.5  "
      ]
     },
     "execution_count": 18,
     "metadata": {},
     "output_type": "execute_result"
    }
   ],
   "source": [
    "data[(data['tpep_pickup_datetime'] <= \"2020-12-31 23:59:59\") \n",
    "     | (data['tpep_pickup_datetime'] > \"2021-01-31 23:59:59\")]"
   ]
  },
  {
   "cell_type": "code",
   "execution_count": 19,
   "id": "06743f09",
   "metadata": {
    "scrolled": true
   },
   "outputs": [],
   "source": [
    "dropIndex = list(data[(data['tpep_pickup_datetime'] <= \"2020-12-31 23:59:59\") | (data['tpep_pickup_datetime'] > \"2021-01-31 23:59:59\")].index)"
   ]
  },
  {
   "cell_type": "code",
   "execution_count": 20,
   "id": "890838d7",
   "metadata": {
    "scrolled": true
   },
   "outputs": [
    {
     "data": {
      "text/plain": [
       "[3474]"
      ]
     },
     "execution_count": 20,
     "metadata": {},
     "output_type": "execute_result"
    }
   ],
   "source": [
    "dropIndex"
   ]
  },
  {
   "cell_type": "code",
   "execution_count": 21,
   "id": "42736e5e",
   "metadata": {},
   "outputs": [],
   "source": [
    "data.drop([i for i in dropIndex], inplace=True)"
   ]
  },
  {
   "cell_type": "code",
   "execution_count": 22,
   "id": "3453fb3c",
   "metadata": {
    "scrolled": true
   },
   "outputs": [
    {
     "data": {
      "text/plain": [
       "array([datetime.date(2021, 1, 30), datetime.date(2021, 1, 16),\n",
       "       datetime.date(2021, 1, 8), datetime.date(2021, 1, 26),\n",
       "       datetime.date(2021, 1, 7), datetime.date(2021, 1, 21),\n",
       "       datetime.date(2021, 1, 18), datetime.date(2021, 1, 22),\n",
       "       datetime.date(2021, 1, 11), datetime.date(2021, 1, 28),\n",
       "       datetime.date(2021, 1, 9), datetime.date(2021, 1, 17),\n",
       "       datetime.date(2021, 1, 6), datetime.date(2021, 1, 12),\n",
       "       datetime.date(2021, 1, 29), datetime.date(2021, 1, 14),\n",
       "       datetime.date(2021, 1, 4), datetime.date(2021, 1, 15),\n",
       "       datetime.date(2021, 1, 24), datetime.date(2021, 1, 25),\n",
       "       datetime.date(2021, 1, 23), datetime.date(2021, 1, 1),\n",
       "       datetime.date(2021, 1, 31), datetime.date(2021, 1, 10),\n",
       "       datetime.date(2021, 1, 5), datetime.date(2021, 1, 2),\n",
       "       datetime.date(2021, 1, 3), datetime.date(2021, 1, 27),\n",
       "       datetime.date(2021, 1, 13), datetime.date(2021, 1, 20),\n",
       "       datetime.date(2021, 1, 19)], dtype=object)"
      ]
     },
     "execution_count": 22,
     "metadata": {},
     "output_type": "execute_result"
    }
   ],
   "source": [
    "pd.to_datetime(data['tpep_pickup_datetime']).dt.date.unique()"
   ]
  },
  {
   "cell_type": "markdown",
   "id": "8643956b",
   "metadata": {},
   "source": [
    "Good, the errorous data were all dropped. Check if the length of the dataset is correct"
   ]
  },
  {
   "cell_type": "code",
   "execution_count": 23,
   "id": "5c9a692a",
   "metadata": {},
   "outputs": [
    {
     "data": {
      "text/plain": [
       "True"
      ]
     },
     "execution_count": 23,
     "metadata": {},
     "output_type": "execute_result"
    }
   ],
   "source": [
    "dataLength - len(data) == len(dropIndex)"
   ]
  },
  {
   "cell_type": "markdown",
   "id": "0eeb75fd",
   "metadata": {},
   "source": [
    "Great, now we can create a pickup_date that converts the pickup_datetime column into date column"
   ]
  },
  {
   "cell_type": "code",
   "execution_count": 24,
   "id": "cddaa6f2",
   "metadata": {},
   "outputs": [
    {
     "data": {
      "text/plain": [
       "tpep_pickup_datetime\n",
       "2021-01-01    245\n",
       "2021-01-02    330\n",
       "2021-01-03    253\n",
       "2021-01-04    420\n",
       "2021-01-05    444\n",
       "2021-01-06    481\n",
       "2021-01-07    541\n",
       "2021-01-08    511\n",
       "2021-01-09    367\n",
       "2021-01-10    282\n",
       "2021-01-11    474\n",
       "2021-01-12    537\n",
       "2021-01-13    489\n",
       "2021-01-14    507\n",
       "2021-01-15    591\n",
       "2021-01-16    374\n",
       "2021-01-17    354\n",
       "2021-01-18    380\n",
       "2021-01-19    538\n",
       "2021-01-20    473\n",
       "2021-01-21    557\n",
       "2021-01-22    526\n",
       "2021-01-23    424\n",
       "2021-01-24    316\n",
       "2021-01-25    487\n",
       "2021-01-26    460\n",
       "2021-01-27    533\n",
       "2021-01-28    511\n",
       "2021-01-29    570\n",
       "2021-01-30    399\n",
       "2021-01-31    322\n",
       "dtype: int64"
      ]
     },
     "execution_count": 24,
     "metadata": {},
     "output_type": "execute_result"
    }
   ],
   "source": [
    "# Take a look at the count of each date in the data\n",
    "data.groupby(pd.to_datetime(data['tpep_pickup_datetime']).dt.date).size()"
   ]
  },
  {
   "cell_type": "code",
   "execution_count": 25,
   "id": "795e0c7a",
   "metadata": {
    "scrolled": false
   },
   "outputs": [
    {
     "data": {
      "text/html": [
       "<div>\n",
       "<style scoped>\n",
       "    .dataframe tbody tr th:only-of-type {\n",
       "        vertical-align: middle;\n",
       "    }\n",
       "\n",
       "    .dataframe tbody tr th {\n",
       "        vertical-align: top;\n",
       "    }\n",
       "\n",
       "    .dataframe thead th {\n",
       "        text-align: right;\n",
       "    }\n",
       "</style>\n",
       "<table border=\"1\" class=\"dataframe\">\n",
       "  <thead>\n",
       "    <tr style=\"text-align: right;\">\n",
       "      <th></th>\n",
       "      <th>VendorID</th>\n",
       "      <th>tpep_pickup_datetime</th>\n",
       "      <th>tpep_dropoff_datetime</th>\n",
       "      <th>passenger_count</th>\n",
       "      <th>trip_distance</th>\n",
       "      <th>RatecodeID</th>\n",
       "      <th>store_and_fwd_flag</th>\n",
       "      <th>PULocationID</th>\n",
       "      <th>DOLocationID</th>\n",
       "      <th>payment_type</th>\n",
       "      <th>fare_amount</th>\n",
       "      <th>extra</th>\n",
       "      <th>mta_tax</th>\n",
       "      <th>tip_amount</th>\n",
       "      <th>tolls_amount</th>\n",
       "      <th>improvement_surcharge</th>\n",
       "      <th>total_amount</th>\n",
       "      <th>congestion_surcharge</th>\n",
       "      <th>pickup_date</th>\n",
       "    </tr>\n",
       "  </thead>\n",
       "  <tbody>\n",
       "    <tr>\n",
       "      <th>1215088</th>\n",
       "      <td>1.0</td>\n",
       "      <td>2021-01-30 12:21:33</td>\n",
       "      <td>2021-01-30 12:26:14</td>\n",
       "      <td>0.0</td>\n",
       "      <td>1.00</td>\n",
       "      <td>1.0</td>\n",
       "      <td>N</td>\n",
       "      <td>79</td>\n",
       "      <td>107</td>\n",
       "      <td>2.0</td>\n",
       "      <td>5.5</td>\n",
       "      <td>2.5</td>\n",
       "      <td>0.5</td>\n",
       "      <td>0.00</td>\n",
       "      <td>0.0</td>\n",
       "      <td>0.3</td>\n",
       "      <td>8.80</td>\n",
       "      <td>2.5</td>\n",
       "      <td>2021-01-30</td>\n",
       "    </tr>\n",
       "    <tr>\n",
       "      <th>612594</th>\n",
       "      <td>2.0</td>\n",
       "      <td>2021-01-16 12:23:31</td>\n",
       "      <td>2021-01-16 12:29:11</td>\n",
       "      <td>1.0</td>\n",
       "      <td>1.19</td>\n",
       "      <td>1.0</td>\n",
       "      <td>N</td>\n",
       "      <td>164</td>\n",
       "      <td>68</td>\n",
       "      <td>1.0</td>\n",
       "      <td>6.5</td>\n",
       "      <td>0.0</td>\n",
       "      <td>0.5</td>\n",
       "      <td>1.96</td>\n",
       "      <td>0.0</td>\n",
       "      <td>0.3</td>\n",
       "      <td>11.76</td>\n",
       "      <td>2.5</td>\n",
       "      <td>2021-01-16</td>\n",
       "    </tr>\n",
       "    <tr>\n",
       "      <th>259095</th>\n",
       "      <td>2.0</td>\n",
       "      <td>2021-01-08 07:07:00</td>\n",
       "      <td>2021-01-08 07:10:36</td>\n",
       "      <td>5.0</td>\n",
       "      <td>1.07</td>\n",
       "      <td>1.0</td>\n",
       "      <td>N</td>\n",
       "      <td>114</td>\n",
       "      <td>90</td>\n",
       "      <td>1.0</td>\n",
       "      <td>5.5</td>\n",
       "      <td>0.0</td>\n",
       "      <td>0.5</td>\n",
       "      <td>1.76</td>\n",
       "      <td>0.0</td>\n",
       "      <td>0.3</td>\n",
       "      <td>10.56</td>\n",
       "      <td>2.5</td>\n",
       "      <td>2021-01-08</td>\n",
       "    </tr>\n",
       "    <tr>\n",
       "      <th>1049052</th>\n",
       "      <td>2.0</td>\n",
       "      <td>2021-01-26 19:17:16</td>\n",
       "      <td>2021-01-26 19:33:39</td>\n",
       "      <td>3.0</td>\n",
       "      <td>2.92</td>\n",
       "      <td>1.0</td>\n",
       "      <td>N</td>\n",
       "      <td>140</td>\n",
       "      <td>238</td>\n",
       "      <td>1.0</td>\n",
       "      <td>13.0</td>\n",
       "      <td>1.0</td>\n",
       "      <td>0.5</td>\n",
       "      <td>2.00</td>\n",
       "      <td>0.0</td>\n",
       "      <td>0.3</td>\n",
       "      <td>19.30</td>\n",
       "      <td>2.5</td>\n",
       "      <td>2021-01-26</td>\n",
       "    </tr>\n",
       "    <tr>\n",
       "      <th>220625</th>\n",
       "      <td>2.0</td>\n",
       "      <td>2021-01-07 10:13:49</td>\n",
       "      <td>2021-01-07 10:16:42</td>\n",
       "      <td>1.0</td>\n",
       "      <td>0.74</td>\n",
       "      <td>1.0</td>\n",
       "      <td>N</td>\n",
       "      <td>246</td>\n",
       "      <td>68</td>\n",
       "      <td>1.0</td>\n",
       "      <td>4.5</td>\n",
       "      <td>0.0</td>\n",
       "      <td>0.5</td>\n",
       "      <td>0.00</td>\n",
       "      <td>0.0</td>\n",
       "      <td>0.3</td>\n",
       "      <td>7.80</td>\n",
       "      <td>2.5</td>\n",
       "      <td>2021-01-07</td>\n",
       "    </tr>\n",
       "  </tbody>\n",
       "</table>\n",
       "</div>"
      ],
      "text/plain": [
       "         VendorID tpep_pickup_datetime tpep_dropoff_datetime  passenger_count  \\\n",
       "1215088       1.0  2021-01-30 12:21:33   2021-01-30 12:26:14              0.0   \n",
       "612594        2.0  2021-01-16 12:23:31   2021-01-16 12:29:11              1.0   \n",
       "259095        2.0  2021-01-08 07:07:00   2021-01-08 07:10:36              5.0   \n",
       "1049052       2.0  2021-01-26 19:17:16   2021-01-26 19:33:39              3.0   \n",
       "220625        2.0  2021-01-07 10:13:49   2021-01-07 10:16:42              1.0   \n",
       "\n",
       "         trip_distance  RatecodeID store_and_fwd_flag  PULocationID  \\\n",
       "1215088           1.00         1.0                  N            79   \n",
       "612594            1.19         1.0                  N           164   \n",
       "259095            1.07         1.0                  N           114   \n",
       "1049052           2.92         1.0                  N           140   \n",
       "220625            0.74         1.0                  N           246   \n",
       "\n",
       "         DOLocationID  payment_type  fare_amount  extra  mta_tax  tip_amount  \\\n",
       "1215088           107           2.0          5.5    2.5      0.5        0.00   \n",
       "612594             68           1.0          6.5    0.0      0.5        1.96   \n",
       "259095             90           1.0          5.5    0.0      0.5        1.76   \n",
       "1049052           238           1.0         13.0    1.0      0.5        2.00   \n",
       "220625             68           1.0          4.5    0.0      0.5        0.00   \n",
       "\n",
       "         tolls_amount  improvement_surcharge  total_amount  \\\n",
       "1215088           0.0                    0.3          8.80   \n",
       "612594            0.0                    0.3         11.76   \n",
       "259095            0.0                    0.3         10.56   \n",
       "1049052           0.0                    0.3         19.30   \n",
       "220625            0.0                    0.3          7.80   \n",
       "\n",
       "         congestion_surcharge pickup_date  \n",
       "1215088                   2.5  2021-01-30  \n",
       "612594                    2.5  2021-01-16  \n",
       "259095                    2.5  2021-01-08  \n",
       "1049052                   2.5  2021-01-26  \n",
       "220625                    2.5  2021-01-07  "
      ]
     },
     "execution_count": 25,
     "metadata": {},
     "output_type": "execute_result"
    }
   ],
   "source": [
    "data['pickup_date'] = pd.to_datetime(data['tpep_pickup_datetime']).dt.date\n",
    "data['pickup_date'] = pd.to_datetime(data['pickup_date'])\n",
    "data.head()"
   ]
  },
  {
   "cell_type": "markdown",
   "id": "fafce9d6",
   "metadata": {},
   "source": [
    "Check if we accidentally create some errorous data"
   ]
  },
  {
   "cell_type": "code",
   "execution_count": 26,
   "id": "1741878a",
   "metadata": {
    "scrolled": false
   },
   "outputs": [
    {
     "data": {
      "text/plain": [
       "array(['2021-01-30T00:00:00.000000000', '2021-01-16T00:00:00.000000000',\n",
       "       '2021-01-08T00:00:00.000000000', '2021-01-26T00:00:00.000000000',\n",
       "       '2021-01-07T00:00:00.000000000', '2021-01-21T00:00:00.000000000',\n",
       "       '2021-01-18T00:00:00.000000000', '2021-01-22T00:00:00.000000000',\n",
       "       '2021-01-11T00:00:00.000000000', '2021-01-28T00:00:00.000000000',\n",
       "       '2021-01-09T00:00:00.000000000', '2021-01-17T00:00:00.000000000',\n",
       "       '2021-01-06T00:00:00.000000000', '2021-01-12T00:00:00.000000000',\n",
       "       '2021-01-29T00:00:00.000000000', '2021-01-14T00:00:00.000000000',\n",
       "       '2021-01-04T00:00:00.000000000', '2021-01-15T00:00:00.000000000',\n",
       "       '2021-01-24T00:00:00.000000000', '2021-01-25T00:00:00.000000000',\n",
       "       '2021-01-23T00:00:00.000000000', '2021-01-01T00:00:00.000000000',\n",
       "       '2021-01-31T00:00:00.000000000', '2021-01-10T00:00:00.000000000',\n",
       "       '2021-01-05T00:00:00.000000000', '2021-01-02T00:00:00.000000000',\n",
       "       '2021-01-03T00:00:00.000000000', '2021-01-27T00:00:00.000000000',\n",
       "       '2021-01-13T00:00:00.000000000', '2021-01-20T00:00:00.000000000',\n",
       "       '2021-01-19T00:00:00.000000000'], dtype='datetime64[ns]')"
      ]
     },
     "execution_count": 26,
     "metadata": {},
     "output_type": "execute_result"
    }
   ],
   "source": [
    "data['pickup_date'].unique()"
   ]
  },
  {
   "cell_type": "code",
   "execution_count": 27,
   "id": "53c05b05",
   "metadata": {},
   "outputs": [],
   "source": [
    "# Create a grouped date variable for later use\n",
    "grouped_date = data['pickup_date'].unique()"
   ]
  },
  {
   "cell_type": "markdown",
   "id": "33354b62",
   "metadata": {},
   "source": [
    "Now the flag one is bit complicated, we would have to deal with nan values...\n",
    "\n",
    "Actually, we would not need to convert the flag columns, as we still can filter out the results using string. But we would still need to cope with the nan values in this column."
   ]
  },
  {
   "cell_type": "code",
   "execution_count": 28,
   "id": "03f348b0",
   "metadata": {},
   "outputs": [],
   "source": [
    "data['store_and_fwd_flag'] = data['store_and_fwd_flag'].astype(str)"
   ]
  },
  {
   "cell_type": "code",
   "execution_count": 29,
   "id": "4193b26a",
   "metadata": {},
   "outputs": [
    {
     "data": {
      "text/html": [
       "<div>\n",
       "<style scoped>\n",
       "    .dataframe tbody tr th:only-of-type {\n",
       "        vertical-align: middle;\n",
       "    }\n",
       "\n",
       "    .dataframe tbody tr th {\n",
       "        vertical-align: top;\n",
       "    }\n",
       "\n",
       "    .dataframe thead th {\n",
       "        text-align: right;\n",
       "    }\n",
       "</style>\n",
       "<table border=\"1\" class=\"dataframe\">\n",
       "  <thead>\n",
       "    <tr style=\"text-align: right;\">\n",
       "      <th></th>\n",
       "      <th>VendorID</th>\n",
       "      <th>tpep_pickup_datetime</th>\n",
       "      <th>tpep_dropoff_datetime</th>\n",
       "      <th>passenger_count</th>\n",
       "      <th>trip_distance</th>\n",
       "      <th>RatecodeID</th>\n",
       "      <th>store_and_fwd_flag</th>\n",
       "      <th>PULocationID</th>\n",
       "      <th>DOLocationID</th>\n",
       "      <th>payment_type</th>\n",
       "      <th>fare_amount</th>\n",
       "      <th>extra</th>\n",
       "      <th>mta_tax</th>\n",
       "      <th>tip_amount</th>\n",
       "      <th>tolls_amount</th>\n",
       "      <th>improvement_surcharge</th>\n",
       "      <th>total_amount</th>\n",
       "      <th>congestion_surcharge</th>\n",
       "      <th>pickup_date</th>\n",
       "    </tr>\n",
       "  </thead>\n",
       "  <tbody>\n",
       "    <tr>\n",
       "      <th>1215088</th>\n",
       "      <td>1.0</td>\n",
       "      <td>2021-01-30 12:21:33</td>\n",
       "      <td>2021-01-30 12:26:14</td>\n",
       "      <td>0.0</td>\n",
       "      <td>1.00</td>\n",
       "      <td>1.0</td>\n",
       "      <td>N</td>\n",
       "      <td>79</td>\n",
       "      <td>107</td>\n",
       "      <td>2.0</td>\n",
       "      <td>5.5</td>\n",
       "      <td>2.5</td>\n",
       "      <td>0.5</td>\n",
       "      <td>0.00</td>\n",
       "      <td>0.0</td>\n",
       "      <td>0.3</td>\n",
       "      <td>8.80</td>\n",
       "      <td>2.5</td>\n",
       "      <td>2021-01-30</td>\n",
       "    </tr>\n",
       "    <tr>\n",
       "      <th>612594</th>\n",
       "      <td>2.0</td>\n",
       "      <td>2021-01-16 12:23:31</td>\n",
       "      <td>2021-01-16 12:29:11</td>\n",
       "      <td>1.0</td>\n",
       "      <td>1.19</td>\n",
       "      <td>1.0</td>\n",
       "      <td>N</td>\n",
       "      <td>164</td>\n",
       "      <td>68</td>\n",
       "      <td>1.0</td>\n",
       "      <td>6.5</td>\n",
       "      <td>0.0</td>\n",
       "      <td>0.5</td>\n",
       "      <td>1.96</td>\n",
       "      <td>0.0</td>\n",
       "      <td>0.3</td>\n",
       "      <td>11.76</td>\n",
       "      <td>2.5</td>\n",
       "      <td>2021-01-16</td>\n",
       "    </tr>\n",
       "    <tr>\n",
       "      <th>259095</th>\n",
       "      <td>2.0</td>\n",
       "      <td>2021-01-08 07:07:00</td>\n",
       "      <td>2021-01-08 07:10:36</td>\n",
       "      <td>5.0</td>\n",
       "      <td>1.07</td>\n",
       "      <td>1.0</td>\n",
       "      <td>N</td>\n",
       "      <td>114</td>\n",
       "      <td>90</td>\n",
       "      <td>1.0</td>\n",
       "      <td>5.5</td>\n",
       "      <td>0.0</td>\n",
       "      <td>0.5</td>\n",
       "      <td>1.76</td>\n",
       "      <td>0.0</td>\n",
       "      <td>0.3</td>\n",
       "      <td>10.56</td>\n",
       "      <td>2.5</td>\n",
       "      <td>2021-01-08</td>\n",
       "    </tr>\n",
       "    <tr>\n",
       "      <th>1049052</th>\n",
       "      <td>2.0</td>\n",
       "      <td>2021-01-26 19:17:16</td>\n",
       "      <td>2021-01-26 19:33:39</td>\n",
       "      <td>3.0</td>\n",
       "      <td>2.92</td>\n",
       "      <td>1.0</td>\n",
       "      <td>N</td>\n",
       "      <td>140</td>\n",
       "      <td>238</td>\n",
       "      <td>1.0</td>\n",
       "      <td>13.0</td>\n",
       "      <td>1.0</td>\n",
       "      <td>0.5</td>\n",
       "      <td>2.00</td>\n",
       "      <td>0.0</td>\n",
       "      <td>0.3</td>\n",
       "      <td>19.30</td>\n",
       "      <td>2.5</td>\n",
       "      <td>2021-01-26</td>\n",
       "    </tr>\n",
       "    <tr>\n",
       "      <th>220625</th>\n",
       "      <td>2.0</td>\n",
       "      <td>2021-01-07 10:13:49</td>\n",
       "      <td>2021-01-07 10:16:42</td>\n",
       "      <td>1.0</td>\n",
       "      <td>0.74</td>\n",
       "      <td>1.0</td>\n",
       "      <td>N</td>\n",
       "      <td>246</td>\n",
       "      <td>68</td>\n",
       "      <td>1.0</td>\n",
       "      <td>4.5</td>\n",
       "      <td>0.0</td>\n",
       "      <td>0.5</td>\n",
       "      <td>0.00</td>\n",
       "      <td>0.0</td>\n",
       "      <td>0.3</td>\n",
       "      <td>7.80</td>\n",
       "      <td>2.5</td>\n",
       "      <td>2021-01-07</td>\n",
       "    </tr>\n",
       "  </tbody>\n",
       "</table>\n",
       "</div>"
      ],
      "text/plain": [
       "         VendorID tpep_pickup_datetime tpep_dropoff_datetime  passenger_count  \\\n",
       "1215088       1.0  2021-01-30 12:21:33   2021-01-30 12:26:14              0.0   \n",
       "612594        2.0  2021-01-16 12:23:31   2021-01-16 12:29:11              1.0   \n",
       "259095        2.0  2021-01-08 07:07:00   2021-01-08 07:10:36              5.0   \n",
       "1049052       2.0  2021-01-26 19:17:16   2021-01-26 19:33:39              3.0   \n",
       "220625        2.0  2021-01-07 10:13:49   2021-01-07 10:16:42              1.0   \n",
       "\n",
       "         trip_distance  RatecodeID store_and_fwd_flag  PULocationID  \\\n",
       "1215088           1.00         1.0                  N            79   \n",
       "612594            1.19         1.0                  N           164   \n",
       "259095            1.07         1.0                  N           114   \n",
       "1049052           2.92         1.0                  N           140   \n",
       "220625            0.74         1.0                  N           246   \n",
       "\n",
       "         DOLocationID  payment_type  fare_amount  extra  mta_tax  tip_amount  \\\n",
       "1215088           107           2.0          5.5    2.5      0.5        0.00   \n",
       "612594             68           1.0          6.5    0.0      0.5        1.96   \n",
       "259095             90           1.0          5.5    0.0      0.5        1.76   \n",
       "1049052           238           1.0         13.0    1.0      0.5        2.00   \n",
       "220625             68           1.0          4.5    0.0      0.5        0.00   \n",
       "\n",
       "         tolls_amount  improvement_surcharge  total_amount  \\\n",
       "1215088           0.0                    0.3          8.80   \n",
       "612594            0.0                    0.3         11.76   \n",
       "259095            0.0                    0.3         10.56   \n",
       "1049052           0.0                    0.3         19.30   \n",
       "220625            0.0                    0.3          7.80   \n",
       "\n",
       "         congestion_surcharge pickup_date  \n",
       "1215088                   2.5  2021-01-30  \n",
       "612594                    2.5  2021-01-16  \n",
       "259095                    2.5  2021-01-08  \n",
       "1049052                   2.5  2021-01-26  \n",
       "220625                    2.5  2021-01-07  "
      ]
     },
     "execution_count": 29,
     "metadata": {},
     "output_type": "execute_result"
    }
   ],
   "source": [
    "data[data['store_and_fwd_flag'] == 'N'].head()"
   ]
  },
  {
   "cell_type": "markdown",
   "id": "58629f63",
   "metadata": {},
   "source": [
    "Now we would look at the numeric columns that we are interested in\n",
    "\n",
    "Take a look at the total amount column"
   ]
  },
  {
   "cell_type": "code",
   "execution_count": 30,
   "id": "cdd2cd0d",
   "metadata": {
    "scrolled": true
   },
   "outputs": [
    {
     "data": {
      "text/plain": [
       "((13696,), 238949.72000000003)"
      ]
     },
     "execution_count": 30,
     "metadata": {},
     "output_type": "execute_result"
    }
   ],
   "source": [
    "data['total_amount'].shape, data['total_amount'].sum()"
   ]
  },
  {
   "cell_type": "markdown",
   "id": "64d6a970",
   "metadata": {},
   "source": [
    "Lets check the values inside total amount"
   ]
  },
  {
   "cell_type": "code",
   "execution_count": 31,
   "id": "61731f9a",
   "metadata": {},
   "outputs": [
    {
     "data": {
      "text/plain": [
       "(-65.8, 265.8)"
      ]
     },
     "execution_count": 31,
     "metadata": {},
     "output_type": "execute_result"
    }
   ],
   "source": [
    "data['total_amount'].min(), data['total_amount'].max()"
   ]
  },
  {
   "cell_type": "markdown",
   "id": "fdc8bd34",
   "metadata": {},
   "source": [
    "OK, Now we have negative values in total amount, we would need to remove these data values"
   ]
  },
  {
   "cell_type": "code",
   "execution_count": 32,
   "id": "a0d39b9a",
   "metadata": {},
   "outputs": [
    {
     "data": {
      "text/html": [
       "<div>\n",
       "<style scoped>\n",
       "    .dataframe tbody tr th:only-of-type {\n",
       "        vertical-align: middle;\n",
       "    }\n",
       "\n",
       "    .dataframe tbody tr th {\n",
       "        vertical-align: top;\n",
       "    }\n",
       "\n",
       "    .dataframe thead th {\n",
       "        text-align: right;\n",
       "    }\n",
       "</style>\n",
       "<table border=\"1\" class=\"dataframe\">\n",
       "  <thead>\n",
       "    <tr style=\"text-align: right;\">\n",
       "      <th></th>\n",
       "      <th>VendorID</th>\n",
       "      <th>tpep_pickup_datetime</th>\n",
       "      <th>tpep_dropoff_datetime</th>\n",
       "      <th>passenger_count</th>\n",
       "      <th>trip_distance</th>\n",
       "      <th>RatecodeID</th>\n",
       "      <th>store_and_fwd_flag</th>\n",
       "      <th>PULocationID</th>\n",
       "      <th>DOLocationID</th>\n",
       "      <th>payment_type</th>\n",
       "      <th>fare_amount</th>\n",
       "      <th>extra</th>\n",
       "      <th>mta_tax</th>\n",
       "      <th>tip_amount</th>\n",
       "      <th>tolls_amount</th>\n",
       "      <th>improvement_surcharge</th>\n",
       "      <th>total_amount</th>\n",
       "      <th>congestion_surcharge</th>\n",
       "      <th>pickup_date</th>\n",
       "    </tr>\n",
       "  </thead>\n",
       "  <tbody>\n",
       "    <tr>\n",
       "      <th>791170</th>\n",
       "      <td>2.0</td>\n",
       "      <td>2021-01-20 19:56:42</td>\n",
       "      <td>2021-01-20 19:56:49</td>\n",
       "      <td>1.0</td>\n",
       "      <td>0.01</td>\n",
       "      <td>1.0</td>\n",
       "      <td>N</td>\n",
       "      <td>236</td>\n",
       "      <td>236</td>\n",
       "      <td>3.0</td>\n",
       "      <td>-2.50</td>\n",
       "      <td>-0.5</td>\n",
       "      <td>-0.5</td>\n",
       "      <td>0.0</td>\n",
       "      <td>0.0</td>\n",
       "      <td>-0.3</td>\n",
       "      <td>-6.30</td>\n",
       "      <td>-2.5</td>\n",
       "      <td>2021-01-20</td>\n",
       "    </tr>\n",
       "    <tr>\n",
       "      <th>1240300</th>\n",
       "      <td>2.0</td>\n",
       "      <td>2021-01-30 22:23:51</td>\n",
       "      <td>2021-01-30 22:28:31</td>\n",
       "      <td>1.0</td>\n",
       "      <td>0.87</td>\n",
       "      <td>1.0</td>\n",
       "      <td>N</td>\n",
       "      <td>164</td>\n",
       "      <td>48</td>\n",
       "      <td>3.0</td>\n",
       "      <td>-5.50</td>\n",
       "      <td>-0.5</td>\n",
       "      <td>-0.5</td>\n",
       "      <td>0.0</td>\n",
       "      <td>0.0</td>\n",
       "      <td>-0.3</td>\n",
       "      <td>-9.30</td>\n",
       "      <td>-2.5</td>\n",
       "      <td>2021-01-30</td>\n",
       "    </tr>\n",
       "    <tr>\n",
       "      <th>954475</th>\n",
       "      <td>2.0</td>\n",
       "      <td>2021-01-24 16:36:04</td>\n",
       "      <td>2021-01-24 16:36:10</td>\n",
       "      <td>1.0</td>\n",
       "      <td>0.00</td>\n",
       "      <td>5.0</td>\n",
       "      <td>N</td>\n",
       "      <td>193</td>\n",
       "      <td>193</td>\n",
       "      <td>4.0</td>\n",
       "      <td>-0.05</td>\n",
       "      <td>0.0</td>\n",
       "      <td>0.0</td>\n",
       "      <td>0.0</td>\n",
       "      <td>0.0</td>\n",
       "      <td>-0.3</td>\n",
       "      <td>-0.35</td>\n",
       "      <td>0.0</td>\n",
       "      <td>2021-01-24</td>\n",
       "    </tr>\n",
       "    <tr>\n",
       "      <th>675200</th>\n",
       "      <td>2.0</td>\n",
       "      <td>2021-01-18 10:46:18</td>\n",
       "      <td>2021-01-18 10:48:23</td>\n",
       "      <td>1.0</td>\n",
       "      <td>0.50</td>\n",
       "      <td>1.0</td>\n",
       "      <td>N</td>\n",
       "      <td>90</td>\n",
       "      <td>246</td>\n",
       "      <td>3.0</td>\n",
       "      <td>-3.50</td>\n",
       "      <td>0.0</td>\n",
       "      <td>-0.5</td>\n",
       "      <td>0.0</td>\n",
       "      <td>0.0</td>\n",
       "      <td>-0.3</td>\n",
       "      <td>-6.80</td>\n",
       "      <td>-2.5</td>\n",
       "      <td>2021-01-18</td>\n",
       "    </tr>\n",
       "    <tr>\n",
       "      <th>1154872</th>\n",
       "      <td>2.0</td>\n",
       "      <td>2021-01-29 02:00:19</td>\n",
       "      <td>2021-01-29 02:19:35</td>\n",
       "      <td>1.0</td>\n",
       "      <td>8.64</td>\n",
       "      <td>1.0</td>\n",
       "      <td>N</td>\n",
       "      <td>147</td>\n",
       "      <td>220</td>\n",
       "      <td>2.0</td>\n",
       "      <td>-27.00</td>\n",
       "      <td>-0.5</td>\n",
       "      <td>-0.5</td>\n",
       "      <td>0.0</td>\n",
       "      <td>0.0</td>\n",
       "      <td>-0.3</td>\n",
       "      <td>-28.30</td>\n",
       "      <td>0.0</td>\n",
       "      <td>2021-01-29</td>\n",
       "    </tr>\n",
       "  </tbody>\n",
       "</table>\n",
       "</div>"
      ],
      "text/plain": [
       "         VendorID tpep_pickup_datetime tpep_dropoff_datetime  passenger_count  \\\n",
       "791170        2.0  2021-01-20 19:56:42   2021-01-20 19:56:49              1.0   \n",
       "1240300       2.0  2021-01-30 22:23:51   2021-01-30 22:28:31              1.0   \n",
       "954475        2.0  2021-01-24 16:36:04   2021-01-24 16:36:10              1.0   \n",
       "675200        2.0  2021-01-18 10:46:18   2021-01-18 10:48:23              1.0   \n",
       "1154872       2.0  2021-01-29 02:00:19   2021-01-29 02:19:35              1.0   \n",
       "\n",
       "         trip_distance  RatecodeID store_and_fwd_flag  PULocationID  \\\n",
       "791170            0.01         1.0                  N           236   \n",
       "1240300           0.87         1.0                  N           164   \n",
       "954475            0.00         5.0                  N           193   \n",
       "675200            0.50         1.0                  N            90   \n",
       "1154872           8.64         1.0                  N           147   \n",
       "\n",
       "         DOLocationID  payment_type  fare_amount  extra  mta_tax  tip_amount  \\\n",
       "791170            236           3.0        -2.50   -0.5     -0.5         0.0   \n",
       "1240300            48           3.0        -5.50   -0.5     -0.5         0.0   \n",
       "954475            193           4.0        -0.05    0.0      0.0         0.0   \n",
       "675200            246           3.0        -3.50    0.0     -0.5         0.0   \n",
       "1154872           220           2.0       -27.00   -0.5     -0.5         0.0   \n",
       "\n",
       "         tolls_amount  improvement_surcharge  total_amount  \\\n",
       "791170            0.0                   -0.3         -6.30   \n",
       "1240300           0.0                   -0.3         -9.30   \n",
       "954475            0.0                   -0.3         -0.35   \n",
       "675200            0.0                   -0.3         -6.80   \n",
       "1154872           0.0                   -0.3        -28.30   \n",
       "\n",
       "         congestion_surcharge pickup_date  \n",
       "791170                   -2.5  2021-01-20  \n",
       "1240300                  -2.5  2021-01-30  \n",
       "954475                    0.0  2021-01-24  \n",
       "675200                   -2.5  2021-01-18  \n",
       "1154872                   0.0  2021-01-29  "
      ]
     },
     "execution_count": 32,
     "metadata": {},
     "output_type": "execute_result"
    }
   ],
   "source": [
    "data[(data['total_amount'] <= 0)].head()"
   ]
  },
  {
   "cell_type": "code",
   "execution_count": 33,
   "id": "a88953bf",
   "metadata": {},
   "outputs": [
    {
     "data": {
      "text/plain": [
       "([791170, 1240300, 954475, 675200, 1154872], 74)"
      ]
     },
     "execution_count": 33,
     "metadata": {},
     "output_type": "execute_result"
    }
   ],
   "source": [
    "dropIndex = list(data[(data['total_amount'] <= 0)].index)\n",
    "dropIndex[:5], len(dropIndex)"
   ]
  },
  {
   "cell_type": "code",
   "execution_count": 34,
   "id": "e1aa1b54",
   "metadata": {},
   "outputs": [],
   "source": [
    "data.drop([i for i in dropIndex], inplace=True)"
   ]
  },
  {
   "cell_type": "code",
   "execution_count": 35,
   "id": "77406917",
   "metadata": {},
   "outputs": [
    {
     "data": {
      "text/plain": [
       "(0.3, 265.8)"
      ]
     },
     "execution_count": 35,
     "metadata": {},
     "output_type": "execute_result"
    }
   ],
   "source": [
    "data['total_amount'].min(), data['total_amount'].max()"
   ]
  },
  {
   "cell_type": "markdown",
   "id": "55ef43ed",
   "metadata": {},
   "source": [
    "Still, there is a huge gap. Lets take a look if this 715.3 is an outlier"
   ]
  },
  {
   "cell_type": "code",
   "execution_count": 36,
   "id": "f61b2160",
   "metadata": {},
   "outputs": [
    {
     "data": {
      "text/plain": [
       "[138.2, 150.0, 155.8, 165.3, 265.8]"
      ]
     },
     "execution_count": 36,
     "metadata": {},
     "output_type": "execute_result"
    }
   ],
   "source": [
    "sorted(list(data['total_amount']))[-5:]"
   ]
  },
  {
   "cell_type": "markdown",
   "id": "dfe12013",
   "metadata": {},
   "source": [
    "Seems like this 715.3 is an outlier. I decide to remove the outlier to make sure our dataset clean"
   ]
  },
  {
   "cell_type": "code",
   "execution_count": 37,
   "id": "3f3f5a9c",
   "metadata": {},
   "outputs": [
    {
     "data": {
      "text/plain": [
       "[]"
      ]
     },
     "execution_count": 37,
     "metadata": {},
     "output_type": "execute_result"
    }
   ],
   "source": [
    "dropIndex = list(data[data['total_amount'] == 715.3].index)\n",
    "dropIndex"
   ]
  },
  {
   "cell_type": "code",
   "execution_count": 38,
   "id": "afeee48b",
   "metadata": {},
   "outputs": [],
   "source": [
    "data.drop([i for i in dropIndex], inplace=True)"
   ]
  },
  {
   "cell_type": "code",
   "execution_count": 39,
   "id": "1572774d",
   "metadata": {},
   "outputs": [
    {
     "data": {
      "text/plain": [
       "(0.3, 265.8)"
      ]
     },
     "execution_count": 39,
     "metadata": {},
     "output_type": "execute_result"
    }
   ],
   "source": [
    "data['total_amount'].min(), data['total_amount'].max()"
   ]
  },
  {
   "cell_type": "markdown",
   "id": "2fb58a2f",
   "metadata": {},
   "source": [
    "Good, all the negative total amounts are dropped."
   ]
  },
  {
   "cell_type": "markdown",
   "id": "ff4f4795",
   "metadata": {},
   "source": [
    "So, the shape of the total amount column is a 1 dimensional array, we need to group the total amounts into accumulation of each date. Try to create the grouped total amount."
   ]
  },
  {
   "cell_type": "code",
   "execution_count": 40,
   "id": "e8323599",
   "metadata": {},
   "outputs": [
    {
     "data": {
      "text/plain": [
       "pickup_date\n",
       "2021-01-01     4778.08\n",
       "2021-01-02     6639.79\n",
       "2021-01-03     5287.30\n",
       "2021-01-04     7417.19\n",
       "2021-01-05     7705.07\n",
       "2021-01-06     8300.80\n",
       "2021-01-07     9407.10\n",
       "2021-01-08     8575.01\n",
       "2021-01-09     6427.43\n",
       "2021-01-10     5590.99\n",
       "2021-01-11     8245.13\n",
       "2021-01-12     9526.59\n",
       "2021-01-13     8660.63\n",
       "2021-01-14     8953.29\n",
       "2021-01-15    10266.47\n",
       "2021-01-16     6381.31\n",
       "2021-01-17     5739.38\n",
       "2021-01-18     6827.04\n",
       "2021-01-19     9346.99\n",
       "2021-01-20     7858.84\n",
       "2021-01-21    10231.16\n",
       "2021-01-22     8999.51\n",
       "2021-01-23     7270.98\n",
       "2021-01-24     5404.63\n",
       "2021-01-25     8486.85\n",
       "2021-01-26     7773.84\n",
       "2021-01-27     8976.88\n",
       "2021-01-28     9120.10\n",
       "2021-01-29     9516.61\n",
       "2021-01-30     6374.53\n",
       "2021-01-31     5904.79\n",
       "Name: total_amount, dtype: float64"
      ]
     },
     "execution_count": 40,
     "metadata": {},
     "output_type": "execute_result"
    }
   ],
   "source": [
    "grouped_total_amount = data['total_amount'].groupby(data['pickup_date']).sum()\n",
    "grouped_total_amount"
   ]
  },
  {
   "cell_type": "markdown",
   "id": "507c51f6",
   "metadata": {},
   "source": [
    "Check if we accidentally excluded some data"
   ]
  },
  {
   "cell_type": "code",
   "execution_count": 41,
   "id": "6b0c9f60",
   "metadata": {},
   "outputs": [
    {
     "data": {
      "text/plain": [
       "(239994.31000000003, 239994.31)"
      ]
     },
     "execution_count": 41,
     "metadata": {},
     "output_type": "execute_result"
    }
   ],
   "source": [
    "data['total_amount'].sum(), grouped_total_amount.sum()"
   ]
  },
  {
   "cell_type": "code",
   "execution_count": 42,
   "id": "46a1c19e",
   "metadata": {},
   "outputs": [
    {
     "data": {
      "text/plain": [
       "True"
      ]
     },
     "execution_count": 42,
     "metadata": {},
     "output_type": "execute_result"
    }
   ],
   "source": [
    "grouped_total_amount.sum() == round(data['total_amount'].sum(), 2)"
   ]
  },
  {
   "cell_type": "markdown",
   "id": "fb402292",
   "metadata": {},
   "source": [
    "Great, now we have the total amount sums grouped by date, now on the distance"
   ]
  },
  {
   "cell_type": "markdown",
   "id": "e340becd",
   "metadata": {},
   "source": [
    "Check if we have errorous data in trip distance"
   ]
  },
  {
   "cell_type": "code",
   "execution_count": 43,
   "id": "1e3244df",
   "metadata": {},
   "outputs": [
    {
     "data": {
      "text/plain": [
       "False"
      ]
     },
     "execution_count": 43,
     "metadata": {},
     "output_type": "execute_result"
    }
   ],
   "source": [
    "pd.isnull(data['trip_distance'].unique()).any()"
   ]
  },
  {
   "cell_type": "code",
   "execution_count": 44,
   "id": "43d9adcc",
   "metadata": {},
   "outputs": [
    {
     "data": {
      "text/plain": [
       "(0.0, 50.06)"
      ]
     },
     "execution_count": 44,
     "metadata": {},
     "output_type": "execute_result"
    }
   ],
   "source": [
    "data['trip_distance'].min(), data['trip_distance'].max()"
   ]
  },
  {
   "cell_type": "markdown",
   "id": "3c1d0774",
   "metadata": {},
   "source": [
    "In the dataset, we have some 0 values. We will need to remove them"
   ]
  },
  {
   "cell_type": "code",
   "execution_count": 45,
   "id": "b4577ad0",
   "metadata": {},
   "outputs": [
    {
     "data": {
      "text/html": [
       "<div>\n",
       "<style scoped>\n",
       "    .dataframe tbody tr th:only-of-type {\n",
       "        vertical-align: middle;\n",
       "    }\n",
       "\n",
       "    .dataframe tbody tr th {\n",
       "        vertical-align: top;\n",
       "    }\n",
       "\n",
       "    .dataframe thead th {\n",
       "        text-align: right;\n",
       "    }\n",
       "</style>\n",
       "<table border=\"1\" class=\"dataframe\">\n",
       "  <thead>\n",
       "    <tr style=\"text-align: right;\">\n",
       "      <th></th>\n",
       "      <th>VendorID</th>\n",
       "      <th>tpep_pickup_datetime</th>\n",
       "      <th>tpep_dropoff_datetime</th>\n",
       "      <th>passenger_count</th>\n",
       "      <th>trip_distance</th>\n",
       "      <th>RatecodeID</th>\n",
       "      <th>store_and_fwd_flag</th>\n",
       "      <th>PULocationID</th>\n",
       "      <th>DOLocationID</th>\n",
       "      <th>payment_type</th>\n",
       "      <th>fare_amount</th>\n",
       "      <th>extra</th>\n",
       "      <th>mta_tax</th>\n",
       "      <th>tip_amount</th>\n",
       "      <th>tolls_amount</th>\n",
       "      <th>improvement_surcharge</th>\n",
       "      <th>total_amount</th>\n",
       "      <th>congestion_surcharge</th>\n",
       "      <th>pickup_date</th>\n",
       "    </tr>\n",
       "  </thead>\n",
       "  <tbody>\n",
       "    <tr>\n",
       "      <th>303465</th>\n",
       "      <td>2.0</td>\n",
       "      <td>2021-01-09 04:08:00</td>\n",
       "      <td>2021-01-09 04:08:07</td>\n",
       "      <td>1.0</td>\n",
       "      <td>0.0</td>\n",
       "      <td>5.0</td>\n",
       "      <td>N</td>\n",
       "      <td>48</td>\n",
       "      <td>264</td>\n",
       "      <td>1.0</td>\n",
       "      <td>8.0</td>\n",
       "      <td>0.0</td>\n",
       "      <td>0.5</td>\n",
       "      <td>0.00</td>\n",
       "      <td>0.00</td>\n",
       "      <td>0.3</td>\n",
       "      <td>11.30</td>\n",
       "      <td>2.5</td>\n",
       "      <td>2021-01-09</td>\n",
       "    </tr>\n",
       "    <tr>\n",
       "      <th>852827</th>\n",
       "      <td>1.0</td>\n",
       "      <td>2021-01-22 09:12:13</td>\n",
       "      <td>2021-01-22 09:38:42</td>\n",
       "      <td>1.0</td>\n",
       "      <td>0.0</td>\n",
       "      <td>1.0</td>\n",
       "      <td>N</td>\n",
       "      <td>159</td>\n",
       "      <td>161</td>\n",
       "      <td>1.0</td>\n",
       "      <td>22.2</td>\n",
       "      <td>0.0</td>\n",
       "      <td>0.5</td>\n",
       "      <td>0.00</td>\n",
       "      <td>0.00</td>\n",
       "      <td>0.3</td>\n",
       "      <td>23.00</td>\n",
       "      <td>0.0</td>\n",
       "      <td>2021-01-22</td>\n",
       "    </tr>\n",
       "    <tr>\n",
       "      <th>563444</th>\n",
       "      <td>1.0</td>\n",
       "      <td>2021-01-15 10:00:25</td>\n",
       "      <td>2021-01-15 10:21:55</td>\n",
       "      <td>1.0</td>\n",
       "      <td>0.0</td>\n",
       "      <td>1.0</td>\n",
       "      <td>N</td>\n",
       "      <td>177</td>\n",
       "      <td>80</td>\n",
       "      <td>1.0</td>\n",
       "      <td>17.2</td>\n",
       "      <td>0.0</td>\n",
       "      <td>0.5</td>\n",
       "      <td>0.00</td>\n",
       "      <td>0.00</td>\n",
       "      <td>0.3</td>\n",
       "      <td>18.00</td>\n",
       "      <td>0.0</td>\n",
       "      <td>2021-01-15</td>\n",
       "    </tr>\n",
       "    <tr>\n",
       "      <th>244193</th>\n",
       "      <td>1.0</td>\n",
       "      <td>2021-01-07 17:32:32</td>\n",
       "      <td>2021-01-07 18:00:51</td>\n",
       "      <td>1.0</td>\n",
       "      <td>0.0</td>\n",
       "      <td>1.0</td>\n",
       "      <td>N</td>\n",
       "      <td>232</td>\n",
       "      <td>42</td>\n",
       "      <td>1.0</td>\n",
       "      <td>28.2</td>\n",
       "      <td>0.0</td>\n",
       "      <td>0.5</td>\n",
       "      <td>0.00</td>\n",
       "      <td>0.00</td>\n",
       "      <td>0.3</td>\n",
       "      <td>29.00</td>\n",
       "      <td>0.0</td>\n",
       "      <td>2021-01-07</td>\n",
       "    </tr>\n",
       "    <tr>\n",
       "      <th>1169592</th>\n",
       "      <td>1.0</td>\n",
       "      <td>2021-01-29 11:27:21</td>\n",
       "      <td>2021-01-29 11:51:47</td>\n",
       "      <td>1.0</td>\n",
       "      <td>0.0</td>\n",
       "      <td>1.0</td>\n",
       "      <td>N</td>\n",
       "      <td>261</td>\n",
       "      <td>217</td>\n",
       "      <td>1.0</td>\n",
       "      <td>20.2</td>\n",
       "      <td>0.0</td>\n",
       "      <td>0.5</td>\n",
       "      <td>0.00</td>\n",
       "      <td>0.00</td>\n",
       "      <td>0.3</td>\n",
       "      <td>21.00</td>\n",
       "      <td>0.0</td>\n",
       "      <td>2021-01-29</td>\n",
       "    </tr>\n",
       "    <tr>\n",
       "      <th>...</th>\n",
       "      <td>...</td>\n",
       "      <td>...</td>\n",
       "      <td>...</td>\n",
       "      <td>...</td>\n",
       "      <td>...</td>\n",
       "      <td>...</td>\n",
       "      <td>...</td>\n",
       "      <td>...</td>\n",
       "      <td>...</td>\n",
       "      <td>...</td>\n",
       "      <td>...</td>\n",
       "      <td>...</td>\n",
       "      <td>...</td>\n",
       "      <td>...</td>\n",
       "      <td>...</td>\n",
       "      <td>...</td>\n",
       "      <td>...</td>\n",
       "      <td>...</td>\n",
       "      <td>...</td>\n",
       "    </tr>\n",
       "    <tr>\n",
       "      <th>1008173</th>\n",
       "      <td>2.0</td>\n",
       "      <td>2021-01-25 22:46:51</td>\n",
       "      <td>2021-01-25 22:47:00</td>\n",
       "      <td>2.0</td>\n",
       "      <td>0.0</td>\n",
       "      <td>5.0</td>\n",
       "      <td>N</td>\n",
       "      <td>265</td>\n",
       "      <td>265</td>\n",
       "      <td>1.0</td>\n",
       "      <td>70.0</td>\n",
       "      <td>0.0</td>\n",
       "      <td>0.0</td>\n",
       "      <td>0.00</td>\n",
       "      <td>0.00</td>\n",
       "      <td>0.3</td>\n",
       "      <td>70.30</td>\n",
       "      <td>0.0</td>\n",
       "      <td>2021-01-25</td>\n",
       "    </tr>\n",
       "    <tr>\n",
       "      <th>875531</th>\n",
       "      <td>1.0</td>\n",
       "      <td>2021-01-22 15:30:29</td>\n",
       "      <td>2021-01-22 16:10:10</td>\n",
       "      <td>1.0</td>\n",
       "      <td>0.0</td>\n",
       "      <td>1.0</td>\n",
       "      <td>N</td>\n",
       "      <td>25</td>\n",
       "      <td>35</td>\n",
       "      <td>1.0</td>\n",
       "      <td>18.2</td>\n",
       "      <td>0.0</td>\n",
       "      <td>0.5</td>\n",
       "      <td>0.00</td>\n",
       "      <td>0.00</td>\n",
       "      <td>0.3</td>\n",
       "      <td>19.00</td>\n",
       "      <td>0.0</td>\n",
       "      <td>2021-01-22</td>\n",
       "    </tr>\n",
       "    <tr>\n",
       "      <th>879285</th>\n",
       "      <td>1.0</td>\n",
       "      <td>2021-01-22 16:04:24</td>\n",
       "      <td>2021-01-22 16:52:33</td>\n",
       "      <td>1.0</td>\n",
       "      <td>0.0</td>\n",
       "      <td>1.0</td>\n",
       "      <td>N</td>\n",
       "      <td>75</td>\n",
       "      <td>254</td>\n",
       "      <td>1.0</td>\n",
       "      <td>26.2</td>\n",
       "      <td>0.0</td>\n",
       "      <td>0.5</td>\n",
       "      <td>0.00</td>\n",
       "      <td>6.12</td>\n",
       "      <td>0.3</td>\n",
       "      <td>33.12</td>\n",
       "      <td>0.0</td>\n",
       "      <td>2021-01-22</td>\n",
       "    </tr>\n",
       "    <tr>\n",
       "      <th>688933</th>\n",
       "      <td>2.0</td>\n",
       "      <td>2021-01-18 15:55:11</td>\n",
       "      <td>2021-01-18 15:55:19</td>\n",
       "      <td>1.0</td>\n",
       "      <td>0.0</td>\n",
       "      <td>1.0</td>\n",
       "      <td>N</td>\n",
       "      <td>216</td>\n",
       "      <td>216</td>\n",
       "      <td>2.0</td>\n",
       "      <td>2.5</td>\n",
       "      <td>0.0</td>\n",
       "      <td>0.5</td>\n",
       "      <td>0.00</td>\n",
       "      <td>0.00</td>\n",
       "      <td>0.3</td>\n",
       "      <td>3.30</td>\n",
       "      <td>0.0</td>\n",
       "      <td>2021-01-18</td>\n",
       "    </tr>\n",
       "    <tr>\n",
       "      <th>1228332</th>\n",
       "      <td>2.0</td>\n",
       "      <td>2021-01-30 16:54:46</td>\n",
       "      <td>2021-01-30 16:54:49</td>\n",
       "      <td>1.0</td>\n",
       "      <td>0.0</td>\n",
       "      <td>5.0</td>\n",
       "      <td>N</td>\n",
       "      <td>50</td>\n",
       "      <td>50</td>\n",
       "      <td>1.0</td>\n",
       "      <td>7.0</td>\n",
       "      <td>0.0</td>\n",
       "      <td>0.5</td>\n",
       "      <td>1.95</td>\n",
       "      <td>0.00</td>\n",
       "      <td>0.3</td>\n",
       "      <td>9.75</td>\n",
       "      <td>0.0</td>\n",
       "      <td>2021-01-30</td>\n",
       "    </tr>\n",
       "  </tbody>\n",
       "</table>\n",
       "<p>180 rows × 19 columns</p>\n",
       "</div>"
      ],
      "text/plain": [
       "         VendorID tpep_pickup_datetime tpep_dropoff_datetime  passenger_count  \\\n",
       "303465        2.0  2021-01-09 04:08:00   2021-01-09 04:08:07              1.0   \n",
       "852827        1.0  2021-01-22 09:12:13   2021-01-22 09:38:42              1.0   \n",
       "563444        1.0  2021-01-15 10:00:25   2021-01-15 10:21:55              1.0   \n",
       "244193        1.0  2021-01-07 17:32:32   2021-01-07 18:00:51              1.0   \n",
       "1169592       1.0  2021-01-29 11:27:21   2021-01-29 11:51:47              1.0   \n",
       "...           ...                  ...                   ...              ...   \n",
       "1008173       2.0  2021-01-25 22:46:51   2021-01-25 22:47:00              2.0   \n",
       "875531        1.0  2021-01-22 15:30:29   2021-01-22 16:10:10              1.0   \n",
       "879285        1.0  2021-01-22 16:04:24   2021-01-22 16:52:33              1.0   \n",
       "688933        2.0  2021-01-18 15:55:11   2021-01-18 15:55:19              1.0   \n",
       "1228332       2.0  2021-01-30 16:54:46   2021-01-30 16:54:49              1.0   \n",
       "\n",
       "         trip_distance  RatecodeID store_and_fwd_flag  PULocationID  \\\n",
       "303465             0.0         5.0                  N            48   \n",
       "852827             0.0         1.0                  N           159   \n",
       "563444             0.0         1.0                  N           177   \n",
       "244193             0.0         1.0                  N           232   \n",
       "1169592            0.0         1.0                  N           261   \n",
       "...                ...         ...                ...           ...   \n",
       "1008173            0.0         5.0                  N           265   \n",
       "875531             0.0         1.0                  N            25   \n",
       "879285             0.0         1.0                  N            75   \n",
       "688933             0.0         1.0                  N           216   \n",
       "1228332            0.0         5.0                  N            50   \n",
       "\n",
       "         DOLocationID  payment_type  fare_amount  extra  mta_tax  tip_amount  \\\n",
       "303465            264           1.0          8.0    0.0      0.5        0.00   \n",
       "852827            161           1.0         22.2    0.0      0.5        0.00   \n",
       "563444             80           1.0         17.2    0.0      0.5        0.00   \n",
       "244193             42           1.0         28.2    0.0      0.5        0.00   \n",
       "1169592           217           1.0         20.2    0.0      0.5        0.00   \n",
       "...               ...           ...          ...    ...      ...         ...   \n",
       "1008173           265           1.0         70.0    0.0      0.0        0.00   \n",
       "875531             35           1.0         18.2    0.0      0.5        0.00   \n",
       "879285            254           1.0         26.2    0.0      0.5        0.00   \n",
       "688933            216           2.0          2.5    0.0      0.5        0.00   \n",
       "1228332            50           1.0          7.0    0.0      0.5        1.95   \n",
       "\n",
       "         tolls_amount  improvement_surcharge  total_amount  \\\n",
       "303465           0.00                    0.3         11.30   \n",
       "852827           0.00                    0.3         23.00   \n",
       "563444           0.00                    0.3         18.00   \n",
       "244193           0.00                    0.3         29.00   \n",
       "1169592          0.00                    0.3         21.00   \n",
       "...               ...                    ...           ...   \n",
       "1008173          0.00                    0.3         70.30   \n",
       "875531           0.00                    0.3         19.00   \n",
       "879285           6.12                    0.3         33.12   \n",
       "688933           0.00                    0.3          3.30   \n",
       "1228332          0.00                    0.3          9.75   \n",
       "\n",
       "         congestion_surcharge pickup_date  \n",
       "303465                    2.5  2021-01-09  \n",
       "852827                    0.0  2021-01-22  \n",
       "563444                    0.0  2021-01-15  \n",
       "244193                    0.0  2021-01-07  \n",
       "1169592                   0.0  2021-01-29  \n",
       "...                       ...         ...  \n",
       "1008173                   0.0  2021-01-25  \n",
       "875531                    0.0  2021-01-22  \n",
       "879285                    0.0  2021-01-22  \n",
       "688933                    0.0  2021-01-18  \n",
       "1228332                   0.0  2021-01-30  \n",
       "\n",
       "[180 rows x 19 columns]"
      ]
     },
     "execution_count": 45,
     "metadata": {},
     "output_type": "execute_result"
    }
   ],
   "source": [
    "data[data['trip_distance'] == 0]"
   ]
  },
  {
   "cell_type": "code",
   "execution_count": 46,
   "id": "3132ad51",
   "metadata": {
    "scrolled": true
   },
   "outputs": [
    {
     "data": {
      "text/plain": [
       "([303465, 852827, 563444, 244193, 1169592], 180)"
      ]
     },
     "execution_count": 46,
     "metadata": {},
     "output_type": "execute_result"
    }
   ],
   "source": [
    "dropIndex = list(data[data['trip_distance'] <= 0].index)\n",
    "dropIndex[:5], len(dropIndex)"
   ]
  },
  {
   "cell_type": "code",
   "execution_count": 47,
   "id": "38e4bf25",
   "metadata": {},
   "outputs": [],
   "source": [
    "data.drop([i for i in dropIndex], inplace=True)"
   ]
  },
  {
   "cell_type": "code",
   "execution_count": 48,
   "id": "67be0a17",
   "metadata": {},
   "outputs": [
    {
     "data": {
      "text/plain": [
       "(0.01, 50.06)"
      ]
     },
     "execution_count": 48,
     "metadata": {},
     "output_type": "execute_result"
    }
   ],
   "source": [
    "data['trip_distance'].min(), data['trip_distance'].max()"
   ]
  },
  {
   "cell_type": "code",
   "execution_count": 49,
   "id": "37358f8f",
   "metadata": {},
   "outputs": [
    {
     "data": {
      "text/plain": [
       "((13442,), 39704.83)"
      ]
     },
     "execution_count": 49,
     "metadata": {},
     "output_type": "execute_result"
    }
   ],
   "source": [
    "data['trip_distance'].shape, data['trip_distance'].sum()"
   ]
  },
  {
   "cell_type": "markdown",
   "id": "c39fc102",
   "metadata": {},
   "source": [
    "So, the shape of the trip distance column is a 1 dimensional array, we need to group the trip distances into accumulation of each date"
   ]
  },
  {
   "cell_type": "code",
   "execution_count": 50,
   "id": "1e840d60",
   "metadata": {},
   "outputs": [
    {
     "data": {
      "text/plain": [
       "pickup_date\n",
       "2021-01-01     901.04\n",
       "2021-01-02    1219.58\n",
       "2021-01-03    1030.24\n",
       "2021-01-04    1204.27\n",
       "2021-01-05    1237.37\n",
       "Name: trip_distance, dtype: float64"
      ]
     },
     "execution_count": 50,
     "metadata": {},
     "output_type": "execute_result"
    }
   ],
   "source": [
    "grouped_trip_distance = data['trip_distance'].groupby(data['pickup_date']).sum()\n",
    "grouped_trip_distance.head()"
   ]
  },
  {
   "cell_type": "markdown",
   "id": "7f1ea21c",
   "metadata": {},
   "source": [
    "The last data we need to clean for this viz will be the passenger count. I would like to add this as the color axis of our heat map"
   ]
  },
  {
   "cell_type": "code",
   "execution_count": 51,
   "id": "a1388b97",
   "metadata": {},
   "outputs": [
    {
     "data": {
      "text/plain": [
       "True"
      ]
     },
     "execution_count": 51,
     "metadata": {},
     "output_type": "execute_result"
    }
   ],
   "source": [
    "pd.isnull(data['passenger_count'].unique()).any()"
   ]
  },
  {
   "cell_type": "code",
   "execution_count": 52,
   "id": "dc32997d",
   "metadata": {},
   "outputs": [
    {
     "data": {
      "text/plain": [
       "(1215088    0.0\n",
       " 612594     1.0\n",
       " 259095     5.0\n",
       " 1049052    3.0\n",
       " 220625     1.0\n",
       "           ... \n",
       " 357786     1.0\n",
       " 396826     1.0\n",
       " 274823     1.0\n",
       " 210304     0.0\n",
       " 170648     2.0\n",
       " Name: passenger_count, Length: 13442, dtype: float64,\n",
       " array([ 0.,  1.,  5.,  3.,  6., nan,  2.,  4.,  8.]))"
      ]
     },
     "execution_count": 52,
     "metadata": {},
     "output_type": "execute_result"
    }
   ],
   "source": [
    "data['passenger_count'], data['passenger_count'].unique()"
   ]
  },
  {
   "cell_type": "markdown",
   "id": "6f6fdb9a",
   "metadata": {},
   "source": [
    "Now, we have empty nan values. For the purpose of this graph, I will convert the nan values to 0 values and remove all the 0 and nan values"
   ]
  },
  {
   "cell_type": "code",
   "execution_count": 53,
   "id": "968739a6",
   "metadata": {
    "scrolled": true
   },
   "outputs": [
    {
     "data": {
      "text/html": [
       "<div>\n",
       "<style scoped>\n",
       "    .dataframe tbody tr th:only-of-type {\n",
       "        vertical-align: middle;\n",
       "    }\n",
       "\n",
       "    .dataframe tbody tr th {\n",
       "        vertical-align: top;\n",
       "    }\n",
       "\n",
       "    .dataframe thead th {\n",
       "        text-align: right;\n",
       "    }\n",
       "</style>\n",
       "<table border=\"1\" class=\"dataframe\">\n",
       "  <thead>\n",
       "    <tr style=\"text-align: right;\">\n",
       "      <th></th>\n",
       "      <th>VendorID</th>\n",
       "      <th>tpep_pickup_datetime</th>\n",
       "      <th>tpep_dropoff_datetime</th>\n",
       "      <th>passenger_count</th>\n",
       "      <th>trip_distance</th>\n",
       "      <th>RatecodeID</th>\n",
       "      <th>store_and_fwd_flag</th>\n",
       "      <th>PULocationID</th>\n",
       "      <th>DOLocationID</th>\n",
       "      <th>payment_type</th>\n",
       "      <th>fare_amount</th>\n",
       "      <th>extra</th>\n",
       "      <th>mta_tax</th>\n",
       "      <th>tip_amount</th>\n",
       "      <th>tolls_amount</th>\n",
       "      <th>improvement_surcharge</th>\n",
       "      <th>total_amount</th>\n",
       "      <th>congestion_surcharge</th>\n",
       "      <th>pickup_date</th>\n",
       "    </tr>\n",
       "  </thead>\n",
       "  <tbody>\n",
       "    <tr>\n",
       "      <th>1215088</th>\n",
       "      <td>1.0</td>\n",
       "      <td>2021-01-30 12:21:33</td>\n",
       "      <td>2021-01-30 12:26:14</td>\n",
       "      <td>0.0</td>\n",
       "      <td>1.0</td>\n",
       "      <td>1.0</td>\n",
       "      <td>N</td>\n",
       "      <td>79</td>\n",
       "      <td>107</td>\n",
       "      <td>2.0</td>\n",
       "      <td>5.5</td>\n",
       "      <td>2.5</td>\n",
       "      <td>0.5</td>\n",
       "      <td>0.00</td>\n",
       "      <td>0.0</td>\n",
       "      <td>0.3</td>\n",
       "      <td>8.80</td>\n",
       "      <td>2.5</td>\n",
       "      <td>2021-01-30</td>\n",
       "    </tr>\n",
       "    <tr>\n",
       "      <th>968776</th>\n",
       "      <td>1.0</td>\n",
       "      <td>2021-01-25 07:29:33</td>\n",
       "      <td>2021-01-25 07:38:59</td>\n",
       "      <td>0.0</td>\n",
       "      <td>2.7</td>\n",
       "      <td>1.0</td>\n",
       "      <td>N</td>\n",
       "      <td>140</td>\n",
       "      <td>170</td>\n",
       "      <td>1.0</td>\n",
       "      <td>10.5</td>\n",
       "      <td>2.5</td>\n",
       "      <td>0.5</td>\n",
       "      <td>4.10</td>\n",
       "      <td>0.0</td>\n",
       "      <td>0.3</td>\n",
       "      <td>17.90</td>\n",
       "      <td>2.5</td>\n",
       "      <td>2021-01-25</td>\n",
       "    </tr>\n",
       "    <tr>\n",
       "      <th>112943</th>\n",
       "      <td>1.0</td>\n",
       "      <td>2021-01-04 18:23:29</td>\n",
       "      <td>2021-01-04 18:29:17</td>\n",
       "      <td>0.0</td>\n",
       "      <td>0.9</td>\n",
       "      <td>1.0</td>\n",
       "      <td>N</td>\n",
       "      <td>140</td>\n",
       "      <td>263</td>\n",
       "      <td>1.0</td>\n",
       "      <td>6.0</td>\n",
       "      <td>3.5</td>\n",
       "      <td>0.5</td>\n",
       "      <td>2.05</td>\n",
       "      <td>0.0</td>\n",
       "      <td>0.3</td>\n",
       "      <td>12.35</td>\n",
       "      <td>2.5</td>\n",
       "      <td>2021-01-04</td>\n",
       "    </tr>\n",
       "    <tr>\n",
       "      <th>1065766</th>\n",
       "      <td>1.0</td>\n",
       "      <td>2021-01-27 11:05:16</td>\n",
       "      <td>2021-01-27 11:37:54</td>\n",
       "      <td>0.0</td>\n",
       "      <td>16.3</td>\n",
       "      <td>1.0</td>\n",
       "      <td>N</td>\n",
       "      <td>140</td>\n",
       "      <td>265</td>\n",
       "      <td>1.0</td>\n",
       "      <td>45.5</td>\n",
       "      <td>2.5</td>\n",
       "      <td>0.5</td>\n",
       "      <td>9.75</td>\n",
       "      <td>0.0</td>\n",
       "      <td>0.3</td>\n",
       "      <td>58.55</td>\n",
       "      <td>2.5</td>\n",
       "      <td>2021-01-27</td>\n",
       "    </tr>\n",
       "    <tr>\n",
       "      <th>922392</th>\n",
       "      <td>1.0</td>\n",
       "      <td>2021-01-23 16:44:54</td>\n",
       "      <td>2021-01-23 16:53:33</td>\n",
       "      <td>0.0</td>\n",
       "      <td>1.7</td>\n",
       "      <td>1.0</td>\n",
       "      <td>N</td>\n",
       "      <td>236</td>\n",
       "      <td>74</td>\n",
       "      <td>1.0</td>\n",
       "      <td>8.5</td>\n",
       "      <td>2.5</td>\n",
       "      <td>0.5</td>\n",
       "      <td>1.00</td>\n",
       "      <td>0.0</td>\n",
       "      <td>0.3</td>\n",
       "      <td>12.80</td>\n",
       "      <td>2.5</td>\n",
       "      <td>2021-01-23</td>\n",
       "    </tr>\n",
       "  </tbody>\n",
       "</table>\n",
       "</div>"
      ],
      "text/plain": [
       "         VendorID tpep_pickup_datetime tpep_dropoff_datetime  passenger_count  \\\n",
       "1215088       1.0  2021-01-30 12:21:33   2021-01-30 12:26:14              0.0   \n",
       "968776        1.0  2021-01-25 07:29:33   2021-01-25 07:38:59              0.0   \n",
       "112943        1.0  2021-01-04 18:23:29   2021-01-04 18:29:17              0.0   \n",
       "1065766       1.0  2021-01-27 11:05:16   2021-01-27 11:37:54              0.0   \n",
       "922392        1.0  2021-01-23 16:44:54   2021-01-23 16:53:33              0.0   \n",
       "\n",
       "         trip_distance  RatecodeID store_and_fwd_flag  PULocationID  \\\n",
       "1215088            1.0         1.0                  N            79   \n",
       "968776             2.7         1.0                  N           140   \n",
       "112943             0.9         1.0                  N           140   \n",
       "1065766           16.3         1.0                  N           140   \n",
       "922392             1.7         1.0                  N           236   \n",
       "\n",
       "         DOLocationID  payment_type  fare_amount  extra  mta_tax  tip_amount  \\\n",
       "1215088           107           2.0          5.5    2.5      0.5        0.00   \n",
       "968776            170           1.0         10.5    2.5      0.5        4.10   \n",
       "112943            263           1.0          6.0    3.5      0.5        2.05   \n",
       "1065766           265           1.0         45.5    2.5      0.5        9.75   \n",
       "922392             74           1.0          8.5    2.5      0.5        1.00   \n",
       "\n",
       "         tolls_amount  improvement_surcharge  total_amount  \\\n",
       "1215088           0.0                    0.3          8.80   \n",
       "968776            0.0                    0.3         17.90   \n",
       "112943            0.0                    0.3         12.35   \n",
       "1065766           0.0                    0.3         58.55   \n",
       "922392            0.0                    0.3         12.80   \n",
       "\n",
       "         congestion_surcharge pickup_date  \n",
       "1215088                   2.5  2021-01-30  \n",
       "968776                    2.5  2021-01-25  \n",
       "112943                    2.5  2021-01-04  \n",
       "1065766                   2.5  2021-01-27  \n",
       "922392                    2.5  2021-01-23  "
      ]
     },
     "execution_count": 53,
     "metadata": {},
     "output_type": "execute_result"
    }
   ],
   "source": [
    "data[data['passenger_count'] == 0].head()"
   ]
  },
  {
   "cell_type": "code",
   "execution_count": 54,
   "id": "0b6acebe",
   "metadata": {},
   "outputs": [
    {
     "data": {
      "text/plain": [
       "([1215088, 968776, 112943, 1065766, 922392], 271)"
      ]
     },
     "execution_count": 54,
     "metadata": {},
     "output_type": "execute_result"
    }
   ],
   "source": [
    "dropIndex = list(data[data['passenger_count'] == 0].index)\n",
    "dropIndex[:5], len(dropIndex)"
   ]
  },
  {
   "cell_type": "code",
   "execution_count": 55,
   "id": "293ed98c",
   "metadata": {},
   "outputs": [],
   "source": [
    "data.drop([i for i in dropIndex], inplace=True)"
   ]
  },
  {
   "cell_type": "code",
   "execution_count": 56,
   "id": "3016288b",
   "metadata": {},
   "outputs": [],
   "source": [
    "data = data[~pd.isnull(data['passenger_count'])]"
   ]
  },
  {
   "cell_type": "code",
   "execution_count": 57,
   "id": "0757aa8c",
   "metadata": {},
   "outputs": [
    {
     "data": {
      "text/plain": [
       "array([1., 5., 3., 6., 2., 4., 8.])"
      ]
     },
     "execution_count": 57,
     "metadata": {},
     "output_type": "execute_result"
    }
   ],
   "source": [
    "data['passenger_count'].unique()"
   ]
  },
  {
   "cell_type": "markdown",
   "id": "c0d83f1b",
   "metadata": {},
   "source": [
    "Now, calculate the sum of the passenger count grouped by date"
   ]
  },
  {
   "cell_type": "code",
   "execution_count": 58,
   "id": "51f9f783",
   "metadata": {
    "scrolled": false
   },
   "outputs": [
    {
     "data": {
      "text/plain": [
       "pickup_date\n",
       "2021-01-01    331.0\n",
       "2021-01-02    457.0\n",
       "2021-01-03    320.0\n",
       "2021-01-04    561.0\n",
       "2021-01-05    597.0\n",
       "2021-01-06    609.0\n",
       "2021-01-07    703.0\n",
       "2021-01-08    670.0\n",
       "2021-01-09    493.0\n",
       "2021-01-10    423.0\n",
       "2021-01-11    628.0\n",
       "2021-01-12    629.0\n",
       "2021-01-13    598.0\n",
       "2021-01-14    647.0\n",
       "2021-01-15    761.0\n",
       "2021-01-16    493.0\n",
       "2021-01-17    460.0\n",
       "2021-01-18    484.0\n",
       "2021-01-19    681.0\n",
       "2021-01-20    585.0\n",
       "2021-01-21    679.0\n",
       "2021-01-22    697.0\n",
       "2021-01-23    589.0\n",
       "2021-01-24    436.0\n",
       "2021-01-25    591.0\n",
       "2021-01-26    572.0\n",
       "2021-01-27    696.0\n",
       "2021-01-28    620.0\n",
       "2021-01-29    728.0\n",
       "2021-01-30    554.0\n",
       "2021-01-31    405.0\n",
       "Name: passenger_count, dtype: float64"
      ]
     },
     "execution_count": 58,
     "metadata": {},
     "output_type": "execute_result"
    }
   ],
   "source": [
    "grouped_passenger_count = data['passenger_count'].groupby(data['pickup_date']).sum()\n",
    "grouped_passenger_count"
   ]
  },
  {
   "cell_type": "markdown",
   "id": "6c58f20f",
   "metadata": {},
   "source": [
    "### Summary of the dataset:"
   ]
  },
  {
   "cell_type": "markdown",
   "id": "e3bddb51",
   "metadata": {},
   "source": [
    "There were in total 18 columns in the dataset. The names were printed above alongside their datatypes. The dataset represents the total trips of yellow taxi at NYC during January, 2021. The dataset includes many fields such as DateTime for each trip, specified to pick up time and drop off time. The trip distance, the fares, the rates, and the payment types and passenger numbers for each entry. On the site, the raw data is collected within the partnership with the NYC DOITT, but I could not find the person who created these datasets. The credits are not given either on the website or in the dataset. This dataset is interesting as we can analyze the pay for each driver and the relationship of their pay with the pay standard we have in NYC. Also, we can tell from this dataset that we could use this dataset to find out the market of taxis in NYC. The further analysis that I described above would also be interesting to explore."
   ]
  },
  {
   "cell_type": "markdown",
   "id": "c55c8e59",
   "metadata": {},
   "source": [
    "### Plot of interest:"
   ]
  },
  {
   "cell_type": "markdown",
   "id": "97458ea7",
   "metadata": {},
   "source": [
    "Lets make a simple one, a frequency graph with the x axis as everyday in January, and the y-axis as the count of taxi drives each date. (For each date, we are only considering the pickup time, as we will have some trips that begins late in one day and arrived on the next day, so I would merge these trips into the date when they started the trip)"
   ]
  },
  {
   "cell_type": "markdown",
   "id": "81fbc36a",
   "metadata": {},
   "source": [
    "The data looks good, now we were ready to create some simple data visualization on this dataset"
   ]
  },
  {
   "cell_type": "code",
   "execution_count": 59,
   "id": "941eb2f2",
   "metadata": {
    "scrolled": true
   },
   "outputs": [
    {
     "data": {
      "image/png": "[encoded data removed]",
      "text/plain": [
       "<Figure size 1080x360 with 1 Axes>"
      ]
     },
     "metadata": {},
     "output_type": "display_data"
    }
   ],
   "source": [
    "# Step 1 - hard code the stuff\n",
    "style = 'seaborn'\n",
    "graphBins = len(data['pickup_date'].unique())\n",
    "with plt.style.context(style):\n",
    "    fig, ax = plt.subplots(figsize=(15,5))\n",
    "    plt.hist(x=data['pickup_date'], bins=graphBins)\n",
    "    ax.set_xlabel('Date in January')\n",
    "    ax.set_ylabel('Taxi Drives Distribution')\n",
    "    ax.set_title('Taxi Drives Distribution in January')\n",
    "    plt.show()"
   ]
  },
  {
   "cell_type": "markdown",
   "id": "bbd90c59",
   "metadata": {},
   "source": [
    "# Final Project Part 2 - Dashboard"
   ]
  },
  {
   "cell_type": "markdown",
   "id": "c748166d",
   "metadata": {},
   "source": [
    "We would continue on the previous frequency graph we made, and we would be producing more graphs as it goes. \n",
    "\n",
    "Lets check the data types again to make sure nothing is wrong"
   ]
  },
  {
   "cell_type": "code",
   "execution_count": 60,
   "id": "51d8efad",
   "metadata": {
    "scrolled": true
   },
   "outputs": [
    {
     "data": {
      "text/plain": [
       "VendorID                        float64\n",
       "tpep_pickup_datetime     datetime64[ns]\n",
       "tpep_dropoff_datetime    datetime64[ns]\n",
       "passenger_count                 float64\n",
       "trip_distance                   float64\n",
       "RatecodeID                      float64\n",
       "store_and_fwd_flag               object\n",
       "PULocationID                      int64\n",
       "DOLocationID                      int64\n",
       "payment_type                    float64\n",
       "fare_amount                     float64\n",
       "extra                           float64\n",
       "mta_tax                         float64\n",
       "tip_amount                      float64\n",
       "tolls_amount                    float64\n",
       "improvement_surcharge           float64\n",
       "total_amount                    float64\n",
       "congestion_surcharge            float64\n",
       "pickup_date              datetime64[ns]\n",
       "dtype: object"
      ]
     },
     "execution_count": 60,
     "metadata": {},
     "output_type": "execute_result"
    }
   ],
   "source": [
    "data.dtypes"
   ]
  },
  {
   "cell_type": "markdown",
   "id": "b572460d",
   "metadata": {},
   "source": [
    "Good, seems nothing is wrong since the last part. Now lets try to shift the graph to bqplot"
   ]
  },
  {
   "cell_type": "code",
   "execution_count": 61,
   "id": "beb3f445",
   "metadata": {
    "scrolled": false
   },
   "outputs": [
    {
     "data": {
      "application/vnd.jupyter.widget-view+json": {
       "model_id": "d6bad35b5a964738b0ff8c6e8ce78023",
       "version_major": 2,
       "version_minor": 0
      },
      "text/plain": [
       "Figure(axes=[Axis(label='Date in January', scale=DateScale()), Axis(label='Taxi Drives Distribution', label_of…"
      ]
     },
     "metadata": {},
     "output_type": "display_data"
    }
   ],
   "source": [
    "# try to shift to bqplot to produce the same graph\n",
    "\n",
    "x_sch = bqplot.DateScale()\n",
    "y_sch = bqplot.LinearScale()\n",
    "\n",
    "# set p axis\n",
    "x_axh = bqplot.Axis(scale = x_sch, label = 'Date in January')\n",
    "# Adjusted the label offset so that the label would not collide\n",
    "# with the data\n",
    "y_axh = bqplot.Axis(scale = y_sch, \n",
    "                   orientation = 'vertical', \n",
    "                   label = 'Taxi Drives Distribution',\n",
    "                   label_offset = \"45px\")\n",
    "\n",
    "# (1) set up the marks\n",
    "hist = bqplot.Hist(sample = data['pickup_date'],\n",
    "                  normalized = False,\n",
    "                  scales = {'sample':x_sch, 'count':y_sch},\n",
    "                  bins=graphBins)\n",
    "\n",
    "fig_hist = bqplot.Figure(marks=[hist], axes = [x_axh, y_axh])\n",
    "# figh.layout.width = \"800px\"\n",
    "fig_hist"
   ]
  },
  {
   "cell_type": "markdown",
   "id": "2589f71f",
   "metadata": {},
   "source": [
    "So we have successfully reproduced the graph using bqplot. Now it is time to include some interactions and dashboards."
   ]
  },
  {
   "cell_type": "markdown",
   "id": "ff39ce27",
   "metadata": {},
   "source": [
    "### Scatter plot of total amount and trip distance with the color axis as passenger count for the graph"
   ]
  },
  {
   "cell_type": "markdown",
   "id": "7fce4029",
   "metadata": {},
   "source": [
    "Now we have the all the data we need, we could create a scatter plot on this"
   ]
  },
  {
   "cell_type": "code",
   "execution_count": 62,
   "id": "50f1eb6d",
   "metadata": {},
   "outputs": [
    {
     "data": {
      "text/plain": [
       "(265.8, 0.3)"
      ]
     },
     "execution_count": 62,
     "metadata": {},
     "output_type": "execute_result"
    }
   ],
   "source": [
    "data['total_amount'].max(), data['total_amount'].min()"
   ]
  },
  {
   "cell_type": "code",
   "execution_count": 63,
   "id": "c3d21ef6",
   "metadata": {
    "scrolled": false
   },
   "outputs": [
    {
     "data": {
      "application/vnd.jupyter.widget-view+json": {
       "model_id": "d57c39d279de45ccb6b451e3d5288ba0",
       "version_major": 2,
       "version_minor": 0
      },
      "text/plain": [
       "Figure(axes=[Axis(label='Trip Distance', scale=LinearScale()), Axis(label='Total Amount', label_offset='48px',…"
      ]
     },
     "metadata": {},
     "output_type": "display_data"
    }
   ],
   "source": [
    "# Set up x/y scales\n",
    "x_sc = bqplot.LinearScale()\n",
    "y_sc = bqplot.LinearScale()\n",
    "\n",
    "# Set p axis\n",
    "x_ax = bqplot.Axis(scale = x_sc, label='Trip Distance')\n",
    "y_ax = bqplot.Axis(scale = y_sc, \n",
    "                   orientation = 'vertical', \n",
    "                   label='Total Amount',\n",
    "                  label_offset = \"48px\")\n",
    "\n",
    "#(1) set up marks\n",
    "scatters = bqplot.Scatter(x = data['trip_distance'],\n",
    "                          y = data['total_amount'],\n",
    "                          scales = {'x': x_sc, 'y': y_sc})\n",
    "\n",
    "fig = bqplot.Figure(marks = [scatters], axes = [x_ax, y_ax]) \n",
    "fig"
   ]
  },
  {
   "cell_type": "markdown",
   "id": "803c331a",
   "metadata": {},
   "source": [
    "Take a look at the grouped values"
   ]
  },
  {
   "cell_type": "code",
   "execution_count": 64,
   "id": "cd7e6f77",
   "metadata": {},
   "outputs": [
    {
     "data": {
      "application/vnd.jupyter.widget-view+json": {
       "model_id": "ededa6d5dd8a4a9494df9436d7c398c0",
       "version_major": 2,
       "version_minor": 0
      },
      "text/plain": [
       "Figure(axes=[Axis(label='Trip Distance', scale=LinearScale()), Axis(label='Total Amount', label_offset='48px',…"
      ]
     },
     "metadata": {},
     "output_type": "display_data"
    }
   ],
   "source": [
    "# Set up x/y scales\n",
    "x_sc = bqplot.LinearScale()\n",
    "y_sc = bqplot.LinearScale()\n",
    "\n",
    "# Set p axis\n",
    "x_ax = bqplot.Axis(scale = x_sc, label='Trip Distance')\n",
    "y_ax = bqplot.Axis(scale = y_sc, \n",
    "                   orientation = 'vertical', \n",
    "                   label='Total Amount',\n",
    "                  label_offset = \"48px\")\n",
    "\n",
    "#(1) set up marks\n",
    "scatters = bqplot.Scatter(x = grouped_trip_distance,\n",
    "                          y = grouped_total_amount,\n",
    "                          scales = {'x': x_sc, 'y': y_sc})\n",
    "\n",
    "fig = bqplot.Figure(marks = [scatters], axes = [x_ax, y_ax]) \n",
    "fig"
   ]
  },
  {
   "cell_type": "markdown",
   "id": "91f1b943",
   "metadata": {},
   "source": [
    "From the graph we can tell, our data is a bit of large so it the range is fairly big. And I haven't implement the color axis, which will be the passenger count of the dataset"
   ]
  },
  {
   "cell_type": "markdown",
   "id": "810ca483",
   "metadata": {},
   "source": [
    "Take a look at the individual values with color"
   ]
  },
  {
   "cell_type": "code",
   "execution_count": 65,
   "id": "8fc13a03",
   "metadata": {
    "scrolled": false
   },
   "outputs": [
    {
     "data": {
      "application/vnd.jupyter.widget-view+json": {
       "model_id": "2357423e5a454bd58ed6e56f97aba64f",
       "version_major": 2,
       "version_minor": 0
      },
      "text/plain": [
       "Figure(axes=[Axis(label='Trip Distance', scale=LinearScale()), Axis(label='Total Amount', label_offset='48px',…"
      ]
     },
     "metadata": {},
     "output_type": "display_data"
    }
   ],
   "source": [
    "# Set up x/y scales\n",
    "x_sc = bqplot.LinearScale()\n",
    "y_sc = bqplot.LinearScale()\n",
    "\n",
    "# Set p axis\n",
    "x_ax = bqplot.Axis(scale = x_sc, label='Trip Distance')\n",
    "y_ax = bqplot.Axis(scale = y_sc, \n",
    "                   orientation = 'vertical', \n",
    "                   label='Total Amount',\n",
    "                  label_offset = \"48px\")\n",
    "\n",
    "# Add in color scale\n",
    "c_sc = bqplot.ColorScale()\n",
    "# color axes:\n",
    "c_ax = bqplot.ColorAxis(scale = c_sc, label = 'Passenger Count', \n",
    "                       orientation = 'vertical', side = 'right')\n",
    "                       # label_offset = \"100px\")\n",
    "\n",
    "# set up marks\n",
    "scatters = bqplot.Scatter(x = data['trip_distance'],\n",
    "                          y = data['total_amount'],\n",
    "                          color = data['passenger_count'],\n",
    "                          scales = {'x': x_sc, \n",
    "                                    'y': y_sc,\n",
    "                                    'color':c_sc})\n",
    "\n",
    "fig = bqplot.Figure(marks = [scatters], axes = [x_ax, y_ax, c_ax]) \n",
    "# fig.layout.width = \"600px\"\n",
    "fig"
   ]
  },
  {
   "cell_type": "markdown",
   "id": "fe674b7f",
   "metadata": {},
   "source": [
    "Now the grouped values with color"
   ]
  },
  {
   "cell_type": "code",
   "execution_count": 66,
   "id": "8b28f81e",
   "metadata": {},
   "outputs": [
    {
     "data": {
      "application/vnd.jupyter.widget-view+json": {
       "model_id": "01aa60ad19d34fbd88bb6ae404d9a5e1",
       "version_major": 2,
       "version_minor": 0
      },
      "text/plain": [
       "Figure(axes=[Axis(label='Trip Distance', scale=LinearScale()), Axis(label='Total Amount', label_offset='48px',…"
      ]
     },
     "metadata": {},
     "output_type": "display_data"
    }
   ],
   "source": [
    "# Set up x/y scales\n",
    "x_sc = bqplot.LinearScale()\n",
    "y_sc = bqplot.LinearScale()\n",
    "\n",
    "# Set p axis\n",
    "x_ax = bqplot.Axis(scale = x_sc, label='Trip Distance')\n",
    "y_ax = bqplot.Axis(scale = y_sc, \n",
    "                   orientation = 'vertical', \n",
    "                   label='Total Amount',\n",
    "                  label_offset = \"48px\")\n",
    "\n",
    "# Add in color scale\n",
    "c_sc = bqplot.ColorScale()\n",
    "# color axes:\n",
    "c_ax = bqplot.ColorAxis(scale = c_sc, label = 'Passenger Count', \n",
    "                       orientation = 'vertical', side = 'right')\n",
    "                       # label_offset = \"100px\")\n",
    "\n",
    "# set up marks\n",
    "scatters = bqplot.Scatter(x = grouped_trip_distance,\n",
    "                          y = grouped_total_amount,\n",
    "                          color = grouped_passenger_count,\n",
    "                          scales = {'x': x_sc, \n",
    "                                    'y': y_sc,\n",
    "                                    'color':c_sc})\n",
    "\n",
    "fig = bqplot.Figure(marks = [scatters], axes = [x_ax, y_ax, c_ax]) \n",
    "# fig.layout.width = \"600px\"\n",
    "fig"
   ]
  },
  {
   "cell_type": "markdown",
   "id": "71dabe67",
   "metadata": {},
   "source": [
    "After plotting the graph, not a bad color map, but I would still like to take the log for the passenger count, as it does have a huge range in sum"
   ]
  },
  {
   "cell_type": "code",
   "execution_count": 67,
   "id": "bbc47c0d",
   "metadata": {},
   "outputs": [
    {
     "data": {
      "text/plain": [
       "(320.0, 761.0)"
      ]
     },
     "execution_count": 67,
     "metadata": {},
     "output_type": "execute_result"
    }
   ],
   "source": [
    "grouped_passenger_count.min(), grouped_passenger_count.max()"
   ]
  },
  {
   "cell_type": "markdown",
   "id": "1064b1f3",
   "metadata": {},
   "source": [
    "Replot the graph with log10 computation on the passenger count"
   ]
  },
  {
   "cell_type": "code",
   "execution_count": 68,
   "id": "fd523351",
   "metadata": {},
   "outputs": [
    {
     "data": {
      "application/vnd.jupyter.widget-view+json": {
       "model_id": "eb2485d4aff04a0abe15e0f0322a4952",
       "version_major": 2,
       "version_minor": 0
      },
      "text/plain": [
       "Figure(axes=[Axis(label='Trip Distance', scale=LinearScale()), Axis(label='Total Amount', label_offset='48px',…"
      ]
     },
     "metadata": {},
     "output_type": "display_data"
    }
   ],
   "source": [
    "# Set up x/y scales\n",
    "x_sc = bqplot.LinearScale()\n",
    "y_sc = bqplot.LinearScale()\n",
    "\n",
    "# Set p axis\n",
    "x_ax = bqplot.Axis(scale = x_sc, label='Trip Distance')\n",
    "y_ax = bqplot.Axis(scale = y_sc, \n",
    "                   orientation = 'vertical', \n",
    "                   label='Total Amount',\n",
    "                  label_offset = \"48px\")\n",
    "\n",
    "# Add in color scale\n",
    "c_sc = bqplot.ColorScale()\n",
    "# color axes:\n",
    "c_ax = bqplot.ColorAxis(scale = c_sc, label = 'log(pass_c)', \n",
    "                       orientation = 'vertical', side = 'right')\n",
    "\n",
    "# set up marks\n",
    "scatters = bqplot.Scatter(x = grouped_trip_distance,\n",
    "                          y = grouped_total_amount,\n",
    "                          color = np.log10(grouped_passenger_count),\n",
    "                          scales = {'x': x_sc, \n",
    "                                    'y': y_sc,\n",
    "                                    'color':c_sc})\n",
    "\n",
    "fig = bqplot.Figure(marks = [scatters], axes = [x_ax, y_ax, c_ax]) \n",
    "fig"
   ]
  },
  {
   "cell_type": "markdown",
   "id": "4239b267",
   "metadata": {},
   "source": [
    "Well... No clear difference indicated after taking the log of the passenger count... Will remove the log in later stage"
   ]
  },
  {
   "cell_type": "markdown",
   "id": "c03cf477",
   "metadata": {},
   "source": [
    "Now we will try to create the heatmap by transforming the scatter plot we have into the heatmap"
   ]
  },
  {
   "cell_type": "code",
   "execution_count": 69,
   "id": "05b6a525",
   "metadata": {
    "scrolled": true
   },
   "outputs": [
    {
     "data": {
      "image/png": "[encoded data removed]",
      "text/plain": [
       "<Figure size 432x288 with 2 Axes>"
      ]
     },
     "metadata": {
      "needs_background": "light"
     },
     "output_type": "display_data"
    }
   ],
   "source": [
    "plt.hist2d(x=grouped_trip_distance, \n",
    "           y=grouped_total_amount, \n",
    "           weights=grouped_passenger_count, \n",
    "          bins = graphBins, \n",
    "          cmap = 'RdPu')\n",
    "cb = plt.colorbar()\n",
    "cb.set_label('passenger counts')"
   ]
  },
  {
   "cell_type": "markdown",
   "id": "9dab8b2d",
   "metadata": {},
   "source": [
    "Now the individual data"
   ]
  },
  {
   "cell_type": "code",
   "execution_count": 70,
   "id": "ca5f09a3",
   "metadata": {},
   "outputs": [
    {
     "data": {
      "image/png": "[encoded data removed]",
      "text/plain": [
       "<Figure size 432x288 with 2 Axes>"
      ]
     },
     "metadata": {
      "needs_background": "light"
     },
     "output_type": "display_data"
    }
   ],
   "source": [
    "plt.hist2d(x=data['trip_distance'],\n",
    "          y=data['total_amount'],\n",
    "          weights=data['passenger_count'],\n",
    "          bins=graphBins,\n",
    "          cmap='RdPu')\n",
    "cb = plt.colorbar()\n",
    "cb.set_label('passenger counts')"
   ]
  },
  {
   "cell_type": "markdown",
   "id": "42ac0093",
   "metadata": {},
   "source": [
    "Note that we did not get something good from both the graphs, as we have not rebin the graphs yet. The second graph is the reason why I choose to downsample the dataset. So that my computer would able to calculate the bins without pushing to its absolute limit. "
   ]
  },
  {
   "cell_type": "markdown",
   "id": "18e338a9",
   "metadata": {},
   "source": [
    "Take a look at the min and max of the binning"
   ]
  },
  {
   "cell_type": "code",
   "execution_count": 71,
   "id": "a83ec188",
   "metadata": {},
   "outputs": [
    {
     "data": {
      "text/plain": [
       "(761.0, 320.0)"
      ]
     },
     "execution_count": 71,
     "metadata": {},
     "output_type": "execute_result"
    }
   ],
   "source": [
    "grouped_passenger_count.max(), grouped_passenger_count.min()"
   ]
  },
  {
   "cell_type": "code",
   "execution_count": 72,
   "id": "00a1ee9f",
   "metadata": {
    "scrolled": true
   },
   "outputs": [
    {
     "data": {
      "text/plain": [
       "(1.0, 8.0)"
      ]
     },
     "execution_count": 72,
     "metadata": {},
     "output_type": "execute_result"
    }
   ],
   "source": [
    "data['passenger_count'].min(), data['passenger_count'].max()"
   ]
  },
  {
   "cell_type": "markdown",
   "id": "2fdc1317",
   "metadata": {},
   "source": [
    "Clearly, for the grouped one, we would need to create a log scale for the passenger count, but for the individual ones, we could also try to do that as we are binning the data into 31 entries."
   ]
  },
  {
   "cell_type": "code",
   "execution_count": 73,
   "id": "59aad390",
   "metadata": {},
   "outputs": [
    {
     "name": "stderr",
     "output_type": "stream",
     "text": [
      "/Users/rockywu/opt/anaconda3/envs/DataViz/lib/python3.7/site-packages/ipykernel_launcher.py:6: MatplotlibDeprecationWarning: default base may change from np.e to 10.  To suppress this warning specify the base keyword argument.\n",
      "  \n"
     ]
    },
    {
     "data": {
      "image/png": "[encoded data removed]",
      "text/plain": [
       "<Figure size 432x288 with 2 Axes>"
      ]
     },
     "metadata": {
      "needs_background": "light"
     },
     "output_type": "display_data"
    }
   ],
   "source": [
    "plt.hist2d(x=grouped_trip_distance, \n",
    "           y=grouped_total_amount, \n",
    "           weights=grouped_passenger_count, \n",
    "          bins = graphBins, \n",
    "          cmap = 'RdPu',\n",
    "          norm = mpl_colors.SymLogNorm(10))\n",
    "cb = plt.colorbar()\n",
    "cb.set_label('passenger counts')"
   ]
  },
  {
   "cell_type": "code",
   "execution_count": 74,
   "id": "c853aa6a",
   "metadata": {
    "scrolled": true
   },
   "outputs": [
    {
     "name": "stderr",
     "output_type": "stream",
     "text": [
      "/Users/rockywu/opt/anaconda3/envs/DataViz/lib/python3.7/site-packages/ipykernel_launcher.py:6: MatplotlibDeprecationWarning: default base may change from np.e to 10.  To suppress this warning specify the base keyword argument.\n",
      "  \n"
     ]
    },
    {
     "data": {
      "image/png": "[encoded data removed]",
      "text/plain": [
       "<Figure size 432x288 with 2 Axes>"
      ]
     },
     "metadata": {
      "needs_background": "light"
     },
     "output_type": "display_data"
    }
   ],
   "source": [
    "plt.hist2d(x=data['trip_distance'],\n",
    "          y=data['total_amount'],\n",
    "          weights=data['passenger_count'],\n",
    "          bins = graphBins,\n",
    "          cmap = 'RdPu',\n",
    "          norm = mpl_colors.SymLogNorm(10))\n",
    "cb = plt.colorbar()\n",
    "cb.set_label('passenger count')"
   ]
  },
  {
   "cell_type": "markdown",
   "id": "c0ac7962",
   "metadata": {},
   "source": [
    "Great, this is much better for both the graph. We are now getting an mimic of our scatter plot on the heat map.\n",
    "\n",
    "Now we would create the hist2d function to help us in the later stage"
   ]
  },
  {
   "cell_type": "markdown",
   "id": "dd1e4f25",
   "metadata": {},
   "source": [
    "Grouped data:"
   ]
  },
  {
   "cell_type": "code",
   "execution_count": 75,
   "id": "48b2d3d2",
   "metadata": {},
   "outputs": [
    {
     "data": {
      "text/plain": [
       "array([[331.,   0.,   0.,   0.,   0.,   0.,   0.,   0.,   0.,   0.,   0.,\n",
       "          0.,   0.,   0.,   0.,   0.,   0.,   0.,   0.,   0.],\n",
       "       [  0.,   0.,   0.,   0.,   0.,   0.,   0.,   0.,   0.,   0.,   0.,\n",
       "          0.,   0.,   0.,   0.,   0.,   0.,   0.,   0.,   0.],\n",
       "       [  0.,   0., 436., 460.,   0., 554.,   0.,   0.,   0.,   0.,   0.,\n",
       "          0.,   0.,   0.,   0.,   0.,   0.,   0.,   0.,   0.]])"
      ]
     },
     "execution_count": 75,
     "metadata": {},
     "output_type": "execute_result"
    }
   ],
   "source": [
    "ntrip_distance = 20\n",
    "ntotal_payment = 20\n",
    "\n",
    "hist2d, trip_edges, pay_edges = np.histogram2d(grouped_trip_distance,\n",
    "                                              grouped_total_amount,\n",
    "                                              weights=grouped_passenger_count,\n",
    "                                              bins = [ntrip_distance, ntotal_payment])\n",
    "\n",
    "hist2d[:3]"
   ]
  },
  {
   "cell_type": "markdown",
   "id": "903e9918",
   "metadata": {},
   "source": [
    "Individual data:"
   ]
  },
  {
   "cell_type": "code",
   "execution_count": 76,
   "id": "8f445a74",
   "metadata": {},
   "outputs": [
    {
     "data": {
      "text/plain": [
       "array([[9.257e+03, 3.243e+03, 2.300e+01, 2.000e+00, 2.000e+00, 0.000e+00,\n",
       "        0.000e+00, 0.000e+00, 0.000e+00, 0.000e+00, 0.000e+00, 0.000e+00,\n",
       "        0.000e+00, 0.000e+00, 0.000e+00, 0.000e+00, 0.000e+00, 0.000e+00,\n",
       "        0.000e+00, 0.000e+00],\n",
       "       [8.500e+01, 2.981e+03, 1.290e+02, 2.000e+00, 0.000e+00, 0.000e+00,\n",
       "        0.000e+00, 1.000e+00, 0.000e+00, 0.000e+00, 0.000e+00, 0.000e+00,\n",
       "        0.000e+00, 0.000e+00, 0.000e+00, 0.000e+00, 0.000e+00, 0.000e+00,\n",
       "        0.000e+00, 0.000e+00],\n",
       "       [0.000e+00, 4.160e+02, 4.430e+02, 1.000e+00, 1.000e+00, 1.000e+00,\n",
       "        0.000e+00, 0.000e+00, 0.000e+00, 0.000e+00, 0.000e+00, 0.000e+00,\n",
       "        0.000e+00, 0.000e+00, 0.000e+00, 0.000e+00, 0.000e+00, 0.000e+00,\n",
       "        0.000e+00, 0.000e+00]])"
      ]
     },
     "execution_count": 76,
     "metadata": {},
     "output_type": "execute_result"
    }
   ],
   "source": [
    "ntrip_distance = 20\n",
    "ntotal_payment = 20\n",
    "\n",
    "hist2dI, trip_edges, pay_edges = np.histogram2d(data['trip_distance'],\n",
    "                                              data['total_amount'],\n",
    "                                              weights=data['passenger_count'],\n",
    "                                              bins = [ntrip_distance, ntotal_payment])\n",
    "\n",
    "hist2dI[:3]"
   ]
  },
  {
   "cell_type": "markdown",
   "id": "6df5afdc",
   "metadata": {},
   "source": [
    "Take a look at the min and max for each hist2d array"
   ]
  },
  {
   "cell_type": "code",
   "execution_count": 77,
   "id": "e01bbfc8",
   "metadata": {},
   "outputs": [
    {
     "data": {
      "text/plain": [
       "(2040.0, 0.0, 9257.0, 0.0)"
      ]
     },
     "execution_count": 77,
     "metadata": {},
     "output_type": "execute_result"
    }
   ],
   "source": [
    "hist2d.max(), hist2d.min(), hist2dI.max(), hist2dI.min()"
   ]
  },
  {
   "cell_type": "markdown",
   "id": "f7370cbc",
   "metadata": {},
   "source": [
    "Take a quick look with imshow"
   ]
  },
  {
   "cell_type": "markdown",
   "id": "052c05cf",
   "metadata": {},
   "source": [
    "Grouped data:"
   ]
  },
  {
   "cell_type": "code",
   "execution_count": 78,
   "id": "6f644979",
   "metadata": {},
   "outputs": [
    {
     "name": "stderr",
     "output_type": "stream",
     "text": [
      "/Users/rockywu/opt/anaconda3/envs/DataViz/lib/python3.7/site-packages/ipykernel_launcher.py:1: MatplotlibDeprecationWarning: default base may change from np.e to 10.  To suppress this warning specify the base keyword argument.\n",
      "  \"\"\"Entry point for launching an IPython kernel.\n"
     ]
    },
    {
     "data": {
      "text/plain": [
       "<matplotlib.image.AxesImage at 0x7fce8055bd10>"
      ]
     },
     "execution_count": 78,
     "metadata": {},
     "output_type": "execute_result"
    },
    {
     "data": {
      "image/png": "[encoded data removed]",
      "text/plain": [
       "<Figure size 432x288 with 1 Axes>"
      ]
     },
     "metadata": {
      "needs_background": "light"
     },
     "output_type": "display_data"
    }
   ],
   "source": [
    "plt.imshow(hist2d, cmap='RdPu', norm = mpl_colors.SymLogNorm(10))"
   ]
  },
  {
   "cell_type": "markdown",
   "id": "f5456bd4",
   "metadata": {},
   "source": [
    "Individual Data:"
   ]
  },
  {
   "cell_type": "code",
   "execution_count": 79,
   "id": "b7ddc768",
   "metadata": {},
   "outputs": [
    {
     "name": "stderr",
     "output_type": "stream",
     "text": [
      "/Users/rockywu/opt/anaconda3/envs/DataViz/lib/python3.7/site-packages/ipykernel_launcher.py:1: MatplotlibDeprecationWarning: default base may change from np.e to 10.  To suppress this warning specify the base keyword argument.\n",
      "  \"\"\"Entry point for launching an IPython kernel.\n"
     ]
    },
    {
     "data": {
      "text/plain": [
       "<matplotlib.image.AxesImage at 0x7fce9a5cb990>"
      ]
     },
     "execution_count": 79,
     "metadata": {},
     "output_type": "execute_result"
    },
    {
     "data": {
      "image/png": "[encoded data removed]",
      "text/plain": [
       "<Figure size 432x288 with 1 Axes>"
      ]
     },
     "metadata": {
      "needs_background": "light"
     },
     "output_type": "display_data"
    }
   ],
   "source": [
    "plt.imshow(hist2dI, cmap = 'RdPu', norm = mpl_colors.SymLogNorm(10))"
   ]
  },
  {
   "cell_type": "markdown",
   "id": "4caf325c",
   "metadata": {},
   "source": [
    "So, from the graph above, we can tell that the orientation of the grouped and the individual graphs are a bit wrong. We would want them to rotate 180 degrees, which we could use the Transpose function."
   ]
  },
  {
   "cell_type": "markdown",
   "id": "6ef805d6",
   "metadata": {},
   "source": [
    "Grouped Data:"
   ]
  },
  {
   "cell_type": "code",
   "execution_count": 80,
   "id": "2a3659aa",
   "metadata": {
    "scrolled": false
   },
   "outputs": [
    {
     "name": "stderr",
     "output_type": "stream",
     "text": [
      "/Users/rockywu/opt/anaconda3/envs/DataViz/lib/python3.7/site-packages/ipykernel_launcher.py:1: MatplotlibDeprecationWarning: default base may change from np.e to 10.  To suppress this warning specify the base keyword argument.\n",
      "  \"\"\"Entry point for launching an IPython kernel.\n"
     ]
    },
    {
     "data": {
      "text/plain": [
       "<matplotlib.image.AxesImage at 0x7fce9a5f8750>"
      ]
     },
     "execution_count": 80,
     "metadata": {},
     "output_type": "execute_result"
    },
    {
     "data": {
      "image/png": "[encoded data removed]",
      "text/plain": [
       "<Figure size 432x288 with 1 Axes>"
      ]
     },
     "metadata": {
      "needs_background": "light"
     },
     "output_type": "display_data"
    }
   ],
   "source": [
    "plt.imshow(hist2d.T, cmap='RdPu', norm=mpl_colors.SymLogNorm(10))"
   ]
  },
  {
   "cell_type": "markdown",
   "id": "a4795974",
   "metadata": {},
   "source": [
    "Individual Data:"
   ]
  },
  {
   "cell_type": "code",
   "execution_count": 81,
   "id": "d856380d",
   "metadata": {
    "scrolled": false
   },
   "outputs": [
    {
     "name": "stderr",
     "output_type": "stream",
     "text": [
      "/Users/rockywu/opt/anaconda3/envs/DataViz/lib/python3.7/site-packages/ipykernel_launcher.py:1: MatplotlibDeprecationWarning: default base may change from np.e to 10.  To suppress this warning specify the base keyword argument.\n",
      "  \"\"\"Entry point for launching an IPython kernel.\n"
     ]
    },
    {
     "data": {
      "text/plain": [
       "<matplotlib.image.AxesImage at 0x7fce9a63c290>"
      ]
     },
     "execution_count": 81,
     "metadata": {},
     "output_type": "execute_result"
    },
    {
     "data": {
      "image/png": "[encoded data removed]",
      "text/plain": [
       "<Figure size 432x288 with 1 Axes>"
      ]
     },
     "metadata": {
      "needs_background": "light"
     },
     "output_type": "display_data"
    }
   ],
   "source": [
    "plt.imshow(hist2dI.T, cmap = 'RdPu', norm=mpl_colors.SymLogNorm(10))"
   ]
  },
  {
   "cell_type": "markdown",
   "id": "e0835e93",
   "metadata": {},
   "source": [
    "Now we would incorporate the edges~"
   ]
  },
  {
   "cell_type": "markdown",
   "id": "179dbfa6",
   "metadata": {},
   "source": [
    "Grouped Data:"
   ]
  },
  {
   "cell_type": "code",
   "execution_count": 82,
   "id": "468e795a",
   "metadata": {},
   "outputs": [
    {
     "data": {
      "text/plain": [
       "(1.157520202564748e-05, 0.0)"
      ]
     },
     "execution_count": 82,
     "metadata": {},
     "output_type": "execute_result"
    }
   ],
   "source": [
    "hist2d, trip_edges, pay_edges = np.histogram2d(x=grouped_trip_distance,\n",
    "                                              y=grouped_total_amount,\n",
    "                                              weights=grouped_passenger_count,\n",
    "                                               density = True,\n",
    "                                              bins = [ntrip_distance, ntotal_payment])\n",
    "\n",
    "hist2d.max(), hist2d.min()"
   ]
  },
  {
   "cell_type": "code",
   "execution_count": 83,
   "id": "3202af1b",
   "metadata": {},
   "outputs": [
    {
     "data": {
      "text/plain": [
       "((20, 20), (21,), (21,))"
      ]
     },
     "execution_count": 83,
     "metadata": {},
     "output_type": "execute_result"
    }
   ],
   "source": [
    "hist2d.shape, trip_edges.shape, pay_edges.shape"
   ]
  },
  {
   "cell_type": "code",
   "execution_count": 84,
   "id": "ff47b7a9",
   "metadata": {},
   "outputs": [
    {
     "data": {
      "text/plain": [
       "array([ 919.185,  955.475,  991.765, 1028.055, 1064.345, 1100.635,\n",
       "       1136.925, 1173.215, 1209.505, 1245.795, 1282.085, 1318.375,\n",
       "       1354.665, 1390.955, 1427.245, 1463.535, 1499.825, 1536.115,\n",
       "       1572.405, 1608.695])"
      ]
     },
     "execution_count": 84,
     "metadata": {},
     "output_type": "execute_result"
    }
   ],
   "source": [
    "trip_centers = (trip_edges[:-1] + trip_edges[1:]) / 2\n",
    "trip_centers"
   ]
  },
  {
   "cell_type": "code",
   "execution_count": 85,
   "id": "08cfc20b",
   "metadata": {},
   "outputs": [
    {
     "data": {
      "text/plain": [
       "array([ 4915.28975,  5189.70925,  5464.12875,  5738.54825,  6012.96775,\n",
       "        6287.38725,  6561.80675,  6836.22625,  7110.64575,  7385.06525,\n",
       "        7659.48475,  7933.90425,  8208.32375,  8482.74325,  8757.16275,\n",
       "        9031.58225,  9306.00175,  9580.42125,  9854.84075, 10129.26025])"
      ]
     },
     "execution_count": 85,
     "metadata": {},
     "output_type": "execute_result"
    }
   ],
   "source": [
    "pay_centers = (pay_edges[:-1] + pay_edges[1:]) / 2\n",
    "pay_centers"
   ]
  },
  {
   "cell_type": "code",
   "execution_count": 86,
   "id": "8e6f0948",
   "metadata": {},
   "outputs": [
    {
     "data": {
      "text/plain": [
       "(919.185, 1608.695, 4915.28975, 10129.26025)"
      ]
     },
     "execution_count": 86,
     "metadata": {},
     "output_type": "execute_result"
    }
   ],
   "source": [
    "trip_centers.min(), trip_centers.max(), pay_centers.min(), pay_centers.max()"
   ]
  },
  {
   "cell_type": "code",
   "execution_count": 87,
   "id": "77d31e4c",
   "metadata": {},
   "outputs": [
    {
     "name": "stdout",
     "output_type": "stream",
     "text": [
      "[ 919.185   953.6605  988.136  1022.6115 1057.087  1091.5625 1126.038\n",
      " 1160.5135 1194.989  1229.4645 1263.94   1298.4155 1332.891  1367.3665\n",
      " 1401.842  1436.3175 1470.793  1505.2685 1539.744  1574.2195 1608.695 ] (21,)\n",
      "[ 4915.28975   5175.988275  5436.6868    5697.385325  5958.08385\n",
      "  6218.782375  6479.4809    6740.179425  7000.87795   7261.576475\n",
      "  7522.275     7782.973525  8043.67205   8304.370575  8565.0691\n",
      "  8825.767625  9086.46615   9347.164675  9607.8632    9868.561725\n",
      " 10129.26025 ] (21,)\n"
     ]
    }
   ],
   "source": [
    "trip_bins = np.linspace(trip_centers.min(), trip_centers.max(), ntrip_distance + 1)\n",
    "pay_bins = np.linspace(pay_centers.min(), pay_centers.max(), ntotal_payment + 1)\n",
    "print(trip_bins, trip_bins.shape)\n",
    "print(pay_bins, pay_bins.shape)"
   ]
  },
  {
   "cell_type": "code",
   "execution_count": 88,
   "id": "43af2886",
   "metadata": {},
   "outputs": [
    {
     "data": {
      "text/plain": [
       "(2040.0, 0.0)"
      ]
     },
     "execution_count": 88,
     "metadata": {},
     "output_type": "execute_result"
    }
   ],
   "source": [
    "hist2d, trip_edges, pay_edges = np.histogram2d(grouped_trip_distance,\n",
    "                                              grouped_total_amount,\n",
    "                                              weights=grouped_passenger_count,\n",
    "                                              bins = [trip_bins, pay_bins])\n",
    "\n",
    "hist2d.max(), hist2d.min()"
   ]
  },
  {
   "cell_type": "code",
   "execution_count": 89,
   "id": "73c1bead",
   "metadata": {},
   "outputs": [],
   "source": [
    "trip_centers = (trip_edges[:-1] + trip_edges[1:]) / 2\n",
    "pay_centers = (pay_edges[:-1] + pay_edges[1:]) / 2"
   ]
  },
  {
   "cell_type": "code",
   "execution_count": 90,
   "id": "32472a95",
   "metadata": {},
   "outputs": [],
   "source": [
    "tripmax = trip_centers.max()\n",
    "tripmin = trip_centers.min()\n",
    "paymax = pay_centers.max()\n",
    "paymin = pay_centers.min()"
   ]
  },
  {
   "cell_type": "code",
   "execution_count": 91,
   "id": "3c35556f",
   "metadata": {},
   "outputs": [],
   "source": [
    "hist2d = hist2d.T"
   ]
  },
  {
   "cell_type": "code",
   "execution_count": 92,
   "id": "7bc38432",
   "metadata": {},
   "outputs": [
    {
     "data": {
      "text/plain": [
       "(0.0, 2040.0, 320.0)"
      ]
     },
     "execution_count": 92,
     "metadata": {},
     "output_type": "execute_result"
    }
   ],
   "source": [
    "hist2d.min(), hist2d.max(), hist2d[hist2d>0].min()"
   ]
  },
  {
   "cell_type": "code",
   "execution_count": 93,
   "id": "8d825ff3",
   "metadata": {},
   "outputs": [
    {
     "name": "stderr",
     "output_type": "stream",
     "text": [
      "/Users/rockywu/opt/anaconda3/envs/DataViz/lib/python3.7/site-packages/ipykernel_launcher.py:1: RuntimeWarning: divide by zero encountered in log10\n",
      "  \"\"\"Entry point for launching an IPython kernel.\n"
     ]
    },
    {
     "data": {
      "text/plain": [
       "-inf"
      ]
     },
     "execution_count": 93,
     "metadata": {},
     "output_type": "execute_result"
    }
   ],
   "source": [
    "np.log10(hist2d).min()"
   ]
  },
  {
   "cell_type": "code",
   "execution_count": 94,
   "id": "119ba21c",
   "metadata": {},
   "outputs": [
    {
     "data": {
      "text/plain": [
       "array([[       nan,        nan,        nan,        nan,        nan,\n",
       "               nan,        nan,        nan,        nan,        nan,\n",
       "               nan,        nan,        nan,        nan,        nan,\n",
       "               nan,        nan,        nan,        nan,        nan],\n",
       "       [       nan,        nan, 2.63948649, 2.50514998,        nan,\n",
       "               nan,        nan,        nan,        nan,        nan,\n",
       "               nan,        nan,        nan,        nan,        nan,\n",
       "               nan,        nan,        nan,        nan,        nan],\n",
       "       [       nan,        nan,        nan,        nan,        nan,\n",
       "        2.62634037,        nan,        nan,        nan,        nan,\n",
       "               nan,        nan,        nan,        nan,        nan,\n",
       "               nan,        nan,        nan,        nan,        nan]])"
      ]
     },
     "execution_count": 94,
     "metadata": {},
     "output_type": "execute_result"
    }
   ],
   "source": [
    "hist2d[hist2d <= 0] = np.nan\n",
    "hist2d = np.log10(hist2d)\n",
    "hist2d[:3]"
   ]
  },
  {
   "cell_type": "markdown",
   "id": "9c2d10ee",
   "metadata": {},
   "source": [
    "#### Individual Data:"
   ]
  },
  {
   "cell_type": "code",
   "execution_count": 95,
   "id": "f81ca9de",
   "metadata": {},
   "outputs": [
    {
     "data": {
      "text/plain": [
       "(0.015745700880498214, 0.0)"
      ]
     },
     "execution_count": 95,
     "metadata": {},
     "output_type": "execute_result"
    }
   ],
   "source": [
    "Ihist2d, Itrip_edges, Ipay_edges = np.histogram2d(x=data['trip_distance'],\n",
    "                                              y=data['total_amount'],\n",
    "                                              weights=data['passenger_count'],\n",
    "                                               density = True,\n",
    "                                              bins = [ntrip_distance, ntotal_payment])\n",
    "\n",
    "Ihist2d.max(), Ihist2d.min()"
   ]
  },
  {
   "cell_type": "markdown",
   "id": "002e1716",
   "metadata": {},
   "source": [
    "Take a look at the shape~"
   ]
  },
  {
   "cell_type": "code",
   "execution_count": 96,
   "id": "56fb55ad",
   "metadata": {},
   "outputs": [
    {
     "data": {
      "text/plain": [
       "((20, 20), (21,), (21,))"
      ]
     },
     "execution_count": 96,
     "metadata": {},
     "output_type": "execute_result"
    }
   ],
   "source": [
    "Ihist2d.shape, Itrip_edges.shape, Ipay_edges.shape"
   ]
  },
  {
   "cell_type": "markdown",
   "id": "86edb331",
   "metadata": {},
   "source": [
    "We have one excessive entry in the two edges array to match a 20 by 20 heatmap. We would need to calculate the centers from it."
   ]
  },
  {
   "cell_type": "code",
   "execution_count": 97,
   "id": "b7181acc",
   "metadata": {},
   "outputs": [
    {
     "data": {
      "text/plain": [
       "array([ 1.26125,  3.76375,  6.26625,  8.76875, 11.27125, 13.77375,\n",
       "       16.27625, 18.77875, 21.28125, 23.78375, 26.28625, 28.78875,\n",
       "       31.29125, 33.79375, 36.29625, 38.79875, 41.30125, 43.80375,\n",
       "       46.30625, 48.80875])"
      ]
     },
     "execution_count": 97,
     "metadata": {},
     "output_type": "execute_result"
    }
   ],
   "source": [
    "Itrip_centers = (Itrip_edges[:-1] + Itrip_edges[1:]) / 2\n",
    "Ipay_centers = (Ipay_edges[:-1] + Ipay_edges[1:]) / 2\n",
    "Itrip_centers"
   ]
  },
  {
   "cell_type": "code",
   "execution_count": 98,
   "id": "c0d68cc8",
   "metadata": {},
   "outputs": [
    {
     "data": {
      "text/plain": [
       "array([  6.9375,  20.2125,  33.4875,  46.7625,  60.0375,  73.3125,\n",
       "        86.5875,  99.8625, 113.1375, 126.4125, 139.6875, 152.9625,\n",
       "       166.2375, 179.5125, 192.7875, 206.0625, 219.3375, 232.6125,\n",
       "       245.8875, 259.1625])"
      ]
     },
     "execution_count": 98,
     "metadata": {},
     "output_type": "execute_result"
    }
   ],
   "source": [
    "Ipay_centers"
   ]
  },
  {
   "cell_type": "markdown",
   "id": "acaf144e",
   "metadata": {},
   "source": [
    "We could bin the edges with the data from the centers"
   ]
  },
  {
   "cell_type": "code",
   "execution_count": 99,
   "id": "2c01532b",
   "metadata": {},
   "outputs": [
    {
     "name": "stdout",
     "output_type": "stream",
     "text": [
      "[ 1.26125   3.638625  6.016     8.393375 10.77075  13.148125 15.5255\n",
      " 17.902875 20.28025  22.657625 25.035    27.412375 29.78975  32.167125\n",
      " 34.5445   36.921875 39.29925  41.676625 44.054    46.431375 48.80875 ] (21,)\n",
      "[  6.9375   19.54875  32.16     44.77125  57.3825   69.99375  82.605\n",
      "  95.21625 107.8275  120.43875 133.05    145.66125 158.2725  170.88375\n",
      " 183.495   196.10625 208.7175  221.32875 233.94    246.55125 259.1625 ] (21,)\n"
     ]
    }
   ],
   "source": [
    "Itrip_bins = np.linspace(1.26125, 48.80875, ntrip_distance+1)\n",
    "Ipay_bins = np.linspace(6.9375, 259.1625, ntotal_payment+1)\n",
    "print(Itrip_bins, Itrip_bins.shape)\n",
    "print(Ipay_bins, Ipay_bins.shape)"
   ]
  },
  {
   "cell_type": "markdown",
   "id": "7f8876ba",
   "metadata": {},
   "source": [
    "Now, regenerate our histogram"
   ]
  },
  {
   "cell_type": "code",
   "execution_count": 100,
   "id": "40b4caee",
   "metadata": {},
   "outputs": [],
   "source": [
    "Ihist2d, Itrip_edges, Ipay_edges = np.histogram2d(data['trip_distance'],\n",
    "                                                 data['total_amount'],\n",
    "                                                 weights=data['passenger_count'],\n",
    "                                                 bins = [Itrip_bins, Ipay_bins])"
   ]
  },
  {
   "cell_type": "markdown",
   "id": "fbbedddb",
   "metadata": {},
   "source": [
    "Get our edges~"
   ]
  },
  {
   "cell_type": "code",
   "execution_count": 101,
   "id": "8f9a8a21",
   "metadata": {},
   "outputs": [],
   "source": [
    "Itrip_centers = (Itrip_edges[:-1] + Itrip_edges[1:]) / 2\n",
    "Ipay_centers = (Ipay_edges[:-1] + Ipay_edges[1:]) / 2"
   ]
  },
  {
   "cell_type": "code",
   "execution_count": 102,
   "id": "8febb5a1",
   "metadata": {},
   "outputs": [],
   "source": [
    "Itripmin = Itrip_centers.min()\n",
    "Itripmax = Itrip_centers.max()\n",
    "Ipaymin = Ipay_centers.min()\n",
    "Ipaymax = Ipay_centers.max()"
   ]
  },
  {
   "cell_type": "markdown",
   "id": "b3ea2329",
   "metadata": {},
   "source": [
    "Transpose our data"
   ]
  },
  {
   "cell_type": "code",
   "execution_count": 103,
   "id": "b5e43c24",
   "metadata": {},
   "outputs": [],
   "source": [
    "Ihist2d = Ihist2d.T"
   ]
  },
  {
   "cell_type": "markdown",
   "id": "30bad152",
   "metadata": {},
   "source": [
    "Check the range of our plot"
   ]
  },
  {
   "cell_type": "code",
   "execution_count": 104,
   "id": "944d845a",
   "metadata": {
    "scrolled": true
   },
   "outputs": [
    {
     "data": {
      "text/plain": [
       "(0.0, 7526.0, 1.0)"
      ]
     },
     "execution_count": 104,
     "metadata": {},
     "output_type": "execute_result"
    }
   ],
   "source": [
    "Ihist2d.min(), Ihist2d.max(), Ihist2d[Ihist2d>0].min()"
   ]
  },
  {
   "cell_type": "markdown",
   "id": "d06dd277",
   "metadata": {},
   "source": [
    "Now, this is still considered pretty big, so we would use the log for scaling"
   ]
  },
  {
   "cell_type": "code",
   "execution_count": 105,
   "id": "d90f8a9f",
   "metadata": {
    "scrolled": true
   },
   "outputs": [
    {
     "name": "stderr",
     "output_type": "stream",
     "text": [
      "/Users/rockywu/opt/anaconda3/envs/DataViz/lib/python3.7/site-packages/ipykernel_launcher.py:1: RuntimeWarning: divide by zero encountered in log10\n",
      "  \"\"\"Entry point for launching an IPython kernel.\n"
     ]
    },
    {
     "data": {
      "text/plain": [
       "-inf"
      ]
     },
     "execution_count": 105,
     "metadata": {},
     "output_type": "execute_result"
    }
   ],
   "source": [
    "np.log10(Ihist2d).min()"
   ]
  },
  {
   "cell_type": "markdown",
   "id": "57cb7965",
   "metadata": {},
   "source": [
    "Alright, then we would convert the values smaller than 0 to nan. Then we would take the log scaling to prevent mathematical errors"
   ]
  },
  {
   "cell_type": "code",
   "execution_count": 106,
   "id": "bece517b",
   "metadata": {},
   "outputs": [
    {
     "data": {
      "text/plain": [
       "array([[3.87656421, 2.38738983,        nan,        nan,        nan,\n",
       "        0.        ,        nan,        nan,        nan,        nan,\n",
       "               nan,        nan,        nan,        nan,        nan,\n",
       "               nan,        nan,        nan,        nan,        nan],\n",
       "       [2.8876173 , 3.08206693, 2.60745502, 1.81954394, 0.30103   ,\n",
       "               nan,        nan,        nan,        nan,        nan,\n",
       "               nan,        nan,        nan,        nan,        nan,\n",
       "               nan,        nan,        nan,        nan,        nan],\n",
       "       [0.77815125, 1.53147892, 2.2121876 , 2.36735592, 2.01703334,\n",
       "        1.38021124, 0.        ,        nan,        nan,        nan,\n",
       "               nan,        nan,        nan,        nan,        nan,\n",
       "               nan,        nan,        nan,        nan,        nan]])"
      ]
     },
     "execution_count": 106,
     "metadata": {},
     "output_type": "execute_result"
    }
   ],
   "source": [
    "Ihist2d[Ihist2d <= 0] = np.nan\n",
    "Ihist2d = np.log10(Ihist2d)\n",
    "Ihist2d[:3]"
   ]
  },
  {
   "cell_type": "markdown",
   "id": "499dcfc4",
   "metadata": {},
   "source": [
    "### Convert the binning and reshaping into a function"
   ]
  },
  {
   "cell_type": "markdown",
   "id": "92b62eb1",
   "metadata": {},
   "source": [
    "Great, the above was the experiment towards the data cleaning. Now we could incorporate all the above into a huge function"
   ]
  },
  {
   "cell_type": "markdown",
   "id": "8e0566d6",
   "metadata": {},
   "source": [
    "Grouped Data:"
   ]
  },
  {
   "cell_type": "code",
   "execution_count": 107,
   "id": "2b3d5254",
   "metadata": {},
   "outputs": [],
   "source": [
    "def generate_histogram_from_trip_pay(data, ntrip=20, npay=20, tripmin=tripmin, tripmax=tripmax,\n",
    "                                     paymin=paymin, paymax=paymax,\n",
    "                                     takeLog=True):\n",
    "    trip_bins = np.linspace(tripmin, tripmax, ntrip+1)\n",
    "    pay_bins = np.linspace(paymin, paymax, npay+1)\n",
    "    hist2d, trip_edges, pay_edges = np.histogram2d(grouped_trip_distance,\n",
    "                                                  grouped_total_amount,\n",
    "                                                  weights=grouped_passenger_count,\n",
    "                                                  bins = [trip_bins, pay_bins])\n",
    "    hist2d = hist2d.T\n",
    "    if takeLog:\n",
    "        hist2d[hist2d <= 0] = np.nan # set zeros to NaNs\n",
    "        # then take log\n",
    "        hist2d = np.log10(hist2d)\n",
    "        trip_centers = (trip_edges[:-1] + trip_edges[1:]) / 2\n",
    "        pay_centers = (pay_edges[:-1] + pay_edges[1:]) / 2\n",
    "    return hist2d, trip_centers, pay_centers, trip_edges, pay_edges"
   ]
  },
  {
   "cell_type": "markdown",
   "id": "bf5597d6",
   "metadata": {},
   "source": [
    "Individual Data:"
   ]
  },
  {
   "cell_type": "code",
   "execution_count": 108,
   "id": "cc6b2dee",
   "metadata": {},
   "outputs": [],
   "source": [
    "def individual_generate_histogram_from_trip_pay(data, ntrip=20, npay=20,\n",
    "                                               tripmin=Itripmin, tripmax=Itripmax,\n",
    "                                               paymin=Ipaymin,paymax=Ipaymax,\n",
    "                                                takeLog=True):\n",
    "    trip_bins = np.linspace(tripmin, tripmax, ntrip+1)\n",
    "    pay_bins = np.linspace(paymin, paymax, npay+1)\n",
    "    hist2d, trip_edges, pay_edges = np.histogram2d(data['trip_distance'],\n",
    "                                                  data['total_amount'],\n",
    "                                                  weights=data['passenger_count'],\n",
    "                                                  bins = [trip_bins, pay_bins])\n",
    "    hist2d = hist2d.T\n",
    "    if takeLog:\n",
    "        hist2d[hist2d <= 0] = np.nan # set zeros to NaNs\n",
    "        # then take log\n",
    "        hist2d = np.log10(hist2d)\n",
    "        trip_centers = (trip_edges[:-1] + trip_edges[1:]) / 2\n",
    "        pay_centers = (pay_edges[:-1] + pay_edges[1:]) / 2\n",
    "    return hist2d, trip_centers, pay_centers, trip_edges, pay_edges"
   ]
  },
  {
   "cell_type": "markdown",
   "id": "4be67db0",
   "metadata": {},
   "source": [
    "Now we would just use the function"
   ]
  },
  {
   "cell_type": "code",
   "execution_count": 109,
   "id": "2adce6a6",
   "metadata": {},
   "outputs": [],
   "source": [
    "hist2d, trip_centers, pay_centers, trip_edges, pay_edges = generate_histogram_from_trip_pay(data)"
   ]
  },
  {
   "cell_type": "code",
   "execution_count": 110,
   "id": "f3ed5f19",
   "metadata": {},
   "outputs": [],
   "source": [
    "Ihist2d, Itrip_centers, Ipay_centers, Itrip_edges, Ipay_edges = individual_generate_histogram_from_trip_pay(data)"
   ]
  },
  {
   "cell_type": "markdown",
   "id": "432a8aac",
   "metadata": {},
   "source": [
    "Good, finally we can take a look at the heatmap"
   ]
  },
  {
   "cell_type": "code",
   "execution_count": 111,
   "id": "dd9c683b",
   "metadata": {
    "scrolled": false
   },
   "outputs": [
    {
     "data": {
      "application/vnd.jupyter.widget-view+json": {
       "model_id": "9d626304cfcb474686a5c0b9a747bb38",
       "version_major": 2,
       "version_minor": 0
      },
      "text/plain": [
       "Figure(axes=[ColorAxis(orientation='vertical', scale=ColorScale(max=3.1280760126687155, min=2.505149978319906,…"
      ]
     },
     "metadata": {},
     "output_type": "display_data"
    }
   ],
   "source": [
    "col_sc = bqplot.ColorScale(scheme=\"RdPu\",\n",
    "                          min = np.nanmin(hist2d),\n",
    "                          max = np.nanmax(hist2d))\n",
    "x_sc = bqplot.LinearScale()\n",
    "y_sc = bqplot.LinearScale()\n",
    "\n",
    "# create axis\n",
    "c_ax = bqplot.ColorAxis(scale=col_sc, \n",
    "                        orientation='vertical', \n",
    "                       side = 'right')\n",
    "x_ax = bqplot.Axis(scale = x_sc, label='Trip Distance')\n",
    "y_ax = bqplot.Axis(scale = y_sc, \n",
    "                   label = 'Total Payment', \n",
    "                  orientation='vertical',\n",
    "                  label_offset = \"45px\")\n",
    "\n",
    "heat_map = bqplot.GridHeatMap(color = hist2d,\n",
    "                             row = pay_centers,\n",
    "                             column = trip_centers,\n",
    "                             scales = {'color':col_sc,\n",
    "                                      'row':y_sc,\n",
    "                                      'column':x_sc},\n",
    "                             interactions = {'click':'select'},\n",
    "                             anchor_style = {'fill':'blue'},\n",
    "                             selected_style = {'opacity':1.0},\n",
    "                             unselected_style = {'opacity':1.0})\n",
    "\n",
    "# show the fig\n",
    "fig = bqplot.Figure(marks = [heat_map], axes = [c_ax, y_ax, x_ax])\n",
    "fig"
   ]
  },
  {
   "cell_type": "code",
   "execution_count": 112,
   "id": "ac857724",
   "metadata": {
    "scrolled": false
   },
   "outputs": [
    {
     "data": {
      "application/vnd.jupyter.widget-view+json": {
       "model_id": "32df927061a24e5b89d68e2d592ddb6d",
       "version_major": 2,
       "version_minor": 0
      },
      "text/plain": [
       "Figure(axes=[ColorAxis(orientation='vertical', scale=ColorScale(max=3.476686742945645, min=0.0, scheme='RdPu')…"
      ]
     },
     "metadata": {},
     "output_type": "display_data"
    }
   ],
   "source": [
    "# (1) add scales - colors, x & y\n",
    "col_sc = bqplot.ColorScale(scheme=\"RdPu\", \n",
    "                           min=np.nanmin(Ihist2d), \n",
    "                           max=np.nanmax(Ihist2d))\n",
    "x_sc = bqplot.LinearScale()\n",
    "y_sc = bqplot.LinearScale()\n",
    "\n",
    "# (2) create axis - for colors, x & y\n",
    "c_ax = bqplot.ColorAxis(scale = col_sc, \n",
    "                        orientation = 'vertical', \n",
    "                        side = 'right')\n",
    "\n",
    "x_ax = bqplot.Axis(scale = x_sc, label='Trip Distance')\n",
    "y_ax = bqplot.Axis(scale = y_sc, \n",
    "                   label = 'Total Payment', \n",
    "                  orientation='vertical',\n",
    "                  label_offset = \"45px\")\n",
    "\n",
    "# (3) Marks\n",
    "heat_map = bqplot.GridHeatMap(color = Ihist2d,\n",
    "                              row = Ipay_centers, \n",
    "                              column = Itrip_centers,\n",
    "                              scales = {'color': col_sc,\n",
    "                                        'row': y_sc,\n",
    "                                        'column': x_sc},\n",
    "                              interactions = {'click': 'select'},\n",
    "                              anchor_style = {'fill':'blue'}, \n",
    "                              selected_style = {'opacity': 1.0},\n",
    "                              unselected_style = {'opacity': 1.0})\n",
    "\n",
    "# (4) interactivity - none yet\n",
    "\n",
    "# (5) put it all together in a figure\n",
    "fig = bqplot.Figure(marks = [heat_map], axes = [c_ax, y_ax, x_ax])\n",
    "fig"
   ]
  },
  {
   "cell_type": "markdown",
   "id": "c997dff1",
   "metadata": {},
   "source": [
    "Finally, we can build up a dashboard"
   ]
  },
  {
   "cell_type": "code",
   "execution_count": 113,
   "id": "3890577b",
   "metadata": {
    "scrolled": false
   },
   "outputs": [
    {
     "data": {
      "application/vnd.jupyter.widget-view+json": {
       "model_id": "7a07d6dc1be24c3d830d3fb6c4a2ba11",
       "version_major": 2,
       "version_minor": 0
      },
      "text/plain": [
       "VBox(children=(Label(value=''), Figure(axes=[ColorAxis(orientation='vertical', scale=ColorScale(max=3.12807601…"
      ]
     },
     "metadata": {},
     "output_type": "display_data"
    }
   ],
   "source": [
    "# scales\n",
    "col_sc = bqplot.ColorScale(scheme=\"RdPu\",\n",
    "                          min = np.nanmin(hist2d),\n",
    "                          max = np.nanmax(hist2d))\n",
    "x_sc = bqplot.LinearScale()\n",
    "y_sc = bqplot.LinearScale()\n",
    "\n",
    "# create axis\n",
    "c_ax = bqplot.ColorAxis(scale=col_sc, \n",
    "                        orientation='vertical', \n",
    "                       side = 'right')\n",
    "x_ax = bqplot.Axis(scale = x_sc, label='Trip Distance')\n",
    "y_ax = bqplot.Axis(scale = y_sc, \n",
    "                   label = 'Total Payment', \n",
    "                  orientation='vertical',\n",
    "                  label_offset = \"45px\")\n",
    "\n",
    "# marks\n",
    "heat_map = bqplot.GridHeatMap(color = hist2d,\n",
    "                             row = pay_centers,\n",
    "                             column = trip_centers,\n",
    "                             scales = {'color':col_sc,\n",
    "                                      'row':y_sc,\n",
    "                                      'column':x_sc},\n",
    "                             interactions = {'click':'select'},\n",
    "                             anchor_style = {'fill':'blue'},\n",
    "                             selected_style = {'opacity':1.0},\n",
    "                             unselected_style = {'opacity':1.0})\n",
    "\n",
    "# interaction:\n",
    "mySelectedLabel = ipywidgets.Label()\n",
    "def get_data_value(change):\n",
    "    if len(change['owner'].selected) == 1:\n",
    "        i, j = change['owner'].selected[0]\n",
    "        v = hist2d[i, j]\n",
    "        mySelectedLabel.value = \"Passenger Count in log \" + str(v)\n",
    "        \n",
    "heat_map.observe(get_data_value, 'selected')\n",
    "\n",
    "# show the fig\n",
    "fig = bqplot.Figure(marks = [heat_map], axes = [c_ax, y_ax, x_ax])\n",
    "myDashboard = ipywidgets.VBox([mySelectedLabel, fig])\n",
    "myDashboard"
   ]
  },
  {
   "cell_type": "code",
   "execution_count": 114,
   "id": "3eb46285",
   "metadata": {
    "scrolled": false
   },
   "outputs": [
    {
     "data": {
      "application/vnd.jupyter.widget-view+json": {
       "model_id": "30a65bfc22384c6d8d7f647755e10b05",
       "version_major": 2,
       "version_minor": 0
      },
      "text/plain": [
       "VBox(children=(Label(value=''), Figure(axes=[ColorAxis(orientation='vertical', scale=ColorScale(max=3.47668674…"
      ]
     },
     "metadata": {},
     "output_type": "display_data"
    }
   ],
   "source": [
    "# scales\n",
    "col_sc = bqplot.ColorScale(scheme=\"RdPu\",\n",
    "                          min = np.nanmin(Ihist2d),\n",
    "                          max = np.nanmax(Ihist2d))\n",
    "x_sc = bqplot.LinearScale()\n",
    "y_sc = bqplot.LinearScale()\n",
    "\n",
    "# create axis\n",
    "c_ax = bqplot.ColorAxis(scale=col_sc, \n",
    "                        orientation='vertical', \n",
    "                       side = 'right')\n",
    "x_ax = bqplot.Axis(scale = x_sc, label='Trip Distance')\n",
    "y_ax = bqplot.Axis(scale = y_sc, \n",
    "                   label = 'Total Payment', \n",
    "                  orientation='vertical',\n",
    "                  label_offset = \"45px\")\n",
    "\n",
    "# marks\n",
    "heat_map = bqplot.GridHeatMap(color = Ihist2d,\n",
    "                             row = Ipay_centers,\n",
    "                             column = Itrip_centers,\n",
    "                             scales = {'color':col_sc,\n",
    "                                      'row':y_sc,\n",
    "                                      'column':x_sc},\n",
    "                             interactions = {'click':'select'},\n",
    "                             anchor_style = {'fill':'blue'},\n",
    "                             selected_style = {'opacity':1.0},\n",
    "                             unselected_style = {'opacity':1.0})\n",
    "\n",
    "# interaction:\n",
    "mySelectedLabel = ipywidgets.Label()\n",
    "def get_data_value(change):\n",
    "    if len(change['owner'].selected) == 1:\n",
    "        i, j = change['owner'].selected[0]\n",
    "        v = Ihist2d[i, j]\n",
    "        mySelectedLabel.value = \"Passenger Count in log \" + str(v)\n",
    "        \n",
    "heat_map.observe(get_data_value, 'selected')\n",
    "\n",
    "# show the fig\n",
    "fig = bqplot.Figure(marks = [heat_map], axes = [c_ax, y_ax, x_ax])\n",
    "myDashboard = ipywidgets.VBox([mySelectedLabel, fig])\n",
    "myDashboard"
   ]
  },
  {
   "cell_type": "markdown",
   "id": "3da0b2b7",
   "metadata": {},
   "source": [
    "---"
   ]
  },
  {
   "cell_type": "markdown",
   "id": "5c1daefd",
   "metadata": {},
   "source": [
    "## Scatter plot + heatmap + DashBoard - Grouped\n",
    "\n",
    "Great, now we could connect our graphs together"
   ]
  },
  {
   "cell_type": "code",
   "execution_count": 115,
   "id": "c2963130",
   "metadata": {},
   "outputs": [],
   "source": [
    "# Create the label\n",
    "mySelectedLabel = ipywidgets.Label()"
   ]
  },
  {
   "cell_type": "markdown",
   "id": "28fe46b0",
   "metadata": {},
   "source": [
    "### Heat Map first~"
   ]
  },
  {
   "cell_type": "code",
   "execution_count": 116,
   "id": "4c15ccc7",
   "metadata": {},
   "outputs": [],
   "source": [
    "# scales\n",
    "col_sc = bqplot.ColorScale(scheme=\"RdPu\",\n",
    "                          min = np.nanmin(hist2d),\n",
    "                          max = np.nanmax(hist2d))\n",
    "x_sc = bqplot.LinearScale()\n",
    "y_sc = bqplot.LinearScale()\n",
    "\n",
    "# create axis\n",
    "c_ax = bqplot.ColorAxis(scale=col_sc, \n",
    "                        orientation='vertical', \n",
    "                       side = 'right')\n",
    "x_ax = bqplot.Axis(scale = x_sc, label='Trip Distance')\n",
    "y_ax = bqplot.Axis(scale = y_sc, \n",
    "                   label = 'Total Payment', \n",
    "                  orientation='vertical',\n",
    "                  label_offset = \"45px\")\n",
    "\n",
    "# marks\n",
    "heat_map = bqplot.GridHeatMap(color = hist2d,\n",
    "                             row = pay_centers,\n",
    "                             column = trip_centers,\n",
    "                             scales = {'color':col_sc,\n",
    "                                      'row':y_sc,\n",
    "                                      'column':x_sc},\n",
    "                             interactions = {'click':'select'},\n",
    "                             anchor_style = {'fill':'blue'},\n",
    "                             selected_style = {'opacity':1.0},\n",
    "                             unselected_style = {'opacity':1.0})"
   ]
  },
  {
   "cell_type": "markdown",
   "id": "cb0f3a0e",
   "metadata": {},
   "source": [
    "### Then scatter plot"
   ]
  },
  {
   "cell_type": "code",
   "execution_count": 117,
   "id": "0140063b",
   "metadata": {},
   "outputs": [
    {
     "data": {
      "text/plain": [
       "(Timestamp('2021-01-01 00:00:00'), Timestamp('2021-01-31 00:00:00'))"
      ]
     },
     "execution_count": 117,
     "metadata": {},
     "output_type": "execute_result"
    }
   ],
   "source": [
    "data['pickup_date'].min(), data['pickup_date'].max()"
   ]
  },
  {
   "cell_type": "code",
   "execution_count": 118,
   "id": "a12d2c09",
   "metadata": {},
   "outputs": [
    {
     "data": {
      "text/plain": [
       "17518    1.0\n",
       "5389     1.0\n",
       "20111    1.0\n",
       "6908     2.0\n",
       "10232    1.0\n",
       "        ... \n",
       "4718     1.0\n",
       "12622    1.0\n",
       "13643    1.0\n",
       "7178     1.0\n",
       "9437     1.0\n",
       "Name: passenger_count, Length: 219, dtype: float64"
      ]
     },
     "execution_count": 118,
     "metadata": {},
     "output_type": "execute_result"
    }
   ],
   "source": [
    "data[data['pickup_date'] == '2021-01-01']['passenger_count']"
   ]
  },
  {
   "cell_type": "code",
   "execution_count": 119,
   "id": "5e391ec6",
   "metadata": {},
   "outputs": [
    {
     "data": {
      "application/vnd.jupyter.widget-view+json": {
       "model_id": "534911bcbbf24379a03c90016320f4f3",
       "version_major": 2,
       "version_minor": 0
      },
      "text/plain": [
       "Figure(axes=[Axis(label='Date', scale=DateScale()), Axis(label='Passenger Count in Log', orientation='vertical…"
      ]
     },
     "metadata": {},
     "output_type": "display_data"
    }
   ],
   "source": [
    "# scales\n",
    "x_scl = bqplot.DateScale()\n",
    "y_scl = bqplot.LogScale()\n",
    "\n",
    "# axis\n",
    "ax_xcl = bqplot.Axis(label = \"Date\", scale=x_scl)\n",
    "ax_ycl = bqplot.Axis(label = 'Passenger Count in Log', scale = y_scl,\n",
    "                    orientation = 'vertical', side = 'left')\n",
    "\n",
    "# Start with an default data - just randomly picked one\n",
    "i, j = 19, 0\n",
    "trips = [trip_edges[j], trip_edges[j+1]]\n",
    "pays = [pay_edges[i], pay_edges[i+1]]\n",
    "pass_scatt = bqplot.Scatter(x=grouped_date,\n",
    "                               y=grouped_passenger_count,\n",
    "                               scales = {'x':x_scl, 'y':y_scl})\n",
    "\n",
    "fig = bqplot.Figure(marks = [pass_scatt], axes = [ax_xcl, ax_ycl])\n",
    "fig"
   ]
  },
  {
   "cell_type": "markdown",
   "id": "a98b34e0",
   "metadata": {},
   "source": [
    "Define the interaction function~"
   ]
  },
  {
   "cell_type": "code",
   "execution_count": 120,
   "id": "8044abe8",
   "metadata": {},
   "outputs": [],
   "source": [
    "def get_data_value(change):\n",
    "    if len(change['owner'].selected) == 1:\n",
    "        i, j = change['owner'].selected[0]\n",
    "        v = hist2d[i, j]\n",
    "        mySelectedLabel.value = \"Passenger Count \" + str(v)\n",
    "        trips = [trip_edges[j], trip_edges[j+1]]\n",
    "        pays = [pay_edges[i], pay_edges[i+1]]\n",
    "        region_mask = ((data['total_amount'] >= pays[0]) & (data['total_amount']<=pays[1]) &\\\n",
    "                    (data['trip_distance'] >= trips[0]) & (data['trip_distance']<=trips[1]) )\n",
    "        # print(data['pickup_date'][region_mask])\n",
    "        pass_scatt = bqplot.Scatter(x=data['pickup_date'][region_mask],\n",
    "                               y=data['passenger_count'][region_mask],\n",
    "                               scales = {'x':x_scl, 'y':y_scl})\n",
    "        \n",
    "heat_map.observe(get_data_value, 'selected')"
   ]
  },
  {
   "cell_type": "code",
   "execution_count": 121,
   "id": "f25c21d3",
   "metadata": {},
   "outputs": [],
   "source": [
    "# (5) create figures\n",
    "fig_heatmap = bqplot.Figure(marks = [heat_map], axes = [c_ax, y_ax, x_ax])\n",
    "fig_pass = bqplot.Figure(marks = [pass_scatt], axes = [ax_xcl, ax_ycl])"
   ]
  },
  {
   "cell_type": "code",
   "execution_count": 122,
   "id": "838384b5",
   "metadata": {
    "scrolled": false
   },
   "outputs": [
    {
     "data": {
      "application/vnd.jupyter.widget-view+json": {
       "model_id": "20cb53a6b48e4f45b03c291a1915d988",
       "version_major": 2,
       "version_minor": 0
      },
      "text/plain": [
       "VBox(children=(Label(value=''), HBox(children=(Figure(axes=[ColorAxis(orientation='vertical', scale=ColorScale…"
      ]
     },
     "metadata": {},
     "output_type": "display_data"
    }
   ],
   "source": [
    "fig_heatmap.layout.min_width='500px'\n",
    "fig_pass.layout.min_width='500px'\n",
    "\n",
    "myDashboard = ipywidgets.VBox([mySelectedLabel, ipywidgets.HBox([fig_heatmap,fig_pass])])\n",
    "myDashboard"
   ]
  },
  {
   "cell_type": "markdown",
   "id": "eea9c676",
   "metadata": {},
   "source": [
    "Created the linked in grouped... But not working... \n",
    "\n",
    "I want to create a scatter plot that filters out the passenger count within each date, but I could not get the plot work as the length of two arrays(hist2d and pass_scatt) are different...\n",
    "\n",
    "Any Advice on how should we do the graph?\n",
    "\n",
    "Ah, I knew why. The region mask had only returned false in this circumstance. But then..., how should we \"select\" the data in the passenger scatter plot using the date we chose.\n",
    "\n",
    "The individual graph below is working."
   ]
  },
  {
   "cell_type": "markdown",
   "id": "aa7ae133",
   "metadata": {},
   "source": [
    "## Scatter plot + heatmap + DashBoard - Individual"
   ]
  },
  {
   "cell_type": "markdown",
   "id": "5f336c68",
   "metadata": {},
   "source": [
    "Create label"
   ]
  },
  {
   "cell_type": "code",
   "execution_count": 123,
   "id": "df8aaf62",
   "metadata": {},
   "outputs": [],
   "source": [
    "myIndividuaLSelectedLabel = ipywidgets.Label()"
   ]
  },
  {
   "cell_type": "markdown",
   "id": "d494768d",
   "metadata": {},
   "source": [
    "### HeatMap"
   ]
  },
  {
   "cell_type": "code",
   "execution_count": 124,
   "id": "31eddc93",
   "metadata": {},
   "outputs": [],
   "source": [
    "# Scale\n",
    "col_sc = bqplot.ColorScale(scheme=\"RdPu\",\n",
    "                          min=np.nanmin(Ihist2d),\n",
    "                          max=np.nanmax(Ihist2d))\n",
    "x_sc = bqplot.LinearScale()\n",
    "y_sc = bqplot.LinearScale()\n",
    "\n",
    "# Axis\n",
    "c_ax = bqplot.ColorAxis(scale = col_sc,\n",
    "                       orientation='vertical',\n",
    "                       side='right')\n",
    "x_ax = bqplot.Axis(scale = x_sc, label='Trip Distance')\n",
    "y_ax = bqplot.Axis(scale = y_sc, label='Total Payment',\n",
    "                  orientation='vertical', label_offset=\"45px\")\n",
    "\n",
    "\n",
    "# Marks\n",
    "Iheat_map = bqplot.GridHeatMap(color = Ihist2d,\n",
    "                              row = Ipay_centers,\n",
    "                              column = Itrip_centers,\n",
    "                              scales = {'color':col_sc,\n",
    "                                       'row': y_sc, \n",
    "                                       'column':x_sc},\n",
    "                              interactions = {'click':'select'},\n",
    "                              anchor_style = {'fill':'blue'},\n",
    "                              selected_style = {'opacity':1.00},\n",
    "                              unselected_style = {'opacity':1.00})"
   ]
  },
  {
   "cell_type": "markdown",
   "id": "7d281ebd",
   "metadata": {},
   "source": [
    "### Scatter plot"
   ]
  },
  {
   "cell_type": "code",
   "execution_count": 125,
   "id": "f00eee40",
   "metadata": {},
   "outputs": [],
   "source": [
    "# Scale\n",
    "x_scl = bqplot.DateScale()\n",
    "y_scl = bqplot.LogScale()\n",
    "\n",
    "# Axis\n",
    "ax_xcl = bqplot.Axis(label='Date', scale = x_scl)\n",
    "ax_ycl = bqplot.Axis(label = 'Passenger Count', scale = y_scl, \n",
    "                    orientation = 'vertical', side = 'left')\n",
    "\n",
    "# Marks\n",
    "i,j = 19, 0\n",
    "Itrips = [Itrip_edges[j], Itrip_edges[j+1]]\n",
    "Ipays = [Ipay_edges[i], Ipay_edges[i+1]]\n",
    "\n",
    "# region mask\n",
    "region_mask = ((data['total_amount'] >= Ipays[0]) & (data['total_amount']<=Ipays[1]) &\\\n",
    "                    (data['trip_distance'] >= Itrips[0]) & (data['trip_distance']<=Itrips[1]))\n",
    "\n",
    "# Fig\n",
    "Ipass_scatt = bqplot.Scatter(x=data['pickup_date'][region_mask],\n",
    "                            y=data['passenger_count'][region_mask],\n",
    "                            scales = {'x':x_scl, 'y':y_scl})"
   ]
  },
  {
   "cell_type": "markdown",
   "id": "a6474c98",
   "metadata": {},
   "source": [
    "Link together using function"
   ]
  },
  {
   "cell_type": "code",
   "execution_count": 126,
   "id": "f6d1e1c3",
   "metadata": {},
   "outputs": [],
   "source": [
    "def get_individual_data_value(change):\n",
    "    if len(change['owner'].selected) == 1:\n",
    "        i, j = change['owner'].selected[0]\n",
    "        v = Ihist2d[i, j]\n",
    "        myIndividuaLSelectedLabel.value = \"Passenger Count in Log = \" + str(v)\n",
    "        Itrips = [Itrip_edges[j], Itrip_edges[j+1]]\n",
    "        Ipays = [Ipay_edges[i], Ipay_edges[i+1]]\n",
    "        region_mask = ((data['total_amount'] >= Ipays[0]) & (data['total_amount']<=Ipays[1]) &\\\n",
    "                    (data['trip_distance'] >= Itrips[0]) & (data['trip_distance']<=Itrips[1]))\n",
    "        Ipass_scatt.x = data['pickup_date'][region_mask]\n",
    "        Ipass_scatt.y = data['passenger_count'][region_mask]\n",
    "        \n",
    "Iheat_map.observe(get_individual_data_value, 'selected')"
   ]
  },
  {
   "cell_type": "markdown",
   "id": "12b6f181",
   "metadata": {},
   "source": [
    "Create Figure"
   ]
  },
  {
   "cell_type": "code",
   "execution_count": 127,
   "id": "e40f6d21",
   "metadata": {},
   "outputs": [],
   "source": [
    "fig_Iheatmap = bqplot.Figure(marks = [Iheat_map], axes = [c_ax, y_ax, x_ax])\n",
    "fig_Ipass = bqplot.Figure(marks = [Ipass_scatt], axes = [ax_xcl, ax_ycl])"
   ]
  },
  {
   "cell_type": "code",
   "execution_count": 128,
   "id": "e3bf01cf",
   "metadata": {},
   "outputs": [
    {
     "data": {
      "application/vnd.jupyter.widget-view+json": {
       "model_id": "22e7b17dd2ed4fad8e0a38eb2d794d45",
       "version_major": 2,
       "version_minor": 0
      },
      "text/plain": [
       "VBox(children=(Label(value=''), HBox(children=(Figure(axes=[ColorAxis(orientation='vertical', scale=ColorScale…"
      ]
     },
     "metadata": {},
     "output_type": "display_data"
    }
   ],
   "source": [
    "fig_Iheatmap.layout.min_width='500px'\n",
    "fig_Ipass.layout.min_width='500px'\n",
    "\n",
    "myDashboard = ipywidgets.VBox([myIndividuaLSelectedLabel, ipywidgets.HBox([fig_Iheatmap,fig_Ipass])])\n",
    "myDashboard"
   ]
  },
  {
   "cell_type": "markdown",
   "id": "880f1136",
   "metadata": {},
   "source": [
    "## Prose:"
   ]
  },
  {
   "cell_type": "markdown",
   "id": "c2e5e29f",
   "metadata": {},
   "source": [
    "The dashboard I created was taken an example from the previous dashboard we had created with the UFO dataset. I had incorporated the trip distance, the total amount and the passenger count into consideration and had created a heatmap with a dashboard. There are two dashboards created, one is for the grouped dataset and one is for the whole downsampled dataset. The grouped one aims to show the relationship between pay and distance and passenger count in accumation for the 31 days we have in January. The individual/whole downsampled one serves as the indication of trend of relationship between payment, distance and passenger count for each individual entry in the month. For each individual block in the heatmap, the dashboard would display the passenger count after taking log scaling. With deeper color, we would have more passengers on that specific trip. "
   ]
  },
  {
   "cell_type": "markdown",
   "id": "fddd5283",
   "metadata": {},
   "source": [
    "## Additional Dataset:"
   ]
  },
  {
   "cell_type": "markdown",
   "id": "b9a17b4a",
   "metadata": {},
   "source": [
    "The additional dataset I find will be the dataset from TLC with the taxi drive records from 2020. The link towards the dataset is: [link](https://s3.amazonaws.com/nyc-tlc/trip+data/yellow_tripdata_2020-01.csv). The Webpage that holds the dataset is: [link](https://www1.nyc.gov/site/tlc/about/tlc-trip-record-data.page). We could use this dataset from 2020 with the same month to compare the relationship between total pay and trip distance and passenger count. With more comparison between the two datasets, we could find is the market increased or vice versa. Does more trips took place or vice versa. Does more passengers per trip happened and vice versa. The two datasets would give us a more hollistic review on the taxi data we have"
   ]
  },
  {
   "cell_type": "markdown",
   "id": "fff426af",
   "metadata": {},
   "source": [
    "---"
   ]
  },
  {
   "cell_type": "markdown",
   "id": "633c2012",
   "metadata": {},
   "source": [
    "# Final Project Part 3 - Code"
   ]
  },
  {
   "cell_type": "markdown",
   "id": "2c4c8f08",
   "metadata": {},
   "source": [
    "Clean the data and created some basic visualizations"
   ]
  },
  {
   "cell_type": "markdown",
   "id": "b082e091",
   "metadata": {},
   "source": [
    "### January, 2019"
   ]
  },
  {
   "cell_type": "code",
   "execution_count": 129,
   "id": "48d1f897",
   "metadata": {},
   "outputs": [
    {
     "data": {
      "text/html": [
       "<div>\n",
       "<style scoped>\n",
       "    .dataframe tbody tr th:only-of-type {\n",
       "        vertical-align: middle;\n",
       "    }\n",
       "\n",
       "    .dataframe tbody tr th {\n",
       "        vertical-align: top;\n",
       "    }\n",
       "\n",
       "    .dataframe thead th {\n",
       "        text-align: right;\n",
       "    }\n",
       "</style>\n",
       "<table border=\"1\" class=\"dataframe\">\n",
       "  <thead>\n",
       "    <tr style=\"text-align: right;\">\n",
       "      <th></th>\n",
       "      <th>VendorID</th>\n",
       "      <th>tpep_pickup_datetime</th>\n",
       "      <th>tpep_dropoff_datetime</th>\n",
       "      <th>passenger_count</th>\n",
       "      <th>trip_distance</th>\n",
       "      <th>RatecodeID</th>\n",
       "      <th>store_and_fwd_flag</th>\n",
       "      <th>PULocationID</th>\n",
       "      <th>DOLocationID</th>\n",
       "      <th>payment_type</th>\n",
       "      <th>fare_amount</th>\n",
       "      <th>extra</th>\n",
       "      <th>mta_tax</th>\n",
       "      <th>tip_amount</th>\n",
       "      <th>tolls_amount</th>\n",
       "      <th>improvement_surcharge</th>\n",
       "      <th>total_amount</th>\n",
       "      <th>congestion_surcharge</th>\n",
       "    </tr>\n",
       "  </thead>\n",
       "  <tbody>\n",
       "    <tr>\n",
       "      <th>0</th>\n",
       "      <td>1</td>\n",
       "      <td>2019-01-01 00:46:40</td>\n",
       "      <td>2019-01-01 00:53:20</td>\n",
       "      <td>1</td>\n",
       "      <td>1.5</td>\n",
       "      <td>1</td>\n",
       "      <td>N</td>\n",
       "      <td>151</td>\n",
       "      <td>239</td>\n",
       "      <td>1</td>\n",
       "      <td>7.0</td>\n",
       "      <td>0.5</td>\n",
       "      <td>0.5</td>\n",
       "      <td>1.65</td>\n",
       "      <td>0.0</td>\n",
       "      <td>0.3</td>\n",
       "      <td>9.95</td>\n",
       "      <td>NaN</td>\n",
       "    </tr>\n",
       "    <tr>\n",
       "      <th>1</th>\n",
       "      <td>1</td>\n",
       "      <td>2019-01-01 00:59:47</td>\n",
       "      <td>2019-01-01 01:18:59</td>\n",
       "      <td>1</td>\n",
       "      <td>2.6</td>\n",
       "      <td>1</td>\n",
       "      <td>N</td>\n",
       "      <td>239</td>\n",
       "      <td>246</td>\n",
       "      <td>1</td>\n",
       "      <td>14.0</td>\n",
       "      <td>0.5</td>\n",
       "      <td>0.5</td>\n",
       "      <td>1.00</td>\n",
       "      <td>0.0</td>\n",
       "      <td>0.3</td>\n",
       "      <td>16.30</td>\n",
       "      <td>NaN</td>\n",
       "    </tr>\n",
       "    <tr>\n",
       "      <th>2</th>\n",
       "      <td>2</td>\n",
       "      <td>2018-12-21 13:48:30</td>\n",
       "      <td>2018-12-21 13:52:40</td>\n",
       "      <td>3</td>\n",
       "      <td>0.0</td>\n",
       "      <td>1</td>\n",
       "      <td>N</td>\n",
       "      <td>236</td>\n",
       "      <td>236</td>\n",
       "      <td>1</td>\n",
       "      <td>4.5</td>\n",
       "      <td>0.5</td>\n",
       "      <td>0.5</td>\n",
       "      <td>0.00</td>\n",
       "      <td>0.0</td>\n",
       "      <td>0.3</td>\n",
       "      <td>5.80</td>\n",
       "      <td>NaN</td>\n",
       "    </tr>\n",
       "    <tr>\n",
       "      <th>3</th>\n",
       "      <td>2</td>\n",
       "      <td>2018-11-28 15:52:25</td>\n",
       "      <td>2018-11-28 15:55:45</td>\n",
       "      <td>5</td>\n",
       "      <td>0.0</td>\n",
       "      <td>1</td>\n",
       "      <td>N</td>\n",
       "      <td>193</td>\n",
       "      <td>193</td>\n",
       "      <td>2</td>\n",
       "      <td>3.5</td>\n",
       "      <td>0.5</td>\n",
       "      <td>0.5</td>\n",
       "      <td>0.00</td>\n",
       "      <td>0.0</td>\n",
       "      <td>0.3</td>\n",
       "      <td>7.55</td>\n",
       "      <td>NaN</td>\n",
       "    </tr>\n",
       "    <tr>\n",
       "      <th>4</th>\n",
       "      <td>2</td>\n",
       "      <td>2018-11-28 15:56:57</td>\n",
       "      <td>2018-11-28 15:58:33</td>\n",
       "      <td>5</td>\n",
       "      <td>0.0</td>\n",
       "      <td>2</td>\n",
       "      <td>N</td>\n",
       "      <td>193</td>\n",
       "      <td>193</td>\n",
       "      <td>2</td>\n",
       "      <td>52.0</td>\n",
       "      <td>0.0</td>\n",
       "      <td>0.5</td>\n",
       "      <td>0.00</td>\n",
       "      <td>0.0</td>\n",
       "      <td>0.3</td>\n",
       "      <td>55.55</td>\n",
       "      <td>NaN</td>\n",
       "    </tr>\n",
       "  </tbody>\n",
       "</table>\n",
       "</div>"
      ],
      "text/plain": [
       "   VendorID tpep_pickup_datetime tpep_dropoff_datetime  passenger_count  \\\n",
       "0         1  2019-01-01 00:46:40   2019-01-01 00:53:20                1   \n",
       "1         1  2019-01-01 00:59:47   2019-01-01 01:18:59                1   \n",
       "2         2  2018-12-21 13:48:30   2018-12-21 13:52:40                3   \n",
       "3         2  2018-11-28 15:52:25   2018-11-28 15:55:45                5   \n",
       "4         2  2018-11-28 15:56:57   2018-11-28 15:58:33                5   \n",
       "\n",
       "   trip_distance  RatecodeID store_and_fwd_flag  PULocationID  DOLocationID  \\\n",
       "0            1.5           1                  N           151           239   \n",
       "1            2.6           1                  N           239           246   \n",
       "2            0.0           1                  N           236           236   \n",
       "3            0.0           1                  N           193           193   \n",
       "4            0.0           2                  N           193           193   \n",
       "\n",
       "   payment_type  fare_amount  extra  mta_tax  tip_amount  tolls_amount  \\\n",
       "0             1          7.0    0.5      0.5        1.65           0.0   \n",
       "1             1         14.0    0.5      0.5        1.00           0.0   \n",
       "2             1          4.5    0.5      0.5        0.00           0.0   \n",
       "3             2          3.5    0.5      0.5        0.00           0.0   \n",
       "4             2         52.0    0.0      0.5        0.00           0.0   \n",
       "\n",
       "   improvement_surcharge  total_amount  congestion_surcharge  \n",
       "0                    0.3          9.95                   NaN  \n",
       "1                    0.3         16.30                   NaN  \n",
       "2                    0.3          5.80                   NaN  \n",
       "3                    0.3          7.55                   NaN  \n",
       "4                    0.3         55.55                   NaN  "
      ]
     },
     "execution_count": 129,
     "metadata": {},
     "output_type": "execute_result"
    }
   ],
   "source": [
    "data_2019 = pd.read_csv(\"https://s3.amazonaws.com/nyc-tlc/trip+data/yellow_tripdata_2019-01.csv\")\n",
    "data_2019.head()"
   ]
  },
  {
   "cell_type": "code",
   "execution_count": 130,
   "id": "69e73a91",
   "metadata": {
    "scrolled": true
   },
   "outputs": [
    {
     "data": {
      "text/html": [
       "<div>\n",
       "<style scoped>\n",
       "    .dataframe tbody tr th:only-of-type {\n",
       "        vertical-align: middle;\n",
       "    }\n",
       "\n",
       "    .dataframe tbody tr th {\n",
       "        vertical-align: top;\n",
       "    }\n",
       "\n",
       "    .dataframe thead th {\n",
       "        text-align: right;\n",
       "    }\n",
       "</style>\n",
       "<table border=\"1\" class=\"dataframe\">\n",
       "  <thead>\n",
       "    <tr style=\"text-align: right;\">\n",
       "      <th></th>\n",
       "      <th>VendorID</th>\n",
       "      <th>tpep_pickup_datetime</th>\n",
       "      <th>tpep_dropoff_datetime</th>\n",
       "      <th>passenger_count</th>\n",
       "      <th>trip_distance</th>\n",
       "      <th>RatecodeID</th>\n",
       "      <th>store_and_fwd_flag</th>\n",
       "      <th>PULocationID</th>\n",
       "      <th>DOLocationID</th>\n",
       "      <th>payment_type</th>\n",
       "      <th>fare_amount</th>\n",
       "      <th>extra</th>\n",
       "      <th>mta_tax</th>\n",
       "      <th>tip_amount</th>\n",
       "      <th>tolls_amount</th>\n",
       "      <th>improvement_surcharge</th>\n",
       "      <th>total_amount</th>\n",
       "      <th>congestion_surcharge</th>\n",
       "      <th>pickup_date</th>\n",
       "    </tr>\n",
       "  </thead>\n",
       "  <tbody>\n",
       "    <tr>\n",
       "      <th>0</th>\n",
       "      <td>1</td>\n",
       "      <td>2019-01-01 00:46:40</td>\n",
       "      <td>2019-01-01 00:53:20</td>\n",
       "      <td>1</td>\n",
       "      <td>1.5</td>\n",
       "      <td>1</td>\n",
       "      <td>N</td>\n",
       "      <td>151</td>\n",
       "      <td>239</td>\n",
       "      <td>1</td>\n",
       "      <td>7.0</td>\n",
       "      <td>0.5</td>\n",
       "      <td>0.5</td>\n",
       "      <td>1.65</td>\n",
       "      <td>0.0</td>\n",
       "      <td>0.3</td>\n",
       "      <td>9.95</td>\n",
       "      <td>NaN</td>\n",
       "      <td>2019-01-01</td>\n",
       "    </tr>\n",
       "    <tr>\n",
       "      <th>1</th>\n",
       "      <td>1</td>\n",
       "      <td>2019-01-01 00:59:47</td>\n",
       "      <td>2019-01-01 01:18:59</td>\n",
       "      <td>1</td>\n",
       "      <td>2.6</td>\n",
       "      <td>1</td>\n",
       "      <td>N</td>\n",
       "      <td>239</td>\n",
       "      <td>246</td>\n",
       "      <td>1</td>\n",
       "      <td>14.0</td>\n",
       "      <td>0.5</td>\n",
       "      <td>0.5</td>\n",
       "      <td>1.00</td>\n",
       "      <td>0.0</td>\n",
       "      <td>0.3</td>\n",
       "      <td>16.30</td>\n",
       "      <td>NaN</td>\n",
       "      <td>2019-01-01</td>\n",
       "    </tr>\n",
       "    <tr>\n",
       "      <th>2</th>\n",
       "      <td>2</td>\n",
       "      <td>2018-12-21 13:48:30</td>\n",
       "      <td>2018-12-21 13:52:40</td>\n",
       "      <td>3</td>\n",
       "      <td>0.0</td>\n",
       "      <td>1</td>\n",
       "      <td>N</td>\n",
       "      <td>236</td>\n",
       "      <td>236</td>\n",
       "      <td>1</td>\n",
       "      <td>4.5</td>\n",
       "      <td>0.5</td>\n",
       "      <td>0.5</td>\n",
       "      <td>0.00</td>\n",
       "      <td>0.0</td>\n",
       "      <td>0.3</td>\n",
       "      <td>5.80</td>\n",
       "      <td>NaN</td>\n",
       "      <td>2018-12-21</td>\n",
       "    </tr>\n",
       "    <tr>\n",
       "      <th>3</th>\n",
       "      <td>2</td>\n",
       "      <td>2018-11-28 15:52:25</td>\n",
       "      <td>2018-11-28 15:55:45</td>\n",
       "      <td>5</td>\n",
       "      <td>0.0</td>\n",
       "      <td>1</td>\n",
       "      <td>N</td>\n",
       "      <td>193</td>\n",
       "      <td>193</td>\n",
       "      <td>2</td>\n",
       "      <td>3.5</td>\n",
       "      <td>0.5</td>\n",
       "      <td>0.5</td>\n",
       "      <td>0.00</td>\n",
       "      <td>0.0</td>\n",
       "      <td>0.3</td>\n",
       "      <td>7.55</td>\n",
       "      <td>NaN</td>\n",
       "      <td>2018-11-28</td>\n",
       "    </tr>\n",
       "    <tr>\n",
       "      <th>4</th>\n",
       "      <td>2</td>\n",
       "      <td>2018-11-28 15:56:57</td>\n",
       "      <td>2018-11-28 15:58:33</td>\n",
       "      <td>5</td>\n",
       "      <td>0.0</td>\n",
       "      <td>2</td>\n",
       "      <td>N</td>\n",
       "      <td>193</td>\n",
       "      <td>193</td>\n",
       "      <td>2</td>\n",
       "      <td>52.0</td>\n",
       "      <td>0.0</td>\n",
       "      <td>0.5</td>\n",
       "      <td>0.00</td>\n",
       "      <td>0.0</td>\n",
       "      <td>0.3</td>\n",
       "      <td>55.55</td>\n",
       "      <td>NaN</td>\n",
       "      <td>2018-11-28</td>\n",
       "    </tr>\n",
       "  </tbody>\n",
       "</table>\n",
       "</div>"
      ],
      "text/plain": [
       "   VendorID tpep_pickup_datetime tpep_dropoff_datetime  passenger_count  \\\n",
       "0         1  2019-01-01 00:46:40   2019-01-01 00:53:20                1   \n",
       "1         1  2019-01-01 00:59:47   2019-01-01 01:18:59                1   \n",
       "2         2  2018-12-21 13:48:30   2018-12-21 13:52:40                3   \n",
       "3         2  2018-11-28 15:52:25   2018-11-28 15:55:45                5   \n",
       "4         2  2018-11-28 15:56:57   2018-11-28 15:58:33                5   \n",
       "\n",
       "   trip_distance  RatecodeID store_and_fwd_flag  PULocationID  DOLocationID  \\\n",
       "0            1.5           1                  N           151           239   \n",
       "1            2.6           1                  N           239           246   \n",
       "2            0.0           1                  N           236           236   \n",
       "3            0.0           1                  N           193           193   \n",
       "4            0.0           2                  N           193           193   \n",
       "\n",
       "   payment_type  fare_amount  extra  mta_tax  tip_amount  tolls_amount  \\\n",
       "0             1          7.0    0.5      0.5        1.65           0.0   \n",
       "1             1         14.0    0.5      0.5        1.00           0.0   \n",
       "2             1          4.5    0.5      0.5        0.00           0.0   \n",
       "3             2          3.5    0.5      0.5        0.00           0.0   \n",
       "4             2         52.0    0.0      0.5        0.00           0.0   \n",
       "\n",
       "   improvement_surcharge  total_amount  congestion_surcharge pickup_date  \n",
       "0                    0.3          9.95                   NaN  2019-01-01  \n",
       "1                    0.3         16.30                   NaN  2019-01-01  \n",
       "2                    0.3          5.80                   NaN  2018-12-21  \n",
       "3                    0.3          7.55                   NaN  2018-11-28  \n",
       "4                    0.3         55.55                   NaN  2018-11-28  "
      ]
     },
     "execution_count": 130,
     "metadata": {},
     "output_type": "execute_result"
    }
   ],
   "source": [
    "data_2019['pickup_date'] = pd.to_datetime(data_2019['tpep_pickup_datetime']).dt.date\n",
    "data_2019['pickup_date'] = pd.to_datetime(data_2019['pickup_date'])\n",
    "data_2019.head()"
   ]
  },
  {
   "cell_type": "code",
   "execution_count": 131,
   "id": "d653fb68",
   "metadata": {
    "scrolled": false
   },
   "outputs": [
    {
     "data": {
      "text/html": [
       "<div>\n",
       "<style scoped>\n",
       "    .dataframe tbody tr th:only-of-type {\n",
       "        vertical-align: middle;\n",
       "    }\n",
       "\n",
       "    .dataframe tbody tr th {\n",
       "        vertical-align: top;\n",
       "    }\n",
       "\n",
       "    .dataframe thead th {\n",
       "        text-align: right;\n",
       "    }\n",
       "</style>\n",
       "<table border=\"1\" class=\"dataframe\">\n",
       "  <thead>\n",
       "    <tr style=\"text-align: right;\">\n",
       "      <th></th>\n",
       "      <th>VendorID</th>\n",
       "      <th>tpep_pickup_datetime</th>\n",
       "      <th>tpep_dropoff_datetime</th>\n",
       "      <th>passenger_count</th>\n",
       "      <th>trip_distance</th>\n",
       "      <th>RatecodeID</th>\n",
       "      <th>store_and_fwd_flag</th>\n",
       "      <th>PULocationID</th>\n",
       "      <th>DOLocationID</th>\n",
       "      <th>payment_type</th>\n",
       "      <th>fare_amount</th>\n",
       "      <th>extra</th>\n",
       "      <th>mta_tax</th>\n",
       "      <th>tip_amount</th>\n",
       "      <th>tolls_amount</th>\n",
       "      <th>improvement_surcharge</th>\n",
       "      <th>total_amount</th>\n",
       "      <th>congestion_surcharge</th>\n",
       "      <th>pickup_date</th>\n",
       "    </tr>\n",
       "  </thead>\n",
       "  <tbody>\n",
       "    <tr>\n",
       "      <th>2</th>\n",
       "      <td>2</td>\n",
       "      <td>2018-12-21 13:48:30</td>\n",
       "      <td>2018-12-21 13:52:40</td>\n",
       "      <td>3</td>\n",
       "      <td>0.0</td>\n",
       "      <td>1</td>\n",
       "      <td>N</td>\n",
       "      <td>236</td>\n",
       "      <td>236</td>\n",
       "      <td>1</td>\n",
       "      <td>4.5</td>\n",
       "      <td>0.5</td>\n",
       "      <td>0.5</td>\n",
       "      <td>0.0</td>\n",
       "      <td>0.00</td>\n",
       "      <td>0.3</td>\n",
       "      <td>5.80</td>\n",
       "      <td>NaN</td>\n",
       "      <td>2018-12-21</td>\n",
       "    </tr>\n",
       "    <tr>\n",
       "      <th>3</th>\n",
       "      <td>2</td>\n",
       "      <td>2018-11-28 15:52:25</td>\n",
       "      <td>2018-11-28 15:55:45</td>\n",
       "      <td>5</td>\n",
       "      <td>0.0</td>\n",
       "      <td>1</td>\n",
       "      <td>N</td>\n",
       "      <td>193</td>\n",
       "      <td>193</td>\n",
       "      <td>2</td>\n",
       "      <td>3.5</td>\n",
       "      <td>0.5</td>\n",
       "      <td>0.5</td>\n",
       "      <td>0.0</td>\n",
       "      <td>0.00</td>\n",
       "      <td>0.3</td>\n",
       "      <td>7.55</td>\n",
       "      <td>NaN</td>\n",
       "      <td>2018-11-28</td>\n",
       "    </tr>\n",
       "    <tr>\n",
       "      <th>4</th>\n",
       "      <td>2</td>\n",
       "      <td>2018-11-28 15:56:57</td>\n",
       "      <td>2018-11-28 15:58:33</td>\n",
       "      <td>5</td>\n",
       "      <td>0.0</td>\n",
       "      <td>2</td>\n",
       "      <td>N</td>\n",
       "      <td>193</td>\n",
       "      <td>193</td>\n",
       "      <td>2</td>\n",
       "      <td>52.0</td>\n",
       "      <td>0.0</td>\n",
       "      <td>0.5</td>\n",
       "      <td>0.0</td>\n",
       "      <td>0.00</td>\n",
       "      <td>0.3</td>\n",
       "      <td>55.55</td>\n",
       "      <td>NaN</td>\n",
       "      <td>2018-11-28</td>\n",
       "    </tr>\n",
       "    <tr>\n",
       "      <th>5</th>\n",
       "      <td>2</td>\n",
       "      <td>2018-11-28 16:25:49</td>\n",
       "      <td>2018-11-28 16:28:26</td>\n",
       "      <td>5</td>\n",
       "      <td>0.0</td>\n",
       "      <td>1</td>\n",
       "      <td>N</td>\n",
       "      <td>193</td>\n",
       "      <td>193</td>\n",
       "      <td>2</td>\n",
       "      <td>3.5</td>\n",
       "      <td>0.5</td>\n",
       "      <td>0.5</td>\n",
       "      <td>0.0</td>\n",
       "      <td>5.76</td>\n",
       "      <td>0.3</td>\n",
       "      <td>13.31</td>\n",
       "      <td>NaN</td>\n",
       "      <td>2018-11-28</td>\n",
       "    </tr>\n",
       "    <tr>\n",
       "      <th>6</th>\n",
       "      <td>2</td>\n",
       "      <td>2018-11-28 16:29:37</td>\n",
       "      <td>2018-11-28 16:33:43</td>\n",
       "      <td>5</td>\n",
       "      <td>0.0</td>\n",
       "      <td>2</td>\n",
       "      <td>N</td>\n",
       "      <td>193</td>\n",
       "      <td>193</td>\n",
       "      <td>2</td>\n",
       "      <td>52.0</td>\n",
       "      <td>0.0</td>\n",
       "      <td>0.5</td>\n",
       "      <td>0.0</td>\n",
       "      <td>0.00</td>\n",
       "      <td>0.3</td>\n",
       "      <td>55.55</td>\n",
       "      <td>NaN</td>\n",
       "      <td>2018-11-28</td>\n",
       "    </tr>\n",
       "  </tbody>\n",
       "</table>\n",
       "</div>"
      ],
      "text/plain": [
       "   VendorID tpep_pickup_datetime tpep_dropoff_datetime  passenger_count  \\\n",
       "2         2  2018-12-21 13:48:30   2018-12-21 13:52:40                3   \n",
       "3         2  2018-11-28 15:52:25   2018-11-28 15:55:45                5   \n",
       "4         2  2018-11-28 15:56:57   2018-11-28 15:58:33                5   \n",
       "5         2  2018-11-28 16:25:49   2018-11-28 16:28:26                5   \n",
       "6         2  2018-11-28 16:29:37   2018-11-28 16:33:43                5   \n",
       "\n",
       "   trip_distance  RatecodeID store_and_fwd_flag  PULocationID  DOLocationID  \\\n",
       "2            0.0           1                  N           236           236   \n",
       "3            0.0           1                  N           193           193   \n",
       "4            0.0           2                  N           193           193   \n",
       "5            0.0           1                  N           193           193   \n",
       "6            0.0           2                  N           193           193   \n",
       "\n",
       "   payment_type  fare_amount  extra  mta_tax  tip_amount  tolls_amount  \\\n",
       "2             1          4.5    0.5      0.5         0.0          0.00   \n",
       "3             2          3.5    0.5      0.5         0.0          0.00   \n",
       "4             2         52.0    0.0      0.5         0.0          0.00   \n",
       "5             2          3.5    0.5      0.5         0.0          5.76   \n",
       "6             2         52.0    0.0      0.5         0.0          0.00   \n",
       "\n",
       "   improvement_surcharge  total_amount  congestion_surcharge pickup_date  \n",
       "2                    0.3          5.80                   NaN  2018-12-21  \n",
       "3                    0.3          7.55                   NaN  2018-11-28  \n",
       "4                    0.3         55.55                   NaN  2018-11-28  \n",
       "5                    0.3         13.31                   NaN  2018-11-28  \n",
       "6                    0.3         55.55                   NaN  2018-11-28  "
      ]
     },
     "execution_count": 131,
     "metadata": {},
     "output_type": "execute_result"
    }
   ],
   "source": [
    "data_2019[(data_2019['pickup_date'] <= \"2018-12-31\") \n",
    "     | (data_2019['pickup_date'] > \"2019-01-31\")].head()"
   ]
  },
  {
   "cell_type": "code",
   "execution_count": 132,
   "id": "4ba52ce1",
   "metadata": {
    "scrolled": true
   },
   "outputs": [],
   "source": [
    "dropIndex = list(data_2019[(data_2019['pickup_date'] <= \"2018-12-31\") \n",
    "     | (data_2019['pickup_date'] > \"2019-01-31\")].index)"
   ]
  },
  {
   "cell_type": "code",
   "execution_count": 133,
   "id": "88e53b0a",
   "metadata": {
    "scrolled": true
   },
   "outputs": [
    {
     "data": {
      "text/plain": [
       "([2, 3, 4, 5, 6], 537)"
      ]
     },
     "execution_count": 133,
     "metadata": {},
     "output_type": "execute_result"
    }
   ],
   "source": [
    "dropIndex[:5], len(dropIndex)"
   ]
  },
  {
   "cell_type": "code",
   "execution_count": 134,
   "id": "c1908f87",
   "metadata": {},
   "outputs": [],
   "source": [
    "data_2019.drop([i for i in dropIndex], inplace=True)"
   ]
  },
  {
   "cell_type": "code",
   "execution_count": 135,
   "id": "00e188e5",
   "metadata": {
    "scrolled": false
   },
   "outputs": [
    {
     "data": {
      "text/html": [
       "<div>\n",
       "<style scoped>\n",
       "    .dataframe tbody tr th:only-of-type {\n",
       "        vertical-align: middle;\n",
       "    }\n",
       "\n",
       "    .dataframe tbody tr th {\n",
       "        vertical-align: top;\n",
       "    }\n",
       "\n",
       "    .dataframe thead th {\n",
       "        text-align: right;\n",
       "    }\n",
       "</style>\n",
       "<table border=\"1\" class=\"dataframe\">\n",
       "  <thead>\n",
       "    <tr style=\"text-align: right;\">\n",
       "      <th></th>\n",
       "      <th>VendorID</th>\n",
       "      <th>tpep_pickup_datetime</th>\n",
       "      <th>tpep_dropoff_datetime</th>\n",
       "      <th>passenger_count</th>\n",
       "      <th>trip_distance</th>\n",
       "      <th>RatecodeID</th>\n",
       "      <th>store_and_fwd_flag</th>\n",
       "      <th>PULocationID</th>\n",
       "      <th>DOLocationID</th>\n",
       "      <th>payment_type</th>\n",
       "      <th>fare_amount</th>\n",
       "      <th>extra</th>\n",
       "      <th>mta_tax</th>\n",
       "      <th>tip_amount</th>\n",
       "      <th>tolls_amount</th>\n",
       "      <th>improvement_surcharge</th>\n",
       "      <th>total_amount</th>\n",
       "      <th>congestion_surcharge</th>\n",
       "      <th>pickup_date</th>\n",
       "    </tr>\n",
       "  </thead>\n",
       "  <tbody>\n",
       "    <tr>\n",
       "      <th>0</th>\n",
       "      <td>1</td>\n",
       "      <td>2019-01-01 00:46:40</td>\n",
       "      <td>2019-01-01 00:53:20</td>\n",
       "      <td>1</td>\n",
       "      <td>1.5</td>\n",
       "      <td>1</td>\n",
       "      <td>N</td>\n",
       "      <td>151</td>\n",
       "      <td>239</td>\n",
       "      <td>1</td>\n",
       "      <td>7.0</td>\n",
       "      <td>0.5</td>\n",
       "      <td>0.5</td>\n",
       "      <td>1.65</td>\n",
       "      <td>0.0</td>\n",
       "      <td>0.3</td>\n",
       "      <td>9.95</td>\n",
       "      <td>NaN</td>\n",
       "      <td>2019-01-01</td>\n",
       "    </tr>\n",
       "    <tr>\n",
       "      <th>1</th>\n",
       "      <td>1</td>\n",
       "      <td>2019-01-01 00:59:47</td>\n",
       "      <td>2019-01-01 01:18:59</td>\n",
       "      <td>1</td>\n",
       "      <td>2.6</td>\n",
       "      <td>1</td>\n",
       "      <td>N</td>\n",
       "      <td>239</td>\n",
       "      <td>246</td>\n",
       "      <td>1</td>\n",
       "      <td>14.0</td>\n",
       "      <td>0.5</td>\n",
       "      <td>0.5</td>\n",
       "      <td>1.00</td>\n",
       "      <td>0.0</td>\n",
       "      <td>0.3</td>\n",
       "      <td>16.30</td>\n",
       "      <td>NaN</td>\n",
       "      <td>2019-01-01</td>\n",
       "    </tr>\n",
       "    <tr>\n",
       "      <th>7</th>\n",
       "      <td>1</td>\n",
       "      <td>2019-01-01 00:21:28</td>\n",
       "      <td>2019-01-01 00:28:37</td>\n",
       "      <td>1</td>\n",
       "      <td>1.3</td>\n",
       "      <td>1</td>\n",
       "      <td>N</td>\n",
       "      <td>163</td>\n",
       "      <td>229</td>\n",
       "      <td>1</td>\n",
       "      <td>6.5</td>\n",
       "      <td>0.5</td>\n",
       "      <td>0.5</td>\n",
       "      <td>1.25</td>\n",
       "      <td>0.0</td>\n",
       "      <td>0.3</td>\n",
       "      <td>9.05</td>\n",
       "      <td>NaN</td>\n",
       "      <td>2019-01-01</td>\n",
       "    </tr>\n",
       "    <tr>\n",
       "      <th>8</th>\n",
       "      <td>1</td>\n",
       "      <td>2019-01-01 00:32:01</td>\n",
       "      <td>2019-01-01 00:45:39</td>\n",
       "      <td>1</td>\n",
       "      <td>3.7</td>\n",
       "      <td>1</td>\n",
       "      <td>N</td>\n",
       "      <td>229</td>\n",
       "      <td>7</td>\n",
       "      <td>1</td>\n",
       "      <td>13.5</td>\n",
       "      <td>0.5</td>\n",
       "      <td>0.5</td>\n",
       "      <td>3.70</td>\n",
       "      <td>0.0</td>\n",
       "      <td>0.3</td>\n",
       "      <td>18.50</td>\n",
       "      <td>NaN</td>\n",
       "      <td>2019-01-01</td>\n",
       "    </tr>\n",
       "    <tr>\n",
       "      <th>9</th>\n",
       "      <td>1</td>\n",
       "      <td>2019-01-01 00:57:32</td>\n",
       "      <td>2019-01-01 01:09:32</td>\n",
       "      <td>2</td>\n",
       "      <td>2.1</td>\n",
       "      <td>1</td>\n",
       "      <td>N</td>\n",
       "      <td>141</td>\n",
       "      <td>234</td>\n",
       "      <td>1</td>\n",
       "      <td>10.0</td>\n",
       "      <td>0.5</td>\n",
       "      <td>0.5</td>\n",
       "      <td>1.70</td>\n",
       "      <td>0.0</td>\n",
       "      <td>0.3</td>\n",
       "      <td>13.00</td>\n",
       "      <td>NaN</td>\n",
       "      <td>2019-01-01</td>\n",
       "    </tr>\n",
       "  </tbody>\n",
       "</table>\n",
       "</div>"
      ],
      "text/plain": [
       "   VendorID tpep_pickup_datetime tpep_dropoff_datetime  passenger_count  \\\n",
       "0         1  2019-01-01 00:46:40   2019-01-01 00:53:20                1   \n",
       "1         1  2019-01-01 00:59:47   2019-01-01 01:18:59                1   \n",
       "7         1  2019-01-01 00:21:28   2019-01-01 00:28:37                1   \n",
       "8         1  2019-01-01 00:32:01   2019-01-01 00:45:39                1   \n",
       "9         1  2019-01-01 00:57:32   2019-01-01 01:09:32                2   \n",
       "\n",
       "   trip_distance  RatecodeID store_and_fwd_flag  PULocationID  DOLocationID  \\\n",
       "0            1.5           1                  N           151           239   \n",
       "1            2.6           1                  N           239           246   \n",
       "7            1.3           1                  N           163           229   \n",
       "8            3.7           1                  N           229             7   \n",
       "9            2.1           1                  N           141           234   \n",
       "\n",
       "   payment_type  fare_amount  extra  mta_tax  tip_amount  tolls_amount  \\\n",
       "0             1          7.0    0.5      0.5        1.65           0.0   \n",
       "1             1         14.0    0.5      0.5        1.00           0.0   \n",
       "7             1          6.5    0.5      0.5        1.25           0.0   \n",
       "8             1         13.5    0.5      0.5        3.70           0.0   \n",
       "9             1         10.0    0.5      0.5        1.70           0.0   \n",
       "\n",
       "   improvement_surcharge  total_amount  congestion_surcharge pickup_date  \n",
       "0                    0.3          9.95                   NaN  2019-01-01  \n",
       "1                    0.3         16.30                   NaN  2019-01-01  \n",
       "7                    0.3          9.05                   NaN  2019-01-01  \n",
       "8                    0.3         18.50                   NaN  2019-01-01  \n",
       "9                    0.3         13.00                   NaN  2019-01-01  "
      ]
     },
     "execution_count": 135,
     "metadata": {},
     "output_type": "execute_result"
    }
   ],
   "source": [
    "data_2019.head()"
   ]
  },
  {
   "cell_type": "code",
   "execution_count": 136,
   "id": "acfd9aa5",
   "metadata": {},
   "outputs": [
    {
     "data": {
      "text/plain": [
       "array([datetime.date(2019, 1, 1), datetime.date(2019, 1, 3),\n",
       "       datetime.date(2019, 1, 2), datetime.date(2019, 1, 4),\n",
       "       datetime.date(2019, 1, 5), datetime.date(2019, 1, 6),\n",
       "       datetime.date(2019, 1, 7), datetime.date(2019, 1, 8),\n",
       "       datetime.date(2019, 1, 9), datetime.date(2019, 1, 11),\n",
       "       datetime.date(2019, 1, 12), datetime.date(2019, 1, 10),\n",
       "       datetime.date(2019, 1, 13), datetime.date(2019, 1, 14),\n",
       "       datetime.date(2019, 1, 15), datetime.date(2019, 1, 16),\n",
       "       datetime.date(2019, 1, 17), datetime.date(2019, 1, 18),\n",
       "       datetime.date(2019, 1, 19), datetime.date(2019, 1, 20),\n",
       "       datetime.date(2019, 1, 21), datetime.date(2019, 1, 22),\n",
       "       datetime.date(2019, 1, 23), datetime.date(2019, 1, 24),\n",
       "       datetime.date(2019, 1, 25), datetime.date(2019, 1, 26),\n",
       "       datetime.date(2019, 1, 27), datetime.date(2019, 1, 28),\n",
       "       datetime.date(2019, 1, 29), datetime.date(2019, 1, 30),\n",
       "       datetime.date(2019, 1, 31)], dtype=object)"
      ]
     },
     "execution_count": 136,
     "metadata": {},
     "output_type": "execute_result"
    }
   ],
   "source": [
    "pd.to_datetime(data_2019['tpep_pickup_datetime']).dt.date.unique()"
   ]
  },
  {
   "cell_type": "markdown",
   "id": "a48ed51c",
   "metadata": {},
   "source": [
    "Now we can know the true length of data in January 2019"
   ]
  },
  {
   "cell_type": "code",
   "execution_count": 137,
   "id": "5dab3d28",
   "metadata": {},
   "outputs": [
    {
     "data": {
      "text/plain": [
       "7667255"
      ]
     },
     "execution_count": 137,
     "metadata": {},
     "output_type": "execute_result"
    }
   ],
   "source": [
    "len(data_2019)"
   ]
  },
  {
   "cell_type": "markdown",
   "id": "bf31cd41",
   "metadata": {},
   "source": [
    "### January, 2020"
   ]
  },
  {
   "cell_type": "code",
   "execution_count": null,
   "id": "b5d2f916",
   "metadata": {
    "scrolled": true
   },
   "outputs": [],
   "source": [
    "data_2020 = pd.read_csv(\"https://s3.amazonaws.com/nyc-tlc/trip+data/yellow_tripdata_2020-01.csv\", \n",
    "                        low_memory=False)\n",
    "data_2020.head()"
   ]
  },
  {
   "cell_type": "code",
   "execution_count": null,
   "id": "7d32b0ae",
   "metadata": {
    "scrolled": true
   },
   "outputs": [],
   "source": [
    "data_2020['pickup_date'] = pd.to_datetime(data_2020['tpep_pickup_datetime']).dt.date\n",
    "data_2020['pickup_date'] = pd.to_datetime(data_2020['pickup_date'])\n",
    "data_2020.head()"
   ]
  },
  {
   "cell_type": "code",
   "execution_count": null,
   "id": "7dc9a75d",
   "metadata": {
    "scrolled": false
   },
   "outputs": [],
   "source": [
    "data_2020[(data_2020['pickup_date'] <= \"2019-12-31\") \n",
    "     | (data_2020['pickup_date'] > \"2020-01-31\")].head()"
   ]
  },
  {
   "cell_type": "code",
   "execution_count": null,
   "id": "87579261",
   "metadata": {
    "scrolled": true
   },
   "outputs": [],
   "source": [
    "dropIndex = list(data_2020[(data_2020['pickup_date'] <= \"2019-12-31\") \n",
    "     | (data_2020['pickup_date'] > \"2020-01-31\")].index)"
   ]
  },
  {
   "cell_type": "code",
   "execution_count": null,
   "id": "f6669d25",
   "metadata": {
    "scrolled": true
   },
   "outputs": [],
   "source": [
    "dropIndex[:5], len(dropIndex)"
   ]
  },
  {
   "cell_type": "code",
   "execution_count": null,
   "id": "d4264c75",
   "metadata": {},
   "outputs": [],
   "source": [
    "data_2020.drop([i for i in dropIndex], inplace=True)"
   ]
  },
  {
   "cell_type": "code",
   "execution_count": null,
   "id": "54c70f21",
   "metadata": {
    "scrolled": false
   },
   "outputs": [],
   "source": [
    "data_2020.head(10)"
   ]
  },
  {
   "cell_type": "code",
   "execution_count": null,
   "id": "c2917d71",
   "metadata": {},
   "outputs": [],
   "source": [
    "pd.to_datetime(data_2020['tpep_pickup_datetime']).dt.date.unique()"
   ]
  },
  {
   "cell_type": "markdown",
   "id": "4dce7508",
   "metadata": {},
   "source": [
    "Now we can know the true length of data in January 2020"
   ]
  },
  {
   "cell_type": "code",
   "execution_count": null,
   "id": "a8b3c2a3",
   "metadata": {},
   "outputs": [],
   "source": [
    "len(data_2020)"
   ]
  },
  {
   "cell_type": "markdown",
   "id": "63c7366c",
   "metadata": {},
   "source": [
    "### January, 2021"
   ]
  },
  {
   "cell_type": "code",
   "execution_count": null,
   "id": "f0c5637d",
   "metadata": {},
   "outputs": [],
   "source": [
    "data_2021 = pd.read_csv(\"https://s3.amazonaws.com/nyc-tlc/trip+data/yellow_tripdata_2021-01.csv\", \n",
    "                   low_memory=False)\n",
    "len(data_2021)"
   ]
  },
  {
   "cell_type": "code",
   "execution_count": null,
   "id": "e7140d9d",
   "metadata": {
    "scrolled": true
   },
   "outputs": [],
   "source": [
    "data_2021['pickup_date'] = pd.to_datetime(data_2021['tpep_pickup_datetime']).dt.date\n",
    "data_2021['pickup_date'] = pd.to_datetime(data_2021['pickup_date'])\n",
    "data_2021.head()"
   ]
  },
  {
   "cell_type": "code",
   "execution_count": null,
   "id": "c54ecae6",
   "metadata": {
    "scrolled": false
   },
   "outputs": [],
   "source": [
    "data_2021[(data_2021['pickup_date'] <= \"2020-12-31\") \n",
    "     | (data_2021['pickup_date'] > \"2021-01-31\")].head()"
   ]
  },
  {
   "cell_type": "code",
   "execution_count": null,
   "id": "ad59ca77",
   "metadata": {
    "scrolled": true
   },
   "outputs": [],
   "source": [
    "dropIndex = list(data_2021[(data_2021['pickup_date'] <= \"2020-12-31\") \n",
    "     | (data_2021['pickup_date'] > \"2021-01-31\")].index)"
   ]
  },
  {
   "cell_type": "code",
   "execution_count": null,
   "id": "9c56c58d",
   "metadata": {
    "scrolled": true
   },
   "outputs": [],
   "source": [
    "dropIndex[:5], len(dropIndex)"
   ]
  },
  {
   "cell_type": "code",
   "execution_count": null,
   "id": "0e3042d0",
   "metadata": {},
   "outputs": [],
   "source": [
    "data_2021.drop([i for i in dropIndex], inplace=True)"
   ]
  },
  {
   "cell_type": "code",
   "execution_count": null,
   "id": "34e68a87",
   "metadata": {
    "scrolled": true
   },
   "outputs": [],
   "source": [
    "pd.to_datetime(data_2021['tpep_pickup_datetime']).dt.date.unique()"
   ]
  },
  {
   "cell_type": "markdown",
   "id": "00ae17f5",
   "metadata": {},
   "source": [
    "Now we can know the true length of data in January 2021"
   ]
  },
  {
   "cell_type": "code",
   "execution_count": null,
   "id": "f5ba0eab",
   "metadata": {},
   "outputs": [],
   "source": [
    "len(data_2021)"
   ]
  },
  {
   "cell_type": "markdown",
   "id": "de2c0080",
   "metadata": {},
   "source": [
    "### Create three bar chart for each date across the 3 years and frequency count for each "
   ]
  },
  {
   "cell_type": "markdown",
   "id": "2839891c",
   "metadata": {},
   "source": [
    "#### Show the individual graph first"
   ]
  },
  {
   "cell_type": "markdown",
   "id": "9193c1d7",
   "metadata": {},
   "source": [
    "#### January, 2019"
   ]
  },
  {
   "cell_type": "code",
   "execution_count": null,
   "id": "b354f991",
   "metadata": {},
   "outputs": [],
   "source": [
    "fig = plt.figure(figsize=(15,10))\n",
    "\n",
    "record_2019_df = data_2019.value_counts('pickup_date').sort_index()\n",
    "bar_chart = plt.bar(x =record_2019_df.index, \n",
    "                    height = record_2019_df.values)\n",
    "bar_chart.colors = [\"blue\"]\n",
    "\n",
    "plt.xlabel(\"Date\")\n",
    "plt.ylabel(\"Trip Count\")\n",
    "plt.title(\"Trip Count in Jan. 2019\")\n",
    "\n",
    "plt.show()"
   ]
  },
  {
   "cell_type": "code",
   "execution_count": null,
   "id": "d543d72f",
   "metadata": {},
   "outputs": [],
   "source": [
    "fig = plt.figure(figsize=(15,10))\n",
    "\n",
    "record_2020_df = data_2020.value_counts('pickup_date').sort_index()\n",
    "bar_chart = plt.bar(x =record_2020_df.index, \n",
    "                    height = record_2020_df.values)\n",
    "bar_chart.colors = [\"blue\"]\n",
    "\n",
    "plt.xlabel(\"Date\")\n",
    "plt.ylabel(\"Trip Count\")\n",
    "plt.title(\"Trip Count in Jan. 2020\")\n",
    "\n",
    "plt.show()"
   ]
  },
  {
   "cell_type": "code",
   "execution_count": null,
   "id": "0b2fdf83",
   "metadata": {},
   "outputs": [],
   "source": [
    "fig = plt.figure(figsize=(15,10))\n",
    "\n",
    "record_2021_df = data_2021.value_counts('pickup_date').sort_index()\n",
    "bar_chart = plt.bar(x =record_2021_df.index, \n",
    "                    height = record_2021_df.values)\n",
    "bar_chart.colors = [\"blue\"]\n",
    "\n",
    "plt.xlabel(\"Date\")\n",
    "plt.ylabel(\"Trip Count\")\n",
    "plt.title(\"Trip Count in Jan. 2021\")\n",
    "\n",
    "plt.show()"
   ]
  },
  {
   "cell_type": "markdown",
   "id": "de6980ab",
   "metadata": {},
   "source": [
    "Check the min and max for each year"
   ]
  },
  {
   "cell_type": "code",
   "execution_count": null,
   "id": "833ba787",
   "metadata": {},
   "outputs": [],
   "source": [
    "record_2019_df.min(), record_2019_df.max()"
   ]
  },
  {
   "cell_type": "code",
   "execution_count": null,
   "id": "8eb3b8f4",
   "metadata": {},
   "outputs": [],
   "source": [
    "record_2020_df.min(), record_2020_df.max()"
   ]
  },
  {
   "cell_type": "code",
   "execution_count": null,
   "id": "9aa3d6c4",
   "metadata": {},
   "outputs": [],
   "source": [
    "record_2021_df.min(), record_2021_df.max()"
   ]
  },
  {
   "cell_type": "markdown",
   "id": "8143845f",
   "metadata": {},
   "source": [
    "Thus, we should take the log for the values, as the range is pretty big and the difference between 2021 and the rest two years is significant"
   ]
  },
  {
   "cell_type": "code",
   "execution_count": null,
   "id": "48504aec",
   "metadata": {},
   "outputs": [],
   "source": [
    "record_2019_df = np.log10(record_2019_df)\n",
    "record_2019_df.head()"
   ]
  },
  {
   "cell_type": "code",
   "execution_count": null,
   "id": "e35b9e3e",
   "metadata": {},
   "outputs": [],
   "source": [
    "record_2020_df = np.log10(record_2020_df)\n",
    "record_2020_df.head()"
   ]
  },
  {
   "cell_type": "code",
   "execution_count": null,
   "id": "0855b2e3",
   "metadata": {},
   "outputs": [],
   "source": [
    "record_2021_df = np.log10(record_2021_df)\n",
    "record_2021_df.head()"
   ]
  },
  {
   "cell_type": "markdown",
   "id": "cc5554cc",
   "metadata": {},
   "source": [
    "Create a new data frame that only contains the day and log count~\n",
    "\n",
    "(turns out we do not need the data frame to plot the multi-bar graph)"
   ]
  },
  {
   "cell_type": "code",
   "execution_count": null,
   "id": "9d42b917",
   "metadata": {},
   "outputs": [],
   "source": [
    "data_grouped = pd.DataFrame()"
   ]
  },
  {
   "cell_type": "code",
   "execution_count": null,
   "id": "ed564134",
   "metadata": {},
   "outputs": [],
   "source": [
    "data_grouped['date'] = record_2019_df.index.day\n",
    "data_grouped['record_2019'] = record_2019_df.values\n",
    "data_grouped['record_2020'] = record_2020_df.values\n",
    "data_grouped['record_2021'] = record_2021_df.values"
   ]
  },
  {
   "cell_type": "code",
   "execution_count": null,
   "id": "61bdfb05",
   "metadata": {
    "scrolled": false
   },
   "outputs": [],
   "source": [
    "data_grouped.head()"
   ]
  },
  {
   "cell_type": "markdown",
   "id": "4e815ac2",
   "metadata": {},
   "source": [
    "Create average record count variables for each year"
   ]
  },
  {
   "cell_type": "code",
   "execution_count": null,
   "id": "5352fd73",
   "metadata": {},
   "outputs": [],
   "source": [
    "avg_record_2019_df = data_2019.value_counts('pickup_date').sort_index() / 13587\n",
    "avg_record_2020_df = data_2020.value_counts('pickup_date').sort_index() / 13587\n",
    "avg_record_2021_df = data_2021.value_counts('pickup_date').sort_index() / 13587"
   ]
  },
  {
   "cell_type": "code",
   "execution_count": null,
   "id": "6873e5c7",
   "metadata": {},
   "outputs": [],
   "source": [
    "avg_record_2019 = avg_record_2019_df.sum() / len(avg_record_2019_df)"
   ]
  },
  {
   "cell_type": "code",
   "execution_count": null,
   "id": "ba5a25f5",
   "metadata": {},
   "outputs": [],
   "source": [
    "avg_record_2020 = avg_record_2020_df.sum() / len(avg_record_2020_df)"
   ]
  },
  {
   "cell_type": "code",
   "execution_count": null,
   "id": "ea3468ea",
   "metadata": {},
   "outputs": [],
   "source": [
    "avg_record_2021 = avg_record_2021_df.sum() / len(avg_record_2021_df)"
   ]
  },
  {
   "cell_type": "markdown",
   "id": "41035a98",
   "metadata": {},
   "source": [
    "Create a total amount variable for each year"
   ]
  },
  {
   "cell_type": "code",
   "execution_count": null,
   "id": "0dfd7527",
   "metadata": {},
   "outputs": [],
   "source": [
    "total_amount_2019 = data_2019.groupby('pickup_date')['total_amount'].sum()\n",
    "total_amount_2019 = np.log10(total_amount_2019)\n",
    "total_amount_2019.head()"
   ]
  },
  {
   "cell_type": "code",
   "execution_count": null,
   "id": "04a384ca",
   "metadata": {},
   "outputs": [],
   "source": [
    "total_amount_2020 = data_2020.groupby('pickup_date')['total_amount'].sum()\n",
    "total_amount_2020 = np.log10(total_amount_2020)\n",
    "total_amount_2020.head()"
   ]
  },
  {
   "cell_type": "code",
   "execution_count": null,
   "id": "78e79d41",
   "metadata": {},
   "outputs": [],
   "source": [
    "total_amount_2021 = data_2021.groupby('pickup_date')['total_amount'].sum()\n",
    "total_amount_2021 = np.log10(total_amount_2021)\n",
    "total_amount_2021.head()"
   ]
  },
  {
   "cell_type": "markdown",
   "id": "79b55162",
   "metadata": {},
   "source": [
    "# Final Project Part 3 - Write-up"
   ]
  },
  {
   "cell_type": "markdown",
   "id": "98e73b2e",
   "metadata": {},
   "source": [
    "The code for the write-up were either taken from the web or taken from this file. Citations will be included if I had used something from the web. "
   ]
  },
  {
   "cell_type": "markdown",
   "id": "cb76d02d",
   "metadata": {},
   "source": [
    "## Data Visualization - TLC Yellow Taxi Simple Investigation"
   ]
  },
  {
   "cell_type": "markdown",
   "id": "3fe75fd5",
   "metadata": {},
   "source": [
    "### *TLC DATA AT JANUARY 2021 DEEP DIVE* \n",
    "*This post will take a closer look at the yellow taxi industry in New York City by examining the total trips and total payments and the passenger counts in January 2021* "
   ]
  },
  {
   "cell_type": "markdown",
   "id": "f41db117",
   "metadata": {},
   "source": [
    "As we know, since the late 2019, when the COVID-2019 breakout, we had suffered a gigantic impact on travelling, both domestic and international. As you can see below, a major impact would be the count on recorded data for the January at 2019, 2020, and 2021. In 2019, the records we had on the taxi drives are 7667255 drives. In 2020, the records we had on the taxi drives are 6404796 drives. In 2021, the records we had on teh taxi drives are 1369741 drives. There was a significant drop in the recorded drives. "
   ]
  },
  {
   "cell_type": "code",
   "execution_count": null,
   "id": "948f9edf",
   "metadata": {},
   "outputs": [],
   "source": [
    "# I looked at the tutorial for reference and hints of this graph\n",
    "# https://www.tutorialspoint.com/python-matplotlib-multiple-bars\n",
    "plt.rcParams[\"figure.figsize\"] = [15, 10]\n",
    "plt.rcParams[\"figure.autolayout\"] = True\n",
    "plt.rc('axes', titlesize=30)\n",
    "plt.rc('axes', labelsize=25)\n",
    "plt.rc('xtick', labelsize=18)\n",
    "plt.rc('ytick', labelsize=18)\n",
    "\n",
    "labels = data_grouped['date']\n",
    "record_2019 = record_2019_df.values\n",
    "record_2020 = record_2020_df.values\n",
    "record_2021 = record_2021_df.values\n",
    "\n",
    "x = np.arange(len(labels))\n",
    "width = 0.3\n",
    "\n",
    "fig, ax = plt.subplots()\n",
    "rects_2019 = ax.bar(x  - width, record_2019, width, label = \"2019\")\n",
    "rects_2020 = ax.bar(x, record_2020, width, label = \"2020\")\n",
    "rects_2021 = ax.bar(x  + width, record_2021, width, label = \"2021\")\n",
    "\n",
    "ax.set_xlabel(\"Date in January\")\n",
    "ax.set_ylabel('Taxi Drives in Log')\n",
    "ax.set_title('Taxi Drives in January, 2019 - 2021')\n",
    "ax.set_xticks(x)\n",
    "ax.set_xticklabels(labels)\n",
    "ax.legend()\n",
    "\n",
    "plt.show()"
   ]
  },
  {
   "cell_type": "markdown",
   "id": "c94c31e1",
   "metadata": {},
   "source": [
    "From the graph, we can tell that there was not much difference between January in 2019 and 2020. However, we observed a severe drop in 2021, especially taken account that we had already perform log calculation on the Taxi Drive records."
   ]
  },
  {
   "cell_type": "markdown",
   "id": "867c9975",
   "metadata": {},
   "source": [
    "## So, what is Yellow Taxi in NYC?"
   ]
  },
  {
   "cell_type": "markdown",
   "id": "1d07e7fd",
   "metadata": {},
   "source": [
    "The TLC regulates medallion, street hail livery, commuter van, paratransit, and for-hire vehicles in New York City. The yellow taxi are the traditional type of taxi we imagine. \n",
    "\n",
    "Interesting enough, according to the NYC State Law, yellow taxicabs were limited to 13,587 on the road. So we can tell that with this gigantic amount of taxi drives per day, we are interested in the amount of average trips for each taxi driver per day. We can do a little calculation for the year 2019, and use the same method to calculate the average for the year 2020 and 2021."
   ]
  },
  {
   "cell_type": "code",
   "execution_count": null,
   "id": "ce2f7921",
   "metadata": {},
   "outputs": [],
   "source": [
    "avg_record_2019, avg_record_2020, avg_record_2021"
   ]
  },
  {
   "cell_type": "markdown",
   "id": "ffdd4d6a",
   "metadata": {},
   "source": [
    "Like we had observed in the total trip count in the previous section, the average trip for each taxi driver also dropped significantly. "
   ]
  },
  {
   "cell_type": "markdown",
   "id": "22cbf464",
   "metadata": {},
   "source": [
    "## Digging a little deeper"
   ]
  },
  {
   "cell_type": "markdown",
   "id": "9a0085b7",
   "metadata": {},
   "source": [
    "### Total amount"
   ]
  },
  {
   "cell_type": "markdown",
   "id": "22d1dcee",
   "metadata": {},
   "source": [
    "Now, we had explored the trip, pay and passenger and the change in total record of trips in the three years. We could also analyze a change in the total revenue in the the yellow taxi drives for the three years by building another side by side graph. "
   ]
  },
  {
   "cell_type": "code",
   "execution_count": null,
   "id": "783fcb1d",
   "metadata": {},
   "outputs": [],
   "source": [
    "plt.rcParams[\"figure.figsize\"] = [15, 10]\n",
    "plt.rcParams[\"figure.autolayout\"] = True\n",
    "plt.rc('axes', titlesize=30)\n",
    "plt.rc('axes', labelsize=25)\n",
    "plt.rc('xtick', labelsize=18)\n",
    "plt.rc('ytick', labelsize=18)\n",
    "\n",
    "labels = data_grouped['date']\n",
    "record_2019 = total_amount_2019.values\n",
    "record_2020 = total_amount_2020.values\n",
    "record_2021 = total_amount_2021.values\n",
    "\n",
    "x = np.arange(len(labels))\n",
    "width = 0.3\n",
    "\n",
    "fig, ax = plt.subplots()\n",
    "rects_2019 = ax.bar(x  - width, record_2019, width, label = \"2019\")\n",
    "rects_2020 = ax.bar(x, record_2020, width, label = \"2020\")\n",
    "rects_2021 = ax.bar(x  + width, record_2021, width, label = \"2021\")\n",
    "\n",
    "ax.set_xlabel(\"Date in January\")\n",
    "ax.set_ylabel('Total Payment')\n",
    "ax.set_title('Total Payment in January, 2019 - 2021')\n",
    "ax.set_xticks(x)\n",
    "ax.set_xticklabels(labels)\n",
    "ax.legend()\n",
    "\n",
    "plt.show()"
   ]
  },
  {
   "cell_type": "markdown",
   "id": "251d9069",
   "metadata": {},
   "source": [
    "### Trip, Payment and Passenger Count"
   ]
  },
  {
   "cell_type": "markdown",
   "id": "037f9d19",
   "metadata": {},
   "source": [
    "The trips records across the three years showed a significant change in the total amount and the average amount of trips in the month January. However, we have not inspect regarding the total amount of the market in January and the passenger count for each trip. We could make an interactive dashboard graph for us to achieve something like this. I will take the 2021 data value as the example. The dataset is downsampled as the scatter plot will broke if no downsample is taken. Sample size is 1/1000 of the original dataset."
   ]
  },
  {
   "cell_type": "code",
   "execution_count": null,
   "id": "52a09b7b",
   "metadata": {},
   "outputs": [],
   "source": [
    "myDashboard"
   ]
  },
  {
   "cell_type": "markdown",
   "id": "a5e6c136",
   "metadata": {},
   "source": [
    "From the heatmap above, we can tell that the relationship between the trip distance and the total amount is linear. However, the passenger count may flex for some distance and some payment, but you will have more passengers for shorter trips, as the color at the lower bottom is darkest. The one white space at payment 140 may be an outlier that I need to deal with, but I decide to keep it there. "
   ]
  },
  {
   "cell_type": "markdown",
   "id": "18cb0460",
   "metadata": {},
   "source": [
    "# End of Part 3"
   ]
  }
 ],
 "metadata": {
  "kernelspec": {
   "display_name": "Python 3 (ipykernel)",
   "language": "python",
   "name": "python3"
  },
  "language_info": {
   "codemirror_mode": {
    "name": "ipython",
    "version": 3
   },
   "file_extension": ".py",
   "mimetype": "text/x-python",
   "name": "python",
   "nbconvert_exporter": "python",
   "pygments_lexer": "ipython3",
   "version": "3.7.12"
  }
 },
 "nbformat": 4,
 "nbformat_minor": 5
}
