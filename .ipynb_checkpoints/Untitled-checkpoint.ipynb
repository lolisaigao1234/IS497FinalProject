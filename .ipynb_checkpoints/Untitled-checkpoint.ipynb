{
 "cells": [
  {
   "cell_type": "code",
   "execution_count": 37,
   "id": "c49a19fc",
   "metadata": {},
   "outputs": [],
   "source": [
    "# , \"bcac\"\n",
    "strs = [\"abcbe\", \"eabc\", \"bcad\"]\n",
    "\n",
    "output = []"
   ]
  },
  {
   "cell_type": "code",
   "execution_count": 30,
   "id": "297c8fac",
   "metadata": {},
   "outputs": [
    {
     "data": {
      "text/plain": [
       "5"
      ]
     },
     "execution_count": 30,
     "metadata": {},
     "output_type": "execute_result"
    }
   ],
   "source": [
    "maxL = max(len(i) for i in s)\n",
    "maxL"
   ]
  },
  {
   "cell_type": "code",
   "execution_count": 31,
   "id": "b4d410e1",
   "metadata": {},
   "outputs": [
    {
     "name": "stdout",
     "output_type": "stream",
     "text": [
      "Pattern occur at shift = 2\n"
     ]
    }
   ],
   "source": [
    "NO_OF_CHARS = 256\n",
    "\n",
    "def badCharHeuristic(string, size):\n",
    " \n",
    "    # Initialize all occurrence as -1\n",
    "    badChar = [-1]*NO_OF_CHARS\n",
    " \n",
    "    # Fill the actual value of last occurrence\n",
    "    for i in range(size):\n",
    "        badChar[ord(string[i])] = i;\n",
    " \n",
    "    # return initialized list\n",
    "    return badChar\n",
    "\n",
    "def search(txt, pat):\n",
    "    m = len(pat)\n",
    "    n = len(txt)\n",
    " \n",
    "    badChar = badCharHeuristic(pat, m)\n",
    " \n",
    "    s = 0\n",
    "    while(s <= n-m):\n",
    "        j = m-1\n",
    "        while j>=0 and pat[j] == txt[s+j]:\n",
    "            j -= 1\n",
    "        if j<0:\n",
    "            print(\"Pattern occur at shift = {}\".format(s))\n",
    "            s += (m-badChar[ord(txt[s+m])] if s+m<n else 1)\n",
    "        else:\n",
    "            s += max(1, j-badChar[ord(txt[s+j])])\n",
    "            \n",
    "            \n",
    "search(\"abcbe\",\"cbe\")\n",
    "\n",
    "for w in s:\n",
    "    search(output, w)"
   ]
  },
  {
   "cell_type": "code",
   "execution_count": 43,
   "id": "777477a3",
   "metadata": {},
   "outputs": [
    {
     "data": {
      "text/plain": [
       "['abcbe', 'eabc', 'bcad']"
      ]
     },
     "execution_count": 43,
     "metadata": {},
     "output_type": "execute_result"
    }
   ],
   "source": [
    "strs"
   ]
  },
  {
   "cell_type": "code",
   "execution_count": 42,
   "id": "f55289f8",
   "metadata": {},
   "outputs": [
    {
     "data": {
      "text/plain": [
       "4"
      ]
     },
     "execution_count": 42,
     "metadata": {},
     "output_type": "execute_result"
    }
   ],
   "source": [
    "res = \"\"\n",
    "minLength = min(len(strs[0]), len(strs[1]))\n",
    "minLength"
   ]
  },
  {
   "cell_type": "code",
   "execution_count": 52,
   "id": "880b32c5",
   "metadata": {},
   "outputs": [
    {
     "name": "stdout",
     "output_type": "stream",
     "text": [
      "e\n",
      "e\n",
      "b\n",
      "a\n",
      "1\n",
      "c\n",
      "b\n",
      "0\n"
     ]
    },
    {
     "data": {
      "text/plain": [
       "'abcbeabceabcbcad'"
      ]
     },
     "execution_count": 52,
     "metadata": {},
     "output_type": "execute_result"
    }
   ],
   "source": [
    "for i in range(len(strs) - 1):\n",
    "    start = 0\n",
    "    while start < minLength:\n",
    "        if strs[i][len(strs[i]) - start - 1] == strs[i + 1][start]:\n",
    "            start += 1\n",
    "        else:\n",
    "            break\n",
    "            \n",
    "        res += strs[i] + strs[i + 1][start:]\n",
    "    print(start)\n",
    "\n",
    "res"
   ]
  },
  {
   "cell_type": "code",
   "execution_count": 109,
   "id": "f329643f",
   "metadata": {},
   "outputs": [],
   "source": [
    "def getperms(lst): #Find permutation of a list, referenced Maverick Meerkat's work on Stack Overflow \n",
    "\n",
    "    permu=[]\n",
    "\n",
    "    if len(lst)==1:\n",
    "        return [lst]\n",
    "\n",
    "    for i in range(len(lst)):\n",
    "        perms=getperms(lst[:i]+lst[i+1:])\n",
    "\n",
    "        for p in perms:\n",
    "            permu.append([lst[i],*p])\n",
    "\n",
    "    return permu"
   ]
  },
  {
   "cell_type": "code",
   "execution_count": 110,
   "id": "94616e27",
   "metadata": {},
   "outputs": [
    {
     "data": {
      "text/plain": [
       "[['a', 's', 'd'],\n",
       " ['a', 'd', 's'],\n",
       " ['s', 'a', 'd'],\n",
       " ['s', 'd', 'a'],\n",
       " ['d', 'a', 's'],\n",
       " ['d', 's', 'a']]"
      ]
     },
     "execution_count": 110,
     "metadata": {},
     "output_type": "execute_result"
    }
   ],
   "source": [
    "getperms(\"asd\")"
   ]
  },
  {
   "cell_type": "code",
   "execution_count": 111,
   "id": "b0089a8e",
   "metadata": {},
   "outputs": [],
   "source": [
    "def assemble_genome(dna_list):\n",
    "\n",
    "    perms=getperms(dna_list)\n",
    "\n",
    "    combs=[]\n",
    "\n",
    "    for i in perms:\n",
    "        lsts=i[0]\n",
    "\n",
    "        index=1\n",
    "\n",
    "        while index<len(i):\n",
    "            print(\"i[index]\", i[index])\n",
    "\n",
    "            lsts=combinestr(lsts,i[index])\n",
    "            print(\"lsts\", lsts)\n",
    "\n",
    "            index+=1\n",
    "\n",
    "        combs.append(lsts)\n",
    "\n",
    "    return min(combs,key=len)"
   ]
  },
  {
   "cell_type": "code",
   "execution_count": 114,
   "id": "bdaf945c",
   "metadata": {},
   "outputs": [],
   "source": [
    "def combinestr(a,b): #Tries to combine the tail and head of 2 strings\n",
    "    index=0\n",
    "    result=\"\"\n",
    "\n",
    "    while index<=len(a):\n",
    "        if a[index::]==b[0:len(a)-index:]:\n",
    "            result=a+b[len(a)-index:]\n",
    "            break\n",
    "        index+=1\n",
    "\n",
    "    return result"
   ]
  },
  {
   "cell_type": "code",
   "execution_count": 115,
   "id": "c26a3a52",
   "metadata": {
    "scrolled": true
   },
   "outputs": [
    {
     "name": "stdout",
     "output_type": "stream",
     "text": [
      "i[index] sdf\n",
      "lsts asdf\n",
      "i[index] asd\n",
      "lsts sdfasd\n"
     ]
    },
    {
     "data": {
      "text/plain": [
       "'asdf'"
      ]
     },
     "execution_count": 115,
     "metadata": {},
     "output_type": "execute_result"
    }
   ],
   "source": [
    "assemble_genome(['asd', 'sdf'])"
   ]
  },
  {
   "cell_type": "code",
   "execution_count": 80,
   "id": "5eaa409b",
   "metadata": {},
   "outputs": [
    {
     "data": {
      "text/plain": [
       "'sd'"
      ]
     },
     "execution_count": 80,
     "metadata": {},
     "output_type": "execute_result"
    }
   ],
   "source": [
    "index = 1\n",
    "\"asd\"[index::]"
   ]
  },
  {
   "cell_type": "code",
   "execution_count": 81,
   "id": "ef32e9a1",
   "metadata": {},
   "outputs": [
    {
     "data": {
      "text/plain": [
       "'sd'"
      ]
     },
     "execution_count": 81,
     "metadata": {},
     "output_type": "execute_result"
    }
   ],
   "source": [
    "\"sdf\"[0:len(\"sdf\")-index:]"
   ]
  },
  {
   "cell_type": "code",
   "execution_count": null,
   "id": "ff97db9d",
   "metadata": {},
   "outputs": [],
   "source": []
  }
 ],
 "metadata": {
  "kernelspec": {
   "display_name": "Python 3 (ipykernel)",
   "language": "python",
   "name": "python3"
  },
  "language_info": {
   "codemirror_mode": {
    "name": "ipython",
    "version": 3
   },
   "file_extension": ".py",
   "mimetype": "text/x-python",
   "name": "python",
   "nbconvert_exporter": "python",
   "pygments_lexer": "ipython3",
   "version": "3.9.7"
  }
 },
 "nbformat": 4,
 "nbformat_minor": 5
}
